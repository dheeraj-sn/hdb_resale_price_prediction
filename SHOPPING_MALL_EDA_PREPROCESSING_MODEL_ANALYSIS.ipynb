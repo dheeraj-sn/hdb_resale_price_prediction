{
 "cells": [
  {
   "cell_type": "code",
   "execution_count": 3,
   "metadata": {},
   "outputs": [],
   "source": [
    "%load_ext autoreload\n",
    "%autoreload 2"
   ]
  },
  {
   "cell_type": "code",
   "execution_count": 4,
   "metadata": {
    "id": "9in7ONlmxQD3"
   },
   "outputs": [],
   "source": [
    "import numpy as np\n",
    "import pandas as pd\n",
    "\n",
    "import csv as csv\n",
    "import sklearn\n",
    "import math\n",
    "import matplotlib.pyplot as plt\n",
    "from matplotlib import pyplot\n",
    "import geopy.distance\n",
    "import matplotlib.pyplot as plt\n",
    "import seaborn as sns\n",
    "\n",
    "from sklearn.metrics import mean_squared_error\n",
    "from sklearn.preprocessing import StandardScaler, LabelEncoder\n",
    "from sklearn.pipeline import make_pipeline\n",
    "from sklearn.metrics import r2_score\n",
    "from sklearn.model_selection import cross_val_score,KFold,train_test_split,GridSearchCV\n",
    "\n",
    "from sklearn.linear_model import LinearRegression\n",
    "from sklearn.linear_model import SGDRegressor\n",
    "from sklearn import tree\n",
    "from sklearn.ensemble import RandomForestRegressor\n",
    "import xgboost\n",
    "import lightgbm as lgb\n",
    "\n",
    "from utils import save_to_csv, reduce_memory_usage,custom_kfold_scorer "
   ]
  },
  {
   "cell_type": "code",
   "execution_count": 5,
   "metadata": {},
   "outputs": [],
   "source": [
    "train_df = pd.read_csv(\"./train_2.csv\")\n",
    "test_df = pd.read_csv(\"./test_2.csv\")\n",
    "aux_df = pd.read_csv(\"./auxiliary-data/sg-shopping-malls.csv\")"
   ]
  },
  {
   "cell_type": "code",
   "execution_count": 6,
   "metadata": {
    "scrolled": true
   },
   "outputs": [
    {
     "data": {
      "text/html": [
       "<div>\n",
       "<style scoped>\n",
       "    .dataframe tbody tr th:only-of-type {\n",
       "        vertical-align: middle;\n",
       "    }\n",
       "\n",
       "    .dataframe tbody tr th {\n",
       "        vertical-align: top;\n",
       "    }\n",
       "\n",
       "    .dataframe thead th {\n",
       "        text-align: right;\n",
       "    }\n",
       "</style>\n",
       "<table border=\"1\" class=\"dataframe\">\n",
       "  <thead>\n",
       "    <tr style=\"text-align: right;\">\n",
       "      <th></th>\n",
       "      <th>name</th>\n",
       "      <th>lat</th>\n",
       "      <th>lng</th>\n",
       "      <th>wikipedia_link</th>\n",
       "    </tr>\n",
       "  </thead>\n",
       "  <tbody>\n",
       "    <tr>\n",
       "      <th>0</th>\n",
       "      <td>100 AM</td>\n",
       "      <td>1.275012</td>\n",
       "      <td>103.841372</td>\n",
       "      <td>NaN</td>\n",
       "    </tr>\n",
       "    <tr>\n",
       "      <th>1</th>\n",
       "      <td>313@Somerset</td>\n",
       "      <td>1.301013</td>\n",
       "      <td>103.838540</td>\n",
       "      <td>NaN</td>\n",
       "    </tr>\n",
       "    <tr>\n",
       "      <th>2</th>\n",
       "      <td>Aperia</td>\n",
       "      <td>1.309714</td>\n",
       "      <td>103.863837</td>\n",
       "      <td>NaN</td>\n",
       "    </tr>\n",
       "    <tr>\n",
       "      <th>3</th>\n",
       "      <td>Balestier Hill Shopping Centre</td>\n",
       "      <td>1.325442</td>\n",
       "      <td>103.842521</td>\n",
       "      <td>NaN</td>\n",
       "    </tr>\n",
       "    <tr>\n",
       "      <th>4</th>\n",
       "      <td>Bugis Cube</td>\n",
       "      <td>1.298276</td>\n",
       "      <td>103.855555</td>\n",
       "      <td>NaN</td>\n",
       "    </tr>\n",
       "  </tbody>\n",
       "</table>\n",
       "</div>"
      ],
      "text/plain": [
       "                             name       lat         lng wikipedia_link\n",
       "0                          100 AM  1.275012  103.841372            NaN\n",
       "1                    313@Somerset  1.301013  103.838540            NaN\n",
       "2                          Aperia  1.309714  103.863837            NaN\n",
       "3  Balestier Hill Shopping Centre  1.325442  103.842521            NaN\n",
       "4                      Bugis Cube  1.298276  103.855555            NaN"
      ]
     },
     "execution_count": 6,
     "metadata": {},
     "output_type": "execute_result"
    }
   ],
   "source": [
    "aux_df.head()"
   ]
  },
  {
   "cell_type": "markdown",
   "metadata": {},
   "source": [
    "## Check for NULL values"
   ]
  },
  {
   "cell_type": "code",
   "execution_count": 7,
   "metadata": {
    "scrolled": true
   },
   "outputs": [
    {
     "data": {
      "text/plain": [
       "name              False\n",
       "lat               False\n",
       "lng               False\n",
       "wikipedia_link     True\n",
       "dtype: bool"
      ]
     },
     "execution_count": 7,
     "metadata": {},
     "output_type": "execute_result"
    }
   ],
   "source": [
    "aux_df.isnull().any()"
   ]
  },
  {
   "cell_type": "code",
   "execution_count": 8,
   "metadata": {},
   "outputs": [
    {
     "data": {
      "text/plain": [
       "array([nan, '/wiki/Bugis_Junction', '/wiki/Bugis%2B',\n",
       "       '/wiki/Capitol_Piazza', '/wiki/Cathay_Cineleisure_Orchard',\n",
       "       '/wiki/The_CentrePoint', '/wiki/City_Square_Mall',\n",
       "       '/wiki/CityLink_Mall', '/wiki/DUO', '/wiki/Far_East_Plaza',\n",
       "       '/wiki/Funan,_Singapore', '/wiki/Great_World_City',\n",
       "       '/wiki/HDB_Hub', '/wiki/Holland_Village,_Singapore',\n",
       "       '/wiki/ION_Orchard', '/wiki/Junction_8', '/wiki/Liang_Court',\n",
       "       '/wiki/Liat_Towers', '/wiki/Lucky_Plaza', '/wiki/Marina_Bay_Sands',\n",
       "       '/wiki/Marina_Bay_Link_Mall', '/wiki/Marina_One',\n",
       "       '/wiki/Marina_Square', '/wiki/Millenia_Walk',\n",
       "       '/wiki/Mustafa_Centre', '/wiki/Ngee_Ann_City',\n",
       "       '/wiki/Orchard_Central', '/wiki/Orchard_Gateway',\n",
       "       '/wiki/Palais_Renaissance', '/wiki/People%27s_Park_Centre',\n",
       "       '/wiki/People%27s_Park_Complex', '/wiki/Plaza_Singapura',\n",
       "       '/wiki/Raffles_City_Singapore', '/wiki/Shaw_House_and_Centre',\n",
       "       '/wiki/Sim_Lim_Square', '/wiki/South_Beach,_Singapore',\n",
       "       '/wiki/Square_2', '/wiki/Suntec_City', '/wiki/Tangs',\n",
       "       '/wiki/Tanjong_Pagar_Centre', '/wiki/Tekka_Centre',\n",
       "       '/wiki/Paragon,_Singapore', '/wiki/Tiong_Bahru_Plaza',\n",
       "       '/wiki/Thomson_Plaza', '/wiki/United_Square_Shopping_Mall',\n",
       "       '/wiki/Novena_Square_Shopping_Mall', '/wiki/Wheelock_Place',\n",
       "       '/wiki/Wisma_Atria', '/wiki/White_Sands_Shopping_Mall,_Singapore',\n",
       "       '/wiki/NTUC_Downtown_East', '/wiki/Century_Square',\n",
       "       '/wiki/Tampines_1', '/wiki/Tampines_Mall',\n",
       "       '/wiki/Our_Tampines_Hub', '/wiki/Changi_Airport',\n",
       "       '/wiki/Changi_City_Point', '/wiki/Eastpoint_Mall,_Singapore',\n",
       "       '/wiki/Bedok_Mall', '/wiki/Bedok_Point',\n",
       "       '/wiki/Katong_Shopping_Centre', '/wiki/I12_Katong',\n",
       "       '/wiki/Parkway_Parade', '/wiki/Kallang_Wave_Mall',\n",
       "       '/wiki/Leisure_Park_Kallang', '/wiki/Jewel_Changi_Airport',\n",
       "       '/wiki/AMK_Hub', '/wiki/Canberra_Plaza,_Singapore',\n",
       "       '/wiki/Causeway_Point', '/wiki/Djitsun_Mall',\n",
       "       '/wiki/Northpoint_City', '/wiki/Sembawang_Shopping_Centre',\n",
       "       '/wiki/Sun_Plaza,_Singapore', '/wiki/Waterway_Point',\n",
       "       '/wiki/Compass_One', '/wiki/Hougang_Mall', '/wiki/Heartland_Mall',\n",
       "       '/wiki/Nex', '/wiki/Hougang_1', '/wiki/Oasis_Terraces',\n",
       "       '/wiki/Punggol_Plaza', '/wiki/Seletar_Mall', '/wiki/Hillion_Mall',\n",
       "       '/wiki/Junction_10', '/wiki/Lot_One', '/wiki/West_Mall',\n",
       "       '/wiki/Yew_Tee_Point', '/wiki/VivoCity',\n",
       "       '/wiki/HarbourFront_Centre', '/wiki/Alexandra_Retail_Centre',\n",
       "       '/wiki/Eng_Wah_Global', '/wiki/Clementi_Mall',\n",
       "       '/wiki/IMM_(Singapore)', '/wiki/JCube', '/wiki/Jem,_Singapore',\n",
       "       '/wiki/Westgate,_Singapore', '/wiki/Jurong_Point',\n",
       "       '/wiki/Pioneer_Mall', '/wiki/The_Star_Vista',\n",
       "       '/wiki/Gek_Poh_Shopping_Centre', '/wiki/Rochester_Mall',\n",
       "       '/wiki/West_Coast_Plaza', '/wiki/Queensway_Shopping_Centre'],\n",
       "      dtype=object)"
      ]
     },
     "execution_count": 8,
     "metadata": {},
     "output_type": "execute_result"
    }
   ],
   "source": [
    "aux_df['wikipedia_link'].unique()"
   ]
  },
  {
   "cell_type": "markdown",
   "metadata": {
    "id": "CGeeWTetxQED"
   },
   "source": [
    "There are some null values in wikipedia_link column. We do not need the wikipedia link column for any analysis so we will drop this column and take care of the NULL values also."
   ]
  },
  {
   "cell_type": "code",
   "execution_count": 9,
   "metadata": {
    "id": "EWrRy8bQxQED"
   },
   "outputs": [],
   "source": [
    "aux_df = aux_df.drop(columns=['wikipedia_link'])"
   ]
  },
  {
   "cell_type": "code",
   "execution_count": 10,
   "metadata": {},
   "outputs": [
    {
     "data": {
      "text/plain": [
       "name    False\n",
       "lat     False\n",
       "lng     False\n",
       "dtype: bool"
      ]
     },
     "execution_count": 10,
     "metadata": {},
     "output_type": "execute_result"
    }
   ],
   "source": [
    "aux_df.isnull().any()"
   ]
  },
  {
   "cell_type": "markdown",
   "metadata": {},
   "source": [
    "### Checking for duplicate values"
   ]
  },
  {
   "cell_type": "code",
   "execution_count": 11,
   "metadata": {},
   "outputs": [
    {
     "data": {
      "text/plain": [
       "False"
      ]
     },
     "execution_count": 11,
     "metadata": {},
     "output_type": "execute_result"
    }
   ],
   "source": [
    "aux_df.duplicated().any()"
   ]
  },
  {
   "cell_type": "markdown",
   "metadata": {},
   "source": [
    "### Club latitude and longitude together and drop 'lat' and 'lng' columns"
   ]
  },
  {
   "cell_type": "code",
   "execution_count": 12,
   "metadata": {
    "id": "YLBY9IMRxQEE"
   },
   "outputs": [],
   "source": [
    "aux_df['lat_long'] = list(zip(aux_df.lat, aux_df.lng))"
   ]
  },
  {
   "cell_type": "code",
   "execution_count": 13,
   "metadata": {
    "scrolled": false
   },
   "outputs": [
    {
     "data": {
      "text/html": [
       "<div>\n",
       "<style scoped>\n",
       "    .dataframe tbody tr th:only-of-type {\n",
       "        vertical-align: middle;\n",
       "    }\n",
       "\n",
       "    .dataframe tbody tr th {\n",
       "        vertical-align: top;\n",
       "    }\n",
       "\n",
       "    .dataframe thead th {\n",
       "        text-align: right;\n",
       "    }\n",
       "</style>\n",
       "<table border=\"1\" class=\"dataframe\">\n",
       "  <thead>\n",
       "    <tr style=\"text-align: right;\">\n",
       "      <th></th>\n",
       "      <th>name</th>\n",
       "      <th>lat</th>\n",
       "      <th>lng</th>\n",
       "      <th>lat_long</th>\n",
       "    </tr>\n",
       "  </thead>\n",
       "  <tbody>\n",
       "    <tr>\n",
       "      <th>0</th>\n",
       "      <td>100 AM</td>\n",
       "      <td>1.275012</td>\n",
       "      <td>103.841372</td>\n",
       "      <td>(1.2750117, 103.8413716)</td>\n",
       "    </tr>\n",
       "    <tr>\n",
       "      <th>1</th>\n",
       "      <td>313@Somerset</td>\n",
       "      <td>1.301013</td>\n",
       "      <td>103.838540</td>\n",
       "      <td>(1.3010128, 103.83853994515806)</td>\n",
       "    </tr>\n",
       "    <tr>\n",
       "      <th>2</th>\n",
       "      <td>Aperia</td>\n",
       "      <td>1.309714</td>\n",
       "      <td>103.863837</td>\n",
       "      <td>(1.3097138000000002, 103.8638367)</td>\n",
       "    </tr>\n",
       "    <tr>\n",
       "      <th>3</th>\n",
       "      <td>Balestier Hill Shopping Centre</td>\n",
       "      <td>1.325442</td>\n",
       "      <td>103.842521</td>\n",
       "      <td>(1.32544235, 103.84252114874478)</td>\n",
       "    </tr>\n",
       "    <tr>\n",
       "      <th>4</th>\n",
       "      <td>Bugis Cube</td>\n",
       "      <td>1.298276</td>\n",
       "      <td>103.855555</td>\n",
       "      <td>(1.2982756000000002, 103.8555546)</td>\n",
       "    </tr>\n",
       "  </tbody>\n",
       "</table>\n",
       "</div>"
      ],
      "text/plain": [
       "                             name       lat         lng  \\\n",
       "0                          100 AM  1.275012  103.841372   \n",
       "1                    313@Somerset  1.301013  103.838540   \n",
       "2                          Aperia  1.309714  103.863837   \n",
       "3  Balestier Hill Shopping Centre  1.325442  103.842521   \n",
       "4                      Bugis Cube  1.298276  103.855555   \n",
       "\n",
       "                            lat_long  \n",
       "0           (1.2750117, 103.8413716)  \n",
       "1    (1.3010128, 103.83853994515806)  \n",
       "2  (1.3097138000000002, 103.8638367)  \n",
       "3   (1.32544235, 103.84252114874478)  \n",
       "4  (1.2982756000000002, 103.8555546)  "
      ]
     },
     "execution_count": 13,
     "metadata": {},
     "output_type": "execute_result"
    }
   ],
   "source": [
    "aux_df.head()"
   ]
  },
  {
   "cell_type": "markdown",
   "metadata": {},
   "source": [
    "## Distribution of HDB flats and Shopping malls"
   ]
  },
  {
   "cell_type": "code",
   "execution_count": 14,
   "metadata": {},
   "outputs": [
    {
     "data": {
      "text/plain": [
       "<AxesSubplot:xlabel='latitude', ylabel='longitude'>"
      ]
     },
     "execution_count": 14,
     "metadata": {},
     "output_type": "execute_result"
    },
    {
     "data": {
      "image/png": "[encoded data removed]",
      "text/plain": [
       "<Figure size 1440x720 with 1 Axes>"
      ]
     },
     "metadata": {
      "needs_background": "light"
     },
     "output_type": "display_data"
    }
   ],
   "source": [
    "plt.figure(figsize=(20,10))\n",
    "sns.scatterplot(y=train_df.longitude,x=train_df.latitude,color=\"#3E97E0\",label=\"HDB\")\n",
    "sns.scatterplot(y=aux_df.lng,x=aux_df.lat,color=\"red\",label=\"Shopping Mall\")"
   ]
  },
  {
   "cell_type": "code",
   "execution_count": null,
   "metadata": {},
   "outputs": [],
   "source": []
  },
  {
   "cell_type": "markdown",
   "metadata": {},
   "source": [
    "### Extract lat_long and year columns from train and test data sets"
   ]
  },
  {
   "cell_type": "code",
   "execution_count": 22,
   "metadata": {},
   "outputs": [],
   "source": [
    "train_df_temp = train_df[[\"lat_long\"]]\n",
    "test_df_temp = test_df[[\"lat_long\"]]"
   ]
  },
  {
   "cell_type": "markdown",
   "metadata": {},
   "source": [
    "### Drop duplicate locations"
   ]
  },
  {
   "cell_type": "code",
   "execution_count": 23,
   "metadata": {},
   "outputs": [],
   "source": [
    "train_df_temp = train_df_temp.drop_duplicates(subset=['lat_long'])\n",
    "test_df_temp = test_df_temp.drop_duplicates(subset=['lat_long'])"
   ]
  },
  {
   "cell_type": "markdown",
   "metadata": {},
   "source": [
    "### Add columns to store the nearest shopping mall and its distance and number of shopping malls within 0.5km"
   ]
  },
  {
   "cell_type": "code",
   "execution_count": 24,
   "metadata": {},
   "outputs": [],
   "source": [
    "train_df_temp[\"nearest_shopping_mall\"] = str(\"--\")\n",
    "train_df_temp[\"nearest_shopping_mall_distance\"] = math.inf\n",
    "train_df_temp[\"shopping_mall_half_km\"] = 0\n",
    "test_df_temp[\"nearest_shopping_mall\"] = str(\"--\")\n",
    "test_df_temp[\"nearest_shopping_mall_distance\"] = math.inf\n",
    "test_df_temp[\"shopping_mall_half_km\"] = 0\n",
    "train_df_temp = train_df_temp.reset_index()\n",
    "test_df_temp = test_df_temp.reset_index()"
   ]
  },
  {
   "cell_type": "code",
   "execution_count": 26,
   "metadata": {},
   "outputs": [
    {
     "data": {
      "text/html": [
       "<div>\n",
       "<style scoped>\n",
       "    .dataframe tbody tr th:only-of-type {\n",
       "        vertical-align: middle;\n",
       "    }\n",
       "\n",
       "    .dataframe tbody tr th {\n",
       "        vertical-align: top;\n",
       "    }\n",
       "\n",
       "    .dataframe thead th {\n",
       "        text-align: right;\n",
       "    }\n",
       "</style>\n",
       "<table border=\"1\" class=\"dataframe\">\n",
       "  <thead>\n",
       "    <tr style=\"text-align: right;\">\n",
       "      <th></th>\n",
       "      <th>index</th>\n",
       "      <th>name</th>\n",
       "      <th>lat_long</th>\n",
       "    </tr>\n",
       "  </thead>\n",
       "  <tbody>\n",
       "    <tr>\n",
       "      <th>0</th>\n",
       "      <td>0</td>\n",
       "      <td>100 AM</td>\n",
       "      <td>(1.2750117, 103.8413716)</td>\n",
       "    </tr>\n",
       "    <tr>\n",
       "      <th>1</th>\n",
       "      <td>1</td>\n",
       "      <td>313@Somerset</td>\n",
       "      <td>(1.3010128, 103.83853994515806)</td>\n",
       "    </tr>\n",
       "    <tr>\n",
       "      <th>2</th>\n",
       "      <td>2</td>\n",
       "      <td>Aperia</td>\n",
       "      <td>(1.3097138000000002, 103.8638367)</td>\n",
       "    </tr>\n",
       "    <tr>\n",
       "      <th>3</th>\n",
       "      <td>3</td>\n",
       "      <td>Balestier Hill Shopping Centre</td>\n",
       "      <td>(1.32544235, 103.84252114874478)</td>\n",
       "    </tr>\n",
       "    <tr>\n",
       "      <th>4</th>\n",
       "      <td>4</td>\n",
       "      <td>Bugis Cube</td>\n",
       "      <td>(1.2982756000000002, 103.8555546)</td>\n",
       "    </tr>\n",
       "  </tbody>\n",
       "</table>\n",
       "</div>"
      ],
      "text/plain": [
       "   index                            name                           lat_long\n",
       "0      0                          100 AM           (1.2750117, 103.8413716)\n",
       "1      1                    313@Somerset    (1.3010128, 103.83853994515806)\n",
       "2      2                          Aperia  (1.3097138000000002, 103.8638367)\n",
       "3      3  Balestier Hill Shopping Centre   (1.32544235, 103.84252114874478)\n",
       "4      4                      Bugis Cube  (1.2982756000000002, 103.8555546)"
      ]
     },
     "execution_count": 26,
     "metadata": {},
     "output_type": "execute_result"
    }
   ],
   "source": [
    "aux_df.head()"
   ]
  },
  {
   "cell_type": "code",
   "execution_count": 27,
   "metadata": {
    "scrolled": true
   },
   "outputs": [
    {
     "data": {
      "text/html": [
       "<div>\n",
       "<style scoped>\n",
       "    .dataframe tbody tr th:only-of-type {\n",
       "        vertical-align: middle;\n",
       "    }\n",
       "\n",
       "    .dataframe tbody tr th {\n",
       "        vertical-align: top;\n",
       "    }\n",
       "\n",
       "    .dataframe thead th {\n",
       "        text-align: right;\n",
       "    }\n",
       "</style>\n",
       "<table border=\"1\" class=\"dataframe\">\n",
       "  <thead>\n",
       "    <tr style=\"text-align: right;\">\n",
       "      <th></th>\n",
       "      <th>index</th>\n",
       "      <th>lat_long</th>\n",
       "      <th>nearest_shopping_mall</th>\n",
       "      <th>nearest_shopping_mall_distance</th>\n",
       "      <th>shopping_mall_half_km</th>\n",
       "    </tr>\n",
       "  </thead>\n",
       "  <tbody>\n",
       "    <tr>\n",
       "      <th>0</th>\n",
       "      <td>0</td>\n",
       "      <td>(1.3690080642700195, 103.95869445800781)</td>\n",
       "      <td>--</td>\n",
       "      <td>inf</td>\n",
       "      <td>0</td>\n",
       "    </tr>\n",
       "    <tr>\n",
       "      <th>1</th>\n",
       "      <td>1</td>\n",
       "      <td>(1.3990070819854736, 103.90699005126953)</td>\n",
       "      <td>--</td>\n",
       "      <td>inf</td>\n",
       "      <td>0</td>\n",
       "    </tr>\n",
       "    <tr>\n",
       "      <th>2</th>\n",
       "      <td>2</td>\n",
       "      <td>(1.3883482217788696, 103.87381744384766)</td>\n",
       "      <td>--</td>\n",
       "      <td>inf</td>\n",
       "      <td>0</td>\n",
       "    </tr>\n",
       "    <tr>\n",
       "      <th>3</th>\n",
       "      <td>3</td>\n",
       "      <td>(1.3184930086135864, 103.7667007446289)</td>\n",
       "      <td>--</td>\n",
       "      <td>inf</td>\n",
       "      <td>0</td>\n",
       "    </tr>\n",
       "    <tr>\n",
       "      <th>4</th>\n",
       "      <td>4</td>\n",
       "      <td>(1.3481495380401611, 103.74266052246094)</td>\n",
       "      <td>--</td>\n",
       "      <td>inf</td>\n",
       "      <td>0</td>\n",
       "    </tr>\n",
       "  </tbody>\n",
       "</table>\n",
       "</div>"
      ],
      "text/plain": [
       "   index                                  lat_long nearest_shopping_mall  \\\n",
       "0      0  (1.3690080642700195, 103.95869445800781)                    --   \n",
       "1      1  (1.3990070819854736, 103.90699005126953)                    --   \n",
       "2      2  (1.3883482217788696, 103.87381744384766)                    --   \n",
       "3      3   (1.3184930086135864, 103.7667007446289)                    --   \n",
       "4      4  (1.3481495380401611, 103.74266052246094)                    --   \n",
       "\n",
       "   nearest_shopping_mall_distance  shopping_mall_half_km  \n",
       "0                             inf                      0  \n",
       "1                             inf                      0  \n",
       "2                             inf                      0  \n",
       "3                             inf                      0  \n",
       "4                             inf                      0  "
      ]
     },
     "execution_count": 27,
     "metadata": {},
     "output_type": "execute_result"
    }
   ],
   "source": [
    "train_df_temp.head()"
   ]
  },
  {
   "cell_type": "code",
   "execution_count": 28,
   "metadata": {},
   "outputs": [
    {
     "data": {
      "text/html": [
       "<div>\n",
       "<style scoped>\n",
       "    .dataframe tbody tr th:only-of-type {\n",
       "        vertical-align: middle;\n",
       "    }\n",
       "\n",
       "    .dataframe tbody tr th {\n",
       "        vertical-align: top;\n",
       "    }\n",
       "\n",
       "    .dataframe thead th {\n",
       "        text-align: right;\n",
       "    }\n",
       "</style>\n",
       "<table border=\"1\" class=\"dataframe\">\n",
       "  <thead>\n",
       "    <tr style=\"text-align: right;\">\n",
       "      <th></th>\n",
       "      <th>index</th>\n",
       "      <th>lat_long</th>\n",
       "      <th>nearest_shopping_mall</th>\n",
       "      <th>nearest_shopping_mall_distance</th>\n",
       "      <th>shopping_mall_half_km</th>\n",
       "    </tr>\n",
       "  </thead>\n",
       "  <tbody>\n",
       "    <tr>\n",
       "      <th>0</th>\n",
       "      <td>0</td>\n",
       "      <td>(1.3465807437896729, 103.74408721923828)</td>\n",
       "      <td>--</td>\n",
       "      <td>inf</td>\n",
       "      <td>0</td>\n",
       "    </tr>\n",
       "    <tr>\n",
       "      <th>1</th>\n",
       "      <td>1</td>\n",
       "      <td>(1.3576176166534424, 103.96138000488281)</td>\n",
       "      <td>--</td>\n",
       "      <td>inf</td>\n",
       "      <td>0</td>\n",
       "    </tr>\n",
       "    <tr>\n",
       "      <th>2</th>\n",
       "      <td>2</td>\n",
       "      <td>(1.337803840637207, 103.74199676513672)</td>\n",
       "      <td>--</td>\n",
       "      <td>inf</td>\n",
       "      <td>0</td>\n",
       "    </tr>\n",
       "    <tr>\n",
       "      <th>3</th>\n",
       "      <td>3</td>\n",
       "      <td>(1.380083680152893, 103.84957122802734)</td>\n",
       "      <td>--</td>\n",
       "      <td>inf</td>\n",
       "      <td>0</td>\n",
       "    </tr>\n",
       "    <tr>\n",
       "      <th>4</th>\n",
       "      <td>4</td>\n",
       "      <td>(1.3139597177505493, 103.76982879638672)</td>\n",
       "      <td>--</td>\n",
       "      <td>inf</td>\n",
       "      <td>0</td>\n",
       "    </tr>\n",
       "  </tbody>\n",
       "</table>\n",
       "</div>"
      ],
      "text/plain": [
       "   index                                  lat_long nearest_shopping_mall  \\\n",
       "0      0  (1.3465807437896729, 103.74408721923828)                    --   \n",
       "1      1  (1.3576176166534424, 103.96138000488281)                    --   \n",
       "2      2   (1.337803840637207, 103.74199676513672)                    --   \n",
       "3      3   (1.380083680152893, 103.84957122802734)                    --   \n",
       "4      4  (1.3139597177505493, 103.76982879638672)                    --   \n",
       "\n",
       "   nearest_shopping_mall_distance  shopping_mall_half_km  \n",
       "0                             inf                      0  \n",
       "1                             inf                      0  \n",
       "2                             inf                      0  \n",
       "3                             inf                      0  \n",
       "4                             inf                      0  "
      ]
     },
     "execution_count": 28,
     "metadata": {},
     "output_type": "execute_result"
    }
   ],
   "source": [
    "test_df_temp.head()"
   ]
  },
  {
   "cell_type": "markdown",
   "metadata": {},
   "source": [
    "Converting our dataframe to numpy arrays for faster computation"
   ]
  },
  {
   "cell_type": "code",
   "execution_count": 29,
   "metadata": {
    "id": "lEF9hWIoxQEG"
   },
   "outputs": [],
   "source": [
    "train_df_temp_numpy = train_df_temp.to_numpy()\n",
    "test_df_temp_numpy = test_df_temp.to_numpy()\n",
    "aux_df_numpy = aux_df.to_numpy()"
   ]
  },
  {
   "cell_type": "code",
   "execution_count": 30,
   "metadata": {},
   "outputs": [
    {
     "name": "stdout",
     "output_type": "stream",
     "text": [
      "Shape of train_df_temp_numpy : (9138, 5)\n",
      "Shape of test_df_temp_numpy : (8990, 5)\n",
      "Shape of aux_df_numpy : (174, 3)\n"
     ]
    }
   ],
   "source": [
    "print(\"Shape of train_df_temp_numpy :\",np.shape(train_df_temp_numpy))\n",
    "print(\"Shape of test_df_temp_numpy :\",np.shape(test_df_temp_numpy))\n",
    "print(\"Shape of aux_df_numpy :\",np.shape(aux_df_numpy))"
   ]
  },
  {
   "cell_type": "markdown",
   "metadata": {},
   "source": [
    "## Get the nearest shopping mall and its distance from HDB. Also count the number of shopping mall within 0.5km from HDB"
   ]
  },
  {
   "cell_type": "code",
   "execution_count": 31,
   "metadata": {},
   "outputs": [
    {
     "name": "stdout",
     "output_type": "stream",
     "text": [
      "Get distance for each location and update nearest shopping mall and its distance\n",
      "Add nearest_shopping_mall and nearest_shopping_mall_distance and count of shopping malls in half km to dataframe\n",
      "Wall time: 23 s\n"
     ]
    }
   ],
   "source": [
    "%%time\n",
    "print(\"Get distance for each location and update nearest shopping mall and its distance\")\n",
    "for i in range(len(train_df_temp_numpy)):\n",
    "    min_dist = math.inf\n",
    "    min_dist_aux = \"\"\n",
    "    hdb_location = train_df_temp_numpy[i][1]\n",
    "    hdb_location = eval(hdb_location)\n",
    "    count = 0\n",
    "    for j in range(len(aux_df_numpy)):\n",
    "        aux_location = aux_df_numpy[j][2]\n",
    "        distance = geopy.distance.great_circle(hdb_location, aux_location).km\n",
    "        if distance < min_dist:\n",
    "            min_dist = distance\n",
    "            min_dist_mrt = aux_df_numpy[j][1]\n",
    "        if distance <= 1:\n",
    "            count+=1\n",
    "    train_df_temp_numpy[i][2] = min_dist_mrt\n",
    "    train_df_temp_numpy[i][3] = min_dist\n",
    "    train_df_temp_numpy[i][4] = count\n",
    "\n",
    "print(\"Add nearest_shopping_mall and nearest_shopping_mall_distance and count of shopping malls in half km to dataframe\")\n",
    "for i in range(len(train_df_temp_numpy)):\n",
    "    dataframe_index = train_df_temp_numpy[i][0]\n",
    "    train_df_temp.loc[i, \"nearest_shopping_mall\"] = train_df_temp_numpy[i][2]\n",
    "    train_df_temp.loc[i, \"nearest_shopping_mall_distance\"] = train_df_temp_numpy[i][3]\n",
    "    train_df_temp.loc[i, \"shopping_mall_half_km\"] = train_df_temp_numpy[i][4]"
   ]
  },
  {
   "cell_type": "code",
   "execution_count": 32,
   "metadata": {},
   "outputs": [
    {
     "name": "stdout",
     "output_type": "stream",
     "text": [
      "Get distance for each location and update nearest shopping mall and its distance\n",
      "Add nearest_shopping_mall and nearest_shopping_mall_distance and count of shopping malls in half km to dataframe\n",
      "Wall time: 22.5 s\n"
     ]
    }
   ],
   "source": [
    "%%time\n",
    "print(\"Get distance for each location and update nearest shopping mall and its distance\")\n",
    "for i in range(len(test_df_temp_numpy)):\n",
    "    min_dist = math.inf\n",
    "    min_dist_aux = \"\"\n",
    "    hdb_location = test_df_temp_numpy[i][1]\n",
    "    hdb_location = eval(hdb_location)\n",
    "    count = 0\n",
    "    for j in range(len(aux_df_numpy)):\n",
    "        aux_location = aux_df_numpy[j][2]\n",
    "        distance = geopy.distance.great_circle(hdb_location, aux_location).km\n",
    "        if distance < min_dist:\n",
    "            min_dist = distance\n",
    "            min_dist_mrt = aux_df_numpy[j][1]\n",
    "        if distance <= 0.5:\n",
    "            count+=1\n",
    "    test_df_temp_numpy[i][2] = min_dist_mrt\n",
    "    test_df_temp_numpy[i][3] = min_dist\n",
    "    test_df_temp_numpy[i][4] = count\n",
    "\n",
    "print(\"Add nearest_shopping_mall and nearest_shopping_mall_distance and count of shopping malls in half km to dataframe\")\n",
    "for i in range(len(test_df_temp_numpy)):\n",
    "    dataframe_index = test_df_temp_numpy[i][0]\n",
    "    test_df_temp.loc[i, \"nearest_shopping_mall\"] = test_df_temp_numpy[i][2]\n",
    "    test_df_temp.loc[i, \"nearest_shopping_mall_distance\"] = test_df_temp_numpy[i][3]\n",
    "    test_df_temp.loc[i, \"shopping_mall_half_km\"] = test_df_temp_numpy[i][4]"
   ]
  },
  {
   "cell_type": "code",
   "execution_count": 33,
   "metadata": {},
   "outputs": [
    {
     "data": {
      "text/html": [
       "<div>\n",
       "<style scoped>\n",
       "    .dataframe tbody tr th:only-of-type {\n",
       "        vertical-align: middle;\n",
       "    }\n",
       "\n",
       "    .dataframe tbody tr th {\n",
       "        vertical-align: top;\n",
       "    }\n",
       "\n",
       "    .dataframe thead th {\n",
       "        text-align: right;\n",
       "    }\n",
       "</style>\n",
       "<table border=\"1\" class=\"dataframe\">\n",
       "  <thead>\n",
       "    <tr style=\"text-align: right;\">\n",
       "      <th></th>\n",
       "      <th>index</th>\n",
       "      <th>lat_long</th>\n",
       "      <th>nearest_shopping_mall</th>\n",
       "      <th>nearest_shopping_mall_distance</th>\n",
       "      <th>shopping_mall_half_km</th>\n",
       "    </tr>\n",
       "  </thead>\n",
       "  <tbody>\n",
       "    <tr>\n",
       "      <th>0</th>\n",
       "      <td>0</td>\n",
       "      <td>(1.3690080642700195, 103.95869445800781)</td>\n",
       "      <td>Downtown East</td>\n",
       "      <td>1.033117</td>\n",
       "      <td>0</td>\n",
       "    </tr>\n",
       "    <tr>\n",
       "      <th>1</th>\n",
       "      <td>1</td>\n",
       "      <td>(1.3990070819854736, 103.90699005126953)</td>\n",
       "      <td>Rivervale Mall</td>\n",
       "      <td>0.806018</td>\n",
       "      <td>4</td>\n",
       "    </tr>\n",
       "    <tr>\n",
       "      <th>2</th>\n",
       "      <td>2</td>\n",
       "      <td>(1.3883482217788696, 103.87381744384766)</td>\n",
       "      <td>The Seletar Mall</td>\n",
       "      <td>0.452401</td>\n",
       "      <td>2</td>\n",
       "    </tr>\n",
       "    <tr>\n",
       "      <th>3</th>\n",
       "      <td>3</td>\n",
       "      <td>(1.3184930086135864, 103.7667007446289)</td>\n",
       "      <td>321 Clementi</td>\n",
       "      <td>0.456448</td>\n",
       "      <td>3</td>\n",
       "    </tr>\n",
       "    <tr>\n",
       "      <th>4</th>\n",
       "      <td>4</td>\n",
       "      <td>(1.3481495380401611, 103.74266052246094)</td>\n",
       "      <td>West Mall</td>\n",
       "      <td>0.763916</td>\n",
       "      <td>1</td>\n",
       "    </tr>\n",
       "  </tbody>\n",
       "</table>\n",
       "</div>"
      ],
      "text/plain": [
       "   index                                  lat_long nearest_shopping_mall  \\\n",
       "0      0  (1.3690080642700195, 103.95869445800781)         Downtown East   \n",
       "1      1  (1.3990070819854736, 103.90699005126953)        Rivervale Mall   \n",
       "2      2  (1.3883482217788696, 103.87381744384766)      The Seletar Mall   \n",
       "3      3   (1.3184930086135864, 103.7667007446289)          321 Clementi   \n",
       "4      4  (1.3481495380401611, 103.74266052246094)             West Mall   \n",
       "\n",
       "   nearest_shopping_mall_distance  shopping_mall_half_km  \n",
       "0                        1.033117                      0  \n",
       "1                        0.806018                      4  \n",
       "2                        0.452401                      2  \n",
       "3                        0.456448                      3  \n",
       "4                        0.763916                      1  "
      ]
     },
     "execution_count": 33,
     "metadata": {},
     "output_type": "execute_result"
    }
   ],
   "source": [
    "train_df_temp.head()"
   ]
  },
  {
   "cell_type": "code",
   "execution_count": 34,
   "metadata": {},
   "outputs": [
    {
     "data": {
      "text/html": [
       "<div>\n",
       "<style scoped>\n",
       "    .dataframe tbody tr th:only-of-type {\n",
       "        vertical-align: middle;\n",
       "    }\n",
       "\n",
       "    .dataframe tbody tr th {\n",
       "        vertical-align: top;\n",
       "    }\n",
       "\n",
       "    .dataframe thead th {\n",
       "        text-align: right;\n",
       "    }\n",
       "</style>\n",
       "<table border=\"1\" class=\"dataframe\">\n",
       "  <thead>\n",
       "    <tr style=\"text-align: right;\">\n",
       "      <th></th>\n",
       "      <th>index</th>\n",
       "      <th>lat_long</th>\n",
       "      <th>nearest_shopping_mall</th>\n",
       "      <th>nearest_shopping_mall_distance</th>\n",
       "      <th>shopping_mall_half_km</th>\n",
       "    </tr>\n",
       "  </thead>\n",
       "  <tbody>\n",
       "    <tr>\n",
       "      <th>0</th>\n",
       "      <td>0</td>\n",
       "      <td>(1.3465807437896729, 103.74408721923828)</td>\n",
       "      <td>West Mall</td>\n",
       "      <td>0.693774</td>\n",
       "      <td>0</td>\n",
       "    </tr>\n",
       "    <tr>\n",
       "      <th>1</th>\n",
       "      <td>1</td>\n",
       "      <td>(1.3576176166534424, 103.96138000488281)</td>\n",
       "      <td>Tampines Mall</td>\n",
       "      <td>1.934091</td>\n",
       "      <td>0</td>\n",
       "    </tr>\n",
       "    <tr>\n",
       "      <th>2</th>\n",
       "      <td>2</td>\n",
       "      <td>(1.337803840637207, 103.74199676513672)</td>\n",
       "      <td>Jem</td>\n",
       "      <td>0.524649</td>\n",
       "      <td>0</td>\n",
       "    </tr>\n",
       "    <tr>\n",
       "      <th>3</th>\n",
       "      <td>3</td>\n",
       "      <td>(1.380083680152893, 103.84957122802734)</td>\n",
       "      <td>Djitsun Mall</td>\n",
       "      <td>0.829051</td>\n",
       "      <td>0</td>\n",
       "    </tr>\n",
       "    <tr>\n",
       "      <th>4</th>\n",
       "      <td>4</td>\n",
       "      <td>(1.3139597177505493, 103.76982879638672)</td>\n",
       "      <td>321 Clementi</td>\n",
       "      <td>0.604384</td>\n",
       "      <td>0</td>\n",
       "    </tr>\n",
       "  </tbody>\n",
       "</table>\n",
       "</div>"
      ],
      "text/plain": [
       "   index                                  lat_long nearest_shopping_mall  \\\n",
       "0      0  (1.3465807437896729, 103.74408721923828)             West Mall   \n",
       "1      1  (1.3576176166534424, 103.96138000488281)         Tampines Mall   \n",
       "2      2   (1.337803840637207, 103.74199676513672)                   Jem   \n",
       "3      3   (1.380083680152893, 103.84957122802734)          Djitsun Mall   \n",
       "4      4  (1.3139597177505493, 103.76982879638672)          321 Clementi   \n",
       "\n",
       "   nearest_shopping_mall_distance  shopping_mall_half_km  \n",
       "0                        0.693774                      0  \n",
       "1                        1.934091                      0  \n",
       "2                        0.524649                      0  \n",
       "3                        0.829051                      0  \n",
       "4                        0.604384                      0  "
      ]
     },
     "execution_count": 34,
     "metadata": {},
     "output_type": "execute_result"
    }
   ],
   "source": [
    "test_df_temp.head()"
   ]
  },
  {
   "cell_type": "markdown",
   "metadata": {
    "id": "th4d08ExUJE8"
   },
   "source": [
    "### We will now merge the result with our original data frames"
   ]
  },
  {
   "cell_type": "code",
   "execution_count": 35,
   "metadata": {
    "id": "7Z21VjOljHAn"
   },
   "outputs": [],
   "source": [
    "temp = train_df_temp[[\"lat_long\", \"nearest_shopping_mall\", \"nearest_shopping_mall_distance\",\"shopping_mall_half_km\"]]\n",
    "train_df = pd.merge(train_df, temp, on=\"lat_long\", how='left')\n",
    "\n",
    "temp = test_df_temp[[\"lat_long\", \"nearest_shopping_mall\", \"nearest_shopping_mall_distance\",\"shopping_mall_half_km\"]]\n",
    "test_df = pd.merge(test_df, temp, on=\"lat_long\", how='left')"
   ]
  },
  {
   "cell_type": "markdown",
   "metadata": {},
   "source": [
    "### Nearest Shopping Mall and its distance from HDB has been added to our dataframe"
   ]
  },
  {
   "cell_type": "code",
   "execution_count": 36,
   "metadata": {},
   "outputs": [
    {
     "data": {
      "text/html": [
       "<div>\n",
       "<style scoped>\n",
       "    .dataframe tbody tr th:only-of-type {\n",
       "        vertical-align: middle;\n",
       "    }\n",
       "\n",
       "    .dataframe tbody tr th {\n",
       "        vertical-align: top;\n",
       "    }\n",
       "\n",
       "    .dataframe thead th {\n",
       "        text-align: right;\n",
       "    }\n",
       "</style>\n",
       "<table border=\"1\" class=\"dataframe\">\n",
       "  <thead>\n",
       "    <tr style=\"text-align: right;\">\n",
       "      <th></th>\n",
       "      <th>town</th>\n",
       "      <th>flat_type</th>\n",
       "      <th>block</th>\n",
       "      <th>street_name</th>\n",
       "      <th>floor_area_sqm</th>\n",
       "      <th>flat_model</th>\n",
       "      <th>lease_commence_date</th>\n",
       "      <th>latitude</th>\n",
       "      <th>longitude</th>\n",
       "      <th>subzone</th>\n",
       "      <th>planning_area</th>\n",
       "      <th>region</th>\n",
       "      <th>resale_price</th>\n",
       "      <th>month_no</th>\n",
       "      <th>year</th>\n",
       "      <th>storey</th>\n",
       "      <th>lat_long</th>\n",
       "      <th>nearest_shopping_mall</th>\n",
       "      <th>nearest_shopping_mall_distance</th>\n",
       "      <th>shopping_mall_half_km</th>\n",
       "    </tr>\n",
       "  </thead>\n",
       "  <tbody>\n",
       "    <tr>\n",
       "      <th>0</th>\n",
       "      <td>pasir ris</td>\n",
       "      <td>4-room</td>\n",
       "      <td>440</td>\n",
       "      <td>pasir ris drive 4</td>\n",
       "      <td>118.0</td>\n",
       "      <td>model a</td>\n",
       "      <td>1989</td>\n",
       "      <td>1.369008</td>\n",
       "      <td>103.958694</td>\n",
       "      <td>pasir ris drive</td>\n",
       "      <td>pasir ris</td>\n",
       "      <td>east region</td>\n",
       "      <td>209700.0</td>\n",
       "      <td>8</td>\n",
       "      <td>2001</td>\n",
       "      <td>2.0</td>\n",
       "      <td>(1.3690080642700195, 103.95869445800781)</td>\n",
       "      <td>Downtown East</td>\n",
       "      <td>1.033117</td>\n",
       "      <td>0</td>\n",
       "    </tr>\n",
       "    <tr>\n",
       "      <th>1</th>\n",
       "      <td>punggol</td>\n",
       "      <td>5-room</td>\n",
       "      <td>196B</td>\n",
       "      <td>punggol field</td>\n",
       "      <td>110.0</td>\n",
       "      <td>improved</td>\n",
       "      <td>2003</td>\n",
       "      <td>1.399007</td>\n",
       "      <td>103.906990</td>\n",
       "      <td>punggol field</td>\n",
       "      <td>punggol</td>\n",
       "      <td>north-east region</td>\n",
       "      <td>402300.0</td>\n",
       "      <td>10</td>\n",
       "      <td>2014</td>\n",
       "      <td>11.0</td>\n",
       "      <td>(1.3990070819854736, 103.90699005126953)</td>\n",
       "      <td>Rivervale Mall</td>\n",
       "      <td>0.806018</td>\n",
       "      <td>4</td>\n",
       "    </tr>\n",
       "    <tr>\n",
       "      <th>2</th>\n",
       "      <td>sengkang</td>\n",
       "      <td>5-room</td>\n",
       "      <td>404A</td>\n",
       "      <td>fernvale lane</td>\n",
       "      <td>112.0</td>\n",
       "      <td>premium apartment</td>\n",
       "      <td>2004</td>\n",
       "      <td>1.388348</td>\n",
       "      <td>103.873820</td>\n",
       "      <td>fernvale</td>\n",
       "      <td>sengkang</td>\n",
       "      <td>north-east region</td>\n",
       "      <td>351000.0</td>\n",
       "      <td>9</td>\n",
       "      <td>2020</td>\n",
       "      <td>2.0</td>\n",
       "      <td>(1.3883482217788696, 103.87381744384766)</td>\n",
       "      <td>The Seletar Mall</td>\n",
       "      <td>0.452401</td>\n",
       "      <td>2</td>\n",
       "    </tr>\n",
       "    <tr>\n",
       "      <th>3</th>\n",
       "      <td>clementi</td>\n",
       "      <td>3-room</td>\n",
       "      <td>375</td>\n",
       "      <td>clementi avenue 4</td>\n",
       "      <td>67.0</td>\n",
       "      <td>new generation</td>\n",
       "      <td>1980</td>\n",
       "      <td>1.318493</td>\n",
       "      <td>103.766700</td>\n",
       "      <td>clementi north</td>\n",
       "      <td>clementi</td>\n",
       "      <td>west region</td>\n",
       "      <td>151200.0</td>\n",
       "      <td>10</td>\n",
       "      <td>2000</td>\n",
       "      <td>8.0</td>\n",
       "      <td>(1.3184930086135864, 103.7667007446289)</td>\n",
       "      <td>321 Clementi</td>\n",
       "      <td>0.456448</td>\n",
       "      <td>3</td>\n",
       "    </tr>\n",
       "    <tr>\n",
       "      <th>4</th>\n",
       "      <td>bukit batok</td>\n",
       "      <td>3-room</td>\n",
       "      <td>163</td>\n",
       "      <td>bukit batok street 11</td>\n",
       "      <td>73.0</td>\n",
       "      <td>model a</td>\n",
       "      <td>1985</td>\n",
       "      <td>1.348150</td>\n",
       "      <td>103.742660</td>\n",
       "      <td>bukit batok west</td>\n",
       "      <td>bukit batok</td>\n",
       "      <td>west region</td>\n",
       "      <td>318600.0</td>\n",
       "      <td>1</td>\n",
       "      <td>2013</td>\n",
       "      <td>8.0</td>\n",
       "      <td>(1.3481495380401611, 103.74266052246094)</td>\n",
       "      <td>West Mall</td>\n",
       "      <td>0.763916</td>\n",
       "      <td>1</td>\n",
       "    </tr>\n",
       "  </tbody>\n",
       "</table>\n",
       "</div>"
      ],
      "text/plain": [
       "          town flat_type block            street_name  floor_area_sqm  \\\n",
       "0    pasir ris    4-room   440      pasir ris drive 4           118.0   \n",
       "1      punggol    5-room  196B          punggol field           110.0   \n",
       "2     sengkang    5-room  404A          fernvale lane           112.0   \n",
       "3     clementi    3-room   375      clementi avenue 4            67.0   \n",
       "4  bukit batok    3-room   163  bukit batok street 11            73.0   \n",
       "\n",
       "          flat_model  lease_commence_date  latitude   longitude  \\\n",
       "0            model a                 1989  1.369008  103.958694   \n",
       "1           improved                 2003  1.399007  103.906990   \n",
       "2  premium apartment                 2004  1.388348  103.873820   \n",
       "3     new generation                 1980  1.318493  103.766700   \n",
       "4            model a                 1985  1.348150  103.742660   \n",
       "\n",
       "            subzone planning_area             region  resale_price  month_no  \\\n",
       "0   pasir ris drive     pasir ris        east region      209700.0         8   \n",
       "1     punggol field       punggol  north-east region      402300.0        10   \n",
       "2          fernvale      sengkang  north-east region      351000.0         9   \n",
       "3    clementi north      clementi        west region      151200.0        10   \n",
       "4  bukit batok west   bukit batok        west region      318600.0         1   \n",
       "\n",
       "   year  storey                                  lat_long  \\\n",
       "0  2001     2.0  (1.3690080642700195, 103.95869445800781)   \n",
       "1  2014    11.0  (1.3990070819854736, 103.90699005126953)   \n",
       "2  2020     2.0  (1.3883482217788696, 103.87381744384766)   \n",
       "3  2000     8.0   (1.3184930086135864, 103.7667007446289)   \n",
       "4  2013     8.0  (1.3481495380401611, 103.74266052246094)   \n",
       "\n",
       "  nearest_shopping_mall  nearest_shopping_mall_distance  shopping_mall_half_km  \n",
       "0         Downtown East                        1.033117                      0  \n",
       "1        Rivervale Mall                        0.806018                      4  \n",
       "2      The Seletar Mall                        0.452401                      2  \n",
       "3          321 Clementi                        0.456448                      3  \n",
       "4             West Mall                        0.763916                      1  "
      ]
     },
     "execution_count": 36,
     "metadata": {},
     "output_type": "execute_result"
    }
   ],
   "source": [
    "train_df.head()"
   ]
  },
  {
   "cell_type": "code",
   "execution_count": 37,
   "metadata": {},
   "outputs": [
    {
     "data": {
      "text/html": [
       "<div>\n",
       "<style scoped>\n",
       "    .dataframe tbody tr th:only-of-type {\n",
       "        vertical-align: middle;\n",
       "    }\n",
       "\n",
       "    .dataframe tbody tr th {\n",
       "        vertical-align: top;\n",
       "    }\n",
       "\n",
       "    .dataframe thead th {\n",
       "        text-align: right;\n",
       "    }\n",
       "</style>\n",
       "<table border=\"1\" class=\"dataframe\">\n",
       "  <thead>\n",
       "    <tr style=\"text-align: right;\">\n",
       "      <th></th>\n",
       "      <th>town</th>\n",
       "      <th>flat_type</th>\n",
       "      <th>block</th>\n",
       "      <th>street_name</th>\n",
       "      <th>floor_area_sqm</th>\n",
       "      <th>flat_model</th>\n",
       "      <th>lease_commence_date</th>\n",
       "      <th>latitude</th>\n",
       "      <th>longitude</th>\n",
       "      <th>subzone</th>\n",
       "      <th>planning_area</th>\n",
       "      <th>region</th>\n",
       "      <th>month_no</th>\n",
       "      <th>year</th>\n",
       "      <th>storey</th>\n",
       "      <th>lat_long</th>\n",
       "      <th>nearest_shopping_mall</th>\n",
       "      <th>nearest_shopping_mall_distance</th>\n",
       "      <th>shopping_mall_half_km</th>\n",
       "    </tr>\n",
       "  </thead>\n",
       "  <tbody>\n",
       "    <tr>\n",
       "      <th>0</th>\n",
       "      <td>bukit batok</td>\n",
       "      <td>4-room</td>\n",
       "      <td>186</td>\n",
       "      <td>bukit batok west avenue 6</td>\n",
       "      <td>94.0</td>\n",
       "      <td>new generation</td>\n",
       "      <td>1989</td>\n",
       "      <td>1.346581</td>\n",
       "      <td>103.74409</td>\n",
       "      <td>bukit batok west</td>\n",
       "      <td>bukit batok</td>\n",
       "      <td>west region</td>\n",
       "      <td>1</td>\n",
       "      <td>2004</td>\n",
       "      <td>5.0</td>\n",
       "      <td>(1.3465807437896729, 103.74408721923828)</td>\n",
       "      <td>West Mall</td>\n",
       "      <td>0.693774</td>\n",
       "      <td>0</td>\n",
       "    </tr>\n",
       "    <tr>\n",
       "      <th>1</th>\n",
       "      <td>tampines</td>\n",
       "      <td>5-room</td>\n",
       "      <td>366</td>\n",
       "      <td>tampines street 34</td>\n",
       "      <td>122.0</td>\n",
       "      <td>improved</td>\n",
       "      <td>1997</td>\n",
       "      <td>1.357618</td>\n",
       "      <td>103.96138</td>\n",
       "      <td>tampines east</td>\n",
       "      <td>tampines</td>\n",
       "      <td>east region</td>\n",
       "      <td>11</td>\n",
       "      <td>2001</td>\n",
       "      <td>5.0</td>\n",
       "      <td>(1.3576176166534424, 103.96138000488281)</td>\n",
       "      <td>Tampines Mall</td>\n",
       "      <td>1.934091</td>\n",
       "      <td>0</td>\n",
       "    </tr>\n",
       "    <tr>\n",
       "      <th>2</th>\n",
       "      <td>jurong east</td>\n",
       "      <td>3-room</td>\n",
       "      <td>206</td>\n",
       "      <td>jurong east street 21</td>\n",
       "      <td>67.0</td>\n",
       "      <td>new generation</td>\n",
       "      <td>1982</td>\n",
       "      <td>1.337804</td>\n",
       "      <td>103.74200</td>\n",
       "      <td>toh guan</td>\n",
       "      <td>jurong east</td>\n",
       "      <td>west region</td>\n",
       "      <td>7</td>\n",
       "      <td>2002</td>\n",
       "      <td>2.0</td>\n",
       "      <td>(1.337803840637207, 103.74199676513672)</td>\n",
       "      <td>Jem</td>\n",
       "      <td>0.524649</td>\n",
       "      <td>0</td>\n",
       "    </tr>\n",
       "    <tr>\n",
       "      <th>3</th>\n",
       "      <td>ang mo kio</td>\n",
       "      <td>3-room</td>\n",
       "      <td>180</td>\n",
       "      <td>Ang Mo Kio Avenue 5</td>\n",
       "      <td>82.0</td>\n",
       "      <td>new generation</td>\n",
       "      <td>1981</td>\n",
       "      <td>1.380084</td>\n",
       "      <td>103.84957</td>\n",
       "      <td>yio chu kang east</td>\n",
       "      <td>ang mo kio</td>\n",
       "      <td>north-east region</td>\n",
       "      <td>4</td>\n",
       "      <td>2015</td>\n",
       "      <td>5.0</td>\n",
       "      <td>(1.380083680152893, 103.84957122802734)</td>\n",
       "      <td>Djitsun Mall</td>\n",
       "      <td>0.829051</td>\n",
       "      <td>0</td>\n",
       "    </tr>\n",
       "    <tr>\n",
       "      <th>4</th>\n",
       "      <td>clementi</td>\n",
       "      <td>5-room</td>\n",
       "      <td>356</td>\n",
       "      <td>clementi avenue 2</td>\n",
       "      <td>117.0</td>\n",
       "      <td>standard</td>\n",
       "      <td>1978</td>\n",
       "      <td>1.313960</td>\n",
       "      <td>103.76983</td>\n",
       "      <td>clementi north</td>\n",
       "      <td>clementi</td>\n",
       "      <td>west region</td>\n",
       "      <td>4</td>\n",
       "      <td>2004</td>\n",
       "      <td>2.0</td>\n",
       "      <td>(1.3139597177505493, 103.76982879638672)</td>\n",
       "      <td>321 Clementi</td>\n",
       "      <td>0.604384</td>\n",
       "      <td>0</td>\n",
       "    </tr>\n",
       "  </tbody>\n",
       "</table>\n",
       "</div>"
      ],
      "text/plain": [
       "          town flat_type block                street_name  floor_area_sqm  \\\n",
       "0  bukit batok    4-room   186  bukit batok west avenue 6            94.0   \n",
       "1     tampines    5-room   366         tampines street 34           122.0   \n",
       "2  jurong east    3-room   206      jurong east street 21            67.0   \n",
       "3   ang mo kio    3-room   180        Ang Mo Kio Avenue 5            82.0   \n",
       "4     clementi    5-room   356          clementi avenue 2           117.0   \n",
       "\n",
       "       flat_model  lease_commence_date  latitude  longitude  \\\n",
       "0  new generation                 1989  1.346581  103.74409   \n",
       "1        improved                 1997  1.357618  103.96138   \n",
       "2  new generation                 1982  1.337804  103.74200   \n",
       "3  new generation                 1981  1.380084  103.84957   \n",
       "4        standard                 1978  1.313960  103.76983   \n",
       "\n",
       "             subzone planning_area             region  month_no  year  storey  \\\n",
       "0   bukit batok west   bukit batok        west region         1  2004     5.0   \n",
       "1      tampines east      tampines        east region        11  2001     5.0   \n",
       "2           toh guan   jurong east        west region         7  2002     2.0   \n",
       "3  yio chu kang east    ang mo kio  north-east region         4  2015     5.0   \n",
       "4     clementi north      clementi        west region         4  2004     2.0   \n",
       "\n",
       "                                   lat_long nearest_shopping_mall  \\\n",
       "0  (1.3465807437896729, 103.74408721923828)             West Mall   \n",
       "1  (1.3576176166534424, 103.96138000488281)         Tampines Mall   \n",
       "2   (1.337803840637207, 103.74199676513672)                   Jem   \n",
       "3   (1.380083680152893, 103.84957122802734)          Djitsun Mall   \n",
       "4  (1.3139597177505493, 103.76982879638672)          321 Clementi   \n",
       "\n",
       "   nearest_shopping_mall_distance  shopping_mall_half_km  \n",
       "0                        0.693774                      0  \n",
       "1                        1.934091                      0  \n",
       "2                        0.524649                      0  \n",
       "3                        0.829051                      0  \n",
       "4                        0.604384                      0  "
      ]
     },
     "execution_count": 37,
     "metadata": {},
     "output_type": "execute_result"
    }
   ],
   "source": [
    "test_df.head()"
   ]
  },
  {
   "cell_type": "markdown",
   "metadata": {},
   "source": [
    "# Correlation between shopping mall and resale_price"
   ]
  },
  {
   "cell_type": "code",
   "execution_count": 38,
   "metadata": {},
   "outputs": [
    {
     "data": {
      "text/plain": [
       "<AxesSubplot:>"
      ]
     },
     "execution_count": 38,
     "metadata": {},
     "output_type": "execute_result"
    },
    {
     "data": {
      "image/png": "[encoded data removed]",
      "text/plain": [
       "<Figure size 1080x864 with 2 Axes>"
      ]
     },
     "metadata": {
      "needs_background": "light"
     },
     "output_type": "display_data"
    }
   ],
   "source": [
    "corr = train_df.corr()\n",
    "plt.subplots(figsize=(15,12))\n",
    "sns.heatmap(corr, vmax=0.9, cmap=\"Blues\", square=True)"
   ]
  },
  {
   "cell_type": "code",
   "execution_count": 40,
   "metadata": {},
   "outputs": [
    {
     "data": {
      "text/html": [
       "<style  type=\"text/css\" >\n",
       "#T_409ed217_9de8_11eb_b241_342eb79777ferow0_col0{\n",
       "            background-color:  #440154;\n",
       "            color:  #f1f1f1;\n",
       "        }</style><table id=\"T_409ed217_9de8_11eb_b241_342eb79777fe\" ><thead>    <tr>        <th class=\"blank level0\" ></th>        <th class=\"col_heading level0 col0\" >resale_price</th>    </tr></thead><tbody>\n",
       "                <tr>\n",
       "                        <th id=\"T_409ed217_9de8_11eb_b241_342eb79777felevel0_row0\" class=\"row_heading level0 row0\" >shopping_mall_half_km</th>\n",
       "                        <td id=\"T_409ed217_9de8_11eb_b241_342eb79777ferow0_col0\" class=\"data row0 col0\" >0.039269</td>\n",
       "            </tr>\n",
       "    </tbody></table>"
      ],
      "text/plain": [
       "<pandas.io.formats.style.Styler at 0x2d3210d92b0>"
      ]
     },
     "execution_count": 40,
     "metadata": {},
     "output_type": "execute_result"
    }
   ],
   "source": [
    "corr[['resale_price']].sort_values(by='resale_price',ascending=False)[6:7].style.background_gradient(cmap='viridis', axis=None)"
   ]
  },
  {
   "cell_type": "code",
   "execution_count": 41,
   "metadata": {},
   "outputs": [
    {
     "data": {
      "text/html": [
       "<style  type=\"text/css\" >\n",
       "#T_4578b240_9de8_11eb_8c61_342eb79777ferow0_col0{\n",
       "            background-color:  #440154;\n",
       "            color:  #f1f1f1;\n",
       "        }</style><table id=\"T_4578b240_9de8_11eb_8c61_342eb79777fe\" ><thead>    <tr>        <th class=\"blank level0\" ></th>        <th class=\"col_heading level0 col0\" >resale_price</th>    </tr></thead><tbody>\n",
       "                <tr>\n",
       "                        <th id=\"T_4578b240_9de8_11eb_8c61_342eb79777felevel0_row0\" class=\"row_heading level0 row0\" >nearest_shopping_mall_distance</th>\n",
       "                        <td id=\"T_4578b240_9de8_11eb_8c61_342eb79777ferow0_col0\" class=\"data row0 col0\" >-0.074991</td>\n",
       "            </tr>\n",
       "    </tbody></table>"
      ],
      "text/plain": [
       "<pandas.io.formats.style.Styler at 0x2d3210ebfd0>"
      ]
     },
     "execution_count": 41,
     "metadata": {},
     "output_type": "execute_result"
    }
   ],
   "source": [
    "corr[['resale_price']].sort_values(by='resale_price',ascending=False)[9:].style.background_gradient(cmap='viridis', axis=None)"
   ]
  },
  {
   "cell_type": "code",
   "execution_count": null,
   "metadata": {},
   "outputs": [],
   "source": []
  },
  {
   "cell_type": "markdown",
   "metadata": {},
   "source": [
    "### Reduce the size of dataframe to save memory during training"
   ]
  },
  {
   "cell_type": "code",
   "execution_count": 42,
   "metadata": {},
   "outputs": [
    {
     "name": "stdout",
     "output_type": "stream",
     "text": [
      "Memory usage of properties dataframe is : 69.17092895507812  MB\n",
      "__MEMORY USAGE AFTER COMPLETION:__\n",
      "Memory usage is:  47.34914779663086  MB\n",
      "This is  68.45238095238095 % of the initial size\n",
      "Memory usage of properties dataframe is : 16.46942138671875  MB\n",
      "__MEMORY USAGE AFTER COMPLETION:__\n",
      "Memory usage is:  11.425661087036133  MB\n",
      "This is  69.375 % of the initial size\n"
     ]
    }
   ],
   "source": [
    "train_df, _ = reduce_memory_usage(train_df)\n",
    "test_df, _ = reduce_memory_usage(test_df)"
   ]
  },
  {
   "cell_type": "markdown",
   "metadata": {},
   "source": [
    "### Segregate the columns"
   ]
  },
  {
   "cell_type": "code",
   "execution_count": 43,
   "metadata": {},
   "outputs": [],
   "source": [
    "integer_columns = [\n",
    "    \"lease_commence_date\",\n",
    "    \"storey\",\n",
    "    \"month_no\",\n",
    "    \"year\",\n",
    "    \"nearest_shopping_mall_distance\",\n",
    "    \"shopping_mall_half_km\"\n",
    "]\n",
    "\n",
    "float_columns = [\n",
    "    \"floor_area_sqm\",\n",
    "]\n",
    "\n",
    "target_column = [\n",
    "    \"resale_price\"\n",
    "]\n",
    "\n",
    "## Categorical columns need to be encoded before training\n",
    "categorical_columns = [\n",
    "    \"town\",\n",
    "    \"flat_type\",\n",
    "    \"flat_model\",\n",
    "    \"subzone\",\n",
    "    \"planning_area\",\n",
    "    \"region\"\n",
    "]\n",
    "\n",
    "## We will drop these columns before training\n",
    "drop_columns = [\n",
    "    \"lat_long\",\n",
    "    \"block\",\n",
    "    \"street_name\",\n",
    "    \"nearest_shopping_mall\",\n",
    "    \"latitude\",\n",
    "    \"longitude\"\n",
    "]"
   ]
  },
  {
   "cell_type": "markdown",
   "metadata": {},
   "source": [
    "### Drop the selected columns"
   ]
  },
  {
   "cell_type": "code",
   "execution_count": 44,
   "metadata": {},
   "outputs": [],
   "source": [
    "train_df = train_df.drop(columns=drop_columns)\n",
    "test_df = test_df.drop(columns=drop_columns)"
   ]
  },
  {
   "cell_type": "code",
   "execution_count": 45,
   "metadata": {},
   "outputs": [
    {
     "data": {
      "text/html": [
       "<div>\n",
       "<style scoped>\n",
       "    .dataframe tbody tr th:only-of-type {\n",
       "        vertical-align: middle;\n",
       "    }\n",
       "\n",
       "    .dataframe tbody tr th {\n",
       "        vertical-align: top;\n",
       "    }\n",
       "\n",
       "    .dataframe thead th {\n",
       "        text-align: right;\n",
       "    }\n",
       "</style>\n",
       "<table border=\"1\" class=\"dataframe\">\n",
       "  <thead>\n",
       "    <tr style=\"text-align: right;\">\n",
       "      <th></th>\n",
       "      <th>town</th>\n",
       "      <th>flat_type</th>\n",
       "      <th>floor_area_sqm</th>\n",
       "      <th>flat_model</th>\n",
       "      <th>lease_commence_date</th>\n",
       "      <th>subzone</th>\n",
       "      <th>planning_area</th>\n",
       "      <th>region</th>\n",
       "      <th>resale_price</th>\n",
       "      <th>month_no</th>\n",
       "      <th>year</th>\n",
       "      <th>storey</th>\n",
       "      <th>nearest_shopping_mall_distance</th>\n",
       "      <th>shopping_mall_half_km</th>\n",
       "    </tr>\n",
       "  </thead>\n",
       "  <tbody>\n",
       "    <tr>\n",
       "      <th>0</th>\n",
       "      <td>pasir ris</td>\n",
       "      <td>4-room</td>\n",
       "      <td>118.0</td>\n",
       "      <td>model a</td>\n",
       "      <td>1989</td>\n",
       "      <td>pasir ris drive</td>\n",
       "      <td>pasir ris</td>\n",
       "      <td>east region</td>\n",
       "      <td>209700.0</td>\n",
       "      <td>8</td>\n",
       "      <td>2001</td>\n",
       "      <td>2</td>\n",
       "      <td>1.033117</td>\n",
       "      <td>0</td>\n",
       "    </tr>\n",
       "    <tr>\n",
       "      <th>1</th>\n",
       "      <td>punggol</td>\n",
       "      <td>5-room</td>\n",
       "      <td>110.0</td>\n",
       "      <td>improved</td>\n",
       "      <td>2003</td>\n",
       "      <td>punggol field</td>\n",
       "      <td>punggol</td>\n",
       "      <td>north-east region</td>\n",
       "      <td>402300.0</td>\n",
       "      <td>10</td>\n",
       "      <td>2014</td>\n",
       "      <td>11</td>\n",
       "      <td>0.806018</td>\n",
       "      <td>4</td>\n",
       "    </tr>\n",
       "    <tr>\n",
       "      <th>2</th>\n",
       "      <td>sengkang</td>\n",
       "      <td>5-room</td>\n",
       "      <td>112.0</td>\n",
       "      <td>premium apartment</td>\n",
       "      <td>2004</td>\n",
       "      <td>fernvale</td>\n",
       "      <td>sengkang</td>\n",
       "      <td>north-east region</td>\n",
       "      <td>351000.0</td>\n",
       "      <td>9</td>\n",
       "      <td>2020</td>\n",
       "      <td>2</td>\n",
       "      <td>0.452401</td>\n",
       "      <td>2</td>\n",
       "    </tr>\n",
       "    <tr>\n",
       "      <th>3</th>\n",
       "      <td>clementi</td>\n",
       "      <td>3-room</td>\n",
       "      <td>67.0</td>\n",
       "      <td>new generation</td>\n",
       "      <td>1980</td>\n",
       "      <td>clementi north</td>\n",
       "      <td>clementi</td>\n",
       "      <td>west region</td>\n",
       "      <td>151200.0</td>\n",
       "      <td>10</td>\n",
       "      <td>2000</td>\n",
       "      <td>8</td>\n",
       "      <td>0.456448</td>\n",
       "      <td>3</td>\n",
       "    </tr>\n",
       "    <tr>\n",
       "      <th>4</th>\n",
       "      <td>bukit batok</td>\n",
       "      <td>3-room</td>\n",
       "      <td>73.0</td>\n",
       "      <td>model a</td>\n",
       "      <td>1985</td>\n",
       "      <td>bukit batok west</td>\n",
       "      <td>bukit batok</td>\n",
       "      <td>west region</td>\n",
       "      <td>318600.0</td>\n",
       "      <td>1</td>\n",
       "      <td>2013</td>\n",
       "      <td>8</td>\n",
       "      <td>0.763916</td>\n",
       "      <td>1</td>\n",
       "    </tr>\n",
       "  </tbody>\n",
       "</table>\n",
       "</div>"
      ],
      "text/plain": [
       "          town flat_type  floor_area_sqm         flat_model  \\\n",
       "0    pasir ris    4-room           118.0            model a   \n",
       "1      punggol    5-room           110.0           improved   \n",
       "2     sengkang    5-room           112.0  premium apartment   \n",
       "3     clementi    3-room            67.0     new generation   \n",
       "4  bukit batok    3-room            73.0            model a   \n",
       "\n",
       "   lease_commence_date           subzone planning_area             region  \\\n",
       "0                 1989   pasir ris drive     pasir ris        east region   \n",
       "1                 2003     punggol field       punggol  north-east region   \n",
       "2                 2004          fernvale      sengkang  north-east region   \n",
       "3                 1980    clementi north      clementi        west region   \n",
       "4                 1985  bukit batok west   bukit batok        west region   \n",
       "\n",
       "   resale_price  month_no  year  storey  nearest_shopping_mall_distance  \\\n",
       "0      209700.0         8  2001       2                        1.033117   \n",
       "1      402300.0        10  2014      11                        0.806018   \n",
       "2      351000.0         9  2020       2                        0.452401   \n",
       "3      151200.0        10  2000       8                        0.456448   \n",
       "4      318600.0         1  2013       8                        0.763916   \n",
       "\n",
       "   shopping_mall_half_km  \n",
       "0                      0  \n",
       "1                      4  \n",
       "2                      2  \n",
       "3                      3  \n",
       "4                      1  "
      ]
     },
     "execution_count": 45,
     "metadata": {},
     "output_type": "execute_result"
    }
   ],
   "source": [
    "train_df.head()"
   ]
  },
  {
   "cell_type": "code",
   "execution_count": 46,
   "metadata": {},
   "outputs": [
    {
     "data": {
      "text/html": [
       "<div>\n",
       "<style scoped>\n",
       "    .dataframe tbody tr th:only-of-type {\n",
       "        vertical-align: middle;\n",
       "    }\n",
       "\n",
       "    .dataframe tbody tr th {\n",
       "        vertical-align: top;\n",
       "    }\n",
       "\n",
       "    .dataframe thead th {\n",
       "        text-align: right;\n",
       "    }\n",
       "</style>\n",
       "<table border=\"1\" class=\"dataframe\">\n",
       "  <thead>\n",
       "    <tr style=\"text-align: right;\">\n",
       "      <th></th>\n",
       "      <th>town</th>\n",
       "      <th>flat_type</th>\n",
       "      <th>floor_area_sqm</th>\n",
       "      <th>flat_model</th>\n",
       "      <th>lease_commence_date</th>\n",
       "      <th>subzone</th>\n",
       "      <th>planning_area</th>\n",
       "      <th>region</th>\n",
       "      <th>month_no</th>\n",
       "      <th>year</th>\n",
       "      <th>storey</th>\n",
       "      <th>nearest_shopping_mall_distance</th>\n",
       "      <th>shopping_mall_half_km</th>\n",
       "    </tr>\n",
       "  </thead>\n",
       "  <tbody>\n",
       "    <tr>\n",
       "      <th>0</th>\n",
       "      <td>bukit batok</td>\n",
       "      <td>4-room</td>\n",
       "      <td>94.0</td>\n",
       "      <td>new generation</td>\n",
       "      <td>1989</td>\n",
       "      <td>bukit batok west</td>\n",
       "      <td>bukit batok</td>\n",
       "      <td>west region</td>\n",
       "      <td>1</td>\n",
       "      <td>2004</td>\n",
       "      <td>5</td>\n",
       "      <td>0.693774</td>\n",
       "      <td>0</td>\n",
       "    </tr>\n",
       "    <tr>\n",
       "      <th>1</th>\n",
       "      <td>tampines</td>\n",
       "      <td>5-room</td>\n",
       "      <td>122.0</td>\n",
       "      <td>improved</td>\n",
       "      <td>1997</td>\n",
       "      <td>tampines east</td>\n",
       "      <td>tampines</td>\n",
       "      <td>east region</td>\n",
       "      <td>11</td>\n",
       "      <td>2001</td>\n",
       "      <td>5</td>\n",
       "      <td>1.934091</td>\n",
       "      <td>0</td>\n",
       "    </tr>\n",
       "    <tr>\n",
       "      <th>2</th>\n",
       "      <td>jurong east</td>\n",
       "      <td>3-room</td>\n",
       "      <td>67.0</td>\n",
       "      <td>new generation</td>\n",
       "      <td>1982</td>\n",
       "      <td>toh guan</td>\n",
       "      <td>jurong east</td>\n",
       "      <td>west region</td>\n",
       "      <td>7</td>\n",
       "      <td>2002</td>\n",
       "      <td>2</td>\n",
       "      <td>0.524648</td>\n",
       "      <td>0</td>\n",
       "    </tr>\n",
       "    <tr>\n",
       "      <th>3</th>\n",
       "      <td>ang mo kio</td>\n",
       "      <td>3-room</td>\n",
       "      <td>82.0</td>\n",
       "      <td>new generation</td>\n",
       "      <td>1981</td>\n",
       "      <td>yio chu kang east</td>\n",
       "      <td>ang mo kio</td>\n",
       "      <td>north-east region</td>\n",
       "      <td>4</td>\n",
       "      <td>2015</td>\n",
       "      <td>5</td>\n",
       "      <td>0.829051</td>\n",
       "      <td>0</td>\n",
       "    </tr>\n",
       "    <tr>\n",
       "      <th>4</th>\n",
       "      <td>clementi</td>\n",
       "      <td>5-room</td>\n",
       "      <td>117.0</td>\n",
       "      <td>standard</td>\n",
       "      <td>1978</td>\n",
       "      <td>clementi north</td>\n",
       "      <td>clementi</td>\n",
       "      <td>west region</td>\n",
       "      <td>4</td>\n",
       "      <td>2004</td>\n",
       "      <td>2</td>\n",
       "      <td>0.604384</td>\n",
       "      <td>0</td>\n",
       "    </tr>\n",
       "  </tbody>\n",
       "</table>\n",
       "</div>"
      ],
      "text/plain": [
       "          town flat_type  floor_area_sqm      flat_model  lease_commence_date  \\\n",
       "0  bukit batok    4-room            94.0  new generation                 1989   \n",
       "1     tampines    5-room           122.0        improved                 1997   \n",
       "2  jurong east    3-room            67.0  new generation                 1982   \n",
       "3   ang mo kio    3-room            82.0  new generation                 1981   \n",
       "4     clementi    5-room           117.0        standard                 1978   \n",
       "\n",
       "             subzone planning_area             region  month_no  year  storey  \\\n",
       "0   bukit batok west   bukit batok        west region         1  2004       5   \n",
       "1      tampines east      tampines        east region        11  2001       5   \n",
       "2           toh guan   jurong east        west region         7  2002       2   \n",
       "3  yio chu kang east    ang mo kio  north-east region         4  2015       5   \n",
       "4     clementi north      clementi        west region         4  2004       2   \n",
       "\n",
       "   nearest_shopping_mall_distance  shopping_mall_half_km  \n",
       "0                        0.693774                      0  \n",
       "1                        1.934091                      0  \n",
       "2                        0.524648                      0  \n",
       "3                        0.829051                      0  \n",
       "4                        0.604384                      0  "
      ]
     },
     "execution_count": 46,
     "metadata": {},
     "output_type": "execute_result"
    }
   ],
   "source": [
    "test_df.head()"
   ]
  },
  {
   "cell_type": "markdown",
   "metadata": {},
   "source": [
    "### One hot encode categorical columns"
   ]
  },
  {
   "cell_type": "code",
   "execution_count": 47,
   "metadata": {},
   "outputs": [],
   "source": [
    "for col in categorical_columns:\n",
    "    train_df = pd.concat([train_df, pd.get_dummies(train_df[col], prefix=col)],axis=1)\n",
    "train_df = train_df.drop(columns=categorical_columns)\n",
    "\n",
    "for col in categorical_columns:\n",
    "    test_df = pd.concat([test_df, pd.get_dummies(test_df[col], prefix=col)],axis=1)\n",
    "test_df = test_df.drop(columns=categorical_columns)"
   ]
  },
  {
   "cell_type": "markdown",
   "metadata": {},
   "source": [
    "### Check if the columns in both test data and train data are same after one-hot encoding"
   ]
  },
  {
   "cell_type": "code",
   "execution_count": 48,
   "metadata": {},
   "outputs": [
    {
     "name": "stdout",
     "output_type": "stream",
     "text": [
      "Columns are same\n"
     ]
    }
   ],
   "source": [
    "columns_in_test_not_in_train = test_df.columns.difference(train_df.columns).tolist()\n",
    "#print(columns_in_test_not_in_train)\n",
    "columns_in_train_not_in_test = train_df.columns.difference((test_df.columns)).tolist()\n",
    "columns_in_train_not_in_test.remove('resale_price')\n",
    "#print(columns_in_train_not_in_test)\n",
    "if not columns_in_test_not_in_train and not columns_in_train_not_in_test:\n",
    "    print(\"Columns are same\")"
   ]
  },
  {
   "cell_type": "markdown",
   "metadata": {},
   "source": [
    "### Split training data into training and validation sets"
   ]
  },
  {
   "cell_type": "code",
   "execution_count": 49,
   "metadata": {},
   "outputs": [],
   "source": [
    "train_data = train_df.sample(frac=1)\n",
    "train_labels = train_data.pop('resale_price')\n",
    "train_x, val_x, train_y, val_y = train_test_split(train_data,train_labels,train_size=0.8)"
   ]
  },
  {
   "cell_type": "markdown",
   "metadata": {},
   "source": [
    "--------"
   ]
  },
  {
   "cell_type": "markdown",
   "metadata": {},
   "source": [
    "## Decision Tree"
   ]
  },
  {
   "cell_type": "markdown",
   "metadata": {},
   "source": [
    "#### Train model using default hyperparameters"
   ]
  },
  {
   "cell_type": "code",
   "execution_count": 50,
   "metadata": {},
   "outputs": [],
   "source": [
    "dt_1 = tree.DecisionTreeRegressor()"
   ]
  },
  {
   "cell_type": "code",
   "execution_count": 51,
   "metadata": {},
   "outputs": [
    {
     "name": "stdout",
     "output_type": "stream",
     "text": [
      "Wall time: 10.8 s\n"
     ]
    }
   ],
   "source": [
    "%%time\n",
    "dt_1 = dt_1.fit(train_x, train_y)"
   ]
  },
  {
   "cell_type": "code",
   "execution_count": 52,
   "metadata": {},
   "outputs": [
    {
     "name": "stdout",
     "output_type": "stream",
     "text": [
      "Training error(RMSE) : 1496.010428315706\n",
      "Validation error(RMSE) : 25507.45190859495\n",
      "R2 score for training data : 0.9998671847717084\n",
      "R2 score for validation data : 0.9615399056182559\n"
     ]
    }
   ],
   "source": [
    "train_prediction = dt_1.predict(train_x)\n",
    "val_prediction = dt_1.predict(val_x)\n",
    "print(\"Training error(RMSE) :\",mean_squared_error(train_y,train_prediction , squared=False))\n",
    "print(\"Validation error(RMSE) :\",mean_squared_error(val_y,val_prediction , squared=False))\n",
    "print(\"R2 score for training data :\",r2_score(train_y,train_prediction))\n",
    "print(\"R2 score for validation data :\",r2_score(val_y,val_prediction))"
   ]
  },
  {
   "cell_type": "markdown",
   "metadata": {},
   "source": [
    "#### Modify max_depth and min_samples_split and try next model"
   ]
  },
  {
   "cell_type": "code",
   "execution_count": 53,
   "metadata": {},
   "outputs": [],
   "source": [
    "dt_2 = tree.DecisionTreeRegressor(max_depth=30,min_samples_split=30)"
   ]
  },
  {
   "cell_type": "code",
   "execution_count": 54,
   "metadata": {},
   "outputs": [
    {
     "name": "stdout",
     "output_type": "stream",
     "text": [
      "Wall time: 9.29 s\n"
     ]
    }
   ],
   "source": [
    "%%time\n",
    "dt_2 = dt_2.fit(train_x, train_y)"
   ]
  },
  {
   "cell_type": "code",
   "execution_count": 55,
   "metadata": {},
   "outputs": [
    {
     "name": "stdout",
     "output_type": "stream",
     "text": [
      "Training error(RMSE) : 17410.710538977444\n",
      "Validation error(RMSE) : 22708.27431031356\n",
      "R2 score for training data : 0.9820108094621666\n",
      "R2 score for validation data : 0.9695179299943982\n"
     ]
    }
   ],
   "source": [
    "train_prediction = dt_2.predict(train_x)\n",
    "val_prediction = dt_2.predict(val_x)\n",
    "print(\"Training error(RMSE) :\",mean_squared_error(train_y,train_prediction , squared=False))\n",
    "print(\"Validation error(RMSE) :\",mean_squared_error(val_y,val_prediction , squared=False))\n",
    "print(\"R2 score for training data :\",r2_score(train_y,train_prediction))\n",
    "print(\"R2 score for validation data :\",r2_score(val_y,val_prediction))"
   ]
  },
  {
   "cell_type": "markdown",
   "metadata": {},
   "source": [
    "#### Modify max_depth and min_samples_split and try next model"
   ]
  },
  {
   "cell_type": "code",
   "execution_count": 56,
   "metadata": {},
   "outputs": [],
   "source": [
    "dt_3 = tree.DecisionTreeRegressor(max_depth=250,min_samples_split=15)\n",
    "dt_3 = dt_3.fit(train_x, train_y)"
   ]
  },
  {
   "cell_type": "code",
   "execution_count": 57,
   "metadata": {
    "scrolled": true
   },
   "outputs": [
    {
     "name": "stdout",
     "output_type": "stream",
     "text": [
      "Training error(RMSE) : 13988.223582941828\n",
      "Validation error(RMSE) : 22831.121717828188\n",
      "R2 score for training data : 0.9883880873044107\n",
      "R2 score for validation data : 0.9691872336036976\n"
     ]
    }
   ],
   "source": [
    "train_prediction = dt_3.predict(train_x)\n",
    "val_prediction = dt_3.predict(val_x)\n",
    "print(\"Training error(RMSE) :\",mean_squared_error(train_y,train_prediction , squared=False))\n",
    "print(\"Validation error(RMSE) :\",mean_squared_error(val_y,val_prediction , squared=False))\n",
    "print(\"R2 score for training data :\",r2_score(train_y,train_prediction))\n",
    "print(\"R2 score for validation data :\",r2_score(val_y,val_prediction))"
   ]
  },
  {
   "cell_type": "markdown",
   "metadata": {},
   "source": [
    "#### Modify max_depth and min_samples_split and try next model"
   ]
  },
  {
   "cell_type": "code",
   "execution_count": 58,
   "metadata": {},
   "outputs": [],
   "source": [
    "dt_4 = tree.DecisionTreeRegressor(max_depth=300,min_samples_split=30)"
   ]
  },
  {
   "cell_type": "code",
   "execution_count": 59,
   "metadata": {},
   "outputs": [
    {
     "name": "stdout",
     "output_type": "stream",
     "text": [
      "Wall time: 10.3 s\n"
     ]
    }
   ],
   "source": [
    "%%time\n",
    "dt_4 = dt_4.fit(train_x, train_y)"
   ]
  },
  {
   "cell_type": "code",
   "execution_count": 60,
   "metadata": {},
   "outputs": [
    {
     "name": "stdout",
     "output_type": "stream",
     "text": [
      "Training error(RMSE) : 17146.710567929746\n",
      "Validation error(RMSE) : 22661.08746377182\n",
      "R2 score for training data : 0.9825522164237503\n",
      "R2 score for validation data : 0.969644479314834\n"
     ]
    }
   ],
   "source": [
    "train_prediction = dt_4.predict(train_x)\n",
    "val_prediction = dt_4.predict(val_x)\n",
    "print(\"Training error(RMSE) :\",mean_squared_error(train_y,train_prediction , squared=False))\n",
    "print(\"Validation error(RMSE) :\",mean_squared_error(val_y,val_prediction , squared=False))\n",
    "print(\"R2 score for training data :\",r2_score(train_y,train_prediction))\n",
    "print(\"R2 score for validation data :\",r2_score(val_y,val_prediction))"
   ]
  },
  {
   "cell_type": "code",
   "execution_count": 61,
   "metadata": {},
   "outputs": [
    {
     "data": {
      "image/png": "[encoded data removed]",
      "text/plain": [
       "<Figure size 432x288 with 1 Axes>"
      ]
     },
     "metadata": {
      "needs_background": "light"
     },
     "output_type": "display_data"
    }
   ],
   "source": [
    "#plt.figure(figsize=(10,8))\n",
    "plt.scatter(x=train_y,y=train_prediction, color = '#FC6B00')\n",
    "#plt.scatter(val_prediction, val_y, color = 'green')\n",
    "plt.title('Decision Tree Regression(Training data)')\n",
    "plt.xlabel('Resale price')\n",
    "plt.ylabel('Predicted resale price')\n",
    "plt.ticklabel_format(useOffset=False,style='plain')\n",
    "plt.tight_layout()\n",
    "plt.savefig(\"./dt_4_sm_training_data.tiff\",dpi=300)\n",
    "plt.show()"
   ]
  },
  {
   "cell_type": "code",
   "execution_count": 62,
   "metadata": {},
   "outputs": [
    {
     "data": {
      "image/png": "[encoded data removed]",
      "text/plain": [
       "<Figure size 432x288 with 1 Axes>"
      ]
     },
     "metadata": {
      "needs_background": "light"
     },
     "output_type": "display_data"
    }
   ],
   "source": [
    "plt.scatter(x=val_y,y=val_prediction, color = '#BBFC00')\n",
    "plt.title('Decision Tree Regression(Validation Data)')\n",
    "plt.xlabel('Resale price')\n",
    "plt.ylabel('Predicted resale price')\n",
    "plt.ticklabel_format(useOffset=False,style='plain')\n",
    "plt.tight_layout()\n",
    "plt.savefig(\"./dt_4_sm_validation_data.tiff\",dpi=300)\n",
    "plt.show()"
   ]
  },
  {
   "cell_type": "code",
   "execution_count": 63,
   "metadata": {},
   "outputs": [],
   "source": [
    "dt_4_feature_importance = pd.DataFrame({'Feature':train_x.columns,'Importance':dt_4.feature_importances_}).sort_values('Importance', ascending=False)"
   ]
  },
  {
   "cell_type": "code",
   "execution_count": 64,
   "metadata": {},
   "outputs": [
    {
     "data": {
      "image/png": "[encoded data removed]",
      "text/plain": [
       "<Figure size 432x288 with 1 Axes>"
      ]
     },
     "metadata": {
      "needs_background": "light"
     },
     "output_type": "display_data"
    }
   ],
   "source": [
    "sns.barplot(y='Feature', x='Importance', data=dt_4_feature_importance.head(10))\n",
    "plt.tight_layout()\n",
    "plt.savefig(\"./dt_4_sm_feature_importance.tiff\",dpi=300)"
   ]
  },
  {
   "cell_type": "markdown",
   "metadata": {},
   "source": [
    "#### Uncomment next block to make prediction on test data and generate csv"
   ]
  },
  {
   "cell_type": "code",
   "execution_count": 93,
   "metadata": {},
   "outputs": [],
   "source": [
    "test_result = dt_3.predict(test_df)\n",
    "save_to_csv(test_result,\"./shopping_mall_dt_3_result.csv\")"
   ]
  },
  {
   "cell_type": "markdown",
   "metadata": {},
   "source": [
    "-----------"
   ]
  },
  {
   "cell_type": "markdown",
   "metadata": {},
   "source": [
    "## Random Forest"
   ]
  },
  {
   "cell_type": "markdown",
   "metadata": {},
   "source": [
    "#### Train model using default hyperparameters"
   ]
  },
  {
   "cell_type": "code",
   "execution_count": 94,
   "metadata": {},
   "outputs": [],
   "source": [
    "rf_1 = RandomForestRegressor()"
   ]
  },
  {
   "cell_type": "code",
   "execution_count": 95,
   "metadata": {},
   "outputs": [
    {
     "name": "stdout",
     "output_type": "stream",
     "text": [
      "Wall time: 11min 17s\n"
     ]
    },
    {
     "data": {
      "text/plain": [
       "RandomForestRegressor()"
      ]
     },
     "execution_count": 95,
     "metadata": {},
     "output_type": "execute_result"
    }
   ],
   "source": [
    "%%time\n",
    "rf_1.fit(train_x,train_y)"
   ]
  },
  {
   "cell_type": "code",
   "execution_count": 96,
   "metadata": {
    "scrolled": true
   },
   "outputs": [
    {
     "name": "stdout",
     "output_type": "stream",
     "text": [
      "Training error(RMSE) : 7017.488714886078\n",
      "Validation error(RMSE) : 18333.321031610783\n",
      "R2 score for training data : 0.9970812909972416\n",
      "R2 score for validation data : 0.9800312693497623\n"
     ]
    }
   ],
   "source": [
    "train_prediction = rf_1.predict(train_x)\n",
    "val_prediction = rf_1.predict(val_x)\n",
    "print(\"Training error(RMSE) :\",mean_squared_error(train_y,train_prediction , squared=False))\n",
    "print(\"Validation error(RMSE) :\",mean_squared_error(val_y,val_prediction , squared=False))\n",
    "print(\"R2 score for training data :\",r2_score(train_y,train_prediction))\n",
    "print(\"R2 score for validation data :\",r2_score(val_y,val_prediction))"
   ]
  },
  {
   "cell_type": "markdown",
   "metadata": {},
   "source": [
    "#### Modify max_depth and n_estimators and try next model"
   ]
  },
  {
   "cell_type": "code",
   "execution_count": 65,
   "metadata": {},
   "outputs": [],
   "source": [
    "rf_2 = RandomForestRegressor(n_estimators=50,max_depth=10,n_jobs=-1,verbose=1)"
   ]
  },
  {
   "cell_type": "code",
   "execution_count": 66,
   "metadata": {},
   "outputs": [
    {
     "name": "stderr",
     "output_type": "stream",
     "text": [
      "[Parallel(n_jobs=-1)]: Using backend ThreadingBackend with 8 concurrent workers.\n",
      "[Parallel(n_jobs=-1)]: Done  34 tasks      | elapsed:  1.7min\n"
     ]
    },
    {
     "name": "stdout",
     "output_type": "stream",
     "text": [
      "Wall time: 2min 16s\n"
     ]
    },
    {
     "name": "stderr",
     "output_type": "stream",
     "text": [
      "[Parallel(n_jobs=-1)]: Done  50 out of  50 | elapsed:  2.3min finished\n"
     ]
    },
    {
     "data": {
      "text/plain": [
       "RandomForestRegressor(max_depth=10, n_estimators=50, n_jobs=-1, verbose=1)"
      ]
     },
     "execution_count": 66,
     "metadata": {},
     "output_type": "execute_result"
    }
   ],
   "source": [
    "\n",
    "%%time\n",
    "rf_2.fit(train_x,train_y)"
   ]
  },
  {
   "cell_type": "code",
   "execution_count": 67,
   "metadata": {},
   "outputs": [
    {
     "name": "stderr",
     "output_type": "stream",
     "text": [
      "[Parallel(n_jobs=8)]: Using backend ThreadingBackend with 8 concurrent workers.\n",
      "[Parallel(n_jobs=8)]: Done  34 tasks      | elapsed:    0.2s\n",
      "[Parallel(n_jobs=8)]: Done  50 out of  50 | elapsed:    0.3s finished\n",
      "[Parallel(n_jobs=8)]: Using backend ThreadingBackend with 8 concurrent workers.\n"
     ]
    },
    {
     "name": "stdout",
     "output_type": "stream",
     "text": [
      "Training error(RMSE) : 34469.82769010207\n",
      "Validation error(RMSE) : 34807.81756315744\n",
      "R2 score for training data : 0.9294890028877781\n",
      "R2 score for validation data : 0.9283807480248345\n"
     ]
    },
    {
     "name": "stderr",
     "output_type": "stream",
     "text": [
      "[Parallel(n_jobs=8)]: Done  34 tasks      | elapsed:    0.0s\n",
      "[Parallel(n_jobs=8)]: Done  50 out of  50 | elapsed:    0.0s finished\n"
     ]
    }
   ],
   "source": [
    "train_prediction = rf_2.predict(train_x)\n",
    "val_prediction = rf_2.predict(val_x)\n",
    "print(\"Training error(RMSE) :\",mean_squared_error(train_y,train_prediction , squared=False))\n",
    "print(\"Validation error(RMSE) :\",mean_squared_error(val_y,val_prediction , squared=False))\n",
    "print(\"R2 score for training data :\",r2_score(train_y,train_prediction))\n",
    "print(\"R2 score for validation data :\",r2_score(val_y,val_prediction))"
   ]
  },
  {
   "cell_type": "markdown",
   "metadata": {},
   "source": [
    "#### Modify max_depth and n_estimators and try next model"
   ]
  },
  {
   "cell_type": "code",
   "execution_count": 68,
   "metadata": {},
   "outputs": [],
   "source": [
    "rf_3 = RandomForestRegressor(n_estimators=50,max_depth=50,n_jobs=-1,verbose=1)"
   ]
  },
  {
   "cell_type": "code",
   "execution_count": 69,
   "metadata": {},
   "outputs": [
    {
     "name": "stderr",
     "output_type": "stream",
     "text": [
      "[Parallel(n_jobs=-1)]: Using backend ThreadingBackend with 8 concurrent workers.\n",
      "[Parallel(n_jobs=-1)]: Done  34 tasks      | elapsed:  2.2min\n"
     ]
    },
    {
     "name": "stdout",
     "output_type": "stream",
     "text": [
      "Wall time: 2min 55s\n"
     ]
    },
    {
     "name": "stderr",
     "output_type": "stream",
     "text": [
      "[Parallel(n_jobs=-1)]: Done  50 out of  50 | elapsed:  2.9min finished\n"
     ]
    },
    {
     "data": {
      "text/plain": [
       "RandomForestRegressor(max_depth=50, n_estimators=50, n_jobs=-1, verbose=1)"
      ]
     },
     "execution_count": 69,
     "metadata": {},
     "output_type": "execute_result"
    }
   ],
   "source": [
    "%%time\n",
    "rf_3.fit(train_x,train_y)"
   ]
  },
  {
   "cell_type": "code",
   "execution_count": 70,
   "metadata": {},
   "outputs": [
    {
     "name": "stderr",
     "output_type": "stream",
     "text": [
      "[Parallel(n_jobs=8)]: Using backend ThreadingBackend with 8 concurrent workers.\n",
      "[Parallel(n_jobs=8)]: Done  34 tasks      | elapsed:    2.5s\n",
      "[Parallel(n_jobs=8)]: Done  50 out of  50 | elapsed:    3.5s finished\n",
      "[Parallel(n_jobs=8)]: Using backend ThreadingBackend with 8 concurrent workers.\n",
      "[Parallel(n_jobs=8)]: Done  34 tasks      | elapsed:    0.5s\n"
     ]
    },
    {
     "name": "stdout",
     "output_type": "stream",
     "text": [
      "Training error(RMSE) : 7154.300266359387\n",
      "Validation error(RMSE) : 18567.024619710523\n",
      "R2 score for training data : 0.9969625232775627\n",
      "R2 score for validation data : 0.9796220346609402\n"
     ]
    },
    {
     "name": "stderr",
     "output_type": "stream",
     "text": [
      "[Parallel(n_jobs=8)]: Done  50 out of  50 | elapsed:    0.7s finished\n"
     ]
    }
   ],
   "source": [
    "train_prediction = rf_3.predict(train_x)\n",
    "val_prediction = rf_3.predict(val_x)\n",
    "print(\"Training error(RMSE) :\",mean_squared_error(train_y,train_prediction , squared=False))\n",
    "print(\"Validation error(RMSE) :\",mean_squared_error(val_y,val_prediction , squared=False))\n",
    "print(\"R2 score for training data :\",r2_score(train_y,train_prediction))\n",
    "print(\"R2 score for validation data :\",r2_score(val_y,val_prediction))"
   ]
  },
  {
   "cell_type": "markdown",
   "metadata": {},
   "source": [
    "#### Modify max_depth, n_estimators and max_features and try next model"
   ]
  },
  {
   "cell_type": "code",
   "execution_count": 71,
   "metadata": {},
   "outputs": [],
   "source": [
    "rf_4 = RandomForestRegressor(n_estimators=50,max_depth=50,max_features=50,n_jobs=-1,verbose=1)"
   ]
  },
  {
   "cell_type": "code",
   "execution_count": 72,
   "metadata": {},
   "outputs": [
    {
     "name": "stderr",
     "output_type": "stream",
     "text": [
      "[Parallel(n_jobs=-1)]: Using backend ThreadingBackend with 8 concurrent workers.\n",
      "[Parallel(n_jobs=-1)]: Done  34 tasks      | elapsed:   41.6s\n"
     ]
    },
    {
     "name": "stdout",
     "output_type": "stream",
     "text": [
      "Wall time: 53.7 s\n"
     ]
    },
    {
     "name": "stderr",
     "output_type": "stream",
     "text": [
      "[Parallel(n_jobs=-1)]: Done  50 out of  50 | elapsed:   53.4s finished\n"
     ]
    },
    {
     "data": {
      "text/plain": [
       "RandomForestRegressor(max_depth=50, max_features=50, n_estimators=50, n_jobs=-1,\n",
       "                      verbose=1)"
      ]
     },
     "execution_count": 72,
     "metadata": {},
     "output_type": "execute_result"
    }
   ],
   "source": [
    "%%time\n",
    "rf_4.fit(train_x,train_y)"
   ]
  },
  {
   "cell_type": "code",
   "execution_count": 73,
   "metadata": {},
   "outputs": [
    {
     "name": "stderr",
     "output_type": "stream",
     "text": [
      "[Parallel(n_jobs=8)]: Using backend ThreadingBackend with 8 concurrent workers.\n",
      "[Parallel(n_jobs=8)]: Done  34 tasks      | elapsed:    2.1s\n",
      "[Parallel(n_jobs=8)]: Done  50 out of  50 | elapsed:    2.8s finished\n",
      "[Parallel(n_jobs=8)]: Using backend ThreadingBackend with 8 concurrent workers.\n",
      "[Parallel(n_jobs=8)]: Done  34 tasks      | elapsed:    0.4s\n",
      "[Parallel(n_jobs=8)]: Done  50 out of  50 | elapsed:    0.6s finished\n"
     ]
    },
    {
     "name": "stdout",
     "output_type": "stream",
     "text": [
      "Training error(RMSE) : 7309.525143568032\n",
      "Validation error(RMSE) : 18705.823420100165\n",
      "R2 score for training data : 0.9968292868047138\n",
      "R2 score for validation data : 0.979316222688447\n"
     ]
    }
   ],
   "source": [
    "\n",
    "train_prediction = rf_4.predict(train_x)\n",
    "val_prediction = rf_4.predict(val_x)\n",
    "print(\"Training error(RMSE) :\",mean_squared_error(train_y,train_prediction , squared=False))\n",
    "print(\"Validation error(RMSE) :\",mean_squared_error(val_y,val_prediction , squared=False))\n",
    "print(\"R2 score for training data :\",r2_score(train_y,train_prediction))\n",
    "print(\"R2 score for validation data :\",r2_score(val_y,val_prediction))"
   ]
  },
  {
   "cell_type": "code",
   "execution_count": 74,
   "metadata": {},
   "outputs": [],
   "source": [
    "feature_importance_rf_4 = pd.DataFrame({'Feature':train_x.columns,'Importance':rf_4.feature_importances_}).sort_values('Importance', ascending=False)"
   ]
  },
  {
   "cell_type": "code",
   "execution_count": 75,
   "metadata": {},
   "outputs": [
    {
     "data": {
      "text/html": [
       "<div>\n",
       "<style scoped>\n",
       "    .dataframe tbody tr th:only-of-type {\n",
       "        vertical-align: middle;\n",
       "    }\n",
       "\n",
       "    .dataframe tbody tr th {\n",
       "        vertical-align: top;\n",
       "    }\n",
       "\n",
       "    .dataframe thead th {\n",
       "        text-align: right;\n",
       "    }\n",
       "</style>\n",
       "<table border=\"1\" class=\"dataframe\">\n",
       "  <thead>\n",
       "    <tr style=\"text-align: right;\">\n",
       "      <th></th>\n",
       "      <th>Feature</th>\n",
       "      <th>Importance</th>\n",
       "    </tr>\n",
       "  </thead>\n",
       "  <tbody>\n",
       "    <tr>\n",
       "      <th>3</th>\n",
       "      <td>year</td>\n",
       "      <td>0.370196</td>\n",
       "    </tr>\n",
       "    <tr>\n",
       "      <th>0</th>\n",
       "      <td>floor_area_sqm</td>\n",
       "      <td>0.171474</td>\n",
       "    </tr>\n",
       "    <tr>\n",
       "      <th>1</th>\n",
       "      <td>lease_commence_date</td>\n",
       "      <td>0.062551</td>\n",
       "    </tr>\n",
       "    <tr>\n",
       "      <th>35</th>\n",
       "      <td>flat_type_3-room</td>\n",
       "      <td>0.051506</td>\n",
       "    </tr>\n",
       "    <tr>\n",
       "      <th>247</th>\n",
       "      <td>region_central region</td>\n",
       "      <td>0.049359</td>\n",
       "    </tr>\n",
       "    <tr>\n",
       "      <th>38</th>\n",
       "      <td>flat_type_executive</td>\n",
       "      <td>0.029969</td>\n",
       "    </tr>\n",
       "    <tr>\n",
       "      <th>37</th>\n",
       "      <td>flat_type_5-room</td>\n",
       "      <td>0.029452</td>\n",
       "    </tr>\n",
       "    <tr>\n",
       "      <th>4</th>\n",
       "      <td>storey</td>\n",
       "      <td>0.028057</td>\n",
       "    </tr>\n",
       "    <tr>\n",
       "      <th>36</th>\n",
       "      <td>flat_type_4-room</td>\n",
       "      <td>0.027198</td>\n",
       "    </tr>\n",
       "    <tr>\n",
       "      <th>46</th>\n",
       "      <td>flat_model_maisonette</td>\n",
       "      <td>0.013427</td>\n",
       "    </tr>\n",
       "  </tbody>\n",
       "</table>\n",
       "</div>"
      ],
      "text/plain": [
       "                   Feature  Importance\n",
       "3                     year    0.370196\n",
       "0           floor_area_sqm    0.171474\n",
       "1      lease_commence_date    0.062551\n",
       "35        flat_type_3-room    0.051506\n",
       "247  region_central region    0.049359\n",
       "38     flat_type_executive    0.029969\n",
       "37        flat_type_5-room    0.029452\n",
       "4                   storey    0.028057\n",
       "36        flat_type_4-room    0.027198\n",
       "46   flat_model_maisonette    0.013427"
      ]
     },
     "execution_count": 75,
     "metadata": {},
     "output_type": "execute_result"
    }
   ],
   "source": [
    "feature_importance_rf_4.head(10)"
   ]
  },
  {
   "cell_type": "code",
   "execution_count": 76,
   "metadata": {},
   "outputs": [
    {
     "data": {
      "image/png": "[encoded data removed]",
      "text/plain": [
       "<Figure size 432x288 with 1 Axes>"
      ]
     },
     "metadata": {
      "needs_background": "light"
     },
     "output_type": "display_data"
    }
   ],
   "source": [
    "sns.barplot(y='Feature', x='Importance', data=feature_importance_rf_4.head(10))\n",
    "plt.tight_layout()\n",
    "plt.savefig(\"./rf_4_sm_feature_importance.tiff\",dpi=300)"
   ]
  },
  {
   "cell_type": "code",
   "execution_count": 77,
   "metadata": {},
   "outputs": [
    {
     "data": {
      "image/png": "[encoded data removed]",
      "text/plain": [
       "<Figure size 432x288 with 1 Axes>"
      ]
     },
     "metadata": {
      "needs_background": "light"
     },
     "output_type": "display_data"
    }
   ],
   "source": [
    "plt.scatter(x=train_y,y=train_prediction, color = '#FC6B00')\n",
    "plt.title('Random Forest Regression(Training data)')\n",
    "plt.xlabel('Resale price')\n",
    "plt.ylabel('Predicted resale price')\n",
    "plt.ticklabel_format(useOffset=False,style='plain')\n",
    "plt.tight_layout()\n",
    "plt.savefig(\"./rf_4_sm_training_data.tiff\",dpi=300)\n",
    "plt.show()"
   ]
  },
  {
   "cell_type": "code",
   "execution_count": 78,
   "metadata": {},
   "outputs": [
    {
     "data": {
      "image/png": "[encoded data removed]",
      "text/plain": [
       "<Figure size 432x288 with 1 Axes>"
      ]
     },
     "metadata": {
      "needs_background": "light"
     },
     "output_type": "display_data"
    }
   ],
   "source": [
    "plt.scatter(x=val_y,y=val_prediction, color = '#BBFC00')\n",
    "plt.title('Random Foreste Regression(Validation Data)')\n",
    "plt.xlabel('Resale price')\n",
    "plt.ylabel('Predicted resale price')\n",
    "plt.ticklabel_format(useOffset=False,style='plain')\n",
    "plt.tight_layout()\n",
    "plt.savefig(\"./rf_4_sm_validation_data.tiff\",dpi=300)\n",
    "plt.show()"
   ]
  },
  {
   "cell_type": "markdown",
   "metadata": {},
   "source": [
    "#### Uncomment next block to make prediction on test data and generate csv"
   ]
  },
  {
   "cell_type": "code",
   "execution_count": 97,
   "metadata": {},
   "outputs": [],
   "source": [
    "test_result = rf_1.predict(test_df)\n",
    "save_to_csv(test_result,\"./shopping_mall_rf_1_result.csv\")"
   ]
  },
  {
   "cell_type": "markdown",
   "metadata": {},
   "source": [
    "--------"
   ]
  },
  {
   "cell_type": "markdown",
   "metadata": {},
   "source": [
    "## XGBOOST"
   ]
  },
  {
   "cell_type": "markdown",
   "metadata": {},
   "source": [
    "#### Train model using default hyperparameters"
   ]
  },
  {
   "cell_type": "code",
   "execution_count": 98,
   "metadata": {},
   "outputs": [],
   "source": [
    "xgb_model_1 = xgboost.XGBRegressor()"
   ]
  },
  {
   "cell_type": "code",
   "execution_count": 99,
   "metadata": {},
   "outputs": [
    {
     "name": "stdout",
     "output_type": "stream",
     "text": [
      "Wall time: 51.4 s\n"
     ]
    },
    {
     "data": {
      "text/plain": [
       "XGBRegressor(base_score=0.5, booster='gbtree', colsample_bylevel=1,\n",
       "             colsample_bynode=1, colsample_bytree=1, gamma=0, gpu_id=-1,\n",
       "             importance_type='gain', interaction_constraints='',\n",
       "             learning_rate=0.300000012, max_delta_step=0, max_depth=6,\n",
       "             min_child_weight=1, missing=nan, monotone_constraints='()',\n",
       "             n_estimators=100, n_jobs=8, num_parallel_tree=1, random_state=0,\n",
       "             reg_alpha=0, reg_lambda=1, scale_pos_weight=1, subsample=1,\n",
       "             tree_method='exact', validate_parameters=1, verbosity=None)"
      ]
     },
     "execution_count": 99,
     "metadata": {},
     "output_type": "execute_result"
    }
   ],
   "source": [
    "%%time\n",
    "xgb_model_1.fit(train_x,train_y)"
   ]
  },
  {
   "cell_type": "code",
   "execution_count": 100,
   "metadata": {},
   "outputs": [
    {
     "name": "stdout",
     "output_type": "stream",
     "text": [
      "Training error(RMSE) : 20924.15\n",
      "Validation error(RMSE) : 21390.357\n",
      "R2 score for training data : 0.9740508610053606\n",
      "R2 score for validation data : 0.972816568799326\n"
     ]
    }
   ],
   "source": [
    "train_prediction = xgb_model_1.predict(train_x)\n",
    "val_prediction = xgb_model_1.predict(val_x)\n",
    "print(\"Training error(RMSE) :\",mean_squared_error(train_y,train_prediction , squared=False))\n",
    "print(\"Validation error(RMSE) :\",mean_squared_error(val_y,val_prediction , squared=False))\n",
    "print(\"R2 score for training data :\",r2_score(train_y,train_prediction))\n",
    "print(\"R2 score for validation data :\",r2_score(val_y,val_prediction))"
   ]
  },
  {
   "cell_type": "markdown",
   "metadata": {},
   "source": [
    "#### Modify hyperparameters and try next model"
   ]
  },
  {
   "cell_type": "code",
   "execution_count": 79,
   "metadata": {},
   "outputs": [],
   "source": [
    "xgb_model_2 = xgboost.XGBRegressor(colsample_bytree=0.4,\n",
    "                 gamma=0,                 \n",
    "                 learning_rate=0.07,\n",
    "                 max_depth=50,\n",
    "                 min_child_weight=1.5,\n",
    "                 n_estimators=100,                                                                    \n",
    "                 reg_alpha=0.75,\n",
    "                 reg_lambda=0.45,\n",
    "                 subsample=0.6,\n",
    "                 seed=42)"
   ]
  },
  {
   "cell_type": "code",
   "execution_count": 80,
   "metadata": {},
   "outputs": [
    {
     "name": "stdout",
     "output_type": "stream",
     "text": [
      "Wall time: 3min 40s\n"
     ]
    },
    {
     "data": {
      "text/plain": [
       "XGBRegressor(base_score=0.5, booster='gbtree', colsample_bylevel=1,\n",
       "             colsample_bynode=1, colsample_bytree=0.4, gamma=0, gpu_id=-1,\n",
       "             importance_type='gain', interaction_constraints='',\n",
       "             learning_rate=0.07, max_delta_step=0, max_depth=50,\n",
       "             min_child_weight=1.5, missing=nan, monotone_constraints='()',\n",
       "             n_estimators=100, n_jobs=8, num_parallel_tree=1, random_state=42,\n",
       "             reg_alpha=0.75, reg_lambda=0.45, scale_pos_weight=1, seed=42,\n",
       "             subsample=0.6, tree_method='exact', validate_parameters=1,\n",
       "             verbosity=None)"
      ]
     },
     "execution_count": 80,
     "metadata": {},
     "output_type": "execute_result"
    }
   ],
   "source": [
    "%%time\n",
    "xgb_model_2.fit(train_x,train_y)"
   ]
  },
  {
   "cell_type": "code",
   "execution_count": 81,
   "metadata": {
    "scrolled": true
   },
   "outputs": [
    {
     "name": "stdout",
     "output_type": "stream",
     "text": [
      "Training error(RMSE) : 11802.878\n",
      "Validation error(RMSE) : 22242.78\n",
      "R2 score for training data : 0.9917328774666534\n",
      "R2 score for validation data : 0.9707548194093548\n"
     ]
    }
   ],
   "source": [
    "train_prediction = xgb_model_2.predict(train_x)\n",
    "val_prediction = xgb_model_2.predict(val_x)\n",
    "print(\"Training error(RMSE) :\",mean_squared_error(train_y,train_prediction , squared=False))\n",
    "print(\"Validation error(RMSE) :\",mean_squared_error(val_y,val_prediction , squared=False))\n",
    "print(\"R2 score for training data :\",r2_score(train_y,train_prediction))\n",
    "print(\"R2 score for validation data :\",r2_score(val_y,val_prediction))"
   ]
  },
  {
   "cell_type": "code",
   "execution_count": 82,
   "metadata": {},
   "outputs": [
    {
     "data": {
      "image/png": "[encoded data removed]",
      "text/plain": [
       "<Figure size 432x288 with 1 Axes>"
      ]
     },
     "metadata": {
      "needs_background": "light"
     },
     "output_type": "display_data"
    }
   ],
   "source": [
    "plt.scatter(train_y,train_prediction, color = 'green')\n",
    "plt.title('XGBOOST Regression')\n",
    "plt.xlabel('Resale price')\n",
    "plt.ylabel('Predicted resale price')\n",
    "plt.show()"
   ]
  },
  {
   "cell_type": "code",
   "execution_count": 83,
   "metadata": {},
   "outputs": [
    {
     "data": {
      "image/png": "[encoded data removed]",
      "text/plain": [
       "<Figure size 432x288 with 1 Axes>"
      ]
     },
     "metadata": {
      "needs_background": "light"
     },
     "output_type": "display_data"
    }
   ],
   "source": [
    "plt.scatter(val_y,val_prediction, color = 'red')\n",
    "plt.title('XGBOOST Regression')\n",
    "plt.xlabel('Resale price')\n",
    "plt.ylabel('Predicted resale price')\n",
    "plt.show()"
   ]
  },
  {
   "cell_type": "markdown",
   "metadata": {},
   "source": [
    "#### Uncomment next block to make prediction on test data and generate csv"
   ]
  },
  {
   "cell_type": "code",
   "execution_count": 105,
   "metadata": {},
   "outputs": [],
   "source": [
    "#test_result = xgb_model_2.predict(test_df)\n",
    "#save_to_csv(test_result,\"./shopping_mall_xgb_model_2_result.csv\")"
   ]
  },
  {
   "cell_type": "markdown",
   "metadata": {},
   "source": [
    "-------"
   ]
  },
  {
   "cell_type": "markdown",
   "metadata": {},
   "source": [
    "## LightGBM"
   ]
  },
  {
   "cell_type": "markdown",
   "metadata": {},
   "source": [
    "#### Train model using default hyperparameters"
   ]
  },
  {
   "cell_type": "code",
   "execution_count": 112,
   "metadata": {},
   "outputs": [],
   "source": [
    "gbm_1 = lgb.LGBMRegressor()"
   ]
  },
  {
   "cell_type": "code",
   "execution_count": 113,
   "metadata": {},
   "outputs": [
    {
     "name": "stdout",
     "output_type": "stream",
     "text": [
      "Wall time: 1.99 s\n"
     ]
    }
   ],
   "source": [
    "%%time\n",
    "gbm_1 = gbm_1.fit(train_x,train_y)"
   ]
  },
  {
   "cell_type": "code",
   "execution_count": 114,
   "metadata": {},
   "outputs": [
    {
     "name": "stdout",
     "output_type": "stream",
     "text": [
      "Training error(RMSE) : 24033.514191170998\n",
      "Validation error(RMSE) : 24142.73424309927\n",
      "R2 score for training data : 0.9657656640449436\n",
      "R2 score for validation data : 0.9653709099362023\n"
     ]
    }
   ],
   "source": [
    "train_prediction = gbm_1.predict(train_x)\n",
    "val_prediction = gbm_1.predict(val_x)\n",
    "print(\"Training error(RMSE) :\",mean_squared_error(train_y,train_prediction , squared=False))\n",
    "print(\"Validation error(RMSE) :\",mean_squared_error(val_y,val_prediction , squared=False))\n",
    "print(\"R2 score for training data :\",r2_score(train_y,train_prediction))\n",
    "print(\"R2 score for validation data :\",r2_score(val_y,val_prediction))"
   ]
  },
  {
   "cell_type": "markdown",
   "metadata": {},
   "source": [
    "#### Modify learning_rate, max_depth and n_estimators and try next model"
   ]
  },
  {
   "cell_type": "code",
   "execution_count": 84,
   "metadata": {},
   "outputs": [],
   "source": [
    "gbm_2 = lgb.LGBMRegressor(num_leaves=31,\n",
    "                        learning_rate=0.1,\n",
    "                        max_depth=10000,n_estimators=10000)"
   ]
  },
  {
   "cell_type": "code",
   "execution_count": 85,
   "metadata": {},
   "outputs": [
    {
     "name": "stdout",
     "output_type": "stream",
     "text": [
      "Wall time: 40 s\n"
     ]
    }
   ],
   "source": [
    "%%time\n",
    "gbm_2 = gbm_2.fit(train_x,train_y)"
   ]
  },
  {
   "cell_type": "code",
   "execution_count": 86,
   "metadata": {
    "scrolled": true
   },
   "outputs": [
    {
     "name": "stdout",
     "output_type": "stream",
     "text": [
      "Training error(RMSE) : 11881.179585892372\n",
      "Validation error(RMSE) : 16284.942846841881\n",
      "R2 score for training data : 0.9916228218358666\n",
      "R2 score for validation data : 0.9843235157639247\n"
     ]
    }
   ],
   "source": [
    "train_prediction = gbm_2.predict(train_x)\n",
    "val_prediction = gbm_2.predict(val_x)\n",
    "print(\"Training error(RMSE) :\",mean_squared_error(train_y,train_prediction , squared=False))\n",
    "print(\"Validation error(RMSE) :\",mean_squared_error(val_y,val_prediction , squared=False))\n",
    "print(\"R2 score for training data :\",r2_score(train_y,train_prediction))\n",
    "print(\"R2 score for validation data :\",r2_score(val_y,val_prediction))"
   ]
  },
  {
   "cell_type": "code",
   "execution_count": 87,
   "metadata": {},
   "outputs": [],
   "source": [
    "feature_importance_gbm_2 = pd.DataFrame({'Feature':train_x.columns,'Importance':gbm_2.feature_importances_}).sort_values('Importance', ascending=False)"
   ]
  },
  {
   "cell_type": "code",
   "execution_count": 88,
   "metadata": {},
   "outputs": [
    {
     "data": {
      "text/html": [
       "<div>\n",
       "<style scoped>\n",
       "    .dataframe tbody tr th:only-of-type {\n",
       "        vertical-align: middle;\n",
       "    }\n",
       "\n",
       "    .dataframe tbody tr th {\n",
       "        vertical-align: top;\n",
       "    }\n",
       "\n",
       "    .dataframe thead th {\n",
       "        text-align: right;\n",
       "    }\n",
       "</style>\n",
       "<table border=\"1\" class=\"dataframe\">\n",
       "  <thead>\n",
       "    <tr style=\"text-align: right;\">\n",
       "      <th></th>\n",
       "      <th>Feature</th>\n",
       "      <th>Importance</th>\n",
       "    </tr>\n",
       "  </thead>\n",
       "  <tbody>\n",
       "    <tr>\n",
       "      <th>3</th>\n",
       "      <td>year</td>\n",
       "      <td>65344</td>\n",
       "    </tr>\n",
       "    <tr>\n",
       "      <th>5</th>\n",
       "      <td>nearest_shopping_mall_distance</td>\n",
       "      <td>51303</td>\n",
       "    </tr>\n",
       "    <tr>\n",
       "      <th>0</th>\n",
       "      <td>floor_area_sqm</td>\n",
       "      <td>43353</td>\n",
       "    </tr>\n",
       "    <tr>\n",
       "      <th>2</th>\n",
       "      <td>month_no</td>\n",
       "      <td>37342</td>\n",
       "    </tr>\n",
       "    <tr>\n",
       "      <th>4</th>\n",
       "      <td>storey</td>\n",
       "      <td>27346</td>\n",
       "    </tr>\n",
       "    <tr>\n",
       "      <th>1</th>\n",
       "      <td>lease_commence_date</td>\n",
       "      <td>19369</td>\n",
       "    </tr>\n",
       "    <tr>\n",
       "      <th>6</th>\n",
       "      <td>shopping_mall_half_km</td>\n",
       "      <td>6208</td>\n",
       "    </tr>\n",
       "    <tr>\n",
       "      <th>36</th>\n",
       "      <td>flat_type_4-room</td>\n",
       "      <td>2274</td>\n",
       "    </tr>\n",
       "    <tr>\n",
       "      <th>44</th>\n",
       "      <td>flat_model_improved</td>\n",
       "      <td>2084</td>\n",
       "    </tr>\n",
       "    <tr>\n",
       "      <th>47</th>\n",
       "      <td>flat_model_model a</td>\n",
       "      <td>1960</td>\n",
       "    </tr>\n",
       "  </tbody>\n",
       "</table>\n",
       "</div>"
      ],
      "text/plain": [
       "                           Feature  Importance\n",
       "3                             year       65344\n",
       "5   nearest_shopping_mall_distance       51303\n",
       "0                   floor_area_sqm       43353\n",
       "2                         month_no       37342\n",
       "4                           storey       27346\n",
       "1              lease_commence_date       19369\n",
       "6            shopping_mall_half_km        6208\n",
       "36                flat_type_4-room        2274\n",
       "44             flat_model_improved        2084\n",
       "47              flat_model_model a        1960"
      ]
     },
     "execution_count": 88,
     "metadata": {},
     "output_type": "execute_result"
    }
   ],
   "source": [
    "feature_importance_gbm_2.head(10)"
   ]
  },
  {
   "cell_type": "code",
   "execution_count": 89,
   "metadata": {},
   "outputs": [
    {
     "data": {
      "image/png": "[encoded data removed]",
      "text/plain": [
       "<Figure size 432x288 with 1 Axes>"
      ]
     },
     "metadata": {
      "needs_background": "light"
     },
     "output_type": "display_data"
    }
   ],
   "source": [
    "sns.barplot(y='Feature', x='Importance', data=feature_importance_gbm_2.head(10))\n",
    "plt.tight_layout()\n",
    "plt.savefig(\"./gbm_2_sm_feature_importance.tiff\",dpi=300)"
   ]
  },
  {
   "cell_type": "code",
   "execution_count": 90,
   "metadata": {},
   "outputs": [
    {
     "data": {
      "image/png": "[encoded data removed]",
      "text/plain": [
       "<Figure size 432x288 with 1 Axes>"
      ]
     },
     "metadata": {
      "needs_background": "light"
     },
     "output_type": "display_data"
    }
   ],
   "source": [
    "\n",
    "#plt.figure(figsize=(10,8))\n",
    "plt.scatter(x=train_y,y=train_prediction, color = '#FC6B00')\n",
    "#plt.scatter(val_prediction, val_y, color = 'green')\n",
    "plt.title('LightGBM Regression(Training data)')\n",
    "plt.xlabel('Resale price')\n",
    "plt.ylabel('Predicted resale price')\n",
    "plt.ticklabel_format(useOffset=False,style='plain')\n",
    "plt.tight_layout()\n",
    "plt.savefig(\"./gbm_2_sm_training_data.tiff\",dpi=300)\n",
    "plt.show()"
   ]
  },
  {
   "cell_type": "code",
   "execution_count": 91,
   "metadata": {},
   "outputs": [
    {
     "data": {
      "image/png": "[encoded data removed]",
      "text/plain": [
       "<Figure size 432x288 with 1 Axes>"
      ]
     },
     "metadata": {
      "needs_background": "light"
     },
     "output_type": "display_data"
    }
   ],
   "source": [
    "plt.scatter(x=val_y,y=val_prediction, color = '#BBFC00')\n",
    "plt.title('LightGBM Regression(Validation Data)')\n",
    "plt.xlabel('Resale price')\n",
    "plt.ylabel('Predicted resale price')\n",
    "plt.ticklabel_format(useOffset=False,style='plain')\n",
    "plt.tight_layout()\n",
    "plt.savefig(\"./gbm_2_sm_validation_data.tiff\",dpi=300)\n",
    "plt.show()"
   ]
  },
  {
   "cell_type": "markdown",
   "metadata": {},
   "source": [
    "#### Modify learning_rate, max_depth and n_estimators and try next model"
   ]
  },
  {
   "cell_type": "code",
   "execution_count": 94,
   "metadata": {},
   "outputs": [],
   "source": [
    "gbm_3 = lgb.LGBMRegressor(num_leaves=31,\n",
    "                        learning_rate=0.1,\n",
    "                        max_depth=5000,n_estimators=5000)"
   ]
  },
  {
   "cell_type": "code",
   "execution_count": 95,
   "metadata": {},
   "outputs": [
    {
     "name": "stdout",
     "output_type": "stream",
     "text": [
      "[1000]\ttraining's rmse: 16786.3\ttraining's l2: 2.8178e+08\tvalid_1's rmse: 17693.7\tvalid_1's l2: 3.13068e+08\n",
      "[2000]\ttraining's rmse: 15367\ttraining's l2: 2.36144e+08\tvalid_1's rmse: 16871.4\tvalid_1's l2: 2.84645e+08\n",
      "[3000]\ttraining's rmse: 14552.7\ttraining's l2: 2.11781e+08\tvalid_1's rmse: 16576.9\tvalid_1's l2: 2.74794e+08\n",
      "[4000]\ttraining's rmse: 13963.1\ttraining's l2: 1.94967e+08\tvalid_1's rmse: 16420.2\tvalid_1's l2: 2.69625e+08\n",
      "[5000]\ttraining's rmse: 13481.2\ttraining's l2: 1.81741e+08\tvalid_1's rmse: 16335.1\tvalid_1's l2: 2.66837e+08\n",
      "Wall time: 32 s\n"
     ]
    },
    {
     "data": {
      "text/plain": [
       "LGBMRegressor(max_depth=5000, n_estimators=5000)"
      ]
     },
     "execution_count": 95,
     "metadata": {},
     "output_type": "execute_result"
    }
   ],
   "source": [
    "%%time\n",
    "gbm_3.fit(\n",
    "    train_x, train_y, \n",
    "    eval_set= [(train_x, train_y), (val_x, val_y)], \n",
    "    eval_metric='rmse', verbose=1000)"
   ]
  },
  {
   "cell_type": "code",
   "execution_count": 96,
   "metadata": {},
   "outputs": [
    {
     "name": "stdout",
     "output_type": "stream",
     "text": [
      "Training error(RMSE) : 13481.130454523229\n",
      "Validation error(RMSE) : 16335.144487298494\n",
      "R2 score for training data : 0.9892147242346006\n",
      "R2 score for validation data : 0.9842267149027277\n"
     ]
    }
   ],
   "source": [
    "train_prediction = gbm_3.predict(train_x)\n",
    "val_prediction = gbm_3.predict(val_x)\n",
    "print(\"Training error(RMSE) :\",mean_squared_error(train_y,train_prediction , squared=False))\n",
    "print(\"Validation error(RMSE) :\",mean_squared_error(val_y,val_prediction , squared=False))\n",
    "print(\"R2 score for training data :\",r2_score(train_y,train_prediction))\n",
    "print(\"R2 score for validation data :\",r2_score(val_y,val_prediction))"
   ]
  },
  {
   "cell_type": "markdown",
   "metadata": {},
   "source": [
    "#### Uncomment next block to make prediction on test data and generate csv"
   ]
  },
  {
   "cell_type": "code",
   "execution_count": 118,
   "metadata": {},
   "outputs": [],
   "source": [
    "#test_result = gbm_2.predict(test_df)\n",
    "#save_to_csv(test_result,\"./shopping_mall_gbm_2_result.csv\")"
   ]
  },
  {
   "cell_type": "markdown",
   "metadata": {},
   "source": [
    "--------------"
   ]
  },
  {
   "cell_type": "markdown",
   "metadata": {},
   "source": [
    "## Prediction using Random Forest, XGBOOST and LightGBM together"
   ]
  },
  {
   "cell_type": "code",
   "execution_count": 119,
   "metadata": {},
   "outputs": [
    {
     "name": "stdout",
     "output_type": "stream",
     "text": [
      "Training error(RMSE) : 9005.78728432648\n",
      "Validation error(RMSE) : 16571.46212826635\n",
      "R2 score for training data : 0.9951930376406986\n",
      "R2 score for validation data : 0.9836848966364977\n"
     ]
    }
   ],
   "source": [
    "train_prediction = 0.4*gbm_2.predict(train_x) + 0.4*rf_1.predict(train_x) +0.2*xgb_model_2.predict(train_x)\n",
    "val_prediction = 0.4*gbm_2.predict(val_x)+ 0.4*rf_1.predict(val_x) +0.2*xgb_model_2.predict(val_x)\n",
    "print(\"Training error(RMSE) :\",mean_squared_error(train_y,train_prediction , squared=False))\n",
    "print(\"Validation error(RMSE) :\",mean_squared_error(val_y,val_prediction , squared=False))\n",
    "print(\"R2 score for training data :\",r2_score(train_y,train_prediction))\n",
    "print(\"R2 score for validation data :\",r2_score(val_y,val_prediction))"
   ]
  },
  {
   "cell_type": "markdown",
   "metadata": {},
   "source": [
    "#### Uncomment next block to make prediction on test data and generate csv"
   ]
  },
  {
   "cell_type": "code",
   "execution_count": 120,
   "metadata": {},
   "outputs": [],
   "source": [
    "test_result = 0.4*gbm_2.predict(test_df) + 0.4*rf_1.predict(test_df) +0.2*xgb_model_2.predict(test_df)\n",
    "save_to_csv(test_result,\"./shopping_mall_gbm_2_xgb_model_2_rf_1_result.csv\")"
   ]
  }
 ],
 "metadata": {
  "colab": {
   "name": "mrt_analysis.ipynb",
   "provenance": [],
   "toc_visible": true
  },
  "kernelspec": {
   "display_name": "Python 3",
   "language": "python",
   "name": "python3"
  },
  "language_info": {
   "codemirror_mode": {
    "name": "ipython",
    "version": 3
   },
   "file_extension": ".py",
   "mimetype": "text/x-python",
   "name": "python",
   "nbconvert_exporter": "python",
   "pygments_lexer": "ipython3",
   "version": "3.8.5"
  }
 },
 "nbformat": 4,
 "nbformat_minor": 1
}
