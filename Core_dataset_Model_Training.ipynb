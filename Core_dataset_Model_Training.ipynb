{
 "cells": [
  {
   "cell_type": "code",
   "execution_count": 1,
   "metadata": {},
   "outputs": [],
   "source": [
    "%load_ext autoreload\n",
    "%autoreload 2"
   ]
  },
  {
   "cell_type": "markdown",
   "metadata": {},
   "source": [
    "### Import required libraries"
   ]
  },
  {
   "cell_type": "code",
   "execution_count": 2,
   "metadata": {},
   "outputs": [],
   "source": [
    "import numpy as np\n",
    "import pandas as pd\n",
    "\n",
    "import csv as csv\n",
    "import sklearn\n",
    "import math\n",
    "import matplotlib.pyplot as plt\n",
    "from matplotlib import pyplot\n",
    "\n",
    "import matplotlib.pyplot as plt\n",
    "import seaborn as sns\n",
    "\n",
    "from sklearn.metrics import mean_squared_error\n",
    "from sklearn.preprocessing import StandardScaler, LabelEncoder\n",
    "from sklearn.pipeline import make_pipeline\n",
    "from sklearn.metrics import r2_score\n",
    "from sklearn.model_selection import cross_val_score,KFold,train_test_split,GridSearchCV\n",
    "\n",
    "from sklearn.linear_model import LinearRegression\n",
    "from sklearn.linear_model import SGDRegressor\n",
    "from sklearn import tree\n",
    "from sklearn.ensemble import RandomForestRegressor\n",
    "import xgboost\n",
    "import lightgbm as lgb\n",
    "\n",
    "from utils import save_to_csv, reduce_memory_usage,custom_kfold_scorer "
   ]
  },
  {
   "cell_type": "markdown",
   "metadata": {},
   "source": [
    "### Open the CSV files containing train and test data"
   ]
  },
  {
   "cell_type": "code",
   "execution_count": 3,
   "metadata": {},
   "outputs": [],
   "source": [
    "train_df = pd.read_csv(\"./train_2.csv\")\n",
    "test_df = pd.read_csv(\"./test_2.csv\")"
   ]
  },
  {
   "cell_type": "markdown",
   "metadata": {},
   "source": [
    "### Reduce the size of dataframe to save memory during training"
   ]
  },
  {
   "cell_type": "code",
   "execution_count": 4,
   "metadata": {
    "scrolled": false
   },
   "outputs": [
    {
     "name": "stdout",
     "output_type": "stream",
     "text": [
      "Memory usage of properties dataframe is : 55.995635986328125  MB\n",
      "__MEMORY USAGE AFTER COMPLETION:__\n",
      "Memory usage is:  38.702903747558594  MB\n",
      "This is  69.117714382257 % of the initial size\n",
      "Memory usage of properties dataframe is : 13.1756591796875  MB\n",
      "__MEMORY USAGE AFTER COMPLETION:__\n",
      "Memory usage is:  9.264171600341797  MB\n",
      "This is  70.31277504979849 % of the initial size\n"
     ]
    }
   ],
   "source": [
    "train_df, _ = reduce_memory_usage(train_df)\n",
    "test_df, _ = reduce_memory_usage(test_df)"
   ]
  },
  {
   "cell_type": "markdown",
   "metadata": {},
   "source": [
    "### Training data"
   ]
  },
  {
   "cell_type": "code",
   "execution_count": 5,
   "metadata": {},
   "outputs": [
    {
     "data": {
      "text/html": [
       "<div>\n",
       "<style scoped>\n",
       "    .dataframe tbody tr th:only-of-type {\n",
       "        vertical-align: middle;\n",
       "    }\n",
       "\n",
       "    .dataframe tbody tr th {\n",
       "        vertical-align: top;\n",
       "    }\n",
       "\n",
       "    .dataframe thead th {\n",
       "        text-align: right;\n",
       "    }\n",
       "</style>\n",
       "<table border=\"1\" class=\"dataframe\">\n",
       "  <thead>\n",
       "    <tr style=\"text-align: right;\">\n",
       "      <th></th>\n",
       "      <th>town</th>\n",
       "      <th>flat_type</th>\n",
       "      <th>block</th>\n",
       "      <th>street_name</th>\n",
       "      <th>floor_area_sqm</th>\n",
       "      <th>flat_model</th>\n",
       "      <th>lease_commence_date</th>\n",
       "      <th>latitude</th>\n",
       "      <th>longitude</th>\n",
       "      <th>subzone</th>\n",
       "      <th>planning_area</th>\n",
       "      <th>region</th>\n",
       "      <th>resale_price</th>\n",
       "      <th>month_no</th>\n",
       "      <th>year</th>\n",
       "      <th>storey</th>\n",
       "      <th>lat_long</th>\n",
       "    </tr>\n",
       "  </thead>\n",
       "  <tbody>\n",
       "    <tr>\n",
       "      <th>0</th>\n",
       "      <td>pasir ris</td>\n",
       "      <td>4-room</td>\n",
       "      <td>440</td>\n",
       "      <td>pasir ris drive 4</td>\n",
       "      <td>118.0</td>\n",
       "      <td>model a</td>\n",
       "      <td>1989</td>\n",
       "      <td>1.369008</td>\n",
       "      <td>103.958694</td>\n",
       "      <td>pasir ris drive</td>\n",
       "      <td>pasir ris</td>\n",
       "      <td>east region</td>\n",
       "      <td>209700.0</td>\n",
       "      <td>8</td>\n",
       "      <td>2001</td>\n",
       "      <td>2</td>\n",
       "      <td>(1.3690080642700195, 103.95869445800781)</td>\n",
       "    </tr>\n",
       "    <tr>\n",
       "      <th>1</th>\n",
       "      <td>punggol</td>\n",
       "      <td>5-room</td>\n",
       "      <td>196B</td>\n",
       "      <td>punggol field</td>\n",
       "      <td>110.0</td>\n",
       "      <td>improved</td>\n",
       "      <td>2003</td>\n",
       "      <td>1.399007</td>\n",
       "      <td>103.906990</td>\n",
       "      <td>punggol field</td>\n",
       "      <td>punggol</td>\n",
       "      <td>north-east region</td>\n",
       "      <td>402300.0</td>\n",
       "      <td>10</td>\n",
       "      <td>2014</td>\n",
       "      <td>11</td>\n",
       "      <td>(1.3990070819854736, 103.90699005126953)</td>\n",
       "    </tr>\n",
       "    <tr>\n",
       "      <th>2</th>\n",
       "      <td>sengkang</td>\n",
       "      <td>5-room</td>\n",
       "      <td>404A</td>\n",
       "      <td>fernvale lane</td>\n",
       "      <td>112.0</td>\n",
       "      <td>premium apartment</td>\n",
       "      <td>2004</td>\n",
       "      <td>1.388348</td>\n",
       "      <td>103.873817</td>\n",
       "      <td>fernvale</td>\n",
       "      <td>sengkang</td>\n",
       "      <td>north-east region</td>\n",
       "      <td>351000.0</td>\n",
       "      <td>9</td>\n",
       "      <td>2020</td>\n",
       "      <td>2</td>\n",
       "      <td>(1.3883482217788696, 103.87381744384766)</td>\n",
       "    </tr>\n",
       "    <tr>\n",
       "      <th>3</th>\n",
       "      <td>clementi</td>\n",
       "      <td>3-room</td>\n",
       "      <td>375</td>\n",
       "      <td>clementi avenue 4</td>\n",
       "      <td>67.0</td>\n",
       "      <td>new generation</td>\n",
       "      <td>1980</td>\n",
       "      <td>1.318493</td>\n",
       "      <td>103.766701</td>\n",
       "      <td>clementi north</td>\n",
       "      <td>clementi</td>\n",
       "      <td>west region</td>\n",
       "      <td>151200.0</td>\n",
       "      <td>10</td>\n",
       "      <td>2000</td>\n",
       "      <td>8</td>\n",
       "      <td>(1.3184930086135864, 103.7667007446289)</td>\n",
       "    </tr>\n",
       "    <tr>\n",
       "      <th>4</th>\n",
       "      <td>bukit batok</td>\n",
       "      <td>3-room</td>\n",
       "      <td>163</td>\n",
       "      <td>bukit batok street 11</td>\n",
       "      <td>73.0</td>\n",
       "      <td>model a</td>\n",
       "      <td>1985</td>\n",
       "      <td>1.348150</td>\n",
       "      <td>103.742661</td>\n",
       "      <td>bukit batok west</td>\n",
       "      <td>bukit batok</td>\n",
       "      <td>west region</td>\n",
       "      <td>318600.0</td>\n",
       "      <td>1</td>\n",
       "      <td>2013</td>\n",
       "      <td>8</td>\n",
       "      <td>(1.3481495380401611, 103.74266052246094)</td>\n",
       "    </tr>\n",
       "  </tbody>\n",
       "</table>\n",
       "</div>"
      ],
      "text/plain": [
       "          town flat_type block            street_name  floor_area_sqm  \\\n",
       "0    pasir ris    4-room   440      pasir ris drive 4           118.0   \n",
       "1      punggol    5-room  196B          punggol field           110.0   \n",
       "2     sengkang    5-room  404A          fernvale lane           112.0   \n",
       "3     clementi    3-room   375      clementi avenue 4            67.0   \n",
       "4  bukit batok    3-room   163  bukit batok street 11            73.0   \n",
       "\n",
       "          flat_model  lease_commence_date  latitude   longitude  \\\n",
       "0            model a                 1989  1.369008  103.958694   \n",
       "1           improved                 2003  1.399007  103.906990   \n",
       "2  premium apartment                 2004  1.388348  103.873817   \n",
       "3     new generation                 1980  1.318493  103.766701   \n",
       "4            model a                 1985  1.348150  103.742661   \n",
       "\n",
       "            subzone planning_area             region  resale_price  month_no  \\\n",
       "0   pasir ris drive     pasir ris        east region      209700.0         8   \n",
       "1     punggol field       punggol  north-east region      402300.0        10   \n",
       "2          fernvale      sengkang  north-east region      351000.0         9   \n",
       "3    clementi north      clementi        west region      151200.0        10   \n",
       "4  bukit batok west   bukit batok        west region      318600.0         1   \n",
       "\n",
       "   year  storey                                  lat_long  \n",
       "0  2001       2  (1.3690080642700195, 103.95869445800781)  \n",
       "1  2014      11  (1.3990070819854736, 103.90699005126953)  \n",
       "2  2020       2  (1.3883482217788696, 103.87381744384766)  \n",
       "3  2000       8   (1.3184930086135864, 103.7667007446289)  \n",
       "4  2013       8  (1.3481495380401611, 103.74266052246094)  "
      ]
     },
     "execution_count": 5,
     "metadata": {},
     "output_type": "execute_result"
    }
   ],
   "source": [
    "train_df.head()"
   ]
  },
  {
   "cell_type": "code",
   "execution_count": 6,
   "metadata": {
    "scrolled": true
   },
   "outputs": [
    {
     "name": "stdout",
     "output_type": "stream",
     "text": [
      "<class 'pandas.core.frame.DataFrame'>\n",
      "RangeIndex: 431732 entries, 0 to 431731\n",
      "Data columns (total 17 columns):\n",
      " #   Column               Non-Null Count   Dtype  \n",
      "---  ------               --------------   -----  \n",
      " 0   town                 431732 non-null  object \n",
      " 1   flat_type            431732 non-null  object \n",
      " 2   block                431732 non-null  object \n",
      " 3   street_name          431732 non-null  object \n",
      " 4   floor_area_sqm       431732 non-null  float32\n",
      " 5   flat_model           431732 non-null  object \n",
      " 6   lease_commence_date  431732 non-null  uint16 \n",
      " 7   latitude             431732 non-null  float32\n",
      " 8   longitude            431732 non-null  float32\n",
      " 9   subzone              431732 non-null  object \n",
      " 10  planning_area        431732 non-null  object \n",
      " 11  region               431732 non-null  object \n",
      " 12  resale_price         431732 non-null  float32\n",
      " 13  month_no             431732 non-null  uint8  \n",
      " 14  year                 431732 non-null  uint16 \n",
      " 15  storey               431732 non-null  uint8  \n",
      " 16  lat_long             431732 non-null  object \n",
      "dtypes: float32(4), object(9), uint16(2), uint8(2)\n",
      "memory usage: 38.7+ MB\n"
     ]
    }
   ],
   "source": [
    "train_df.info()"
   ]
  },
  {
   "cell_type": "markdown",
   "metadata": {},
   "source": [
    "### Segregate the columns"
   ]
  },
  {
   "cell_type": "code",
   "execution_count": 7,
   "metadata": {},
   "outputs": [],
   "source": [
    "integer_columns = [\n",
    "    \"lease_commence_date\",\n",
    "    \"storey\",\n",
    "    \"month_no\",\n",
    "    \"year\",\n",
    "]\n",
    "\n",
    "float_columns = [\n",
    "    \"floor_area_sqm\",\n",
    "]\n",
    "\n",
    "target_column = [\n",
    "    \"resale_price\"\n",
    "]\n",
    "\n",
    "## Categorical columns need to be encoded before training\n",
    "categorical_columns = [\n",
    "    \"town\",\n",
    "    \"flat_type\",\n",
    "    \"flat_model\",\n",
    "    \"subzone\",\n",
    "    \"planning_area\",\n",
    "    \"region\"\n",
    "]\n",
    "\n",
    "## We will drop these columns before training\n",
    "drop_columns = [\n",
    "    \"lat_long\",\n",
    "    \"block\",\n",
    "    \"street_name\",\n",
    "    #\"latitude\",\n",
    "    #\"longitude\"\n",
    "]"
   ]
  },
  {
   "cell_type": "markdown",
   "metadata": {},
   "source": [
    "### Drop the selected columns"
   ]
  },
  {
   "cell_type": "code",
   "execution_count": 8,
   "metadata": {},
   "outputs": [],
   "source": [
    "train_df = train_df.drop(columns=drop_columns)\n",
    "test_df = test_df.drop(columns=drop_columns)"
   ]
  },
  {
   "cell_type": "markdown",
   "metadata": {},
   "source": [
    "## Correlation between features"
   ]
  },
  {
   "cell_type": "code",
   "execution_count": 9,
   "metadata": {},
   "outputs": [
    {
     "data": {
      "image/png": "[encoded data removed]",
      "text/plain": [
       "<Figure size 720x576 with 2 Axes>"
      ]
     },
     "metadata": {
      "needs_background": "light"
     },
     "output_type": "display_data"
    }
   ],
   "source": [
    "corr = train_df.corr()\n",
    "plt.subplots(figsize=(10,8))\n",
    "sns.heatmap(corr, vmax=0.9, cmap=\"Blues\", square=True)\n",
    "plt.tight_layout()\n",
    "#plt.savefig(\"./correlation.tiff\",dpi=300)"
   ]
  },
  {
   "cell_type": "code",
   "execution_count": 10,
   "metadata": {
    "scrolled": true
   },
   "outputs": [
    {
     "data": {
      "text/html": [
       "<style  type=\"text/css\" >\n",
       "#T_3a176cdb_9e6f_11eb_bd1f_342eb79777ferow0_col0{\n",
       "            background-color:  #fde725;\n",
       "            color:  #000000;\n",
       "        }#T_3a176cdb_9e6f_11eb_bd1f_342eb79777ferow1_col0{\n",
       "            background-color:  #23a983;\n",
       "            color:  #000000;\n",
       "        }#T_3a176cdb_9e6f_11eb_bd1f_342eb79777ferow2_col0{\n",
       "            background-color:  #22a785;\n",
       "            color:  #000000;\n",
       "        }#T_3a176cdb_9e6f_11eb_bd1f_342eb79777ferow3_col0{\n",
       "            background-color:  #24868e;\n",
       "            color:  #000000;\n",
       "        }#T_3a176cdb_9e6f_11eb_bd1f_342eb79777ferow4_col0{\n",
       "            background-color:  #33638d;\n",
       "            color:  #f1f1f1;\n",
       "        }#T_3a176cdb_9e6f_11eb_bd1f_342eb79777ferow5_col0{\n",
       "            background-color:  #453581;\n",
       "            color:  #f1f1f1;\n",
       "        }#T_3a176cdb_9e6f_11eb_bd1f_342eb79777ferow6_col0{\n",
       "            background-color:  #481f70;\n",
       "            color:  #f1f1f1;\n",
       "        }#T_3a176cdb_9e6f_11eb_bd1f_342eb79777ferow7_col0{\n",
       "            background-color:  #440154;\n",
       "            color:  #f1f1f1;\n",
       "        }</style><table id=\"T_3a176cdb_9e6f_11eb_bd1f_342eb79777fe\" ><thead>    <tr>        <th class=\"blank level0\" ></th>        <th class=\"col_heading level0 col0\" >resale_price</th>    </tr></thead><tbody>\n",
       "                <tr>\n",
       "                        <th id=\"T_3a176cdb_9e6f_11eb_bd1f_342eb79777felevel0_row0\" class=\"row_heading level0 row0\" >resale_price</th>\n",
       "                        <td id=\"T_3a176cdb_9e6f_11eb_bd1f_342eb79777ferow0_col0\" class=\"data row0 col0\" >1.000000</td>\n",
       "            </tr>\n",
       "            <tr>\n",
       "                        <th id=\"T_3a176cdb_9e6f_11eb_bd1f_342eb79777felevel0_row1\" class=\"row_heading level0 row1\" >year</th>\n",
       "                        <td id=\"T_3a176cdb_9e6f_11eb_bd1f_342eb79777ferow1_col0\" class=\"data row1 col0\" >0.578717</td>\n",
       "            </tr>\n",
       "            <tr>\n",
       "                        <th id=\"T_3a176cdb_9e6f_11eb_bd1f_342eb79777felevel0_row2\" class=\"row_heading level0 row2\" >floor_area_sqm</th>\n",
       "                        <td id=\"T_3a176cdb_9e6f_11eb_bd1f_342eb79777ferow2_col0\" class=\"data row2 col0\" >0.570385</td>\n",
       "            </tr>\n",
       "            <tr>\n",
       "                        <th id=\"T_3a176cdb_9e6f_11eb_bd1f_342eb79777felevel0_row3\" class=\"row_heading level0 row3\" >lease_commence_date</th>\n",
       "                        <td id=\"T_3a176cdb_9e6f_11eb_bd1f_342eb79777ferow3_col0\" class=\"data row3 col0\" >0.423578</td>\n",
       "            </tr>\n",
       "            <tr>\n",
       "                        <th id=\"T_3a176cdb_9e6f_11eb_bd1f_342eb79777felevel0_row4\" class=\"row_heading level0 row4\" >storey</th>\n",
       "                        <td id=\"T_3a176cdb_9e6f_11eb_bd1f_342eb79777ferow4_col0\" class=\"data row4 col0\" >0.269431</td>\n",
       "            </tr>\n",
       "            <tr>\n",
       "                        <th id=\"T_3a176cdb_9e6f_11eb_bd1f_342eb79777felevel0_row5\" class=\"row_heading level0 row5\" >longitude</th>\n",
       "                        <td id=\"T_3a176cdb_9e6f_11eb_bd1f_342eb79777ferow5_col0\" class=\"data row5 col0\" >0.099786</td>\n",
       "            </tr>\n",
       "            <tr>\n",
       "                        <th id=\"T_3a176cdb_9e6f_11eb_bd1f_342eb79777felevel0_row6\" class=\"row_heading level0 row6\" >month_no</th>\n",
       "                        <td id=\"T_3a176cdb_9e6f_11eb_bd1f_342eb79777ferow6_col0\" class=\"data row6 col0\" >0.025448</td>\n",
       "            </tr>\n",
       "            <tr>\n",
       "                        <th id=\"T_3a176cdb_9e6f_11eb_bd1f_342eb79777felevel0_row7\" class=\"row_heading level0 row7\" >latitude</th>\n",
       "                        <td id=\"T_3a176cdb_9e6f_11eb_bd1f_342eb79777ferow7_col0\" class=\"data row7 col0\" >-0.065915</td>\n",
       "            </tr>\n",
       "    </tbody></table>"
      ],
      "text/plain": [
       "<pandas.io.formats.style.Styler at 0x1b8a989b8b0>"
      ]
     },
     "execution_count": 10,
     "metadata": {},
     "output_type": "execute_result"
    }
   ],
   "source": [
    "corr[['resale_price']].sort_values(by='resale_price',ascending=False).style.background_gradient(cmap='viridis', axis=None)"
   ]
  },
  {
   "cell_type": "markdown",
   "metadata": {},
   "source": [
    "### One hot encode categorical columns"
   ]
  },
  {
   "cell_type": "code",
   "execution_count": 11,
   "metadata": {},
   "outputs": [],
   "source": [
    "for col in categorical_columns:\n",
    "    train_df = pd.concat([train_df, pd.get_dummies(train_df[col], prefix=col)],axis=1)\n",
    "train_df = train_df.drop(columns=categorical_columns)\n",
    "\n",
    "for col in categorical_columns:\n",
    "    test_df = pd.concat([test_df, pd.get_dummies(test_df[col], prefix=col)],axis=1)\n",
    "test_df = test_df.drop(columns=categorical_columns)"
   ]
  },
  {
   "cell_type": "markdown",
   "metadata": {},
   "source": [
    "### Check if the columns in both test data and train data are same after one-hot encoding"
   ]
  },
  {
   "cell_type": "code",
   "execution_count": 12,
   "metadata": {},
   "outputs": [
    {
     "name": "stdout",
     "output_type": "stream",
     "text": [
      "Columns are same\n"
     ]
    }
   ],
   "source": [
    "columns_in_test_not_in_train = test_df.columns.difference(train_df.columns).tolist()\n",
    "#print(columns_in_test_not_in_train)\n",
    "columns_in_train_not_in_test = train_df.columns.difference((test_df.columns)).tolist()\n",
    "columns_in_train_not_in_test.remove('resale_price')\n",
    "#print(columns_in_train_not_in_test)\n",
    "if not columns_in_test_not_in_train and not columns_in_train_not_in_test:\n",
    "    print(\"Columns are same\")"
   ]
  },
  {
   "cell_type": "markdown",
   "metadata": {},
   "source": [
    "### Split training data into training and validation sets"
   ]
  },
  {
   "cell_type": "code",
   "execution_count": 13,
   "metadata": {},
   "outputs": [],
   "source": [
    "train_data = train_df.sample(frac=1)\n",
    "train_labels = train_data.pop('resale_price')\n",
    "train_x, val_x, train_y, val_y = train_test_split(train_data,train_labels,train_size=0.8)"
   ]
  },
  {
   "cell_type": "markdown",
   "metadata": {},
   "source": [
    "## Linear Regression"
   ]
  },
  {
   "cell_type": "code",
   "execution_count": 14,
   "metadata": {},
   "outputs": [],
   "source": [
    "reg = LinearRegression(normalize=True,copy_X=True,n_jobs=-1)"
   ]
  },
  {
   "cell_type": "code",
   "execution_count": 15,
   "metadata": {},
   "outputs": [
    {
     "name": "stdout",
     "output_type": "stream",
     "text": [
      "Wall time: 3.64 s\n"
     ]
    },
    {
     "data": {
      "text/plain": [
       "LinearRegression(n_jobs=-1, normalize=True)"
      ]
     },
     "execution_count": 15,
     "metadata": {},
     "output_type": "execute_result"
    }
   ],
   "source": [
    "%%time\n",
    "reg.fit(train_x, train_y)"
   ]
  },
  {
   "cell_type": "code",
   "execution_count": 16,
   "metadata": {},
   "outputs": [
    {
     "name": "stdout",
     "output_type": "stream",
     "text": [
      "Training error(RMSE) : 53017.04\n",
      "Validation error(RMSE) : 52967.934\n",
      "R2 score for training data : 0.8335552698996025\n",
      "R2 score for validation data : 0.832711960220969\n"
     ]
    }
   ],
   "source": [
    "train_prediction = reg.predict(train_x)\n",
    "val_prediction = reg.predict(val_x)\n",
    "print(\"Training error(RMSE) :\",mean_squared_error(train_y,train_prediction , squared=False))\n",
    "print(\"Validation error(RMSE) :\",mean_squared_error(val_y,val_prediction , squared=False))\n",
    "print(\"R2 score for training data :\",r2_score(train_y,train_prediction))\n",
    "print(\"R2 score for validation data :\",r2_score(val_y,val_prediction))"
   ]
  },
  {
   "cell_type": "markdown",
   "metadata": {},
   "source": [
    "-----------------------"
   ]
  },
  {
   "cell_type": "markdown",
   "metadata": {},
   "source": [
    "## Decision Tree"
   ]
  },
  {
   "cell_type": "markdown",
   "metadata": {},
   "source": [
    "#### Train using default hyperparameters"
   ]
  },
  {
   "cell_type": "code",
   "execution_count": 17,
   "metadata": {},
   "outputs": [],
   "source": [
    "dt_1 = tree.DecisionTreeRegressor()"
   ]
  },
  {
   "cell_type": "code",
   "execution_count": 18,
   "metadata": {},
   "outputs": [
    {
     "name": "stdout",
     "output_type": "stream",
     "text": [
      "Wall time: 10.1 s\n"
     ]
    }
   ],
   "source": [
    "%%time\n",
    "dt_1 = dt_1.fit(train_x, train_y)"
   ]
  },
  {
   "cell_type": "code",
   "execution_count": 19,
   "metadata": {},
   "outputs": [
    {
     "name": "stdout",
     "output_type": "stream",
     "text": [
      "Training error(RMSE) : 1485.7150004070859\n",
      "Validation error(RMSE) : 24809.947378602705\n",
      "R2 score for training data : 0.9998692896218988\n",
      "R2 score for validation data : 0.9632979306988151\n"
     ]
    }
   ],
   "source": [
    "train_prediction = dt_1.predict(train_x)\n",
    "val_prediction = dt_1.predict(val_x)\n",
    "print(\"Training error(RMSE) :\",mean_squared_error(train_y,train_prediction , squared=False))\n",
    "print(\"Validation error(RMSE) :\",mean_squared_error(val_y,val_prediction , squared=False))\n",
    "print(\"R2 score for training data :\",r2_score(train_y,train_prediction))\n",
    "print(\"R2 score for validation data :\",r2_score(val_y,val_prediction))"
   ]
  },
  {
   "cell_type": "markdown",
   "metadata": {},
   "source": [
    "#### Modify max_depth and min_samples_split and try next model"
   ]
  },
  {
   "cell_type": "code",
   "execution_count": 20,
   "metadata": {},
   "outputs": [],
   "source": [
    "dt_3 = tree.DecisionTreeRegressor(max_depth=250,min_samples_split=15)\n",
    "dt_3 = dt_3.fit(train_x, train_y)"
   ]
  },
  {
   "cell_type": "code",
   "execution_count": 21,
   "metadata": {
    "scrolled": true
   },
   "outputs": [
    {
     "name": "stdout",
     "output_type": "stream",
     "text": [
      "Training error(RMSE) : 13686.435335503309\n",
      "Validation error(RMSE) : 22234.29588642651\n",
      "R2 score for training data : 0.9889077473197283\n",
      "R2 score for validation data : 0.9705228408494189\n"
     ]
    }
   ],
   "source": [
    "train_prediction = dt_3.predict(train_x)\n",
    "val_prediction = dt_3.predict(val_x)\n",
    "print(\"Training error(RMSE) :\",mean_squared_error(train_y,train_prediction , squared=False))\n",
    "print(\"Validation error(RMSE) :\",mean_squared_error(val_y,val_prediction , squared=False))\n",
    "print(\"R2 score for training data :\",r2_score(train_y,train_prediction))\n",
    "print(\"R2 score for validation data :\",r2_score(val_y,val_prediction))"
   ]
  },
  {
   "cell_type": "markdown",
   "metadata": {},
   "source": [
    "#### Modify max_depth and min_samples_split and max_features and try next model"
   ]
  },
  {
   "cell_type": "code",
   "execution_count": 22,
   "metadata": {},
   "outputs": [
    {
     "name": "stdout",
     "output_type": "stream",
     "text": [
      "Wall time: 2.87 s\n"
     ]
    }
   ],
   "source": [
    "%%time\n",
    "dt_4 = tree.DecisionTreeRegressor(max_depth=250,min_samples_split=10,max_features=50)\n",
    "dt_4 = dt_4.fit(train_x, train_y)"
   ]
  },
  {
   "cell_type": "code",
   "execution_count": 23,
   "metadata": {},
   "outputs": [
    {
     "name": "stdout",
     "output_type": "stream",
     "text": [
      "Training error(RMSE) : 19369.002378885292\n",
      "Validation error(RMSE) : 29645.856898098737\n",
      "R2 score for training data : 0.9777846295577037\n",
      "R2 score for validation data : 0.9475957052753393\n"
     ]
    }
   ],
   "source": [
    "train_prediction = dt_4.predict(train_x)\n",
    "val_prediction = dt_4.predict(val_x)\n",
    "print(\"Training error(RMSE) :\",mean_squared_error(train_y,train_prediction , squared=False))\n",
    "print(\"Validation error(RMSE) :\",mean_squared_error(val_y,val_prediction , squared=False))\n",
    "print(\"R2 score for training data :\",r2_score(train_y,train_prediction))\n",
    "print(\"R2 score for validation data :\",r2_score(val_y,val_prediction))"
   ]
  },
  {
   "cell_type": "markdown",
   "metadata": {},
   "source": [
    "#### Modify max_depth and min_samples_split and max_features and try next model"
   ]
  },
  {
   "cell_type": "code",
   "execution_count": 24,
   "metadata": {},
   "outputs": [],
   "source": [
    "dt_2 = tree.DecisionTreeRegressor(max_depth=300,min_samples_split=30)"
   ]
  },
  {
   "cell_type": "code",
   "execution_count": 25,
   "metadata": {},
   "outputs": [
    {
     "name": "stdout",
     "output_type": "stream",
     "text": [
      "Wall time: 8.49 s\n"
     ]
    }
   ],
   "source": [
    "%%time\n",
    "dt_2 = dt_2.fit(train_x, train_y)"
   ]
  },
  {
   "cell_type": "code",
   "execution_count": 26,
   "metadata": {},
   "outputs": [
    {
     "name": "stdout",
     "output_type": "stream",
     "text": [
      "Training error(RMSE) : 16819.400615707233\n",
      "Validation error(RMSE) : 22059.08045270159\n",
      "R2 score for training data : 0.9832482537996327\n",
      "R2 score for validation data : 0.9709855946657437\n"
     ]
    }
   ],
   "source": [
    "train_prediction = dt_2.predict(train_x)\n",
    "val_prediction = dt_2.predict(val_x)\n",
    "print(\"Training error(RMSE) :\",mean_squared_error(train_y,train_prediction , squared=False))\n",
    "print(\"Validation error(RMSE) :\",mean_squared_error(val_y,val_prediction , squared=False))\n",
    "print(\"R2 score for training data :\",r2_score(train_y,train_prediction))\n",
    "print(\"R2 score for validation data :\",r2_score(val_y,val_prediction))"
   ]
  },
  {
   "cell_type": "code",
   "execution_count": 27,
   "metadata": {},
   "outputs": [
    {
     "data": {
      "image/png": "[encoded data removed]",
      "text/plain": [
       "<Figure size 432x288 with 1 Axes>"
      ]
     },
     "metadata": {
      "needs_background": "light"
     },
     "output_type": "display_data"
    }
   ],
   "source": [
    "#plt.figure(figsize=(10,8))\n",
    "plt.scatter(x=train_y,y=train_prediction, color = '#FC6B00')\n",
    "#plt.scatter(val_prediction, val_y, color = 'green')\n",
    "plt.title('Decision Tree Regression(Training data)')\n",
    "plt.xlabel('Resale price')\n",
    "plt.ylabel('Predicted resale price')\n",
    "plt.ticklabel_format(useOffset=False,style='plain')\n",
    "plt.tight_layout()\n",
    "plt.savefig(\"./dt_2_core_training_data.tiff\",dpi=300)\n",
    "plt.show()"
   ]
  },
  {
   "cell_type": "code",
   "execution_count": 28,
   "metadata": {},
   "outputs": [
    {
     "data": {
      "image/png": "[encoded data removed]",
      "text/plain": [
       "<Figure size 432x288 with 1 Axes>"
      ]
     },
     "metadata": {
      "needs_background": "light"
     },
     "output_type": "display_data"
    }
   ],
   "source": [
    "plt.scatter(x=val_y,y=val_prediction, color = '#BBFC00')\n",
    "plt.title('Decision Tree Regression(Validation Data)')\n",
    "plt.xlabel('Resale price')\n",
    "plt.ylabel('Predicted resale price')\n",
    "plt.ticklabel_format(useOffset=False,style='plain')\n",
    "plt.tight_layout()\n",
    "plt.savefig(\"./dt_2_core_validation_data.tiff\",dpi=300)\n",
    "plt.show()"
   ]
  },
  {
   "cell_type": "code",
   "execution_count": 29,
   "metadata": {},
   "outputs": [],
   "source": [
    "dt_2_feature_importance = pd.DataFrame({'Feature':train_x.columns,'Importance':dt_2.feature_importances_}).sort_values('Importance', ascending=False)"
   ]
  },
  {
   "cell_type": "code",
   "execution_count": 30,
   "metadata": {},
   "outputs": [
    {
     "data": {
      "text/html": [
       "<div>\n",
       "<style scoped>\n",
       "    .dataframe tbody tr th:only-of-type {\n",
       "        vertical-align: middle;\n",
       "    }\n",
       "\n",
       "    .dataframe tbody tr th {\n",
       "        vertical-align: top;\n",
       "    }\n",
       "\n",
       "    .dataframe thead th {\n",
       "        text-align: right;\n",
       "    }\n",
       "</style>\n",
       "<table border=\"1\" class=\"dataframe\">\n",
       "  <thead>\n",
       "    <tr style=\"text-align: right;\">\n",
       "      <th></th>\n",
       "      <th>Feature</th>\n",
       "      <th>Importance</th>\n",
       "    </tr>\n",
       "  </thead>\n",
       "  <tbody>\n",
       "    <tr>\n",
       "      <th>5</th>\n",
       "      <td>year</td>\n",
       "      <td>0.422096</td>\n",
       "    </tr>\n",
       "    <tr>\n",
       "      <th>0</th>\n",
       "      <td>floor_area_sqm</td>\n",
       "      <td>0.293581</td>\n",
       "    </tr>\n",
       "    <tr>\n",
       "      <th>247</th>\n",
       "      <td>region_central region</td>\n",
       "      <td>0.085562</td>\n",
       "    </tr>\n",
       "    <tr>\n",
       "      <th>38</th>\n",
       "      <td>flat_type_executive</td>\n",
       "      <td>0.044211</td>\n",
       "    </tr>\n",
       "    <tr>\n",
       "      <th>1</th>\n",
       "      <td>lease_commence_date</td>\n",
       "      <td>0.038778</td>\n",
       "    </tr>\n",
       "  </tbody>\n",
       "</table>\n",
       "</div>"
      ],
      "text/plain": [
       "                   Feature  Importance\n",
       "5                     year    0.422096\n",
       "0           floor_area_sqm    0.293581\n",
       "247  region_central region    0.085562\n",
       "38     flat_type_executive    0.044211\n",
       "1      lease_commence_date    0.038778"
      ]
     },
     "execution_count": 30,
     "metadata": {},
     "output_type": "execute_result"
    }
   ],
   "source": [
    "dt_2_feature_importance.head()"
   ]
  },
  {
   "cell_type": "code",
   "execution_count": 31,
   "metadata": {},
   "outputs": [
    {
     "data": {
      "image/png": "[encoded data removed]",
      "text/plain": [
       "<Figure size 432x288 with 1 Axes>"
      ]
     },
     "metadata": {
      "needs_background": "light"
     },
     "output_type": "display_data"
    }
   ],
   "source": [
    "sns.barplot(y='Feature', x='Importance', data=dt_2_feature_importance.head(10))\n",
    "plt.tight_layout()\n",
    "plt.savefig(\"./dt_2_core_feature_importance.tiff\",dpi=300)"
   ]
  },
  {
   "cell_type": "code",
   "execution_count": 122,
   "metadata": {},
   "outputs": [
    {
     "name": "stdout",
     "output_type": "stream",
     "text": [
      "5 fold Cross validation scores(RMSE) [23796.00631699 23362.31911505 23517.73451212 23610.09484359\n",
      " 23380.13437972]\n"
     ]
    }
   ],
   "source": [
    "scores = cross_val_score(dt_3, train_x, train_y, cv=5, scoring=custom_kfold_scorer)\n",
    "print(\"5 fold Cross validation scores(RMSE)\",scores)"
   ]
  },
  {
   "cell_type": "code",
   "execution_count": 125,
   "metadata": {},
   "outputs": [
    {
     "name": "stdout",
     "output_type": "stream",
     "text": [
      "5 fold Cross validation scores(r2_score) [0.96634098 0.96781478 0.96699145 0.96705558 0.96743054]\n"
     ]
    }
   ],
   "source": [
    "scores = cross_val_score(dt_3, train_x, train_y, cv=5, scoring='r2')\n",
    "print(\"5 fold Cross validation scores(r2_score)\",scores)"
   ]
  },
  {
   "cell_type": "markdown",
   "metadata": {},
   "source": [
    "----------------------------"
   ]
  },
  {
   "cell_type": "markdown",
   "metadata": {},
   "source": [
    "## Random Forest"
   ]
  },
  {
   "cell_type": "markdown",
   "metadata": {},
   "source": [
    "#### Run model using default parameters"
   ]
  },
  {
   "cell_type": "code",
   "execution_count": 57,
   "metadata": {},
   "outputs": [],
   "source": [
    "rf_1 = RandomForestRegressor()"
   ]
  },
  {
   "cell_type": "code",
   "execution_count": 58,
   "metadata": {},
   "outputs": [
    {
     "name": "stdout",
     "output_type": "stream",
     "text": [
      "Wall time: 11min 16s\n"
     ]
    },
    {
     "data": {
      "text/plain": [
       "RandomForestRegressor()"
      ]
     },
     "execution_count": 58,
     "metadata": {},
     "output_type": "execute_result"
    }
   ],
   "source": [
    "%%time\n",
    "rf_1.fit(train_x,train_y)"
   ]
  },
  {
   "cell_type": "code",
   "execution_count": 59,
   "metadata": {},
   "outputs": [
    {
     "name": "stdout",
     "output_type": "stream",
     "text": [
      "Training error(RMSE) : 6888.594705567408\n",
      "Validation error(RMSE) : 18118.982528806893\n",
      "R2 score for training data : 0.997190038810327\n",
      "R2 score for validation data : 0.9804247878688213\n"
     ]
    }
   ],
   "source": [
    "train_prediction = rf_1.predict(train_x)\n",
    "val_prediction = rf_1.predict(val_x)\n",
    "print(\"Training error(RMSE) :\",mean_squared_error(train_y,train_prediction , squared=False))\n",
    "print(\"Validation error(RMSE) :\",mean_squared_error(val_y,val_prediction , squared=False))\n",
    "print(\"R2 score for training data :\",r2_score(train_y,train_prediction))\n",
    "print(\"R2 score for validation data :\",r2_score(val_y,val_prediction))"
   ]
  },
  {
   "cell_type": "markdown",
   "metadata": {},
   "source": [
    "#### Modify max_depth and n_estimators and try next model"
   ]
  },
  {
   "cell_type": "code",
   "execution_count": 32,
   "metadata": {},
   "outputs": [],
   "source": [
    "rf_2 = RandomForestRegressor(n_estimators=50,max_depth=10,n_jobs=-1,verbose=1)"
   ]
  },
  {
   "cell_type": "code",
   "execution_count": 33,
   "metadata": {},
   "outputs": [
    {
     "name": "stderr",
     "output_type": "stream",
     "text": [
      "[Parallel(n_jobs=-1)]: Using backend ThreadingBackend with 8 concurrent workers.\n",
      "[Parallel(n_jobs=-1)]: Done  34 tasks      | elapsed:  1.5min\n"
     ]
    },
    {
     "name": "stdout",
     "output_type": "stream",
     "text": [
      "Wall time: 1min 55s\n"
     ]
    },
    {
     "name": "stderr",
     "output_type": "stream",
     "text": [
      "[Parallel(n_jobs=-1)]: Done  50 out of  50 | elapsed:  1.9min finished\n"
     ]
    },
    {
     "data": {
      "text/plain": [
       "RandomForestRegressor(max_depth=10, n_estimators=50, n_jobs=-1, verbose=1)"
      ]
     },
     "execution_count": 33,
     "metadata": {},
     "output_type": "execute_result"
    }
   ],
   "source": [
    "%%time\n",
    "rf_2.fit(train_x,train_y)"
   ]
  },
  {
   "cell_type": "code",
   "execution_count": 34,
   "metadata": {},
   "outputs": [
    {
     "name": "stderr",
     "output_type": "stream",
     "text": [
      "[Parallel(n_jobs=8)]: Using backend ThreadingBackend with 8 concurrent workers.\n",
      "[Parallel(n_jobs=8)]: Done  34 tasks      | elapsed:    0.2s\n",
      "[Parallel(n_jobs=8)]: Done  50 out of  50 | elapsed:    0.3s finished\n",
      "[Parallel(n_jobs=8)]: Using backend ThreadingBackend with 8 concurrent workers.\n"
     ]
    },
    {
     "name": "stdout",
     "output_type": "stream",
     "text": [
      "Training error(RMSE) : 32074.397440503923\n",
      "Validation error(RMSE) : 32487.463209015867\n",
      "R2 score for training data : 0.9390805368900279\n",
      "R2 score for validation data : 0.937068154757702\n"
     ]
    },
    {
     "name": "stderr",
     "output_type": "stream",
     "text": [
      "[Parallel(n_jobs=8)]: Done  34 tasks      | elapsed:    0.0s\n",
      "[Parallel(n_jobs=8)]: Done  50 out of  50 | elapsed:    0.0s finished\n"
     ]
    }
   ],
   "source": [
    "train_prediction = rf_2.predict(train_x)\n",
    "val_prediction = rf_2.predict(val_x)\n",
    "print(\"Training error(RMSE) :\",mean_squared_error(train_y,train_prediction , squared=False))\n",
    "print(\"Validation error(RMSE) :\",mean_squared_error(val_y,val_prediction , squared=False))\n",
    "print(\"R2 score for training data :\",r2_score(train_y,train_prediction))\n",
    "print(\"R2 score for validation data :\",r2_score(val_y,val_prediction))"
   ]
  },
  {
   "cell_type": "markdown",
   "metadata": {},
   "source": [
    "#### Modify max_depth and n_estimators and try next model"
   ]
  },
  {
   "cell_type": "code",
   "execution_count": 35,
   "metadata": {},
   "outputs": [],
   "source": [
    "rf_3 = RandomForestRegressor(n_estimators=50,max_depth=50,n_jobs=-1,verbose=1)"
   ]
  },
  {
   "cell_type": "code",
   "execution_count": 36,
   "metadata": {},
   "outputs": [
    {
     "name": "stderr",
     "output_type": "stream",
     "text": [
      "[Parallel(n_jobs=-1)]: Using backend ThreadingBackend with 8 concurrent workers.\n",
      "[Parallel(n_jobs=-1)]: Done  34 tasks      | elapsed:  1.8min\n"
     ]
    },
    {
     "name": "stdout",
     "output_type": "stream",
     "text": [
      "Wall time: 2min 26s\n"
     ]
    },
    {
     "name": "stderr",
     "output_type": "stream",
     "text": [
      "[Parallel(n_jobs=-1)]: Done  50 out of  50 | elapsed:  2.4min finished\n"
     ]
    },
    {
     "data": {
      "text/plain": [
       "RandomForestRegressor(max_depth=50, n_estimators=50, n_jobs=-1, verbose=1)"
      ]
     },
     "execution_count": 36,
     "metadata": {},
     "output_type": "execute_result"
    }
   ],
   "source": [
    "%%time\n",
    "rf_3.fit(train_x,train_y)"
   ]
  },
  {
   "cell_type": "code",
   "execution_count": 37,
   "metadata": {},
   "outputs": [
    {
     "name": "stderr",
     "output_type": "stream",
     "text": [
      "[Parallel(n_jobs=8)]: Using backend ThreadingBackend with 8 concurrent workers.\n",
      "[Parallel(n_jobs=8)]: Done  34 tasks      | elapsed:    2.1s\n",
      "[Parallel(n_jobs=8)]: Done  50 out of  50 | elapsed:    2.8s finished\n",
      "[Parallel(n_jobs=8)]: Using backend ThreadingBackend with 8 concurrent workers.\n",
      "[Parallel(n_jobs=8)]: Done  34 tasks      | elapsed:    0.4s\n",
      "[Parallel(n_jobs=8)]: Done  50 out of  50 | elapsed:    0.6s finished\n"
     ]
    },
    {
     "name": "stdout",
     "output_type": "stream",
     "text": [
      "Training error(RMSE) : 7022.347497577258\n",
      "Validation error(RMSE) : 18210.837339568658\n",
      "R2 score for training data : 0.9970798599039818\n",
      "R2 score for validation data : 0.9802258103477632\n"
     ]
    }
   ],
   "source": [
    "train_prediction = rf_3.predict(train_x)\n",
    "val_prediction = rf_3.predict(val_x)\n",
    "print(\"Training error(RMSE) :\",mean_squared_error(train_y,train_prediction , squared=False))\n",
    "print(\"Validation error(RMSE) :\",mean_squared_error(val_y,val_prediction , squared=False))\n",
    "print(\"R2 score for training data :\",r2_score(train_y,train_prediction))\n",
    "print(\"R2 score for validation data :\",r2_score(val_y,val_prediction))"
   ]
  },
  {
   "cell_type": "markdown",
   "metadata": {},
   "source": [
    "#### Modify max_depth, n_estimators and max_features and try next model"
   ]
  },
  {
   "cell_type": "code",
   "execution_count": 38,
   "metadata": {},
   "outputs": [],
   "source": [
    "rf_4 = RandomForestRegressor(n_estimators=50,max_depth=50,max_features=50,n_jobs=-1,verbose=1)"
   ]
  },
  {
   "cell_type": "code",
   "execution_count": 39,
   "metadata": {},
   "outputs": [
    {
     "name": "stderr",
     "output_type": "stream",
     "text": [
      "[Parallel(n_jobs=-1)]: Using backend ThreadingBackend with 8 concurrent workers.\n",
      "[Parallel(n_jobs=-1)]: Done  34 tasks      | elapsed:   38.2s\n"
     ]
    },
    {
     "name": "stdout",
     "output_type": "stream",
     "text": [
      "Wall time: 50.2 s\n"
     ]
    },
    {
     "name": "stderr",
     "output_type": "stream",
     "text": [
      "[Parallel(n_jobs=-1)]: Done  50 out of  50 | elapsed:   49.9s finished\n"
     ]
    },
    {
     "data": {
      "text/plain": [
       "RandomForestRegressor(max_depth=50, max_features=50, n_estimators=50, n_jobs=-1,\n",
       "                      verbose=1)"
      ]
     },
     "execution_count": 39,
     "metadata": {},
     "output_type": "execute_result"
    }
   ],
   "source": [
    "%%time\n",
    "rf_4.fit(train_x,train_y)"
   ]
  },
  {
   "cell_type": "code",
   "execution_count": 80,
   "metadata": {},
   "outputs": [
    {
     "name": "stderr",
     "output_type": "stream",
     "text": [
      "[Parallel(n_jobs=8)]: Using backend ThreadingBackend with 8 concurrent workers.\n",
      "[Parallel(n_jobs=8)]: Done  34 tasks      | elapsed:    3.2s\n",
      "[Parallel(n_jobs=8)]: Done  50 out of  50 | elapsed:    4.6s finished\n",
      "[Parallel(n_jobs=8)]: Using backend ThreadingBackend with 8 concurrent workers.\n",
      "[Parallel(n_jobs=8)]: Done  34 tasks      | elapsed:    0.7s\n",
      "[Parallel(n_jobs=8)]: Done  50 out of  50 | elapsed:    0.9s finished\n"
     ]
    },
    {
     "name": "stdout",
     "output_type": "stream",
     "text": [
      "Training error(RMSE) : 7339.414910580473\n",
      "Validation error(RMSE) : 18750.477690061365\n",
      "R2 score for training data : 0.9968102111601497\n",
      "R2 score for validation data : 0.9790365123308903\n"
     ]
    }
   ],
   "source": [
    "train_prediction = rf_4.predict(train_x)\n",
    "val_prediction = rf_4.predict(val_x)\n",
    "print(\"Training error(RMSE) :\",mean_squared_error(train_y,train_prediction , squared=False))\n",
    "print(\"Validation error(RMSE) :\",mean_squared_error(val_y,val_prediction , squared=False))\n",
    "print(\"R2 score for training data :\",r2_score(train_y,train_prediction))\n",
    "print(\"R2 score for validation data :\",r2_score(val_y,val_prediction))"
   ]
  },
  {
   "cell_type": "code",
   "execution_count": 81,
   "metadata": {},
   "outputs": [],
   "source": [
    "feature_importance_rf_4 = pd.DataFrame({'Feature':train_x.columns,'Importance':rf_4.feature_importances_}).sort_values('Importance', ascending=False)"
   ]
  },
  {
   "cell_type": "code",
   "execution_count": 82,
   "metadata": {},
   "outputs": [
    {
     "data": {
      "text/html": [
       "<div>\n",
       "<style scoped>\n",
       "    .dataframe tbody tr th:only-of-type {\n",
       "        vertical-align: middle;\n",
       "    }\n",
       "\n",
       "    .dataframe tbody tr th {\n",
       "        vertical-align: top;\n",
       "    }\n",
       "\n",
       "    .dataframe thead th {\n",
       "        text-align: right;\n",
       "    }\n",
       "</style>\n",
       "<table border=\"1\" class=\"dataframe\">\n",
       "  <thead>\n",
       "    <tr style=\"text-align: right;\">\n",
       "      <th></th>\n",
       "      <th>Feature</th>\n",
       "      <th>Importance</th>\n",
       "    </tr>\n",
       "  </thead>\n",
       "  <tbody>\n",
       "    <tr>\n",
       "      <th>5</th>\n",
       "      <td>year</td>\n",
       "      <td>0.369364</td>\n",
       "    </tr>\n",
       "    <tr>\n",
       "      <th>0</th>\n",
       "      <td>floor_area_sqm</td>\n",
       "      <td>0.151727</td>\n",
       "    </tr>\n",
       "    <tr>\n",
       "      <th>1</th>\n",
       "      <td>lease_commence_date</td>\n",
       "      <td>0.065242</td>\n",
       "    </tr>\n",
       "    <tr>\n",
       "      <th>35</th>\n",
       "      <td>flat_type_3-room</td>\n",
       "      <td>0.060440</td>\n",
       "    </tr>\n",
       "    <tr>\n",
       "      <th>2</th>\n",
       "      <td>latitude</td>\n",
       "      <td>0.048148</td>\n",
       "    </tr>\n",
       "    <tr>\n",
       "      <th>37</th>\n",
       "      <td>flat_type_5-room</td>\n",
       "      <td>0.039419</td>\n",
       "    </tr>\n",
       "    <tr>\n",
       "      <th>38</th>\n",
       "      <td>flat_type_executive</td>\n",
       "      <td>0.032901</td>\n",
       "    </tr>\n",
       "    <tr>\n",
       "      <th>247</th>\n",
       "      <td>region_central region</td>\n",
       "      <td>0.031217</td>\n",
       "    </tr>\n",
       "    <tr>\n",
       "      <th>36</th>\n",
       "      <td>flat_type_4-room</td>\n",
       "      <td>0.028993</td>\n",
       "    </tr>\n",
       "    <tr>\n",
       "      <th>6</th>\n",
       "      <td>storey</td>\n",
       "      <td>0.024273</td>\n",
       "    </tr>\n",
       "  </tbody>\n",
       "</table>\n",
       "</div>"
      ],
      "text/plain": [
       "                   Feature  Importance\n",
       "5                     year    0.369364\n",
       "0           floor_area_sqm    0.151727\n",
       "1      lease_commence_date    0.065242\n",
       "35        flat_type_3-room    0.060440\n",
       "2                 latitude    0.048148\n",
       "37        flat_type_5-room    0.039419\n",
       "38     flat_type_executive    0.032901\n",
       "247  region_central region    0.031217\n",
       "36        flat_type_4-room    0.028993\n",
       "6                   storey    0.024273"
      ]
     },
     "execution_count": 82,
     "metadata": {},
     "output_type": "execute_result"
    }
   ],
   "source": [
    "feature_importance_rf_4.head(10)"
   ]
  },
  {
   "cell_type": "code",
   "execution_count": 83,
   "metadata": {},
   "outputs": [
    {
     "data": {
      "image/png": "[encoded data removed]",
      "text/plain": [
       "<Figure size 432x288 with 1 Axes>"
      ]
     },
     "metadata": {
      "needs_background": "light"
     },
     "output_type": "display_data"
    }
   ],
   "source": [
    "sns.barplot(y='Feature', x='Importance', data=feature_importance_rf_4.head(10))\n",
    "plt.tight_layout()\n",
    "plt.savefig(\"./rf_4_core_feature_importance.tiff\",dpi=300)"
   ]
  },
  {
   "cell_type": "code",
   "execution_count": 84,
   "metadata": {},
   "outputs": [
    {
     "data": {
      "image/png": "[encoded data removed]",
      "text/plain": [
       "<Figure size 432x288 with 1 Axes>"
      ]
     },
     "metadata": {
      "needs_background": "light"
     },
     "output_type": "display_data"
    }
   ],
   "source": [
    "plt.scatter(x=train_y,y=train_prediction, color = '#FC6B00')\n",
    "plt.title('Random Forest Regression(Training data)')\n",
    "plt.xlabel('Resale price')\n",
    "plt.ylabel('Predicted resale price')\n",
    "plt.ticklabel_format(useOffset=False,style='plain')\n",
    "plt.tight_layout()\n",
    "#plt.savefig(\"./rf_4_core_training_data.tiff\",dpi=300)\n",
    "plt.show()\n"
   ]
  },
  {
   "cell_type": "code",
   "execution_count": 85,
   "metadata": {},
   "outputs": [
    {
     "data": {
      "image/png": "[encoded data removed]",
      "text/plain": [
       "<Figure size 432x288 with 1 Axes>"
      ]
     },
     "metadata": {
      "needs_background": "light"
     },
     "output_type": "display_data"
    }
   ],
   "source": [
    "plt.scatter(x=val_y,y=val_prediction, color = '#BBFC00')\n",
    "plt.title('Random Forest Regression(Validation Data)')\n",
    "plt.xlabel('Resale price')\n",
    "plt.ylabel('Predicted resale price')\n",
    "plt.ticklabel_format(useOffset=False,style='plain')\n",
    "plt.tight_layout()\n",
    "#plt.savefig(\"./rf_4_core_validation_data.tiff\",dpi=300)\n",
    "plt.show()"
   ]
  },
  {
   "cell_type": "markdown",
   "metadata": {},
   "source": [
    "#### Uncomment next block to make prediction on test data and generate csv"
   ]
  },
  {
   "cell_type": "code",
   "execution_count": 46,
   "metadata": {},
   "outputs": [],
   "source": [
    "#test_result = rf.predict(test_df)\n",
    "#save_to_csv(test_result,\"./random_forest_result.csv\")"
   ]
  },
  {
   "cell_type": "markdown",
   "metadata": {},
   "source": [
    "----------------------------"
   ]
  },
  {
   "cell_type": "markdown",
   "metadata": {},
   "source": [
    "## XGBOOST"
   ]
  },
  {
   "cell_type": "markdown",
   "metadata": {},
   "source": [
    "#### Run model using default parameters"
   ]
  },
  {
   "cell_type": "code",
   "execution_count": 83,
   "metadata": {},
   "outputs": [],
   "source": [
    "xgb_model_1 = xgboost.XGBRegressor()"
   ]
  },
  {
   "cell_type": "code",
   "execution_count": 84,
   "metadata": {},
   "outputs": [
    {
     "name": "stdout",
     "output_type": "stream",
     "text": [
      "Wall time: 47.1 s\n"
     ]
    },
    {
     "data": {
      "text/plain": [
       "XGBRegressor(base_score=0.5, booster='gbtree', colsample_bylevel=1,\n",
       "             colsample_bynode=1, colsample_bytree=1, gamma=0, gpu_id=-1,\n",
       "             importance_type='gain', interaction_constraints='',\n",
       "             learning_rate=0.300000012, max_delta_step=0, max_depth=6,\n",
       "             min_child_weight=1, missing=nan, monotone_constraints='()',\n",
       "             n_estimators=100, n_jobs=8, num_parallel_tree=1, random_state=0,\n",
       "             reg_alpha=0, reg_lambda=1, scale_pos_weight=1, subsample=1,\n",
       "             tree_method='exact', validate_parameters=1, verbosity=None)"
      ]
     },
     "execution_count": 84,
     "metadata": {},
     "output_type": "execute_result"
    }
   ],
   "source": [
    "%%time\n",
    "xgb_model_1.fit(train_x,train_y)"
   ]
  },
  {
   "cell_type": "code",
   "execution_count": 85,
   "metadata": {},
   "outputs": [
    {
     "name": "stdout",
     "output_type": "stream",
     "text": [
      "Training error(RMSE) : 21459.51\n",
      "Validation error(RMSE) : 21953.79\n",
      "R2 score for training data : 0.9727214422770467\n",
      "R2 score for validation data : 0.9713007033649169\n"
     ]
    }
   ],
   "source": [
    "train_prediction = xgb_model_1.predict(train_x)\n",
    "val_prediction = xgb_model_1.predict(val_x)\n",
    "print(\"Training error(RMSE) :\",mean_squared_error(train_y,train_prediction , squared=False))\n",
    "print(\"Validation error(RMSE) :\",mean_squared_error(val_y,val_prediction , squared=False))\n",
    "print(\"R2 score for training data :\",r2_score(train_y,train_prediction))\n",
    "print(\"R2 score for validation data :\",r2_score(val_y,val_prediction))"
   ]
  },
  {
   "cell_type": "markdown",
   "metadata": {},
   "source": [
    "#### Modify hyperparameters and try next model"
   ]
  },
  {
   "cell_type": "code",
   "execution_count": 47,
   "metadata": {},
   "outputs": [],
   "source": [
    "xgb_model_2 = xgboost.XGBRegressor(colsample_bytree=0.4,\n",
    "                 gamma=0,                 \n",
    "                 learning_rate=0.07,\n",
    "                 max_depth=50,\n",
    "                 min_child_weight=1.5,\n",
    "                 n_estimators=100,                                                                    \n",
    "                 reg_alpha=0.75,\n",
    "                 reg_lambda=0.45,\n",
    "                 subsample=0.6,\n",
    "                 seed=42)"
   ]
  },
  {
   "cell_type": "code",
   "execution_count": 48,
   "metadata": {},
   "outputs": [
    {
     "name": "stdout",
     "output_type": "stream",
     "text": [
      "Wall time: 4min 9s\n"
     ]
    },
    {
     "data": {
      "text/plain": [
       "XGBRegressor(base_score=0.5, booster='gbtree', colsample_bylevel=1,\n",
       "             colsample_bynode=1, colsample_bytree=0.4, gamma=0, gpu_id=-1,\n",
       "             importance_type='gain', interaction_constraints='',\n",
       "             learning_rate=0.07, max_delta_step=0, max_depth=50,\n",
       "             min_child_weight=1.5, missing=nan, monotone_constraints='()',\n",
       "             n_estimators=100, n_jobs=8, num_parallel_tree=1, random_state=42,\n",
       "             reg_alpha=0.75, reg_lambda=0.45, scale_pos_weight=1, seed=42,\n",
       "             subsample=0.6, tree_method='exact', validate_parameters=1,\n",
       "             verbosity=None)"
      ]
     },
     "execution_count": 48,
     "metadata": {},
     "output_type": "execute_result"
    }
   ],
   "source": [
    "%%time\n",
    "xgb_model_2.fit(train_x,train_y)"
   ]
  },
  {
   "cell_type": "code",
   "execution_count": 49,
   "metadata": {
    "scrolled": true
   },
   "outputs": [
    {
     "name": "stdout",
     "output_type": "stream",
     "text": [
      "Training error(RMSE) : 10451.854\n",
      "Validation error(RMSE) : 21775.35\n",
      "R2 score for training data : 0.9935311710298659\n",
      "R2 score for validation data : 0.9717271775660316\n"
     ]
    }
   ],
   "source": [
    "train_prediction = xgb_model_2.predict(train_x)\n",
    "val_prediction = xgb_model_2.predict(val_x)\n",
    "print(\"Training error(RMSE) :\",mean_squared_error(train_y,train_prediction , squared=False))\n",
    "print(\"Validation error(RMSE) :\",mean_squared_error(val_y,val_prediction , squared=False))\n",
    "print(\"R2 score for training data :\",r2_score(train_y,train_prediction))\n",
    "print(\"R2 score for validation data :\",r2_score(val_y,val_prediction))"
   ]
  },
  {
   "cell_type": "code",
   "execution_count": 50,
   "metadata": {},
   "outputs": [],
   "source": [
    "feature_importance_xgb = pd.DataFrame({'Variable':train_x.columns,'Importance':xgb_model_2.feature_importances_}).sort_values('Importance', ascending=False)"
   ]
  },
  {
   "cell_type": "code",
   "execution_count": 51,
   "metadata": {},
   "outputs": [
    {
     "data": {
      "text/html": [
       "<div>\n",
       "<style scoped>\n",
       "    .dataframe tbody tr th:only-of-type {\n",
       "        vertical-align: middle;\n",
       "    }\n",
       "\n",
       "    .dataframe tbody tr th {\n",
       "        vertical-align: top;\n",
       "    }\n",
       "\n",
       "    .dataframe thead th {\n",
       "        text-align: right;\n",
       "    }\n",
       "</style>\n",
       "<table border=\"1\" class=\"dataframe\">\n",
       "  <thead>\n",
       "    <tr style=\"text-align: right;\">\n",
       "      <th></th>\n",
       "      <th>Variable</th>\n",
       "      <th>Importance</th>\n",
       "    </tr>\n",
       "  </thead>\n",
       "  <tbody>\n",
       "    <tr>\n",
       "      <th>38</th>\n",
       "      <td>flat_type_executive</td>\n",
       "      <td>0.173904</td>\n",
       "    </tr>\n",
       "    <tr>\n",
       "      <th>43</th>\n",
       "      <td>flat_model_dbss</td>\n",
       "      <td>0.083495</td>\n",
       "    </tr>\n",
       "    <tr>\n",
       "      <th>57</th>\n",
       "      <td>flat_model_terrace</td>\n",
       "      <td>0.050993</td>\n",
       "    </tr>\n",
       "    <tr>\n",
       "      <th>35</th>\n",
       "      <td>flat_type_3-room</td>\n",
       "      <td>0.048383</td>\n",
       "    </tr>\n",
       "    <tr>\n",
       "      <th>59</th>\n",
       "      <td>flat_model_type s2</td>\n",
       "      <td>0.047553</td>\n",
       "    </tr>\n",
       "    <tr>\n",
       "      <th>247</th>\n",
       "      <td>region_central region</td>\n",
       "      <td>0.039145</td>\n",
       "    </tr>\n",
       "    <tr>\n",
       "      <th>34</th>\n",
       "      <td>flat_type_2-room</td>\n",
       "      <td>0.034846</td>\n",
       "    </tr>\n",
       "    <tr>\n",
       "      <th>33</th>\n",
       "      <td>flat_type_1-room</td>\n",
       "      <td>0.027010</td>\n",
       "    </tr>\n",
       "    <tr>\n",
       "      <th>36</th>\n",
       "      <td>flat_type_4-room</td>\n",
       "      <td>0.024888</td>\n",
       "    </tr>\n",
       "    <tr>\n",
       "      <th>37</th>\n",
       "      <td>flat_type_5-room</td>\n",
       "      <td>0.023735</td>\n",
       "    </tr>\n",
       "  </tbody>\n",
       "</table>\n",
       "</div>"
      ],
      "text/plain": [
       "                  Variable  Importance\n",
       "38     flat_type_executive    0.173904\n",
       "43         flat_model_dbss    0.083495\n",
       "57      flat_model_terrace    0.050993\n",
       "35        flat_type_3-room    0.048383\n",
       "59      flat_model_type s2    0.047553\n",
       "247  region_central region    0.039145\n",
       "34        flat_type_2-room    0.034846\n",
       "33        flat_type_1-room    0.027010\n",
       "36        flat_type_4-room    0.024888\n",
       "37        flat_type_5-room    0.023735"
      ]
     },
     "execution_count": 51,
     "metadata": {},
     "output_type": "execute_result"
    }
   ],
   "source": [
    "feature_importance_xgb.head(10)"
   ]
  },
  {
   "cell_type": "code",
   "execution_count": 52,
   "metadata": {},
   "outputs": [
    {
     "name": "stdout",
     "output_type": "stream",
     "text": [
      "Training error(RMSE) : 10451.854\n",
      "Validation error(RMSE) : 21775.35\n",
      "R2 score for training data : 0.9935311710298659\n",
      "R2 score for validation data : 0.9717271775660316\n"
     ]
    }
   ],
   "source": [
    "train_prediction = xgb_model_2.predict(train_x)\n",
    "val_prediction = xgb_model_2.predict(val_x)\n",
    "print(\"Training error(RMSE) :\",mean_squared_error(train_y,train_prediction , squared=False))\n",
    "print(\"Validation error(RMSE) :\",mean_squared_error(val_y,val_prediction , squared=False))\n",
    "print(\"R2 score for training data :\",r2_score(train_y,train_prediction))\n",
    "print(\"R2 score for validation data :\",r2_score(val_y,val_prediction))"
   ]
  },
  {
   "cell_type": "code",
   "execution_count": 53,
   "metadata": {},
   "outputs": [
    {
     "data": {
      "image/png": "[encoded data removed]",
      "text/plain": [
       "<Figure size 432x288 with 1 Axes>"
      ]
     },
     "metadata": {
      "needs_background": "light"
     },
     "output_type": "display_data"
    }
   ],
   "source": [
    "plt.scatter(train_y,train_prediction, color = 'green')\n",
    "plt.title('XGBOOST Regression')\n",
    "plt.xlabel('Resale price')\n",
    "plt.ylabel('Predicted resale price')\n",
    "plt.show()"
   ]
  },
  {
   "cell_type": "code",
   "execution_count": 54,
   "metadata": {},
   "outputs": [
    {
     "data": {
      "image/png": "[encoded data removed]",
      "text/plain": [
       "<Figure size 432x288 with 1 Axes>"
      ]
     },
     "metadata": {
      "needs_background": "light"
     },
     "output_type": "display_data"
    }
   ],
   "source": [
    "plt.scatter(val_y,val_prediction, color = 'red')\n",
    "plt.title('XGBOOST Regression')\n",
    "plt.xlabel('Resale price')\n",
    "plt.ylabel('Predicted resale price')\n",
    "plt.show()"
   ]
  },
  {
   "cell_type": "markdown",
   "metadata": {},
   "source": [
    "#### Uncomment next block to make prediction on test data and generate csv"
   ]
  },
  {
   "cell_type": "code",
   "execution_count": 55,
   "metadata": {},
   "outputs": [],
   "source": [
    "#test_result = best_xgb_model.predict(test_df)\n",
    "#save_to_csv(test_result,\"./xgboost_result.csv\")"
   ]
  },
  {
   "cell_type": "markdown",
   "metadata": {},
   "source": [
    "-------------------------------------"
   ]
  },
  {
   "cell_type": "markdown",
   "metadata": {},
   "source": [
    "## Prediction using Random Forest and XGBOOST together"
   ]
  },
  {
   "cell_type": "code",
   "execution_count": 60,
   "metadata": {},
   "outputs": [
    {
     "name": "stdout",
     "output_type": "stream",
     "text": [
      "Training error : 7291.639152759956\n",
      "R2 score for training data : 0.9968516037170233\n"
     ]
    }
   ],
   "source": [
    "xgb_model_2_prediction = xgb_model_2.predict(train_x)\n",
    "rf_1_prediction = rf_1.predict(train_x)\n",
    "final_pred = 0.7*rf_1_prediction + 0.3*xgb_model_2_prediction\n",
    "print(\"Training error :\",mean_squared_error(train_y, final_pred, squared=False))\n",
    "print(\"R2 score for training data :\",r2_score(train_y,final_pred))"
   ]
  },
  {
   "cell_type": "code",
   "execution_count": 61,
   "metadata": {},
   "outputs": [
    {
     "name": "stdout",
     "output_type": "stream",
     "text": [
      "Validation error : 17794.286568647614\n",
      "R2 score for validation data : 0.9811200854035397\n"
     ]
    }
   ],
   "source": [
    "xgb_model_2_prediction = xgb_model_2.predict(val_x)\n",
    "rf_1_prediction = rf_1.predict(val_x)\n",
    "final_pred = 0.7*rf_1_prediction + 0.3*xgb_model_2_prediction\n",
    "print(\"Validation error :\",mean_squared_error(val_y, final_pred, squared=False))\n",
    "print(\"R2 score for validation data :\",r2_score(val_y,final_pred))"
   ]
  },
  {
   "cell_type": "code",
   "execution_count": 63,
   "metadata": {},
   "outputs": [],
   "source": [
    "xgb_model_2_test_prediction = xgb_model_2.predict(test_df)\n",
    "rf_1_test_prediction = rf_1.predict(test_df)\n",
    "final_pred_t = 0.7*rf_1_test_prediction + 0.3*xgb_model_2_test_prediction\n",
    "#save_to_csv(final_pred_t, \"./xgb_rf_result.csv\")"
   ]
  },
  {
   "cell_type": "markdown",
   "metadata": {},
   "source": [
    "----------------------"
   ]
  },
  {
   "cell_type": "markdown",
   "metadata": {},
   "source": [
    "## LightGBM"
   ]
  },
  {
   "cell_type": "markdown",
   "metadata": {},
   "source": [
    "#### Run model using default hyperparameters"
   ]
  },
  {
   "cell_type": "code",
   "execution_count": 64,
   "metadata": {},
   "outputs": [],
   "source": [
    "gbm_1 = lgb.LGBMRegressor()"
   ]
  },
  {
   "cell_type": "code",
   "execution_count": 65,
   "metadata": {},
   "outputs": [],
   "source": [
    "gbm_1 = gbm_1.fit(train_x,train_y)"
   ]
  },
  {
   "cell_type": "code",
   "execution_count": 66,
   "metadata": {},
   "outputs": [
    {
     "name": "stdout",
     "output_type": "stream",
     "text": [
      "Training error(RMSE) : 23534.071099928722\n",
      "Validation error(RMSE) : 23854.57385624206\n",
      "R2 score for training data : 0.96720307120842\n",
      "R2 score for validation data : 0.9660701304527094\n"
     ]
    }
   ],
   "source": [
    "train_prediction = gbm_1.predict(train_x)\n",
    "val_prediction = gbm_1.predict(val_x)\n",
    "print(\"Training error(RMSE) :\",mean_squared_error(train_y,train_prediction , squared=False))\n",
    "print(\"Validation error(RMSE) :\",mean_squared_error(val_y,val_prediction , squared=False))\n",
    "print(\"R2 score for training data :\",r2_score(train_y,train_prediction))\n",
    "print(\"R2 score for validation data :\",r2_score(val_y,val_prediction))"
   ]
  },
  {
   "cell_type": "markdown",
   "metadata": {},
   "source": [
    "#### Modify learning_rate, max_depth and n_estimators and try next model"
   ]
  },
  {
   "cell_type": "code",
   "execution_count": 67,
   "metadata": {},
   "outputs": [],
   "source": [
    "gbm_2 = lgb.LGBMRegressor(num_leaves=31,\n",
    "                        learning_rate=0.1,\n",
    "                        max_depth=10000,n_estimators=10000)"
   ]
  },
  {
   "cell_type": "code",
   "execution_count": 68,
   "metadata": {},
   "outputs": [],
   "source": [
    "gbm_2 = gbm_2.fit(train_x,train_y)"
   ]
  },
  {
   "cell_type": "code",
   "execution_count": 69,
   "metadata": {
    "scrolled": true
   },
   "outputs": [
    {
     "name": "stdout",
     "output_type": "stream",
     "text": [
      "Training error(RMSE) : 11854.9141721129\n",
      "Validation error(RMSE) : 16080.53780129067\n",
      "R2 score for training data : 0.9916778434198905\n",
      "R2 score for validation data : 0.9845815753315376\n"
     ]
    }
   ],
   "source": [
    "train_prediction = gbm_2.predict(train_x)\n",
    "val_prediction = gbm_2.predict(val_x)\n",
    "print(\"Training error(RMSE) :\",mean_squared_error(train_y,train_prediction , squared=False))\n",
    "print(\"Validation error(RMSE) :\",mean_squared_error(val_y,val_prediction , squared=False))\n",
    "print(\"R2 score for training data :\",r2_score(train_y,train_prediction))\n",
    "print(\"R2 score for validation data :\",r2_score(val_y,val_prediction))"
   ]
  },
  {
   "cell_type": "code",
   "execution_count": 70,
   "metadata": {},
   "outputs": [],
   "source": [
    "feature_importance_gbm_2 = pd.DataFrame({'Feature':train_x.columns,'Importance':gbm_2.feature_importances_}).sort_values('Importance', ascending=False)"
   ]
  },
  {
   "cell_type": "code",
   "execution_count": 71,
   "metadata": {},
   "outputs": [
    {
     "data": {
      "text/html": [
       "<div>\n",
       "<style scoped>\n",
       "    .dataframe tbody tr th:only-of-type {\n",
       "        vertical-align: middle;\n",
       "    }\n",
       "\n",
       "    .dataframe tbody tr th {\n",
       "        vertical-align: top;\n",
       "    }\n",
       "\n",
       "    .dataframe thead th {\n",
       "        text-align: right;\n",
       "    }\n",
       "</style>\n",
       "<table border=\"1\" class=\"dataframe\">\n",
       "  <thead>\n",
       "    <tr style=\"text-align: right;\">\n",
       "      <th></th>\n",
       "      <th>Feature</th>\n",
       "      <th>Importance</th>\n",
       "    </tr>\n",
       "  </thead>\n",
       "  <tbody>\n",
       "    <tr>\n",
       "      <th>5</th>\n",
       "      <td>year</td>\n",
       "      <td>66584</td>\n",
       "    </tr>\n",
       "    <tr>\n",
       "      <th>0</th>\n",
       "      <td>floor_area_sqm</td>\n",
       "      <td>43781</td>\n",
       "    </tr>\n",
       "    <tr>\n",
       "      <th>4</th>\n",
       "      <td>month_no</td>\n",
       "      <td>38483</td>\n",
       "    </tr>\n",
       "    <tr>\n",
       "      <th>2</th>\n",
       "      <td>latitude</td>\n",
       "      <td>37175</td>\n",
       "    </tr>\n",
       "    <tr>\n",
       "      <th>3</th>\n",
       "      <td>longitude</td>\n",
       "      <td>30796</td>\n",
       "    </tr>\n",
       "    <tr>\n",
       "      <th>6</th>\n",
       "      <td>storey</td>\n",
       "      <td>27118</td>\n",
       "    </tr>\n",
       "    <tr>\n",
       "      <th>1</th>\n",
       "      <td>lease_commence_date</td>\n",
       "      <td>17752</td>\n",
       "    </tr>\n",
       "    <tr>\n",
       "      <th>36</th>\n",
       "      <td>flat_type_4-room</td>\n",
       "      <td>2276</td>\n",
       "    </tr>\n",
       "    <tr>\n",
       "      <th>47</th>\n",
       "      <td>flat_model_model a</td>\n",
       "      <td>1946</td>\n",
       "    </tr>\n",
       "    <tr>\n",
       "      <th>44</th>\n",
       "      <td>flat_model_improved</td>\n",
       "      <td>1911</td>\n",
       "    </tr>\n",
       "  </tbody>\n",
       "</table>\n",
       "</div>"
      ],
      "text/plain": [
       "                Feature  Importance\n",
       "5                  year       66584\n",
       "0        floor_area_sqm       43781\n",
       "4              month_no       38483\n",
       "2              latitude       37175\n",
       "3             longitude       30796\n",
       "6                storey       27118\n",
       "1   lease_commence_date       17752\n",
       "36     flat_type_4-room        2276\n",
       "47   flat_model_model a        1946\n",
       "44  flat_model_improved        1911"
      ]
     },
     "execution_count": 71,
     "metadata": {},
     "output_type": "execute_result"
    }
   ],
   "source": [
    "feature_importance_gbm_2.head(10)"
   ]
  },
  {
   "cell_type": "code",
   "execution_count": 72,
   "metadata": {},
   "outputs": [
    {
     "data": {
      "image/png": "[encoded data removed]",
      "text/plain": [
       "<Figure size 432x288 with 1 Axes>"
      ]
     },
     "metadata": {
      "needs_background": "light"
     },
     "output_type": "display_data"
    }
   ],
   "source": [
    "sns.barplot(y='Feature', x='Importance', data=feature_importance_gbm_2.head(10))\n",
    "plt.tight_layout()\n",
    "#plt.savefig(\"./gbm_2_core_feature_importance.tiff\",dpi=300)"
   ]
  },
  {
   "cell_type": "code",
   "execution_count": 73,
   "metadata": {},
   "outputs": [
    {
     "data": {
      "image/png": "[encoded data removed]",
      "text/plain": [
       "<Figure size 432x288 with 1 Axes>"
      ]
     },
     "metadata": {
      "needs_background": "light"
     },
     "output_type": "display_data"
    }
   ],
   "source": [
    "#plt.figure(figsize=(10,8))\n",
    "plt.scatter(x=train_y,y=train_prediction, color = '#FC6B00')\n",
    "#plt.scatter(val_prediction, val_y, color = 'green')\n",
    "plt.title('LightGBM Regression(Training data)')\n",
    "plt.xlabel('Resale price')\n",
    "plt.ylabel('Predicted resale price')\n",
    "plt.ticklabel_format(useOffset=False,style='plain')\n",
    "plt.tight_layout()\n",
    "#plt.savefig(\"./gbm_2_core_training_data.tiff\",dpi=300)\n",
    "plt.show()"
   ]
  },
  {
   "cell_type": "code",
   "execution_count": 74,
   "metadata": {},
   "outputs": [
    {
     "data": {
      "image/png": "[encoded data removed]",
      "text/plain": [
       "<Figure size 432x288 with 1 Axes>"
      ]
     },
     "metadata": {
      "needs_background": "light"
     },
     "output_type": "display_data"
    }
   ],
   "source": [
    "plt.scatter(x=val_y,y=val_prediction, color = '#BBFC00')\n",
    "plt.title('LightGBM Regression(Validation Data)')\n",
    "plt.xlabel('Resale price')\n",
    "plt.ylabel('Predicted resale price')\n",
    "plt.ticklabel_format(useOffset=False,style='plain')\n",
    "plt.tight_layout()\n",
    "#plt.savefig(\"./gbm_2_core_validation_data.tiff\",dpi=300)\n",
    "plt.show()"
   ]
  },
  {
   "cell_type": "markdown",
   "metadata": {},
   "source": [
    "#### Change max_depth and n_estimators and try next model"
   ]
  },
  {
   "cell_type": "code",
   "execution_count": 75,
   "metadata": {},
   "outputs": [
    {
     "name": "stdout",
     "output_type": "stream",
     "text": [
      "Wall time: 0 ns\n"
     ]
    }
   ],
   "source": [
    "%%time\n",
    "gbm_3 = lgb.LGBMRegressor(num_leaves=31,\n",
    "                        learning_rate=0.1,\n",
    "                        max_depth=5000,n_estimators=5000)"
   ]
  },
  {
   "cell_type": "code",
   "execution_count": 76,
   "metadata": {},
   "outputs": [
    {
     "name": "stdout",
     "output_type": "stream",
     "text": [
      "[1000]\ttraining's rmse: 16552.1\ttraining's l2: 2.73973e+08\tvalid_1's rmse: 17431.8\tvalid_1's l2: 3.03869e+08\n",
      "[2000]\ttraining's rmse: 15214.4\ttraining's l2: 2.31478e+08\tvalid_1's rmse: 16636.2\tvalid_1's l2: 2.76763e+08\n",
      "[3000]\ttraining's rmse: 14412\ttraining's l2: 2.07707e+08\tvalid_1's rmse: 16311.4\tvalid_1's l2: 2.66061e+08\n",
      "[4000]\ttraining's rmse: 13845\ttraining's l2: 1.91683e+08\tvalid_1's rmse: 16180.4\tvalid_1's l2: 2.61807e+08\n",
      "[5000]\ttraining's rmse: 13383.7\ttraining's l2: 1.79123e+08\tvalid_1's rmse: 16106.9\tvalid_1's l2: 2.59433e+08\n"
     ]
    },
    {
     "data": {
      "text/plain": [
       "LGBMRegressor(max_depth=5000, n_estimators=5000)"
      ]
     },
     "execution_count": 76,
     "metadata": {},
     "output_type": "execute_result"
    }
   ],
   "source": [
    "gbm_3.fit(\n",
    "    train_x, train_y, \n",
    "    eval_set= [(train_x, train_y), (val_x, val_y)], \n",
    "    eval_metric='rmse', verbose=1000)"
   ]
  },
  {
   "cell_type": "code",
   "execution_count": 77,
   "metadata": {},
   "outputs": [
    {
     "name": "stdout",
     "output_type": "stream",
     "text": [
      "Training error(RMSE) : 13383.70122192974\n",
      "Validation error(RMSE) : 16106.91430564865\n",
      "R2 score for training data : 0.9893930256104787\n",
      "R2 score for validation data : 0.984530952934773\n"
     ]
    }
   ],
   "source": [
    "train_prediction = gbm_3.predict(train_x)\n",
    "val_prediction = gbm_3.predict(val_x)\n",
    "print(\"Training error(RMSE) :\",mean_squared_error(train_y,train_prediction , squared=False))\n",
    "print(\"Validation error(RMSE) :\",mean_squared_error(val_y,val_prediction , squared=False))\n",
    "print(\"R2 score for training data :\",r2_score(train_y,train_prediction))\n",
    "print(\"R2 score for validation data :\",r2_score(val_y,val_prediction))"
   ]
  },
  {
   "cell_type": "markdown",
   "metadata": {},
   "source": [
    "#### Uncomment next block to make prediction on test data and generate csv"
   ]
  },
  {
   "cell_type": "code",
   "execution_count": 78,
   "metadata": {},
   "outputs": [],
   "source": [
    "#gbm_test_result = gbm.predict(test_df)\n",
    "#save_to_csv(gbm_test_result,\"./lgbm_result.csv\")"
   ]
  },
  {
   "cell_type": "markdown",
   "metadata": {},
   "source": [
    "## Prediction using Random Forest, XGBOOST and LightGBM together"
   ]
  },
  {
   "cell_type": "code",
   "execution_count": 79,
   "metadata": {},
   "outputs": [
    {
     "ename": "SyntaxError",
     "evalue": "invalid syntax (<ipython-input-79-f34b685ccabd>, line 1)",
     "output_type": "error",
     "traceback": [
      "\u001b[1;36m  File \u001b[1;32m\"<ipython-input-79-f34b685ccabd>\"\u001b[1;36m, line \u001b[1;32m1\u001b[0m\n\u001b[1;33m    print(\"Training error :\",mean_squared_error(train_y, , squared=False))\u001b[0m\n\u001b[1;37m                                                         ^\u001b[0m\n\u001b[1;31mSyntaxError\u001b[0m\u001b[1;31m:\u001b[0m invalid syntax\n"
     ]
    }
   ],
   "source": [
    "print(\"Training error :\",mean_squared_error(train_y, , squared=False))\n",
    "print(\"Validation error :\",mean_squared_error(val_y, 0.4*gbm_2.predict(val_x)+ 0.4*rf_1.predict(val_x) +0.2*xgb_model_2.predict(val_x), squared=False))"
   ]
  },
  {
   "cell_type": "code",
   "execution_count": null,
   "metadata": {},
   "outputs": [],
   "source": [
    "train_prediction = 0.4*gbm_2.predict(train_x) + 0.4*rf_1.predict(train_x) +0.2*xgb_model_2.predict(train_x)\n",
    "val_prediction = 0.4*gbm_2.predict(val_x)+ 0.4*rf_1.predict(val_x) +0.2*xgb_model_2.predict(val_x)\n",
    "print(\"Training error(RMSE) :\",mean_squared_error(train_y,train_prediction , squared=False))\n",
    "print(\"Validation error(RMSE) :\",mean_squared_error(val_y,val_prediction , squared=False))\n",
    "print(\"R2 score for training data :\",r2_score(train_y,train_prediction))\n",
    "print(\"R2 score for validation data :\",r2_score(val_y,val_prediction))"
   ]
  },
  {
   "cell_type": "markdown",
   "metadata": {},
   "source": [
    "#### Uncomment next block to make prediction on test data and generate csv"
   ]
  },
  {
   "cell_type": "code",
   "execution_count": 117,
   "metadata": {},
   "outputs": [],
   "source": [
    "#test_result = 0.4*gbm_2.predict(test_df) + 0.4*rf_1.predict(test_df) +0.2*xgb_model_2.predict(test_df)\n",
    "#save_to_csv(test_result,\"./lgbm_xgboost_rf_result.csv\")"
   ]
  }
 ],
 "metadata": {
  "kernelspec": {
   "display_name": "Python 3",
   "language": "python",
   "name": "python3"
  },
  "language_info": {
   "codemirror_mode": {
    "name": "ipython",
    "version": 3
   },
   "file_extension": ".py",
   "mimetype": "text/x-python",
   "name": "python",
   "nbconvert_exporter": "python",
   "pygments_lexer": "ipython3",
   "version": "3.8.5"
  }
 },
 "nbformat": 4,
 "nbformat_minor": 4
}
