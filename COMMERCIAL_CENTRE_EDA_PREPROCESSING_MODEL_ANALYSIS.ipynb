{
 "cells": [
  {
   "cell_type": "code",
   "execution_count": 1,
   "metadata": {},
   "outputs": [],
   "source": [
    "%load_ext autoreload\n",
    "%autoreload 2"
   ]
  },
  {
   "cell_type": "code",
   "execution_count": 4,
   "metadata": {
    "id": "9in7ONlmxQD3"
   },
   "outputs": [],
   "source": [
    "import numpy as np\n",
    "import pandas as pd\n",
    "\n",
    "import csv as csv\n",
    "import sklearn\n",
    "import math\n",
    "import matplotlib.pyplot as plt\n",
    "from matplotlib import pyplot\n",
    "import geopy.distance\n",
    "import matplotlib.pyplot as plt\n",
    "import seaborn as sns\n",
    "\n",
    "from sklearn.metrics import mean_squared_error\n",
    "from sklearn.preprocessing import StandardScaler, LabelEncoder\n",
    "from sklearn.pipeline import make_pipeline\n",
    "from sklearn.metrics import r2_score\n",
    "from sklearn.model_selection import cross_val_score,KFold,train_test_split,GridSearchCV\n",
    "\n",
    "from sklearn.linear_model import LinearRegression\n",
    "from sklearn.linear_model import SGDRegressor\n",
    "from sklearn import tree\n",
    "from sklearn.ensemble import RandomForestRegressor\n",
    "import xgboost\n",
    "import lightgbm as lgb\n",
    "\n",
    "from utils import save_to_csv, reduce_memory_usage,custom_kfold_scorer "
   ]
  },
  {
   "cell_type": "code",
   "execution_count": 5,
   "metadata": {},
   "outputs": [],
   "source": [
    "train_df = pd.read_csv(\"./train_2.csv\")\n",
    "test_df = pd.read_csv(\"./test_2.csv\")\n",
    "aux_df = pd.read_csv(\"./auxiliary-data/sg-commerical-centres.csv\")"
   ]
  },
  {
   "cell_type": "code",
   "execution_count": 6,
   "metadata": {
    "scrolled": true
   },
   "outputs": [
    {
     "data": {
      "text/html": [
       "<div>\n",
       "<style scoped>\n",
       "    .dataframe tbody tr th:only-of-type {\n",
       "        vertical-align: middle;\n",
       "    }\n",
       "\n",
       "    .dataframe tbody tr th {\n",
       "        vertical-align: top;\n",
       "    }\n",
       "\n",
       "    .dataframe thead th {\n",
       "        text-align: right;\n",
       "    }\n",
       "</style>\n",
       "<table border=\"1\" class=\"dataframe\">\n",
       "  <thead>\n",
       "    <tr style=\"text-align: right;\">\n",
       "      <th></th>\n",
       "      <th>name</th>\n",
       "      <th>type</th>\n",
       "      <th>lat</th>\n",
       "      <th>lng</th>\n",
       "    </tr>\n",
       "  </thead>\n",
       "  <tbody>\n",
       "    <tr>\n",
       "      <th>0</th>\n",
       "      <td>Central Business District</td>\n",
       "      <td>CR</td>\n",
       "      <td>1.286768</td>\n",
       "      <td>103.854529</td>\n",
       "    </tr>\n",
       "    <tr>\n",
       "      <th>1</th>\n",
       "      <td>Jurong Lake District</td>\n",
       "      <td>CR</td>\n",
       "      <td>1.334085</td>\n",
       "      <td>103.734513</td>\n",
       "    </tr>\n",
       "    <tr>\n",
       "      <th>2</th>\n",
       "      <td>Seletar Regional Centre</td>\n",
       "      <td>CR</td>\n",
       "      <td>1.409435</td>\n",
       "      <td>103.866820</td>\n",
       "    </tr>\n",
       "    <tr>\n",
       "      <th>3</th>\n",
       "      <td>Tampines Regional Centre</td>\n",
       "      <td>CR</td>\n",
       "      <td>1.353180</td>\n",
       "      <td>103.945188</td>\n",
       "    </tr>\n",
       "    <tr>\n",
       "      <th>4</th>\n",
       "      <td>Woodlands Regional Centre</td>\n",
       "      <td>CR</td>\n",
       "      <td>1.436748</td>\n",
       "      <td>103.786485</td>\n",
       "    </tr>\n",
       "  </tbody>\n",
       "</table>\n",
       "</div>"
      ],
      "text/plain": [
       "                        name type       lat         lng\n",
       "0  Central Business District   CR  1.286768  103.854529\n",
       "1       Jurong Lake District   CR  1.334085  103.734513\n",
       "2    Seletar Regional Centre   CR  1.409435  103.866820\n",
       "3   Tampines Regional Centre   CR  1.353180  103.945188\n",
       "4  Woodlands Regional Centre   CR  1.436748  103.786485"
      ]
     },
     "execution_count": 6,
     "metadata": {},
     "output_type": "execute_result"
    }
   ],
   "source": [
    "aux_df.head()"
   ]
  },
  {
   "cell_type": "markdown",
   "metadata": {},
   "source": [
    "## Check for NULL values"
   ]
  },
  {
   "cell_type": "code",
   "execution_count": 7,
   "metadata": {
    "scrolled": true
   },
   "outputs": [
    {
     "data": {
      "text/plain": [
       "name    False\n",
       "type    False\n",
       "lat     False\n",
       "lng     False\n",
       "dtype: bool"
      ]
     },
     "execution_count": 7,
     "metadata": {},
     "output_type": "execute_result"
    }
   ],
   "source": [
    "aux_df.isnull().any()"
   ]
  },
  {
   "cell_type": "markdown",
   "metadata": {},
   "source": [
    "### Checking for duplicate values"
   ]
  },
  {
   "cell_type": "code",
   "execution_count": 8,
   "metadata": {},
   "outputs": [
    {
     "data": {
      "text/plain": [
       "False"
      ]
     },
     "execution_count": 8,
     "metadata": {},
     "output_type": "execute_result"
    }
   ],
   "source": [
    "aux_df.duplicated().any()"
   ]
  },
  {
   "cell_type": "markdown",
   "metadata": {},
   "source": [
    "# ADD SOME PLOTS HERE"
   ]
  },
  {
   "cell_type": "code",
   "execution_count": 10,
   "metadata": {},
   "outputs": [
    {
     "data": {
      "text/plain": [
       "<AxesSubplot:xlabel='latitude', ylabel='longitude'>"
      ]
     },
     "execution_count": 10,
     "metadata": {},
     "output_type": "execute_result"
    },
    {
     "data": {
      "image/png": "[encoded data removed]",
      "text/plain": [
       "<Figure size 1440x720 with 1 Axes>"
      ]
     },
     "metadata": {
      "needs_background": "light"
     },
     "output_type": "display_data"
    }
   ],
   "source": [
    "plt.figure(figsize=(20,10))\n",
    "sns.scatterplot(y=train_df.longitude,x=train_df.latitude,color=\"blue\",label=\"HDB\")\n",
    "sns.scatterplot(y=aux_df.lng,x=aux_df.lat,color=\"red\",label=\"Commercial Center\")"
   ]
  },
  {
   "cell_type": "code",
   "execution_count": null,
   "metadata": {},
   "outputs": [],
   "source": []
  },
  {
   "cell_type": "code",
   "execution_count": null,
   "metadata": {},
   "outputs": [],
   "source": []
  },
  {
   "cell_type": "markdown",
   "metadata": {},
   "source": [
    "### Club latitude and longitude together and drop 'lat' and 'lng' columns"
   ]
  },
  {
   "cell_type": "code",
   "execution_count": 11,
   "metadata": {
    "id": "YLBY9IMRxQEE"
   },
   "outputs": [],
   "source": [
    "aux_df['lat_long'] = list(zip(aux_df.lat, aux_df.lng))"
   ]
  },
  {
   "cell_type": "code",
   "execution_count": 12,
   "metadata": {},
   "outputs": [],
   "source": [
    "aux_df = aux_df.drop(columns=['lat','lng'])"
   ]
  },
  {
   "cell_type": "code",
   "execution_count": 13,
   "metadata": {
    "scrolled": false
   },
   "outputs": [
    {
     "data": {
      "text/html": [
       "<div>\n",
       "<style scoped>\n",
       "    .dataframe tbody tr th:only-of-type {\n",
       "        vertical-align: middle;\n",
       "    }\n",
       "\n",
       "    .dataframe tbody tr th {\n",
       "        vertical-align: top;\n",
       "    }\n",
       "\n",
       "    .dataframe thead th {\n",
       "        text-align: right;\n",
       "    }\n",
       "</style>\n",
       "<table border=\"1\" class=\"dataframe\">\n",
       "  <thead>\n",
       "    <tr style=\"text-align: right;\">\n",
       "      <th></th>\n",
       "      <th>name</th>\n",
       "      <th>type</th>\n",
       "      <th>lat_long</th>\n",
       "    </tr>\n",
       "  </thead>\n",
       "  <tbody>\n",
       "    <tr>\n",
       "      <th>0</th>\n",
       "      <td>Central Business District</td>\n",
       "      <td>CR</td>\n",
       "      <td>(1.286768414387322, 103.85452859811022)</td>\n",
       "    </tr>\n",
       "    <tr>\n",
       "      <th>1</th>\n",
       "      <td>Jurong Lake District</td>\n",
       "      <td>CR</td>\n",
       "      <td>(1.3340851937252969, 103.73451290700358)</td>\n",
       "    </tr>\n",
       "    <tr>\n",
       "      <th>2</th>\n",
       "      <td>Seletar Regional Centre</td>\n",
       "      <td>CR</td>\n",
       "      <td>(1.40943507375581, 103.866819823979)</td>\n",
       "    </tr>\n",
       "    <tr>\n",
       "      <th>3</th>\n",
       "      <td>Tampines Regional Centre</td>\n",
       "      <td>CR</td>\n",
       "      <td>(1.353180098998845, 103.94518782505514)</td>\n",
       "    </tr>\n",
       "    <tr>\n",
       "      <th>4</th>\n",
       "      <td>Woodlands Regional Centre</td>\n",
       "      <td>CR</td>\n",
       "      <td>(1.4367480296002553, 103.78648452433363)</td>\n",
       "    </tr>\n",
       "  </tbody>\n",
       "</table>\n",
       "</div>"
      ],
      "text/plain": [
       "                        name type                                  lat_long\n",
       "0  Central Business District   CR   (1.286768414387322, 103.85452859811022)\n",
       "1       Jurong Lake District   CR  (1.3340851937252969, 103.73451290700358)\n",
       "2    Seletar Regional Centre   CR      (1.40943507375581, 103.866819823979)\n",
       "3   Tampines Regional Centre   CR   (1.353180098998845, 103.94518782505514)\n",
       "4  Woodlands Regional Centre   CR  (1.4367480296002553, 103.78648452433363)"
      ]
     },
     "execution_count": 13,
     "metadata": {},
     "output_type": "execute_result"
    }
   ],
   "source": [
    "aux_df.head()"
   ]
  },
  {
   "cell_type": "markdown",
   "metadata": {},
   "source": [
    "### Extract lat_long and year from train and test data sets"
   ]
  },
  {
   "cell_type": "code",
   "execution_count": 14,
   "metadata": {},
   "outputs": [],
   "source": [
    "train_df_temp = train_df[[\"lat_long\"]]\n",
    "test_df_temp = test_df[[\"lat_long\"]]"
   ]
  },
  {
   "cell_type": "markdown",
   "metadata": {},
   "source": [
    "### Drop duplicate locations"
   ]
  },
  {
   "cell_type": "code",
   "execution_count": 15,
   "metadata": {},
   "outputs": [],
   "source": [
    "train_df_temp = train_df_temp.drop_duplicates(subset=['lat_long'])\n",
    "test_df_temp = test_df_temp.drop_duplicates(subset=['lat_long'])"
   ]
  },
  {
   "cell_type": "markdown",
   "metadata": {},
   "source": [
    "### Add columns to store the nearest commercial center and its distance and number of commercial centers in 1km"
   ]
  },
  {
   "cell_type": "code",
   "execution_count": 16,
   "metadata": {},
   "outputs": [],
   "source": [
    "train_df_temp[\"nearest_commercial_center\"] = str(\"--\")\n",
    "train_df_temp[\"nearest_commercial_center_distance\"] = math.inf\n",
    "train_df_temp[\"commercial_center_1_km\"] = 0\n",
    "test_df_temp[\"nearest_commercial_center\"] = str(\"--\")\n",
    "test_df_temp[\"nearest_commercial_center_distance\"] = math.inf\n",
    "test_df_temp[\"commercial_center_1_km\"] = 0\n",
    "train_df_temp = train_df_temp.reset_index()\n",
    "test_df_temp = test_df_temp.reset_index()"
   ]
  },
  {
   "cell_type": "code",
   "execution_count": 17,
   "metadata": {},
   "outputs": [],
   "source": [
    "aux_df = aux_df.drop(columns=['type'])\n",
    "aux_df = aux_df.reset_index()"
   ]
  },
  {
   "cell_type": "code",
   "execution_count": 18,
   "metadata": {},
   "outputs": [
    {
     "data": {
      "text/html": [
       "<div>\n",
       "<style scoped>\n",
       "    .dataframe tbody tr th:only-of-type {\n",
       "        vertical-align: middle;\n",
       "    }\n",
       "\n",
       "    .dataframe tbody tr th {\n",
       "        vertical-align: top;\n",
       "    }\n",
       "\n",
       "    .dataframe thead th {\n",
       "        text-align: right;\n",
       "    }\n",
       "</style>\n",
       "<table border=\"1\" class=\"dataframe\">\n",
       "  <thead>\n",
       "    <tr style=\"text-align: right;\">\n",
       "      <th></th>\n",
       "      <th>index</th>\n",
       "      <th>name</th>\n",
       "      <th>lat_long</th>\n",
       "    </tr>\n",
       "  </thead>\n",
       "  <tbody>\n",
       "    <tr>\n",
       "      <th>0</th>\n",
       "      <td>0</td>\n",
       "      <td>Central Business District</td>\n",
       "      <td>(1.286768414387322, 103.85452859811022)</td>\n",
       "    </tr>\n",
       "    <tr>\n",
       "      <th>1</th>\n",
       "      <td>1</td>\n",
       "      <td>Jurong Lake District</td>\n",
       "      <td>(1.3340851937252969, 103.73451290700358)</td>\n",
       "    </tr>\n",
       "    <tr>\n",
       "      <th>2</th>\n",
       "      <td>2</td>\n",
       "      <td>Seletar Regional Centre</td>\n",
       "      <td>(1.40943507375581, 103.866819823979)</td>\n",
       "    </tr>\n",
       "    <tr>\n",
       "      <th>3</th>\n",
       "      <td>3</td>\n",
       "      <td>Tampines Regional Centre</td>\n",
       "      <td>(1.353180098998845, 103.94518782505514)</td>\n",
       "    </tr>\n",
       "    <tr>\n",
       "      <th>4</th>\n",
       "      <td>4</td>\n",
       "      <td>Woodlands Regional Centre</td>\n",
       "      <td>(1.4367480296002553, 103.78648452433363)</td>\n",
       "    </tr>\n",
       "  </tbody>\n",
       "</table>\n",
       "</div>"
      ],
      "text/plain": [
       "   index                       name                                  lat_long\n",
       "0      0  Central Business District   (1.286768414387322, 103.85452859811022)\n",
       "1      1       Jurong Lake District  (1.3340851937252969, 103.73451290700358)\n",
       "2      2    Seletar Regional Centre      (1.40943507375581, 103.866819823979)\n",
       "3      3   Tampines Regional Centre   (1.353180098998845, 103.94518782505514)\n",
       "4      4  Woodlands Regional Centre  (1.4367480296002553, 103.78648452433363)"
      ]
     },
     "execution_count": 18,
     "metadata": {},
     "output_type": "execute_result"
    }
   ],
   "source": [
    "aux_df.head()"
   ]
  },
  {
   "cell_type": "code",
   "execution_count": 19,
   "metadata": {
    "scrolled": true
   },
   "outputs": [
    {
     "data": {
      "text/html": [
       "<div>\n",
       "<style scoped>\n",
       "    .dataframe tbody tr th:only-of-type {\n",
       "        vertical-align: middle;\n",
       "    }\n",
       "\n",
       "    .dataframe tbody tr th {\n",
       "        vertical-align: top;\n",
       "    }\n",
       "\n",
       "    .dataframe thead th {\n",
       "        text-align: right;\n",
       "    }\n",
       "</style>\n",
       "<table border=\"1\" class=\"dataframe\">\n",
       "  <thead>\n",
       "    <tr style=\"text-align: right;\">\n",
       "      <th></th>\n",
       "      <th>index</th>\n",
       "      <th>lat_long</th>\n",
       "      <th>nearest_commercial_center</th>\n",
       "      <th>nearest_commercial_center_distance</th>\n",
       "      <th>commercial_center_1_km</th>\n",
       "    </tr>\n",
       "  </thead>\n",
       "  <tbody>\n",
       "    <tr>\n",
       "      <th>0</th>\n",
       "      <td>0</td>\n",
       "      <td>(1.3690080642700195, 103.95869445800781)</td>\n",
       "      <td>--</td>\n",
       "      <td>inf</td>\n",
       "      <td>0</td>\n",
       "    </tr>\n",
       "    <tr>\n",
       "      <th>1</th>\n",
       "      <td>1</td>\n",
       "      <td>(1.3990070819854736, 103.90699005126953)</td>\n",
       "      <td>--</td>\n",
       "      <td>inf</td>\n",
       "      <td>0</td>\n",
       "    </tr>\n",
       "    <tr>\n",
       "      <th>2</th>\n",
       "      <td>2</td>\n",
       "      <td>(1.3883482217788696, 103.87381744384766)</td>\n",
       "      <td>--</td>\n",
       "      <td>inf</td>\n",
       "      <td>0</td>\n",
       "    </tr>\n",
       "    <tr>\n",
       "      <th>3</th>\n",
       "      <td>3</td>\n",
       "      <td>(1.3184930086135864, 103.7667007446289)</td>\n",
       "      <td>--</td>\n",
       "      <td>inf</td>\n",
       "      <td>0</td>\n",
       "    </tr>\n",
       "    <tr>\n",
       "      <th>4</th>\n",
       "      <td>4</td>\n",
       "      <td>(1.3481495380401611, 103.74266052246094)</td>\n",
       "      <td>--</td>\n",
       "      <td>inf</td>\n",
       "      <td>0</td>\n",
       "    </tr>\n",
       "  </tbody>\n",
       "</table>\n",
       "</div>"
      ],
      "text/plain": [
       "   index                                  lat_long nearest_commercial_center  \\\n",
       "0      0  (1.3690080642700195, 103.95869445800781)                        --   \n",
       "1      1  (1.3990070819854736, 103.90699005126953)                        --   \n",
       "2      2  (1.3883482217788696, 103.87381744384766)                        --   \n",
       "3      3   (1.3184930086135864, 103.7667007446289)                        --   \n",
       "4      4  (1.3481495380401611, 103.74266052246094)                        --   \n",
       "\n",
       "   nearest_commercial_center_distance  commercial_center_1_km  \n",
       "0                                 inf                       0  \n",
       "1                                 inf                       0  \n",
       "2                                 inf                       0  \n",
       "3                                 inf                       0  \n",
       "4                                 inf                       0  "
      ]
     },
     "execution_count": 19,
     "metadata": {},
     "output_type": "execute_result"
    }
   ],
   "source": [
    "train_df_temp.head()"
   ]
  },
  {
   "cell_type": "code",
   "execution_count": 20,
   "metadata": {},
   "outputs": [
    {
     "data": {
      "text/html": [
       "<div>\n",
       "<style scoped>\n",
       "    .dataframe tbody tr th:only-of-type {\n",
       "        vertical-align: middle;\n",
       "    }\n",
       "\n",
       "    .dataframe tbody tr th {\n",
       "        vertical-align: top;\n",
       "    }\n",
       "\n",
       "    .dataframe thead th {\n",
       "        text-align: right;\n",
       "    }\n",
       "</style>\n",
       "<table border=\"1\" class=\"dataframe\">\n",
       "  <thead>\n",
       "    <tr style=\"text-align: right;\">\n",
       "      <th></th>\n",
       "      <th>index</th>\n",
       "      <th>lat_long</th>\n",
       "      <th>nearest_commercial_center</th>\n",
       "      <th>nearest_commercial_center_distance</th>\n",
       "      <th>commercial_center_1_km</th>\n",
       "    </tr>\n",
       "  </thead>\n",
       "  <tbody>\n",
       "    <tr>\n",
       "      <th>0</th>\n",
       "      <td>0</td>\n",
       "      <td>(1.3465807437896729, 103.74408721923828)</td>\n",
       "      <td>--</td>\n",
       "      <td>inf</td>\n",
       "      <td>0</td>\n",
       "    </tr>\n",
       "    <tr>\n",
       "      <th>1</th>\n",
       "      <td>1</td>\n",
       "      <td>(1.3576176166534424, 103.96138000488281)</td>\n",
       "      <td>--</td>\n",
       "      <td>inf</td>\n",
       "      <td>0</td>\n",
       "    </tr>\n",
       "    <tr>\n",
       "      <th>2</th>\n",
       "      <td>2</td>\n",
       "      <td>(1.337803840637207, 103.74199676513672)</td>\n",
       "      <td>--</td>\n",
       "      <td>inf</td>\n",
       "      <td>0</td>\n",
       "    </tr>\n",
       "    <tr>\n",
       "      <th>3</th>\n",
       "      <td>3</td>\n",
       "      <td>(1.380083680152893, 103.84957122802734)</td>\n",
       "      <td>--</td>\n",
       "      <td>inf</td>\n",
       "      <td>0</td>\n",
       "    </tr>\n",
       "    <tr>\n",
       "      <th>4</th>\n",
       "      <td>4</td>\n",
       "      <td>(1.3139597177505493, 103.76982879638672)</td>\n",
       "      <td>--</td>\n",
       "      <td>inf</td>\n",
       "      <td>0</td>\n",
       "    </tr>\n",
       "  </tbody>\n",
       "</table>\n",
       "</div>"
      ],
      "text/plain": [
       "   index                                  lat_long nearest_commercial_center  \\\n",
       "0      0  (1.3465807437896729, 103.74408721923828)                        --   \n",
       "1      1  (1.3576176166534424, 103.96138000488281)                        --   \n",
       "2      2   (1.337803840637207, 103.74199676513672)                        --   \n",
       "3      3   (1.380083680152893, 103.84957122802734)                        --   \n",
       "4      4  (1.3139597177505493, 103.76982879638672)                        --   \n",
       "\n",
       "   nearest_commercial_center_distance  commercial_center_1_km  \n",
       "0                                 inf                       0  \n",
       "1                                 inf                       0  \n",
       "2                                 inf                       0  \n",
       "3                                 inf                       0  \n",
       "4                                 inf                       0  "
      ]
     },
     "execution_count": 20,
     "metadata": {},
     "output_type": "execute_result"
    }
   ],
   "source": [
    "test_df_temp.head()"
   ]
  },
  {
   "cell_type": "markdown",
   "metadata": {},
   "source": [
    "Converting our dataframe to numpy arrays for faster computation"
   ]
  },
  {
   "cell_type": "code",
   "execution_count": 21,
   "metadata": {
    "id": "lEF9hWIoxQEG"
   },
   "outputs": [],
   "source": [
    "train_df_temp_numpy = train_df_temp.to_numpy()\n",
    "test_df_temp_numpy = test_df_temp.to_numpy()\n",
    "aux_df_numpy = aux_df.to_numpy()"
   ]
  },
  {
   "cell_type": "code",
   "execution_count": 22,
   "metadata": {},
   "outputs": [
    {
     "name": "stdout",
     "output_type": "stream",
     "text": [
      "Shape of train_df_temp_numpy : (9138, 5)\n",
      "Shape of test_df_temp_numpy : (8990, 5)\n",
      "Shape of aux_df_numpy : (38, 3)\n"
     ]
    }
   ],
   "source": [
    "print(\"Shape of train_df_temp_numpy :\",np.shape(train_df_temp_numpy))\n",
    "print(\"Shape of test_df_temp_numpy :\",np.shape(test_df_temp_numpy))\n",
    "print(\"Shape of aux_df_numpy :\",np.shape(aux_df_numpy))"
   ]
  },
  {
   "cell_type": "markdown",
   "metadata": {},
   "source": [
    "## Get the nearest commercial center and its distance from HDB. Also count the number of commercial centers within 1km from HDB"
   ]
  },
  {
   "cell_type": "code",
   "execution_count": 23,
   "metadata": {},
   "outputs": [
    {
     "name": "stdout",
     "output_type": "stream",
     "text": [
      "Get distance for each location and update nearest commercial center and its distance\n",
      "Add nearest_commercial_center and nearest_commercial_center_distance and count of shopping malls in 1 km to dataframe\n",
      "Wall time: 8.74 s\n"
     ]
    }
   ],
   "source": [
    "%%time\n",
    "print(\"Get distance for each location and update nearest commercial center and its distance\")\n",
    "for i in range(len(train_df_temp_numpy)):\n",
    "    min_dist = math.inf\n",
    "    min_dist_aux = \"\"\n",
    "    hdb_location = train_df_temp_numpy[i][1]\n",
    "    hdb_location = eval(hdb_location)\n",
    "    count = 0\n",
    "    for j in range(len(aux_df_numpy)):\n",
    "        aux_location = aux_df_numpy[j][2]\n",
    "        distance = geopy.distance.great_circle(hdb_location, aux_location).km\n",
    "        if distance < min_dist:\n",
    "            min_dist = distance\n",
    "            min_dist_mrt = aux_df_numpy[j][1]\n",
    "        if distance <= 1:\n",
    "            count+=1\n",
    "    train_df_temp_numpy[i][2] = min_dist_mrt\n",
    "    train_df_temp_numpy[i][3] = min_dist\n",
    "    train_df_temp_numpy[i][4] = count\n",
    "\n",
    "print(\"Add nearest_commercial_center and nearest_commercial_center_distance and count of shopping malls in 1 km to dataframe\")\n",
    "for i in range(len(train_df_temp_numpy)):\n",
    "    dataframe_index = train_df_temp_numpy[i][0]\n",
    "    train_df_temp.loc[i, \"nearest_commercial_center\"] = train_df_temp_numpy[i][2]\n",
    "    train_df_temp.loc[i, \"nearest_commercial_center_distance\"] = train_df_temp_numpy[i][3]\n",
    "    train_df_temp.loc[i, \"commercial_center_1_km\"] = train_df_temp_numpy[i][4]"
   ]
  },
  {
   "cell_type": "code",
   "execution_count": 24,
   "metadata": {},
   "outputs": [
    {
     "name": "stdout",
     "output_type": "stream",
     "text": [
      "Get distance for each location and update nearest shopping mall and its distance\n",
      "Add nearest_commercial_center and nearest_commercial_center_distance and count of shopping malls in half km to dataframe\n",
      "Wall time: 8.69 s\n"
     ]
    }
   ],
   "source": [
    "%%time\n",
    "print(\"Get distance for each location and update nearest shopping mall and its distance\")\n",
    "for i in range(len(test_df_temp_numpy)):\n",
    "    min_dist = math.inf\n",
    "    min_dist_aux = \"\"\n",
    "    hdb_location = test_df_temp_numpy[i][1]\n",
    "    hdb_location = eval(hdb_location)\n",
    "    count = 0\n",
    "    for j in range(len(aux_df_numpy)):\n",
    "        aux_location = aux_df_numpy[j][2]\n",
    "        distance = geopy.distance.great_circle(hdb_location, aux_location).km\n",
    "        if distance < min_dist:\n",
    "            min_dist = distance\n",
    "            min_dist_mrt = aux_df_numpy[j][1]\n",
    "        if distance <= 0.5:\n",
    "            count+=1\n",
    "    test_df_temp_numpy[i][2] = min_dist_mrt\n",
    "    test_df_temp_numpy[i][3] = min_dist\n",
    "    test_df_temp_numpy[i][4] = count\n",
    "\n",
    "print(\"Add nearest_commercial_center and nearest_commercial_center_distance and count of shopping malls in half km to dataframe\")\n",
    "for i in range(len(test_df_temp_numpy)):\n",
    "    dataframe_index = test_df_temp_numpy[i][0]\n",
    "    test_df_temp.loc[i, \"nearest_commercial_center\"] = test_df_temp_numpy[i][2]\n",
    "    test_df_temp.loc[i, \"nearest_commercial_center_distance\"] = test_df_temp_numpy[i][3]\n",
    "    test_df_temp.loc[i, \"commercial_center_1_km\"] = test_df_temp_numpy[i][4]"
   ]
  },
  {
   "cell_type": "code",
   "execution_count": 25,
   "metadata": {},
   "outputs": [
    {
     "data": {
      "text/html": [
       "<div>\n",
       "<style scoped>\n",
       "    .dataframe tbody tr th:only-of-type {\n",
       "        vertical-align: middle;\n",
       "    }\n",
       "\n",
       "    .dataframe tbody tr th {\n",
       "        vertical-align: top;\n",
       "    }\n",
       "\n",
       "    .dataframe thead th {\n",
       "        text-align: right;\n",
       "    }\n",
       "</style>\n",
       "<table border=\"1\" class=\"dataframe\">\n",
       "  <thead>\n",
       "    <tr style=\"text-align: right;\">\n",
       "      <th></th>\n",
       "      <th>index</th>\n",
       "      <th>lat_long</th>\n",
       "      <th>nearest_commercial_center</th>\n",
       "      <th>nearest_commercial_center_distance</th>\n",
       "      <th>commercial_center_1_km</th>\n",
       "    </tr>\n",
       "  </thead>\n",
       "  <tbody>\n",
       "    <tr>\n",
       "      <th>0</th>\n",
       "      <td>0</td>\n",
       "      <td>(1.3690080642700195, 103.95869445800781)</td>\n",
       "      <td>Tampines Regional Centre</td>\n",
       "      <td>2.313421</td>\n",
       "      <td>0</td>\n",
       "    </tr>\n",
       "    <tr>\n",
       "      <th>1</th>\n",
       "      <td>1</td>\n",
       "      <td>(1.3990070819854736, 103.90699005126953)</td>\n",
       "      <td>Punggol Digital District</td>\n",
       "      <td>1.462459</td>\n",
       "      <td>0</td>\n",
       "    </tr>\n",
       "    <tr>\n",
       "      <th>2</th>\n",
       "      <td>2</td>\n",
       "      <td>(1.3883482217788696, 103.87381744384766)</td>\n",
       "      <td>Sengkang West</td>\n",
       "      <td>1.445186</td>\n",
       "      <td>0</td>\n",
       "    </tr>\n",
       "    <tr>\n",
       "      <th>3</th>\n",
       "      <td>3</td>\n",
       "      <td>(1.3184930086135864, 103.7667007446289)</td>\n",
       "      <td>International Business Park</td>\n",
       "      <td>2.387002</td>\n",
       "      <td>0</td>\n",
       "    </tr>\n",
       "    <tr>\n",
       "      <th>4</th>\n",
       "      <td>4</td>\n",
       "      <td>(1.3481495380401611, 103.74266052246094)</td>\n",
       "      <td>Jurong Lake District</td>\n",
       "      <td>1.807230</td>\n",
       "      <td>0</td>\n",
       "    </tr>\n",
       "  </tbody>\n",
       "</table>\n",
       "</div>"
      ],
      "text/plain": [
       "   index                                  lat_long  \\\n",
       "0      0  (1.3690080642700195, 103.95869445800781)   \n",
       "1      1  (1.3990070819854736, 103.90699005126953)   \n",
       "2      2  (1.3883482217788696, 103.87381744384766)   \n",
       "3      3   (1.3184930086135864, 103.7667007446289)   \n",
       "4      4  (1.3481495380401611, 103.74266052246094)   \n",
       "\n",
       "     nearest_commercial_center  nearest_commercial_center_distance  \\\n",
       "0     Tampines Regional Centre                            2.313421   \n",
       "1     Punggol Digital District                            1.462459   \n",
       "2                Sengkang West                            1.445186   \n",
       "3  International Business Park                            2.387002   \n",
       "4         Jurong Lake District                            1.807230   \n",
       "\n",
       "   commercial_center_1_km  \n",
       "0                       0  \n",
       "1                       0  \n",
       "2                       0  \n",
       "3                       0  \n",
       "4                       0  "
      ]
     },
     "execution_count": 25,
     "metadata": {},
     "output_type": "execute_result"
    }
   ],
   "source": [
    "train_df_temp.head()"
   ]
  },
  {
   "cell_type": "code",
   "execution_count": 26,
   "metadata": {},
   "outputs": [
    {
     "data": {
      "text/html": [
       "<div>\n",
       "<style scoped>\n",
       "    .dataframe tbody tr th:only-of-type {\n",
       "        vertical-align: middle;\n",
       "    }\n",
       "\n",
       "    .dataframe tbody tr th {\n",
       "        vertical-align: top;\n",
       "    }\n",
       "\n",
       "    .dataframe thead th {\n",
       "        text-align: right;\n",
       "    }\n",
       "</style>\n",
       "<table border=\"1\" class=\"dataframe\">\n",
       "  <thead>\n",
       "    <tr style=\"text-align: right;\">\n",
       "      <th></th>\n",
       "      <th>index</th>\n",
       "      <th>lat_long</th>\n",
       "      <th>nearest_commercial_center</th>\n",
       "      <th>nearest_commercial_center_distance</th>\n",
       "      <th>commercial_center_1_km</th>\n",
       "    </tr>\n",
       "  </thead>\n",
       "  <tbody>\n",
       "    <tr>\n",
       "      <th>0</th>\n",
       "      <td>0</td>\n",
       "      <td>(1.3465807437896729, 103.74408721923828)</td>\n",
       "      <td>Jurong Lake District</td>\n",
       "      <td>1.750241</td>\n",
       "      <td>0</td>\n",
       "    </tr>\n",
       "    <tr>\n",
       "      <th>1</th>\n",
       "      <td>1</td>\n",
       "      <td>(1.3576176166534424, 103.96138000488281)</td>\n",
       "      <td>Singapore Univeristy of Technology and Design</td>\n",
       "      <td>1.819764</td>\n",
       "      <td>0</td>\n",
       "    </tr>\n",
       "    <tr>\n",
       "      <th>2</th>\n",
       "      <td>2</td>\n",
       "      <td>(1.337803840637207, 103.74199676513672)</td>\n",
       "      <td>Jurong Lake District</td>\n",
       "      <td>0.929035</td>\n",
       "      <td>0</td>\n",
       "    </tr>\n",
       "    <tr>\n",
       "      <th>3</th>\n",
       "      <td>3</td>\n",
       "      <td>(1.380083680152893, 103.84957122802734)</td>\n",
       "      <td>Sengkang West</td>\n",
       "      <td>2.027525</td>\n",
       "      <td>0</td>\n",
       "    </tr>\n",
       "    <tr>\n",
       "      <th>4</th>\n",
       "      <td>4</td>\n",
       "      <td>(1.3139597177505493, 103.76982879638672)</td>\n",
       "      <td>Singapore Institute of Technology</td>\n",
       "      <td>1.827756</td>\n",
       "      <td>0</td>\n",
       "    </tr>\n",
       "  </tbody>\n",
       "</table>\n",
       "</div>"
      ],
      "text/plain": [
       "   index                                  lat_long  \\\n",
       "0      0  (1.3465807437896729, 103.74408721923828)   \n",
       "1      1  (1.3576176166534424, 103.96138000488281)   \n",
       "2      2   (1.337803840637207, 103.74199676513672)   \n",
       "3      3   (1.380083680152893, 103.84957122802734)   \n",
       "4      4  (1.3139597177505493, 103.76982879638672)   \n",
       "\n",
       "                       nearest_commercial_center  \\\n",
       "0                           Jurong Lake District   \n",
       "1  Singapore Univeristy of Technology and Design   \n",
       "2                           Jurong Lake District   \n",
       "3                                  Sengkang West   \n",
       "4              Singapore Institute of Technology   \n",
       "\n",
       "   nearest_commercial_center_distance  commercial_center_1_km  \n",
       "0                            1.750241                       0  \n",
       "1                            1.819764                       0  \n",
       "2                            0.929035                       0  \n",
       "3                            2.027525                       0  \n",
       "4                            1.827756                       0  "
      ]
     },
     "execution_count": 26,
     "metadata": {},
     "output_type": "execute_result"
    }
   ],
   "source": [
    "test_df_temp.head()"
   ]
  },
  {
   "cell_type": "markdown",
   "metadata": {
    "id": "th4d08ExUJE8"
   },
   "source": [
    "### We will now merge the result with our original data frames"
   ]
  },
  {
   "cell_type": "code",
   "execution_count": 27,
   "metadata": {
    "id": "7Z21VjOljHAn"
   },
   "outputs": [],
   "source": [
    "temp = train_df_temp[[\"lat_long\", \"nearest_commercial_center\", \"nearest_commercial_center_distance\",\"commercial_center_1_km\"]]\n",
    "train_df = pd.merge(train_df, temp, on=\"lat_long\", how='left')\n",
    "\n",
    "temp = test_df_temp[[\"lat_long\", \"nearest_commercial_center\", \"nearest_commercial_center_distance\",\"commercial_center_1_km\"]]\n",
    "test_df = pd.merge(test_df, temp, on=\"lat_long\", how='left')"
   ]
  },
  {
   "cell_type": "markdown",
   "metadata": {},
   "source": [
    "### Nearest Commercial center and its distance from HDB has been added to our dataframe"
   ]
  },
  {
   "cell_type": "code",
   "execution_count": 28,
   "metadata": {},
   "outputs": [
    {
     "data": {
      "text/html": [
       "<div>\n",
       "<style scoped>\n",
       "    .dataframe tbody tr th:only-of-type {\n",
       "        vertical-align: middle;\n",
       "    }\n",
       "\n",
       "    .dataframe tbody tr th {\n",
       "        vertical-align: top;\n",
       "    }\n",
       "\n",
       "    .dataframe thead th {\n",
       "        text-align: right;\n",
       "    }\n",
       "</style>\n",
       "<table border=\"1\" class=\"dataframe\">\n",
       "  <thead>\n",
       "    <tr style=\"text-align: right;\">\n",
       "      <th></th>\n",
       "      <th>town</th>\n",
       "      <th>flat_type</th>\n",
       "      <th>block</th>\n",
       "      <th>street_name</th>\n",
       "      <th>floor_area_sqm</th>\n",
       "      <th>flat_model</th>\n",
       "      <th>lease_commence_date</th>\n",
       "      <th>latitude</th>\n",
       "      <th>longitude</th>\n",
       "      <th>subzone</th>\n",
       "      <th>planning_area</th>\n",
       "      <th>region</th>\n",
       "      <th>resale_price</th>\n",
       "      <th>month_no</th>\n",
       "      <th>year</th>\n",
       "      <th>storey</th>\n",
       "      <th>lat_long</th>\n",
       "      <th>nearest_commercial_center</th>\n",
       "      <th>nearest_commercial_center_distance</th>\n",
       "      <th>commercial_center_1_km</th>\n",
       "    </tr>\n",
       "  </thead>\n",
       "  <tbody>\n",
       "    <tr>\n",
       "      <th>0</th>\n",
       "      <td>pasir ris</td>\n",
       "      <td>4-room</td>\n",
       "      <td>440</td>\n",
       "      <td>pasir ris drive 4</td>\n",
       "      <td>118.0</td>\n",
       "      <td>model a</td>\n",
       "      <td>1989</td>\n",
       "      <td>1.369008</td>\n",
       "      <td>103.958694</td>\n",
       "      <td>pasir ris drive</td>\n",
       "      <td>pasir ris</td>\n",
       "      <td>east region</td>\n",
       "      <td>209700.0</td>\n",
       "      <td>8</td>\n",
       "      <td>2001</td>\n",
       "      <td>2.0</td>\n",
       "      <td>(1.3690080642700195, 103.95869445800781)</td>\n",
       "      <td>Tampines Regional Centre</td>\n",
       "      <td>2.313421</td>\n",
       "      <td>0</td>\n",
       "    </tr>\n",
       "    <tr>\n",
       "      <th>1</th>\n",
       "      <td>punggol</td>\n",
       "      <td>5-room</td>\n",
       "      <td>196B</td>\n",
       "      <td>punggol field</td>\n",
       "      <td>110.0</td>\n",
       "      <td>improved</td>\n",
       "      <td>2003</td>\n",
       "      <td>1.399007</td>\n",
       "      <td>103.906990</td>\n",
       "      <td>punggol field</td>\n",
       "      <td>punggol</td>\n",
       "      <td>north-east region</td>\n",
       "      <td>402300.0</td>\n",
       "      <td>10</td>\n",
       "      <td>2014</td>\n",
       "      <td>11.0</td>\n",
       "      <td>(1.3990070819854736, 103.90699005126953)</td>\n",
       "      <td>Punggol Digital District</td>\n",
       "      <td>1.462459</td>\n",
       "      <td>0</td>\n",
       "    </tr>\n",
       "    <tr>\n",
       "      <th>2</th>\n",
       "      <td>sengkang</td>\n",
       "      <td>5-room</td>\n",
       "      <td>404A</td>\n",
       "      <td>fernvale lane</td>\n",
       "      <td>112.0</td>\n",
       "      <td>premium apartment</td>\n",
       "      <td>2004</td>\n",
       "      <td>1.388348</td>\n",
       "      <td>103.873820</td>\n",
       "      <td>fernvale</td>\n",
       "      <td>sengkang</td>\n",
       "      <td>north-east region</td>\n",
       "      <td>351000.0</td>\n",
       "      <td>9</td>\n",
       "      <td>2020</td>\n",
       "      <td>2.0</td>\n",
       "      <td>(1.3883482217788696, 103.87381744384766)</td>\n",
       "      <td>Sengkang West</td>\n",
       "      <td>1.445186</td>\n",
       "      <td>0</td>\n",
       "    </tr>\n",
       "    <tr>\n",
       "      <th>3</th>\n",
       "      <td>clementi</td>\n",
       "      <td>3-room</td>\n",
       "      <td>375</td>\n",
       "      <td>clementi avenue 4</td>\n",
       "      <td>67.0</td>\n",
       "      <td>new generation</td>\n",
       "      <td>1980</td>\n",
       "      <td>1.318493</td>\n",
       "      <td>103.766700</td>\n",
       "      <td>clementi north</td>\n",
       "      <td>clementi</td>\n",
       "      <td>west region</td>\n",
       "      <td>151200.0</td>\n",
       "      <td>10</td>\n",
       "      <td>2000</td>\n",
       "      <td>8.0</td>\n",
       "      <td>(1.3184930086135864, 103.7667007446289)</td>\n",
       "      <td>International Business Park</td>\n",
       "      <td>2.387002</td>\n",
       "      <td>0</td>\n",
       "    </tr>\n",
       "    <tr>\n",
       "      <th>4</th>\n",
       "      <td>bukit batok</td>\n",
       "      <td>3-room</td>\n",
       "      <td>163</td>\n",
       "      <td>bukit batok street 11</td>\n",
       "      <td>73.0</td>\n",
       "      <td>model a</td>\n",
       "      <td>1985</td>\n",
       "      <td>1.348150</td>\n",
       "      <td>103.742660</td>\n",
       "      <td>bukit batok west</td>\n",
       "      <td>bukit batok</td>\n",
       "      <td>west region</td>\n",
       "      <td>318600.0</td>\n",
       "      <td>1</td>\n",
       "      <td>2013</td>\n",
       "      <td>8.0</td>\n",
       "      <td>(1.3481495380401611, 103.74266052246094)</td>\n",
       "      <td>Jurong Lake District</td>\n",
       "      <td>1.807230</td>\n",
       "      <td>0</td>\n",
       "    </tr>\n",
       "  </tbody>\n",
       "</table>\n",
       "</div>"
      ],
      "text/plain": [
       "          town flat_type block            street_name  floor_area_sqm  \\\n",
       "0    pasir ris    4-room   440      pasir ris drive 4           118.0   \n",
       "1      punggol    5-room  196B          punggol field           110.0   \n",
       "2     sengkang    5-room  404A          fernvale lane           112.0   \n",
       "3     clementi    3-room   375      clementi avenue 4            67.0   \n",
       "4  bukit batok    3-room   163  bukit batok street 11            73.0   \n",
       "\n",
       "          flat_model  lease_commence_date  latitude   longitude  \\\n",
       "0            model a                 1989  1.369008  103.958694   \n",
       "1           improved                 2003  1.399007  103.906990   \n",
       "2  premium apartment                 2004  1.388348  103.873820   \n",
       "3     new generation                 1980  1.318493  103.766700   \n",
       "4            model a                 1985  1.348150  103.742660   \n",
       "\n",
       "            subzone planning_area             region  resale_price  month_no  \\\n",
       "0   pasir ris drive     pasir ris        east region      209700.0         8   \n",
       "1     punggol field       punggol  north-east region      402300.0        10   \n",
       "2          fernvale      sengkang  north-east region      351000.0         9   \n",
       "3    clementi north      clementi        west region      151200.0        10   \n",
       "4  bukit batok west   bukit batok        west region      318600.0         1   \n",
       "\n",
       "   year  storey                                  lat_long  \\\n",
       "0  2001     2.0  (1.3690080642700195, 103.95869445800781)   \n",
       "1  2014    11.0  (1.3990070819854736, 103.90699005126953)   \n",
       "2  2020     2.0  (1.3883482217788696, 103.87381744384766)   \n",
       "3  2000     8.0   (1.3184930086135864, 103.7667007446289)   \n",
       "4  2013     8.0  (1.3481495380401611, 103.74266052246094)   \n",
       "\n",
       "     nearest_commercial_center  nearest_commercial_center_distance  \\\n",
       "0     Tampines Regional Centre                            2.313421   \n",
       "1     Punggol Digital District                            1.462459   \n",
       "2                Sengkang West                            1.445186   \n",
       "3  International Business Park                            2.387002   \n",
       "4         Jurong Lake District                            1.807230   \n",
       "\n",
       "   commercial_center_1_km  \n",
       "0                       0  \n",
       "1                       0  \n",
       "2                       0  \n",
       "3                       0  \n",
       "4                       0  "
      ]
     },
     "execution_count": 28,
     "metadata": {},
     "output_type": "execute_result"
    }
   ],
   "source": [
    "train_df.head()"
   ]
  },
  {
   "cell_type": "code",
   "execution_count": 29,
   "metadata": {},
   "outputs": [
    {
     "data": {
      "text/html": [
       "<div>\n",
       "<style scoped>\n",
       "    .dataframe tbody tr th:only-of-type {\n",
       "        vertical-align: middle;\n",
       "    }\n",
       "\n",
       "    .dataframe tbody tr th {\n",
       "        vertical-align: top;\n",
       "    }\n",
       "\n",
       "    .dataframe thead th {\n",
       "        text-align: right;\n",
       "    }\n",
       "</style>\n",
       "<table border=\"1\" class=\"dataframe\">\n",
       "  <thead>\n",
       "    <tr style=\"text-align: right;\">\n",
       "      <th></th>\n",
       "      <th>town</th>\n",
       "      <th>flat_type</th>\n",
       "      <th>block</th>\n",
       "      <th>street_name</th>\n",
       "      <th>floor_area_sqm</th>\n",
       "      <th>flat_model</th>\n",
       "      <th>lease_commence_date</th>\n",
       "      <th>latitude</th>\n",
       "      <th>longitude</th>\n",
       "      <th>subzone</th>\n",
       "      <th>planning_area</th>\n",
       "      <th>region</th>\n",
       "      <th>month_no</th>\n",
       "      <th>year</th>\n",
       "      <th>storey</th>\n",
       "      <th>lat_long</th>\n",
       "      <th>nearest_commercial_center</th>\n",
       "      <th>nearest_commercial_center_distance</th>\n",
       "      <th>commercial_center_1_km</th>\n",
       "    </tr>\n",
       "  </thead>\n",
       "  <tbody>\n",
       "    <tr>\n",
       "      <th>0</th>\n",
       "      <td>bukit batok</td>\n",
       "      <td>4-room</td>\n",
       "      <td>186</td>\n",
       "      <td>bukit batok west avenue 6</td>\n",
       "      <td>94.0</td>\n",
       "      <td>new generation</td>\n",
       "      <td>1989</td>\n",
       "      <td>1.346581</td>\n",
       "      <td>103.74409</td>\n",
       "      <td>bukit batok west</td>\n",
       "      <td>bukit batok</td>\n",
       "      <td>west region</td>\n",
       "      <td>1</td>\n",
       "      <td>2004</td>\n",
       "      <td>5.0</td>\n",
       "      <td>(1.3465807437896729, 103.74408721923828)</td>\n",
       "      <td>Jurong Lake District</td>\n",
       "      <td>1.750241</td>\n",
       "      <td>0</td>\n",
       "    </tr>\n",
       "    <tr>\n",
       "      <th>1</th>\n",
       "      <td>tampines</td>\n",
       "      <td>5-room</td>\n",
       "      <td>366</td>\n",
       "      <td>tampines street 34</td>\n",
       "      <td>122.0</td>\n",
       "      <td>improved</td>\n",
       "      <td>1997</td>\n",
       "      <td>1.357618</td>\n",
       "      <td>103.96138</td>\n",
       "      <td>tampines east</td>\n",
       "      <td>tampines</td>\n",
       "      <td>east region</td>\n",
       "      <td>11</td>\n",
       "      <td>2001</td>\n",
       "      <td>5.0</td>\n",
       "      <td>(1.3576176166534424, 103.96138000488281)</td>\n",
       "      <td>Singapore Univeristy of Technology and Design</td>\n",
       "      <td>1.819764</td>\n",
       "      <td>0</td>\n",
       "    </tr>\n",
       "    <tr>\n",
       "      <th>2</th>\n",
       "      <td>jurong east</td>\n",
       "      <td>3-room</td>\n",
       "      <td>206</td>\n",
       "      <td>jurong east street 21</td>\n",
       "      <td>67.0</td>\n",
       "      <td>new generation</td>\n",
       "      <td>1982</td>\n",
       "      <td>1.337804</td>\n",
       "      <td>103.74200</td>\n",
       "      <td>toh guan</td>\n",
       "      <td>jurong east</td>\n",
       "      <td>west region</td>\n",
       "      <td>7</td>\n",
       "      <td>2002</td>\n",
       "      <td>2.0</td>\n",
       "      <td>(1.337803840637207, 103.74199676513672)</td>\n",
       "      <td>Jurong Lake District</td>\n",
       "      <td>0.929035</td>\n",
       "      <td>0</td>\n",
       "    </tr>\n",
       "    <tr>\n",
       "      <th>3</th>\n",
       "      <td>ang mo kio</td>\n",
       "      <td>3-room</td>\n",
       "      <td>180</td>\n",
       "      <td>Ang Mo Kio Avenue 5</td>\n",
       "      <td>82.0</td>\n",
       "      <td>new generation</td>\n",
       "      <td>1981</td>\n",
       "      <td>1.380084</td>\n",
       "      <td>103.84957</td>\n",
       "      <td>yio chu kang east</td>\n",
       "      <td>ang mo kio</td>\n",
       "      <td>north-east region</td>\n",
       "      <td>4</td>\n",
       "      <td>2015</td>\n",
       "      <td>5.0</td>\n",
       "      <td>(1.380083680152893, 103.84957122802734)</td>\n",
       "      <td>Sengkang West</td>\n",
       "      <td>2.027525</td>\n",
       "      <td>0</td>\n",
       "    </tr>\n",
       "    <tr>\n",
       "      <th>4</th>\n",
       "      <td>clementi</td>\n",
       "      <td>5-room</td>\n",
       "      <td>356</td>\n",
       "      <td>clementi avenue 2</td>\n",
       "      <td>117.0</td>\n",
       "      <td>standard</td>\n",
       "      <td>1978</td>\n",
       "      <td>1.313960</td>\n",
       "      <td>103.76983</td>\n",
       "      <td>clementi north</td>\n",
       "      <td>clementi</td>\n",
       "      <td>west region</td>\n",
       "      <td>4</td>\n",
       "      <td>2004</td>\n",
       "      <td>2.0</td>\n",
       "      <td>(1.3139597177505493, 103.76982879638672)</td>\n",
       "      <td>Singapore Institute of Technology</td>\n",
       "      <td>1.827756</td>\n",
       "      <td>0</td>\n",
       "    </tr>\n",
       "  </tbody>\n",
       "</table>\n",
       "</div>"
      ],
      "text/plain": [
       "          town flat_type block                street_name  floor_area_sqm  \\\n",
       "0  bukit batok    4-room   186  bukit batok west avenue 6            94.0   \n",
       "1     tampines    5-room   366         tampines street 34           122.0   \n",
       "2  jurong east    3-room   206      jurong east street 21            67.0   \n",
       "3   ang mo kio    3-room   180        Ang Mo Kio Avenue 5            82.0   \n",
       "4     clementi    5-room   356          clementi avenue 2           117.0   \n",
       "\n",
       "       flat_model  lease_commence_date  latitude  longitude  \\\n",
       "0  new generation                 1989  1.346581  103.74409   \n",
       "1        improved                 1997  1.357618  103.96138   \n",
       "2  new generation                 1982  1.337804  103.74200   \n",
       "3  new generation                 1981  1.380084  103.84957   \n",
       "4        standard                 1978  1.313960  103.76983   \n",
       "\n",
       "             subzone planning_area             region  month_no  year  storey  \\\n",
       "0   bukit batok west   bukit batok        west region         1  2004     5.0   \n",
       "1      tampines east      tampines        east region        11  2001     5.0   \n",
       "2           toh guan   jurong east        west region         7  2002     2.0   \n",
       "3  yio chu kang east    ang mo kio  north-east region         4  2015     5.0   \n",
       "4     clementi north      clementi        west region         4  2004     2.0   \n",
       "\n",
       "                                   lat_long  \\\n",
       "0  (1.3465807437896729, 103.74408721923828)   \n",
       "1  (1.3576176166534424, 103.96138000488281)   \n",
       "2   (1.337803840637207, 103.74199676513672)   \n",
       "3   (1.380083680152893, 103.84957122802734)   \n",
       "4  (1.3139597177505493, 103.76982879638672)   \n",
       "\n",
       "                       nearest_commercial_center  \\\n",
       "0                           Jurong Lake District   \n",
       "1  Singapore Univeristy of Technology and Design   \n",
       "2                           Jurong Lake District   \n",
       "3                                  Sengkang West   \n",
       "4              Singapore Institute of Technology   \n",
       "\n",
       "   nearest_commercial_center_distance  commercial_center_1_km  \n",
       "0                            1.750241                       0  \n",
       "1                            1.819764                       0  \n",
       "2                            0.929035                       0  \n",
       "3                            2.027525                       0  \n",
       "4                            1.827756                       0  "
      ]
     },
     "execution_count": 29,
     "metadata": {},
     "output_type": "execute_result"
    }
   ],
   "source": [
    "test_df.head()"
   ]
  },
  {
   "cell_type": "markdown",
   "metadata": {},
   "source": [
    "# ADD SOME PLOTS HERE"
   ]
  },
  {
   "cell_type": "code",
   "execution_count": 30,
   "metadata": {},
   "outputs": [
    {
     "data": {
      "text/plain": [
       "<AxesSubplot:>"
      ]
     },
     "execution_count": 30,
     "metadata": {},
     "output_type": "execute_result"
    },
    {
     "data": {
      "image/png": "[encoded data removed]",
      "text/plain": [
       "<Figure size 1080x864 with 2 Axes>"
      ]
     },
     "metadata": {
      "needs_background": "light"
     },
     "output_type": "display_data"
    }
   ],
   "source": [
    "corr = train_df.corr()\n",
    "plt.subplots(figsize=(15,12))\n",
    "sns.heatmap(corr, vmax=0.9, cmap=\"Blues\", square=True)"
   ]
  },
  {
   "cell_type": "code",
   "execution_count": 31,
   "metadata": {},
   "outputs": [
    {
     "data": {
      "text/html": [
       "<style  type=\"text/css\" >\n",
       "#T_357427a4_9cf6_11eb_aef6_342eb79777ferow0_col0{\n",
       "            background-color:  #fde725;\n",
       "            color:  #000000;\n",
       "        }#T_357427a4_9cf6_11eb_aef6_342eb79777ferow1_col0{\n",
       "            background-color:  #28ae80;\n",
       "            color:  #000000;\n",
       "        }#T_357427a4_9cf6_11eb_aef6_342eb79777ferow2_col0{\n",
       "            background-color:  #26ad81;\n",
       "            color:  #000000;\n",
       "        }#T_357427a4_9cf6_11eb_aef6_342eb79777ferow3_col0{\n",
       "            background-color:  #218e8d;\n",
       "            color:  #000000;\n",
       "        }#T_357427a4_9cf6_11eb_aef6_342eb79777ferow4_col0{\n",
       "            background-color:  #2e6d8e;\n",
       "            color:  #f1f1f1;\n",
       "        }#T_357427a4_9cf6_11eb_aef6_342eb79777ferow5_col0{\n",
       "            background-color:  #414487;\n",
       "            color:  #f1f1f1;\n",
       "        }#T_357427a4_9cf6_11eb_aef6_342eb79777ferow6_col0{\n",
       "            background-color:  #433d84;\n",
       "            color:  #f1f1f1;\n",
       "        }#T_357427a4_9cf6_11eb_aef6_342eb79777ferow7_col0{\n",
       "            background-color:  #472f7d;\n",
       "            color:  #f1f1f1;\n",
       "        }#T_357427a4_9cf6_11eb_aef6_342eb79777ferow8_col0{\n",
       "            background-color:  #481668;\n",
       "            color:  #f1f1f1;\n",
       "        }#T_357427a4_9cf6_11eb_aef6_342eb79777ferow9_col0{\n",
       "            background-color:  #440154;\n",
       "            color:  #f1f1f1;\n",
       "        }</style><table id=\"T_357427a4_9cf6_11eb_aef6_342eb79777fe\" ><thead>    <tr>        <th class=\"blank level0\" ></th>        <th class=\"col_heading level0 col0\" >resale_price</th>    </tr></thead><tbody>\n",
       "                <tr>\n",
       "                        <th id=\"T_357427a4_9cf6_11eb_aef6_342eb79777felevel0_row0\" class=\"row_heading level0 row0\" >resale_price</th>\n",
       "                        <td id=\"T_357427a4_9cf6_11eb_aef6_342eb79777ferow0_col0\" class=\"data row0 col0\" >1.000000</td>\n",
       "            </tr>\n",
       "            <tr>\n",
       "                        <th id=\"T_357427a4_9cf6_11eb_aef6_342eb79777felevel0_row1\" class=\"row_heading level0 row1\" >year</th>\n",
       "                        <td id=\"T_357427a4_9cf6_11eb_aef6_342eb79777ferow1_col0\" class=\"data row1 col0\" >0.578717</td>\n",
       "            </tr>\n",
       "            <tr>\n",
       "                        <th id=\"T_357427a4_9cf6_11eb_aef6_342eb79777felevel0_row2\" class=\"row_heading level0 row2\" >floor_area_sqm</th>\n",
       "                        <td id=\"T_357427a4_9cf6_11eb_aef6_342eb79777ferow2_col0\" class=\"data row2 col0\" >0.570385</td>\n",
       "            </tr>\n",
       "            <tr>\n",
       "                        <th id=\"T_357427a4_9cf6_11eb_aef6_342eb79777felevel0_row3\" class=\"row_heading level0 row3\" >lease_commence_date</th>\n",
       "                        <td id=\"T_357427a4_9cf6_11eb_aef6_342eb79777ferow3_col0\" class=\"data row3 col0\" >0.423578</td>\n",
       "            </tr>\n",
       "            <tr>\n",
       "                        <th id=\"T_357427a4_9cf6_11eb_aef6_342eb79777felevel0_row4\" class=\"row_heading level0 row4\" >storey</th>\n",
       "                        <td id=\"T_357427a4_9cf6_11eb_aef6_342eb79777ferow4_col0\" class=\"data row4 col0\" >0.269431</td>\n",
       "            </tr>\n",
       "            <tr>\n",
       "                        <th id=\"T_357427a4_9cf6_11eb_aef6_342eb79777felevel0_row5\" class=\"row_heading level0 row5\" >longitude</th>\n",
       "                        <td id=\"T_357427a4_9cf6_11eb_aef6_342eb79777ferow5_col0\" class=\"data row5 col0\" >0.099786</td>\n",
       "            </tr>\n",
       "            <tr>\n",
       "                        <th id=\"T_357427a4_9cf6_11eb_aef6_342eb79777felevel0_row6\" class=\"row_heading level0 row6\" >commercial_center_1_km</th>\n",
       "                        <td id=\"T_357427a4_9cf6_11eb_aef6_342eb79777ferow6_col0\" class=\"data row6 col0\" >0.074196</td>\n",
       "            </tr>\n",
       "            <tr>\n",
       "                        <th id=\"T_357427a4_9cf6_11eb_aef6_342eb79777felevel0_row7\" class=\"row_heading level0 row7\" >month_no</th>\n",
       "                        <td id=\"T_357427a4_9cf6_11eb_aef6_342eb79777ferow7_col0\" class=\"data row7 col0\" >0.025448</td>\n",
       "            </tr>\n",
       "            <tr>\n",
       "                        <th id=\"T_357427a4_9cf6_11eb_aef6_342eb79777felevel0_row8\" class=\"row_heading level0 row8\" >latitude</th>\n",
       "                        <td id=\"T_357427a4_9cf6_11eb_aef6_342eb79777ferow8_col0\" class=\"data row8 col0\" >-0.065915</td>\n",
       "            </tr>\n",
       "            <tr>\n",
       "                        <th id=\"T_357427a4_9cf6_11eb_aef6_342eb79777felevel0_row9\" class=\"row_heading level0 row9\" >nearest_commercial_center_distance</th>\n",
       "                        <td id=\"T_357427a4_9cf6_11eb_aef6_342eb79777ferow9_col0\" class=\"data row9 col0\" >-0.128550</td>\n",
       "            </tr>\n",
       "    </tbody></table>"
      ],
      "text/plain": [
       "<pandas.io.formats.style.Styler at 0x21ccc3bc400>"
      ]
     },
     "execution_count": 31,
     "metadata": {},
     "output_type": "execute_result"
    }
   ],
   "source": [
    "corr[['resale_price']].sort_values(by='resale_price',ascending=False).style.background_gradient(cmap='viridis', axis=None)"
   ]
  },
  {
   "cell_type": "code",
   "execution_count": null,
   "metadata": {},
   "outputs": [],
   "source": []
  },
  {
   "cell_type": "code",
   "execution_count": null,
   "metadata": {},
   "outputs": [],
   "source": []
  },
  {
   "cell_type": "markdown",
   "metadata": {},
   "source": [
    "### Reduce the size of dataframe to save memory during training"
   ]
  },
  {
   "cell_type": "code",
   "execution_count": 32,
   "metadata": {},
   "outputs": [
    {
     "name": "stdout",
     "output_type": "stream",
     "text": [
      "Memory usage of properties dataframe is : 69.17092895507812  MB\n",
      "__MEMORY USAGE AFTER COMPLETION:__\n",
      "Memory usage is:  47.34914779663086  MB\n",
      "This is  68.45238095238095 % of the initial size\n",
      "Memory usage of properties dataframe is : 16.46942138671875  MB\n",
      "__MEMORY USAGE AFTER COMPLETION:__\n",
      "Memory usage is:  11.425661087036133  MB\n",
      "This is  69.375 % of the initial size\n"
     ]
    }
   ],
   "source": [
    "train_df, _ = reduce_memory_usage(train_df)\n",
    "test_df, _ = reduce_memory_usage(test_df)"
   ]
  },
  {
   "cell_type": "markdown",
   "metadata": {},
   "source": [
    "### Segregate the columns"
   ]
  },
  {
   "cell_type": "code",
   "execution_count": 33,
   "metadata": {},
   "outputs": [],
   "source": [
    "integer_columns = [\n",
    "    \"lease_commence_date\",\n",
    "    \"storey\",\n",
    "    \"month_no\",\n",
    "    \"year\",\n",
    "    \"nearest_commercial_center_distance\",\n",
    "    \"commercial_center_1_km\"\n",
    "]\n",
    "\n",
    "float_columns = [\n",
    "    \"floor_area_sqm\",\n",
    "]\n",
    "\n",
    "target_column = [\n",
    "    \"resale_price\"\n",
    "]\n",
    "\n",
    "## Categorical columns need to be encoded before training\n",
    "categorical_columns = [\n",
    "    \"town\",\n",
    "    \"flat_type\",\n",
    "    \"flat_model\",\n",
    "    \"subzone\",\n",
    "    \"planning_area\",\n",
    "    \"region\"\n",
    "]\n",
    "\n",
    "## We will drop these columns before training\n",
    "drop_columns = [\n",
    "    \"lat_long\",\n",
    "    \"block\",\n",
    "    \"street_name\",\n",
    "    \"nearest_commercial_center\",\n",
    "    \"latitude\",\n",
    "    \"longitude\"\n",
    "]"
   ]
  },
  {
   "cell_type": "markdown",
   "metadata": {},
   "source": [
    "### Drop the selected columns"
   ]
  },
  {
   "cell_type": "code",
   "execution_count": 34,
   "metadata": {},
   "outputs": [],
   "source": [
    "train_df = train_df.drop(columns=drop_columns)\n",
    "test_df = test_df.drop(columns=drop_columns)"
   ]
  },
  {
   "cell_type": "code",
   "execution_count": 35,
   "metadata": {},
   "outputs": [
    {
     "data": {
      "text/html": [
       "<div>\n",
       "<style scoped>\n",
       "    .dataframe tbody tr th:only-of-type {\n",
       "        vertical-align: middle;\n",
       "    }\n",
       "\n",
       "    .dataframe tbody tr th {\n",
       "        vertical-align: top;\n",
       "    }\n",
       "\n",
       "    .dataframe thead th {\n",
       "        text-align: right;\n",
       "    }\n",
       "</style>\n",
       "<table border=\"1\" class=\"dataframe\">\n",
       "  <thead>\n",
       "    <tr style=\"text-align: right;\">\n",
       "      <th></th>\n",
       "      <th>town</th>\n",
       "      <th>flat_type</th>\n",
       "      <th>floor_area_sqm</th>\n",
       "      <th>flat_model</th>\n",
       "      <th>lease_commence_date</th>\n",
       "      <th>subzone</th>\n",
       "      <th>planning_area</th>\n",
       "      <th>region</th>\n",
       "      <th>resale_price</th>\n",
       "      <th>month_no</th>\n",
       "      <th>year</th>\n",
       "      <th>storey</th>\n",
       "      <th>nearest_commercial_center_distance</th>\n",
       "      <th>commercial_center_1_km</th>\n",
       "    </tr>\n",
       "  </thead>\n",
       "  <tbody>\n",
       "    <tr>\n",
       "      <th>0</th>\n",
       "      <td>pasir ris</td>\n",
       "      <td>4-room</td>\n",
       "      <td>118.0</td>\n",
       "      <td>model a</td>\n",
       "      <td>1989</td>\n",
       "      <td>pasir ris drive</td>\n",
       "      <td>pasir ris</td>\n",
       "      <td>east region</td>\n",
       "      <td>209700.0</td>\n",
       "      <td>8</td>\n",
       "      <td>2001</td>\n",
       "      <td>2</td>\n",
       "      <td>2.313421</td>\n",
       "      <td>0</td>\n",
       "    </tr>\n",
       "    <tr>\n",
       "      <th>1</th>\n",
       "      <td>punggol</td>\n",
       "      <td>5-room</td>\n",
       "      <td>110.0</td>\n",
       "      <td>improved</td>\n",
       "      <td>2003</td>\n",
       "      <td>punggol field</td>\n",
       "      <td>punggol</td>\n",
       "      <td>north-east region</td>\n",
       "      <td>402300.0</td>\n",
       "      <td>10</td>\n",
       "      <td>2014</td>\n",
       "      <td>11</td>\n",
       "      <td>1.462459</td>\n",
       "      <td>0</td>\n",
       "    </tr>\n",
       "    <tr>\n",
       "      <th>2</th>\n",
       "      <td>sengkang</td>\n",
       "      <td>5-room</td>\n",
       "      <td>112.0</td>\n",
       "      <td>premium apartment</td>\n",
       "      <td>2004</td>\n",
       "      <td>fernvale</td>\n",
       "      <td>sengkang</td>\n",
       "      <td>north-east region</td>\n",
       "      <td>351000.0</td>\n",
       "      <td>9</td>\n",
       "      <td>2020</td>\n",
       "      <td>2</td>\n",
       "      <td>1.445186</td>\n",
       "      <td>0</td>\n",
       "    </tr>\n",
       "    <tr>\n",
       "      <th>3</th>\n",
       "      <td>clementi</td>\n",
       "      <td>3-room</td>\n",
       "      <td>67.0</td>\n",
       "      <td>new generation</td>\n",
       "      <td>1980</td>\n",
       "      <td>clementi north</td>\n",
       "      <td>clementi</td>\n",
       "      <td>west region</td>\n",
       "      <td>151200.0</td>\n",
       "      <td>10</td>\n",
       "      <td>2000</td>\n",
       "      <td>8</td>\n",
       "      <td>2.387002</td>\n",
       "      <td>0</td>\n",
       "    </tr>\n",
       "    <tr>\n",
       "      <th>4</th>\n",
       "      <td>bukit batok</td>\n",
       "      <td>3-room</td>\n",
       "      <td>73.0</td>\n",
       "      <td>model a</td>\n",
       "      <td>1985</td>\n",
       "      <td>bukit batok west</td>\n",
       "      <td>bukit batok</td>\n",
       "      <td>west region</td>\n",
       "      <td>318600.0</td>\n",
       "      <td>1</td>\n",
       "      <td>2013</td>\n",
       "      <td>8</td>\n",
       "      <td>1.807230</td>\n",
       "      <td>0</td>\n",
       "    </tr>\n",
       "  </tbody>\n",
       "</table>\n",
       "</div>"
      ],
      "text/plain": [
       "          town flat_type  floor_area_sqm         flat_model  \\\n",
       "0    pasir ris    4-room           118.0            model a   \n",
       "1      punggol    5-room           110.0           improved   \n",
       "2     sengkang    5-room           112.0  premium apartment   \n",
       "3     clementi    3-room            67.0     new generation   \n",
       "4  bukit batok    3-room            73.0            model a   \n",
       "\n",
       "   lease_commence_date           subzone planning_area             region  \\\n",
       "0                 1989   pasir ris drive     pasir ris        east region   \n",
       "1                 2003     punggol field       punggol  north-east region   \n",
       "2                 2004          fernvale      sengkang  north-east region   \n",
       "3                 1980    clementi north      clementi        west region   \n",
       "4                 1985  bukit batok west   bukit batok        west region   \n",
       "\n",
       "   resale_price  month_no  year  storey  nearest_commercial_center_distance  \\\n",
       "0      209700.0         8  2001       2                            2.313421   \n",
       "1      402300.0        10  2014      11                            1.462459   \n",
       "2      351000.0         9  2020       2                            1.445186   \n",
       "3      151200.0        10  2000       8                            2.387002   \n",
       "4      318600.0         1  2013       8                            1.807230   \n",
       "\n",
       "   commercial_center_1_km  \n",
       "0                       0  \n",
       "1                       0  \n",
       "2                       0  \n",
       "3                       0  \n",
       "4                       0  "
      ]
     },
     "execution_count": 35,
     "metadata": {},
     "output_type": "execute_result"
    }
   ],
   "source": [
    "train_df.head()"
   ]
  },
  {
   "cell_type": "code",
   "execution_count": 36,
   "metadata": {},
   "outputs": [
    {
     "data": {
      "text/html": [
       "<div>\n",
       "<style scoped>\n",
       "    .dataframe tbody tr th:only-of-type {\n",
       "        vertical-align: middle;\n",
       "    }\n",
       "\n",
       "    .dataframe tbody tr th {\n",
       "        vertical-align: top;\n",
       "    }\n",
       "\n",
       "    .dataframe thead th {\n",
       "        text-align: right;\n",
       "    }\n",
       "</style>\n",
       "<table border=\"1\" class=\"dataframe\">\n",
       "  <thead>\n",
       "    <tr style=\"text-align: right;\">\n",
       "      <th></th>\n",
       "      <th>town</th>\n",
       "      <th>flat_type</th>\n",
       "      <th>floor_area_sqm</th>\n",
       "      <th>flat_model</th>\n",
       "      <th>lease_commence_date</th>\n",
       "      <th>subzone</th>\n",
       "      <th>planning_area</th>\n",
       "      <th>region</th>\n",
       "      <th>month_no</th>\n",
       "      <th>year</th>\n",
       "      <th>storey</th>\n",
       "      <th>nearest_commercial_center_distance</th>\n",
       "      <th>commercial_center_1_km</th>\n",
       "    </tr>\n",
       "  </thead>\n",
       "  <tbody>\n",
       "    <tr>\n",
       "      <th>0</th>\n",
       "      <td>bukit batok</td>\n",
       "      <td>4-room</td>\n",
       "      <td>94.0</td>\n",
       "      <td>new generation</td>\n",
       "      <td>1989</td>\n",
       "      <td>bukit batok west</td>\n",
       "      <td>bukit batok</td>\n",
       "      <td>west region</td>\n",
       "      <td>1</td>\n",
       "      <td>2004</td>\n",
       "      <td>5</td>\n",
       "      <td>1.750241</td>\n",
       "      <td>0</td>\n",
       "    </tr>\n",
       "    <tr>\n",
       "      <th>1</th>\n",
       "      <td>tampines</td>\n",
       "      <td>5-room</td>\n",
       "      <td>122.0</td>\n",
       "      <td>improved</td>\n",
       "      <td>1997</td>\n",
       "      <td>tampines east</td>\n",
       "      <td>tampines</td>\n",
       "      <td>east region</td>\n",
       "      <td>11</td>\n",
       "      <td>2001</td>\n",
       "      <td>5</td>\n",
       "      <td>1.819764</td>\n",
       "      <td>0</td>\n",
       "    </tr>\n",
       "    <tr>\n",
       "      <th>2</th>\n",
       "      <td>jurong east</td>\n",
       "      <td>3-room</td>\n",
       "      <td>67.0</td>\n",
       "      <td>new generation</td>\n",
       "      <td>1982</td>\n",
       "      <td>toh guan</td>\n",
       "      <td>jurong east</td>\n",
       "      <td>west region</td>\n",
       "      <td>7</td>\n",
       "      <td>2002</td>\n",
       "      <td>2</td>\n",
       "      <td>0.929035</td>\n",
       "      <td>0</td>\n",
       "    </tr>\n",
       "    <tr>\n",
       "      <th>3</th>\n",
       "      <td>ang mo kio</td>\n",
       "      <td>3-room</td>\n",
       "      <td>82.0</td>\n",
       "      <td>new generation</td>\n",
       "      <td>1981</td>\n",
       "      <td>yio chu kang east</td>\n",
       "      <td>ang mo kio</td>\n",
       "      <td>north-east region</td>\n",
       "      <td>4</td>\n",
       "      <td>2015</td>\n",
       "      <td>5</td>\n",
       "      <td>2.027525</td>\n",
       "      <td>0</td>\n",
       "    </tr>\n",
       "    <tr>\n",
       "      <th>4</th>\n",
       "      <td>clementi</td>\n",
       "      <td>5-room</td>\n",
       "      <td>117.0</td>\n",
       "      <td>standard</td>\n",
       "      <td>1978</td>\n",
       "      <td>clementi north</td>\n",
       "      <td>clementi</td>\n",
       "      <td>west region</td>\n",
       "      <td>4</td>\n",
       "      <td>2004</td>\n",
       "      <td>2</td>\n",
       "      <td>1.827757</td>\n",
       "      <td>0</td>\n",
       "    </tr>\n",
       "  </tbody>\n",
       "</table>\n",
       "</div>"
      ],
      "text/plain": [
       "          town flat_type  floor_area_sqm      flat_model  lease_commence_date  \\\n",
       "0  bukit batok    4-room            94.0  new generation                 1989   \n",
       "1     tampines    5-room           122.0        improved                 1997   \n",
       "2  jurong east    3-room            67.0  new generation                 1982   \n",
       "3   ang mo kio    3-room            82.0  new generation                 1981   \n",
       "4     clementi    5-room           117.0        standard                 1978   \n",
       "\n",
       "             subzone planning_area             region  month_no  year  storey  \\\n",
       "0   bukit batok west   bukit batok        west region         1  2004       5   \n",
       "1      tampines east      tampines        east region        11  2001       5   \n",
       "2           toh guan   jurong east        west region         7  2002       2   \n",
       "3  yio chu kang east    ang mo kio  north-east region         4  2015       5   \n",
       "4     clementi north      clementi        west region         4  2004       2   \n",
       "\n",
       "   nearest_commercial_center_distance  commercial_center_1_km  \n",
       "0                            1.750241                       0  \n",
       "1                            1.819764                       0  \n",
       "2                            0.929035                       0  \n",
       "3                            2.027525                       0  \n",
       "4                            1.827757                       0  "
      ]
     },
     "execution_count": 36,
     "metadata": {},
     "output_type": "execute_result"
    }
   ],
   "source": [
    "test_df.head()"
   ]
  },
  {
   "cell_type": "markdown",
   "metadata": {},
   "source": [
    "### One hot encode categorical columns"
   ]
  },
  {
   "cell_type": "code",
   "execution_count": 37,
   "metadata": {},
   "outputs": [],
   "source": [
    "for col in categorical_columns:\n",
    "    train_df = pd.concat([train_df, pd.get_dummies(train_df[col], prefix=col)],axis=1)\n",
    "train_df = train_df.drop(columns=categorical_columns)\n",
    "\n",
    "for col in categorical_columns:\n",
    "    test_df = pd.concat([test_df, pd.get_dummies(test_df[col], prefix=col)],axis=1)\n",
    "test_df = test_df.drop(columns=categorical_columns)"
   ]
  },
  {
   "cell_type": "markdown",
   "metadata": {},
   "source": [
    "### Check if the columns in both test data and train data are same after one-hot encoding"
   ]
  },
  {
   "cell_type": "code",
   "execution_count": 38,
   "metadata": {},
   "outputs": [
    {
     "name": "stdout",
     "output_type": "stream",
     "text": [
      "Columns are same\n"
     ]
    }
   ],
   "source": [
    "columns_in_test_not_in_train = test_df.columns.difference(train_df.columns).tolist()\n",
    "#print(columns_in_test_not_in_train)\n",
    "columns_in_train_not_in_test = train_df.columns.difference((test_df.columns)).tolist()\n",
    "columns_in_train_not_in_test.remove('resale_price')\n",
    "#print(columns_in_train_not_in_test)\n",
    "if not columns_in_test_not_in_train and not columns_in_train_not_in_test:\n",
    "    print(\"Columns are same\")"
   ]
  },
  {
   "cell_type": "markdown",
   "metadata": {},
   "source": [
    "### Split training data into training and validation sets"
   ]
  },
  {
   "cell_type": "code",
   "execution_count": 39,
   "metadata": {},
   "outputs": [],
   "source": [
    "train_data = train_df.sample(frac=1)\n",
    "train_labels = train_data.pop('resale_price')\n",
    "train_x, val_x, train_y, val_y = train_test_split(train_data,train_labels,train_size=0.8)"
   ]
  },
  {
   "cell_type": "markdown",
   "metadata": {},
   "source": [
    "-------"
   ]
  },
  {
   "cell_type": "markdown",
   "metadata": {},
   "source": [
    "## Decision Tree"
   ]
  },
  {
   "cell_type": "code",
   "execution_count": 40,
   "metadata": {},
   "outputs": [],
   "source": [
    "dt_1 = tree.DecisionTreeRegressor()"
   ]
  },
  {
   "cell_type": "code",
   "execution_count": 41,
   "metadata": {},
   "outputs": [
    {
     "name": "stdout",
     "output_type": "stream",
     "text": [
      "Wall time: 10.9 s\n"
     ]
    }
   ],
   "source": [
    "%%time\n",
    "dt_1 = dt_1.fit(train_x, train_y)"
   ]
  },
  {
   "cell_type": "code",
   "execution_count": 42,
   "metadata": {},
   "outputs": [
    {
     "name": "stdout",
     "output_type": "stream",
     "text": [
      "Training error(RMSE) : 1486.3355661377007\n",
      "Validation error(RMSE) : 25558.48090873236\n",
      "R2 score for training data : 0.9998692686031939\n",
      "R2 score for validation data : 0.9609443281313194\n"
     ]
    }
   ],
   "source": [
    "train_prediction = dt_1.predict(train_x)\n",
    "val_prediction = dt_1.predict(val_x)\n",
    "print(\"Training error(RMSE) :\",mean_squared_error(train_y,train_prediction , squared=False))\n",
    "print(\"Validation error(RMSE) :\",mean_squared_error(val_y,val_prediction , squared=False))\n",
    "print(\"R2 score for training data :\",r2_score(train_y,train_prediction))\n",
    "print(\"R2 score for validation data :\",r2_score(val_y,val_prediction))"
   ]
  },
  {
   "cell_type": "code",
   "execution_count": 43,
   "metadata": {},
   "outputs": [],
   "source": [
    "dt_2 = tree.DecisionTreeRegressor(max_depth=30,min_samples_split=30)"
   ]
  },
  {
   "cell_type": "code",
   "execution_count": 44,
   "metadata": {},
   "outputs": [
    {
     "name": "stdout",
     "output_type": "stream",
     "text": [
      "Wall time: 9.06 s\n"
     ]
    }
   ],
   "source": [
    "%%time\n",
    "dt_2 = dt_2.fit(train_x, train_y)"
   ]
  },
  {
   "cell_type": "code",
   "execution_count": 45,
   "metadata": {},
   "outputs": [
    {
     "name": "stdout",
     "output_type": "stream",
     "text": [
      "Training error(RMSE) : 17499.892577157672\n",
      "Validation error(RMSE) : 22633.267858002684\n",
      "R2 score for training data : 0.9818775493016257\n",
      "R2 score for validation data : 0.9693727104360627\n"
     ]
    }
   ],
   "source": [
    "train_prediction = dt_2.predict(train_x)\n",
    "val_prediction = dt_2.predict(val_x)\n",
    "print(\"Training error(RMSE) :\",mean_squared_error(train_y,train_prediction , squared=False))\n",
    "print(\"Validation error(RMSE) :\",mean_squared_error(val_y,val_prediction , squared=False))\n",
    "print(\"R2 score for training data :\",r2_score(train_y,train_prediction))\n",
    "print(\"R2 score for validation data :\",r2_score(val_y,val_prediction))"
   ]
  },
  {
   "cell_type": "code",
   "execution_count": 46,
   "metadata": {},
   "outputs": [
    {
     "name": "stdout",
     "output_type": "stream",
     "text": [
      "Wall time: 9.91 s\n"
     ]
    }
   ],
   "source": [
    "%%time\n",
    "dt_3 = tree.DecisionTreeRegressor(max_depth=250,min_samples_split=15)\n",
    "dt_3 = dt_3.fit(train_x, train_y)"
   ]
  },
  {
   "cell_type": "code",
   "execution_count": 47,
   "metadata": {},
   "outputs": [
    {
     "name": "stdout",
     "output_type": "stream",
     "text": [
      "Training error(RMSE) : 14114.21986920862\n",
      "Validation error(RMSE) : 22810.097516455306\n",
      "R2 score for training data : 0.988211462796517\n",
      "R2 score for validation data : 0.9688922699115246\n"
     ]
    }
   ],
   "source": [
    "train_prediction = dt_3.predict(train_x)\n",
    "val_prediction = dt_3.predict(val_x)\n",
    "print(\"Training error(RMSE) :\",mean_squared_error(train_y,train_prediction , squared=False))\n",
    "print(\"Validation error(RMSE) :\",mean_squared_error(val_y,val_prediction , squared=False))\n",
    "print(\"R2 score for training data :\",r2_score(train_y,train_prediction))\n",
    "print(\"R2 score for validation data :\",r2_score(val_y,val_prediction))"
   ]
  },
  {
   "cell_type": "markdown",
   "metadata": {},
   "source": [
    "#### Uncomment next block to make prediction on test data and generate csv"
   ]
  },
  {
   "cell_type": "code",
   "execution_count": 49,
   "metadata": {},
   "outputs": [],
   "source": [
    "#test_result = dt_3.predict(test_df)\n",
    "#save_to_csv(test_result,\"./mrt_dt_3_result.csv\")"
   ]
  },
  {
   "cell_type": "markdown",
   "metadata": {},
   "source": [
    "------------"
   ]
  },
  {
   "cell_type": "markdown",
   "metadata": {},
   "source": [
    "## Random Forest"
   ]
  },
  {
   "cell_type": "code",
   "execution_count": 50,
   "metadata": {},
   "outputs": [],
   "source": [
    "rf_1 = RandomForestRegressor()"
   ]
  },
  {
   "cell_type": "code",
   "execution_count": 51,
   "metadata": {},
   "outputs": [
    {
     "name": "stdout",
     "output_type": "stream",
     "text": [
      "Wall time: 11min 7s\n"
     ]
    },
    {
     "data": {
      "text/plain": [
       "RandomForestRegressor()"
      ]
     },
     "execution_count": 51,
     "metadata": {},
     "output_type": "execute_result"
    }
   ],
   "source": [
    "%%time\n",
    "rf_1.fit(train_x,train_y)"
   ]
  },
  {
   "cell_type": "code",
   "execution_count": 52,
   "metadata": {},
   "outputs": [
    {
     "name": "stdout",
     "output_type": "stream",
     "text": [
      "Training error(RMSE) : 7053.899048873357\n",
      "Validation error(RMSE) : 18628.281626679458\n",
      "R2 score for training data : 0.9970555468983214\n",
      "R2 score for validation data : 0.979252793559642\n"
     ]
    }
   ],
   "source": [
    "train_prediction = rf_1.predict(train_x)\n",
    "val_prediction = rf_1.predict(val_x)\n",
    "print(\"Training error(RMSE) :\",mean_squared_error(train_y,train_prediction , squared=False))\n",
    "print(\"Validation error(RMSE) :\",mean_squared_error(val_y,val_prediction , squared=False))\n",
    "print(\"R2 score for training data :\",r2_score(train_y,train_prediction))\n",
    "print(\"R2 score for validation data :\",r2_score(val_y,val_prediction))"
   ]
  },
  {
   "cell_type": "markdown",
   "metadata": {},
   "source": [
    "#### Uncomment next block to make prediction on test data and generate csv"
   ]
  },
  {
   "cell_type": "code",
   "execution_count": 53,
   "metadata": {},
   "outputs": [],
   "source": [
    "test_result = rf_1.predict(test_df)\n",
    "save_to_csv(test_result,\"./commercial_center_rf_1_result.csv\")"
   ]
  },
  {
   "cell_type": "markdown",
   "metadata": {},
   "source": [
    "-----------"
   ]
  },
  {
   "cell_type": "markdown",
   "metadata": {},
   "source": [
    "## XGBOOST"
   ]
  },
  {
   "cell_type": "code",
   "execution_count": 54,
   "metadata": {},
   "outputs": [],
   "source": [
    "xgb_model_1 = xgboost.XGBRegressor()"
   ]
  },
  {
   "cell_type": "code",
   "execution_count": 55,
   "metadata": {},
   "outputs": [
    {
     "name": "stdout",
     "output_type": "stream",
     "text": [
      "Wall time: 48.7 s\n"
     ]
    },
    {
     "data": {
      "text/plain": [
       "XGBRegressor(base_score=0.5, booster='gbtree', colsample_bylevel=1,\n",
       "             colsample_bynode=1, colsample_bytree=1, gamma=0, gpu_id=-1,\n",
       "             importance_type='gain', interaction_constraints='',\n",
       "             learning_rate=0.300000012, max_delta_step=0, max_depth=6,\n",
       "             min_child_weight=1, missing=nan, monotone_constraints='()',\n",
       "             n_estimators=100, n_jobs=8, num_parallel_tree=1, random_state=0,\n",
       "             reg_alpha=0, reg_lambda=1, scale_pos_weight=1, subsample=1,\n",
       "             tree_method='exact', validate_parameters=1, verbosity=None)"
      ]
     },
     "execution_count": 55,
     "metadata": {},
     "output_type": "execute_result"
    }
   ],
   "source": [
    "%%time\n",
    "xgb_model_1.fit(train_x,train_y)"
   ]
  },
  {
   "cell_type": "code",
   "execution_count": 56,
   "metadata": {},
   "outputs": [
    {
     "name": "stdout",
     "output_type": "stream",
     "text": [
      "Training error(RMSE) : 21210.207\n",
      "Validation error(RMSE) : 22012.209\n",
      "R2 score for training data : 0.9733782873834333\n",
      "R2 score for validation data : 0.9710304797033864\n"
     ]
    }
   ],
   "source": [
    "train_prediction = xgb_model_1.predict(train_x)\n",
    "val_prediction = xgb_model_1.predict(val_x)\n",
    "print(\"Training error(RMSE) :\",mean_squared_error(train_y,train_prediction , squared=False))\n",
    "print(\"Validation error(RMSE) :\",mean_squared_error(val_y,val_prediction , squared=False))\n",
    "print(\"R2 score for training data :\",r2_score(train_y,train_prediction))\n",
    "print(\"R2 score for validation data :\",r2_score(val_y,val_prediction))"
   ]
  },
  {
   "cell_type": "code",
   "execution_count": 57,
   "metadata": {},
   "outputs": [],
   "source": [
    "xgb_model_2 = xgboost.XGBRegressor(colsample_bytree=0.4,\n",
    "                 gamma=0,                 \n",
    "                 learning_rate=0.07,\n",
    "                 max_depth=50,\n",
    "                 min_child_weight=1.5,\n",
    "                 n_estimators=100,                                                                    \n",
    "                 reg_alpha=0.75,\n",
    "                 reg_lambda=0.45,\n",
    "                 subsample=0.6,\n",
    "                 seed=42)"
   ]
  },
  {
   "cell_type": "code",
   "execution_count": 58,
   "metadata": {},
   "outputs": [
    {
     "name": "stdout",
     "output_type": "stream",
     "text": [
      "Wall time: 4min 4s\n"
     ]
    },
    {
     "data": {
      "text/plain": [
       "XGBRegressor(base_score=0.5, booster='gbtree', colsample_bylevel=1,\n",
       "             colsample_bynode=1, colsample_bytree=0.4, gamma=0, gpu_id=-1,\n",
       "             importance_type='gain', interaction_constraints='',\n",
       "             learning_rate=0.07, max_delta_step=0, max_depth=50,\n",
       "             min_child_weight=1.5, missing=nan, monotone_constraints='()',\n",
       "             n_estimators=100, n_jobs=8, num_parallel_tree=1, random_state=42,\n",
       "             reg_alpha=0.75, reg_lambda=0.45, scale_pos_weight=1, seed=42,\n",
       "             subsample=0.6, tree_method='exact', validate_parameters=1,\n",
       "             verbosity=None)"
      ]
     },
     "execution_count": 58,
     "metadata": {},
     "output_type": "execute_result"
    }
   ],
   "source": [
    "%%time\n",
    "xgb_model_2.fit(train_x,train_y)"
   ]
  },
  {
   "cell_type": "code",
   "execution_count": 59,
   "metadata": {},
   "outputs": [
    {
     "name": "stdout",
     "output_type": "stream",
     "text": [
      "Training error(RMSE) : 12089.41\n",
      "Validation error(RMSE) : 21913.352\n",
      "R2 score for training data : 0.9913511882941537\n",
      "R2 score for validation data : 0.9712901049952843\n"
     ]
    }
   ],
   "source": [
    "train_prediction = xgb_model_2.predict(train_x)\n",
    "val_prediction = xgb_model_2.predict(val_x)\n",
    "print(\"Training error(RMSE) :\",mean_squared_error(train_y,train_prediction , squared=False))\n",
    "print(\"Validation error(RMSE) :\",mean_squared_error(val_y,val_prediction , squared=False))\n",
    "print(\"R2 score for training data :\",r2_score(train_y,train_prediction))\n",
    "print(\"R2 score for validation data :\",r2_score(val_y,val_prediction))"
   ]
  },
  {
   "cell_type": "markdown",
   "metadata": {},
   "source": [
    "#### Uncomment next block to make prediction on test data and generate csv"
   ]
  },
  {
   "cell_type": "code",
   "execution_count": 60,
   "metadata": {},
   "outputs": [],
   "source": [
    "test_result = xgb_model_2.predict(test_df)\n",
    "save_to_csv(test_result,\"./commercial_center_xgb_model_2_result.csv\")"
   ]
  },
  {
   "cell_type": "markdown",
   "metadata": {},
   "source": [
    "-----------"
   ]
  },
  {
   "cell_type": "markdown",
   "metadata": {},
   "source": [
    "## LightGBM"
   ]
  },
  {
   "cell_type": "code",
   "execution_count": 61,
   "metadata": {},
   "outputs": [],
   "source": [
    "gbm_1 = lgb.LGBMRegressor()"
   ]
  },
  {
   "cell_type": "code",
   "execution_count": 62,
   "metadata": {},
   "outputs": [
    {
     "name": "stdout",
     "output_type": "stream",
     "text": [
      "Wall time: 2.75 s\n"
     ]
    }
   ],
   "source": [
    "%%time\n",
    "gbm_1 = gbm_1.fit(train_x,train_y)"
   ]
  },
  {
   "cell_type": "code",
   "execution_count": 63,
   "metadata": {},
   "outputs": [
    {
     "name": "stdout",
     "output_type": "stream",
     "text": [
      "Training error(RMSE) : 24299.73155790759\n",
      "Validation error(RMSE) : 24695.782751028306\n",
      "R2 score for training data : 0.9650578910744831\n",
      "R2 score for validation data : 0.9635363927421279\n"
     ]
    }
   ],
   "source": [
    "train_prediction = gbm_1.predict(train_x)\n",
    "val_prediction = gbm_1.predict(val_x)\n",
    "print(\"Training error(RMSE) :\",mean_squared_error(train_y,train_prediction , squared=False))\n",
    "print(\"Validation error(RMSE) :\",mean_squared_error(val_y,val_prediction , squared=False))\n",
    "print(\"R2 score for training data :\",r2_score(train_y,train_prediction))\n",
    "print(\"R2 score for validation data :\",r2_score(val_y,val_prediction))"
   ]
  },
  {
   "cell_type": "code",
   "execution_count": 64,
   "metadata": {},
   "outputs": [],
   "source": [
    "gbm_2 = lgb.LGBMRegressor(num_leaves=31,\n",
    "                        learning_rate=0.1,\n",
    "                        max_depth=10000,n_estimators=10000)"
   ]
  },
  {
   "cell_type": "code",
   "execution_count": 65,
   "metadata": {},
   "outputs": [
    {
     "name": "stdout",
     "output_type": "stream",
     "text": [
      "Wall time: 42.2 s\n"
     ]
    }
   ],
   "source": [
    "%%time\n",
    "gbm_2 = gbm_2.fit(train_x,train_y)"
   ]
  },
  {
   "cell_type": "code",
   "execution_count": 66,
   "metadata": {},
   "outputs": [
    {
     "name": "stdout",
     "output_type": "stream",
     "text": [
      "Training error(RMSE) : 12072.885950040687\n",
      "Validation error(RMSE) : 16274.605789822373\n",
      "R2 score for training data : 0.9913748162242929\n",
      "R2 score for validation data : 0.9841643828463137\n"
     ]
    }
   ],
   "source": [
    "train_prediction = gbm_2.predict(train_x)\n",
    "val_prediction = gbm_2.predict(val_x)\n",
    "print(\"Training error(RMSE) :\",mean_squared_error(train_y,train_prediction , squared=False))\n",
    "print(\"Validation error(RMSE) :\",mean_squared_error(val_y,val_prediction , squared=False))\n",
    "print(\"R2 score for training data :\",r2_score(train_y,train_prediction))\n",
    "print(\"R2 score for validation data :\",r2_score(val_y,val_prediction))"
   ]
  },
  {
   "cell_type": "markdown",
   "metadata": {},
   "source": [
    "#### Uncomment next block to make prediction on test data and generate csv"
   ]
  },
  {
   "cell_type": "code",
   "execution_count": 67,
   "metadata": {},
   "outputs": [],
   "source": [
    "test_result = gbm_2.predict(test_df)\n",
    "save_to_csv(test_result,\"./commercial_center_gbm_2_result.csv\")"
   ]
  },
  {
   "cell_type": "markdown",
   "metadata": {},
   "source": [
    "-----------"
   ]
  },
  {
   "cell_type": "markdown",
   "metadata": {},
   "source": [
    "## Prediction using Random Forest, XGBOOST and LightGBM together"
   ]
  },
  {
   "cell_type": "code",
   "execution_count": 68,
   "metadata": {},
   "outputs": [
    {
     "name": "stdout",
     "output_type": "stream",
     "text": [
      "Training error(RMSE) : 9154.548507004409\n",
      "Validation error(RMSE) : 16732.97969155876\n",
      "R2 score for training data : 0.9950407040974742\n",
      "R2 score for validation data : 0.9832598013969583\n"
     ]
    }
   ],
   "source": [
    "train_prediction = 0.4*gbm_2.predict(train_x) + 0.4*rf_1.predict(train_x) +0.2*xgb_model_2.predict(train_x)\n",
    "val_prediction = 0.4*gbm_2.predict(val_x)+ 0.4*rf_1.predict(val_x) +0.2*xgb_model_2.predict(val_x)\n",
    "print(\"Training error(RMSE) :\",mean_squared_error(train_y,train_prediction , squared=False))\n",
    "print(\"Validation error(RMSE) :\",mean_squared_error(val_y,val_prediction , squared=False))\n",
    "print(\"R2 score for training data :\",r2_score(train_y,train_prediction))\n",
    "print(\"R2 score for validation data :\",r2_score(val_y,val_prediction))"
   ]
  },
  {
   "cell_type": "markdown",
   "metadata": {},
   "source": [
    "#### Uncomment next block to make prediction on test data and generate csv"
   ]
  },
  {
   "cell_type": "code",
   "execution_count": 69,
   "metadata": {},
   "outputs": [],
   "source": [
    "test_result = 0.4*gbm_2.predict(test_df) + 0.4*rf_1.predict(test_df) +0.2*xgb_model_2.predict(test_df)\n",
    "save_to_csv(test_result,\"./commercial_center_gbm_2_xgb_model_2_rf_1_result.csv\")"
   ]
  },
  {
   "cell_type": "code",
   "execution_count": null,
   "metadata": {},
   "outputs": [],
   "source": []
  }
 ],
 "metadata": {
  "colab": {
   "name": "mrt_analysis.ipynb",
   "provenance": [],
   "toc_visible": true
  },
  "kernelspec": {
   "display_name": "Python 3",
   "language": "python",
   "name": "python3"
  }
 },
 "nbformat": 4,
 "nbformat_minor": 1
}
