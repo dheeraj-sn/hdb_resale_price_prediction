{
 "cells": [
  {
   "cell_type": "code",
   "execution_count": 1,
   "metadata": {},
   "outputs": [],
   "source": [
    "%load_ext autoreload\n",
    "%autoreload 2"
   ]
  },
  {
   "cell_type": "code",
   "execution_count": 2,
   "metadata": {},
   "outputs": [],
   "source": [
    "import numpy as np\n",
    "import pandas as pd\n",
    "import seaborn as sns\n",
    "from utils import reduce_memory_usage"
   ]
  },
  {
   "cell_type": "code",
   "execution_count": 3,
   "metadata": {},
   "outputs": [],
   "source": [
    "train_df = pd.read_csv(\"./train.csv\")\n",
    "test_df = pd.read_csv(\"./test.csv\")"
   ]
  },
  {
   "cell_type": "code",
   "execution_count": 4,
   "metadata": {},
   "outputs": [
    {
     "name": "stdout",
     "output_type": "stream",
     "text": [
      "Memory usage of properties dataframe is : 55.995635986328125  MB\n",
      "__MEMORY USAGE AFTER COMPLETION:__\n",
      "Memory usage is:  44.055416107177734  MB\n",
      "This is  78.67651707346317 % of the initial size\n",
      "Memory usage of properties dataframe is : 13.1756591796875  MB\n",
      "__MEMORY USAGE AFTER COMPLETION:__\n",
      "Memory usage is:  10.602312088012695  MB\n",
      "This is  80.46893095381479 % of the initial size\n"
     ]
    }
   ],
   "source": [
    "train_df, na_c = reduce_memory_usage(train_df)\n",
    "test_df, na_c_t = reduce_memory_usage(test_df)"
   ]
  },
  {
   "cell_type": "markdown",
   "metadata": {},
   "source": [
    "### Checking the number of features in the Datasets"
   ]
  },
  {
   "cell_type": "code",
   "execution_count": 5,
   "metadata": {},
   "outputs": [
    {
     "name": "stdout",
     "output_type": "stream",
     "text": [
      "Number of features in the train datasets :\n",
      "17\n",
      "Number of features in the test datasets :\n",
      "16\n"
     ]
    }
   ],
   "source": [
    "#\n",
    "print(\"Number of features in the train datasets :\")\n",
    "print(len(train_df.columns))\n",
    "\n",
    "print(\"Number of features in the test datasets :\")\n",
    "print(len(test_df.columns))"
   ]
  },
  {
   "cell_type": "markdown",
   "metadata": {},
   "source": [
    "### Checking the features in the Datasets"
   ]
  },
  {
   "cell_type": "code",
   "execution_count": 6,
   "metadata": {},
   "outputs": [
    {
     "name": "stdout",
     "output_type": "stream",
     "text": [
      "\n",
      "Training Set : \n",
      " ['month', 'town', 'flat_type', 'block', 'street_name', 'storey_range', 'floor_area_sqm', 'flat_model', 'eco_category', 'lease_commence_date', 'latitude', 'longitude', 'elevation', 'subzone', 'planning_area', 'region', 'resale_price']\n",
      "\n",
      "Test Set : \n",
      " ['month', 'town', 'flat_type', 'block', 'street_name', 'storey_range', 'floor_area_sqm', 'flat_model', 'eco_category', 'lease_commence_date', 'latitude', 'longitude', 'elevation', 'subzone', 'planning_area', 'region']\n"
     ]
    }
   ],
   "source": [
    "print(\"\\nTraining Set : \\n\", list(train_df.columns))\n",
    "print(\"\\nTest Set : \\n\",list(test_df.columns))"
   ]
  },
  {
   "cell_type": "markdown",
   "metadata": {},
   "source": [
    "### Checking the data types of features in the Datasets"
   ]
  },
  {
   "cell_type": "code",
   "execution_count": 7,
   "metadata": {},
   "outputs": [
    {
     "name": "stdout",
     "output_type": "stream",
     "text": [
      "\n",
      "\n",
      "Datatypes of features in the datasets :\n",
      " ########################################\n",
      "\n",
      "Training Set : \n",
      " -------------------- \n",
      " month                   object\n",
      "town                    object\n",
      "flat_type               object\n",
      "block                   object\n",
      "street_name             object\n",
      "storey_range            object\n",
      "floor_area_sqm         float32\n",
      "flat_model              object\n",
      "eco_category            object\n",
      "lease_commence_date     uint16\n",
      "latitude               float32\n",
      "longitude              float32\n",
      "elevation                uint8\n",
      "subzone                 object\n",
      "planning_area           object\n",
      "region                  object\n",
      "resale_price           float32\n",
      "dtype: object\n",
      "\n",
      "Test Set : \n",
      " -------------------- \n",
      " month                   object\n",
      "town                    object\n",
      "flat_type               object\n",
      "block                   object\n",
      "street_name             object\n",
      "storey_range            object\n",
      "floor_area_sqm         float32\n",
      "flat_model              object\n",
      "eco_category            object\n",
      "lease_commence_date     uint16\n",
      "latitude               float32\n",
      "longitude              float32\n",
      "elevation                uint8\n",
      "subzone                 object\n",
      "planning_area           object\n",
      "region                  object\n",
      "dtype: object\n"
     ]
    }
   ],
   "source": [
    "#checking the data types of features\n",
    "print(\"\\n\\nDatatypes of features in the datasets :\\n\",'#' * 40)\n",
    "print(\"\\nTraining Set : \\n\",'-' * 20,\"\\n\", train_df.dtypes)\n",
    "print(\"\\nTest Set : \\n\",'-' * 20,\"\\n\",test_df.dtypes)"
   ]
  },
  {
   "cell_type": "markdown",
   "metadata": {},
   "source": [
    "### Number of observations in the datasets"
   ]
  },
  {
   "cell_type": "code",
   "execution_count": 8,
   "metadata": {},
   "outputs": [
    {
     "name": "stdout",
     "output_type": "stream",
     "text": [
      "\n",
      "\n",
      "Number of observations in the datasets :\n",
      " ########################################\n",
      "\n",
      "Training Set : \n",
      " -------------------- 431732\n",
      "\n",
      "Test Set : \n",
      " -------------------- 107934\n"
     ]
    }
   ],
   "source": [
    "print(\"\\n\\nNumber of observations in the datasets :\\n\",'#' * 40)\n",
    "print(\"\\nTraining Set : \\n\",'-' * 20,len(train_df))\n",
    "print(\"\\nTest Set : \\n\",'-' * 20,len(test_df))"
   ]
  },
  {
   "cell_type": "markdown",
   "metadata": {},
   "source": [
    "### Checking for Null or empty cells"
   ]
  },
  {
   "cell_type": "code",
   "execution_count": 9,
   "metadata": {},
   "outputs": [
    {
     "name": "stdout",
     "output_type": "stream",
     "text": [
      "\n",
      "\n",
      "Empty cells or Nans in the datasets :\n",
      "\n",
      "Training Set : \n",
      " -------------------- False\n",
      "\n",
      "Test Set : \n",
      " -------------------- False\n"
     ]
    }
   ],
   "source": [
    "print(\"\\n\\nEmpty cells or Nans in the datasets :\")\n",
    "print(\"\\nTraining Set : \\n\",'-' * 20,train_df.isnull().values.any())\n",
    "print(\"\\nTest Set : \\n\",'-' * 20,test_df.isnull().values.any())"
   ]
  },
  {
   "cell_type": "markdown",
   "metadata": {},
   "source": [
    "### Segregating the columns into types"
   ]
  },
  {
   "cell_type": "code",
   "execution_count": 10,
   "metadata": {},
   "outputs": [],
   "source": [
    "integer_columns = [\n",
    "    \"lease_commence_date\"\n",
    "]\n",
    "\n",
    "float_columns = [\n",
    "    \"floor_area_sqm\",\n",
    "    \"latitude\",\n",
    "    \"longitude\"\n",
    "]\n",
    "\n",
    "target_column = [\n",
    "    \"resale_price\"\n",
    "]\n",
    "\n",
    "categorical_columns = [\n",
    "    \"month\",\n",
    "    \"town\",\n",
    "    \"flat_type\",\n",
    "    \"block\",\n",
    "    \"street_name\",\n",
    "    \"storey_range\",\n",
    "    \"flat_model\",\n",
    "    \"eco_category\",\n",
    "    \"subzone\",\n",
    "    \"planning_area\",\n",
    "    \"region\"\n",
    "]"
   ]
  },
  {
   "cell_type": "markdown",
   "metadata": {},
   "source": [
    "### We will summarize the columns of our data"
   ]
  },
  {
   "cell_type": "code",
   "execution_count": 11,
   "metadata": {},
   "outputs": [
    {
     "name": "stdout",
     "output_type": "stream",
     "text": [
      "<class 'pandas.core.frame.DataFrame'>\n",
      "RangeIndex: 431732 entries, 0 to 431731\n",
      "Data columns (total 17 columns):\n",
      " #   Column               Non-Null Count   Dtype  \n",
      "---  ------               --------------   -----  \n",
      " 0   month                431732 non-null  object \n",
      " 1   town                 431732 non-null  object \n",
      " 2   flat_type            431732 non-null  object \n",
      " 3   block                431732 non-null  object \n",
      " 4   street_name          431732 non-null  object \n",
      " 5   storey_range         431732 non-null  object \n",
      " 6   floor_area_sqm       431732 non-null  float32\n",
      " 7   flat_model           431732 non-null  object \n",
      " 8   eco_category         431732 non-null  object \n",
      " 9   lease_commence_date  431732 non-null  uint16 \n",
      " 10  latitude             431732 non-null  float32\n",
      " 11  longitude            431732 non-null  float32\n",
      " 12  elevation            431732 non-null  uint8  \n",
      " 13  subzone              431732 non-null  object \n",
      " 14  planning_area        431732 non-null  object \n",
      " 15  region               431732 non-null  object \n",
      " 16  resale_price         431732 non-null  float32\n",
      "dtypes: float32(4), object(11), uint16(1), uint8(1)\n",
      "memory usage: 44.1+ MB\n"
     ]
    }
   ],
   "source": [
    "train_df.info()"
   ]
  },
  {
   "cell_type": "code",
   "execution_count": 12,
   "metadata": {
    "scrolled": true
   },
   "outputs": [
    {
     "name": "stdout",
     "output_type": "stream",
     "text": [
      "<class 'pandas.core.frame.DataFrame'>\n",
      "RangeIndex: 107934 entries, 0 to 107933\n",
      "Data columns (total 16 columns):\n",
      " #   Column               Non-Null Count   Dtype  \n",
      "---  ------               --------------   -----  \n",
      " 0   month                107934 non-null  object \n",
      " 1   town                 107934 non-null  object \n",
      " 2   flat_type            107934 non-null  object \n",
      " 3   block                107934 non-null  object \n",
      " 4   street_name          107934 non-null  object \n",
      " 5   storey_range         107934 non-null  object \n",
      " 6   floor_area_sqm       107934 non-null  float32\n",
      " 7   flat_model           107934 non-null  object \n",
      " 8   eco_category         107934 non-null  object \n",
      " 9   lease_commence_date  107934 non-null  uint16 \n",
      " 10  latitude             107934 non-null  float32\n",
      " 11  longitude            107934 non-null  float32\n",
      " 12  elevation            107934 non-null  uint8  \n",
      " 13  subzone              107934 non-null  object \n",
      " 14  planning_area        107934 non-null  object \n",
      " 15  region               107934 non-null  object \n",
      "dtypes: float32(3), object(11), uint16(1), uint8(1)\n",
      "memory usage: 10.6+ MB\n"
     ]
    }
   ],
   "source": [
    "test_df.info()"
   ]
  },
  {
   "cell_type": "code",
   "execution_count": 13,
   "metadata": {},
   "outputs": [
    {
     "data": {
      "text/html": [
       "<div>\n",
       "<style scoped>\n",
       "    .dataframe tbody tr th:only-of-type {\n",
       "        vertical-align: middle;\n",
       "    }\n",
       "\n",
       "    .dataframe tbody tr th {\n",
       "        vertical-align: top;\n",
       "    }\n",
       "\n",
       "    .dataframe thead th {\n",
       "        text-align: right;\n",
       "    }\n",
       "</style>\n",
       "<table border=\"1\" class=\"dataframe\">\n",
       "  <thead>\n",
       "    <tr style=\"text-align: right;\">\n",
       "      <th></th>\n",
       "      <th>month</th>\n",
       "      <th>town</th>\n",
       "      <th>flat_type</th>\n",
       "      <th>block</th>\n",
       "      <th>street_name</th>\n",
       "      <th>storey_range</th>\n",
       "      <th>floor_area_sqm</th>\n",
       "      <th>flat_model</th>\n",
       "      <th>eco_category</th>\n",
       "      <th>lease_commence_date</th>\n",
       "      <th>latitude</th>\n",
       "      <th>longitude</th>\n",
       "      <th>elevation</th>\n",
       "      <th>subzone</th>\n",
       "      <th>planning_area</th>\n",
       "      <th>region</th>\n",
       "      <th>resale_price</th>\n",
       "    </tr>\n",
       "  </thead>\n",
       "  <tbody>\n",
       "    <tr>\n",
       "      <th>0</th>\n",
       "      <td>2001-08</td>\n",
       "      <td>pasir ris</td>\n",
       "      <td>4 room</td>\n",
       "      <td>440</td>\n",
       "      <td>pasir ris drive 4</td>\n",
       "      <td>01 to 03</td>\n",
       "      <td>118.0</td>\n",
       "      <td>model a</td>\n",
       "      <td>uncategorized</td>\n",
       "      <td>1989</td>\n",
       "      <td>1.369008</td>\n",
       "      <td>103.958694</td>\n",
       "      <td>0</td>\n",
       "      <td>pasir ris drive</td>\n",
       "      <td>pasir ris</td>\n",
       "      <td>east region</td>\n",
       "      <td>209700.0</td>\n",
       "    </tr>\n",
       "    <tr>\n",
       "      <th>1</th>\n",
       "      <td>2014-10</td>\n",
       "      <td>punggol</td>\n",
       "      <td>5-room</td>\n",
       "      <td>196B</td>\n",
       "      <td>punggol field</td>\n",
       "      <td>10 to 12</td>\n",
       "      <td>110.0</td>\n",
       "      <td>improved</td>\n",
       "      <td>uncategorized</td>\n",
       "      <td>2003</td>\n",
       "      <td>1.399007</td>\n",
       "      <td>103.906990</td>\n",
       "      <td>0</td>\n",
       "      <td>punggol field</td>\n",
       "      <td>punggol</td>\n",
       "      <td>north-east region</td>\n",
       "      <td>402300.0</td>\n",
       "    </tr>\n",
       "    <tr>\n",
       "      <th>2</th>\n",
       "      <td>2020-09</td>\n",
       "      <td>sengkang</td>\n",
       "      <td>5 room</td>\n",
       "      <td>404A</td>\n",
       "      <td>fernvale lane</td>\n",
       "      <td>01 to 03</td>\n",
       "      <td>112.0</td>\n",
       "      <td>premium apartment</td>\n",
       "      <td>uncategorized</td>\n",
       "      <td>2004</td>\n",
       "      <td>1.388348</td>\n",
       "      <td>103.873817</td>\n",
       "      <td>0</td>\n",
       "      <td>fernvale</td>\n",
       "      <td>sengkang</td>\n",
       "      <td>north-east region</td>\n",
       "      <td>351000.0</td>\n",
       "    </tr>\n",
       "    <tr>\n",
       "      <th>3</th>\n",
       "      <td>2000-10</td>\n",
       "      <td>clementi</td>\n",
       "      <td>3 room</td>\n",
       "      <td>375</td>\n",
       "      <td>clementi avenue 4</td>\n",
       "      <td>07 to 09</td>\n",
       "      <td>67.0</td>\n",
       "      <td>new generation</td>\n",
       "      <td>uncategorized</td>\n",
       "      <td>1980</td>\n",
       "      <td>1.318493</td>\n",
       "      <td>103.766701</td>\n",
       "      <td>0</td>\n",
       "      <td>clementi north</td>\n",
       "      <td>clementi</td>\n",
       "      <td>west region</td>\n",
       "      <td>151200.0</td>\n",
       "    </tr>\n",
       "    <tr>\n",
       "      <th>4</th>\n",
       "      <td>2013-01</td>\n",
       "      <td>bukit batok</td>\n",
       "      <td>3-room</td>\n",
       "      <td>163</td>\n",
       "      <td>bukit batok street 11</td>\n",
       "      <td>07 to 09</td>\n",
       "      <td>73.0</td>\n",
       "      <td>model a</td>\n",
       "      <td>uncategorized</td>\n",
       "      <td>1985</td>\n",
       "      <td>1.348150</td>\n",
       "      <td>103.742661</td>\n",
       "      <td>0</td>\n",
       "      <td>bukit batok west</td>\n",
       "      <td>bukit batok</td>\n",
       "      <td>west region</td>\n",
       "      <td>318600.0</td>\n",
       "    </tr>\n",
       "  </tbody>\n",
       "</table>\n",
       "</div>"
      ],
      "text/plain": [
       "     month         town flat_type block            street_name storey_range  \\\n",
       "0  2001-08    pasir ris    4 room   440      pasir ris drive 4     01 to 03   \n",
       "1  2014-10      punggol    5-room  196B          punggol field     10 to 12   \n",
       "2  2020-09     sengkang    5 room  404A          fernvale lane     01 to 03   \n",
       "3  2000-10     clementi    3 room   375      clementi avenue 4     07 to 09   \n",
       "4  2013-01  bukit batok    3-room   163  bukit batok street 11     07 to 09   \n",
       "\n",
       "   floor_area_sqm         flat_model   eco_category  lease_commence_date  \\\n",
       "0           118.0            model a  uncategorized                 1989   \n",
       "1           110.0           improved  uncategorized                 2003   \n",
       "2           112.0  premium apartment  uncategorized                 2004   \n",
       "3            67.0     new generation  uncategorized                 1980   \n",
       "4            73.0            model a  uncategorized                 1985   \n",
       "\n",
       "   latitude   longitude  elevation           subzone planning_area  \\\n",
       "0  1.369008  103.958694          0   pasir ris drive     pasir ris   \n",
       "1  1.399007  103.906990          0     punggol field       punggol   \n",
       "2  1.388348  103.873817          0          fernvale      sengkang   \n",
       "3  1.318493  103.766701          0    clementi north      clementi   \n",
       "4  1.348150  103.742661          0  bukit batok west   bukit batok   \n",
       "\n",
       "              region  resale_price  \n",
       "0        east region      209700.0  \n",
       "1  north-east region      402300.0  \n",
       "2  north-east region      351000.0  \n",
       "3        west region      151200.0  \n",
       "4        west region      318600.0  "
      ]
     },
     "execution_count": 13,
     "metadata": {},
     "output_type": "execute_result"
    }
   ],
   "source": [
    "train_df.head()"
   ]
  },
  {
   "cell_type": "markdown",
   "metadata": {},
   "source": [
    "## We will now explore each column separately"
   ]
  },
  {
   "cell_type": "markdown",
   "metadata": {},
   "source": [
    "### month  column"
   ]
  },
  {
   "cell_type": "code",
   "execution_count": 14,
   "metadata": {},
   "outputs": [
    {
     "data": {
      "text/plain": [
       "251"
      ]
     },
     "execution_count": 14,
     "metadata": {},
     "output_type": "execute_result"
    }
   ],
   "source": [
    "train_df['month'].nunique()"
   ]
  },
  {
   "cell_type": "code",
   "execution_count": 15,
   "metadata": {},
   "outputs": [
    {
     "data": {
      "text/plain": [
       "0    2001-08\n",
       "1    2014-10\n",
       "2    2020-09\n",
       "3    2000-10\n",
       "4    2013-01\n",
       "Name: month, dtype: object"
      ]
     },
     "execution_count": 15,
     "metadata": {},
     "output_type": "execute_result"
    }
   ],
   "source": [
    "train_df['month'].head()"
   ]
  },
  {
   "cell_type": "code",
   "execution_count": 16,
   "metadata": {},
   "outputs": [],
   "source": [
    "train_df['month_no'] = train_df['month'].str[-2:].astype(int)\n",
    "train_df['year'] = train_df['month'].str[0:4].astype(int)\n",
    "test_df['month_no'] = test_df['month'].str[-2:].astype(int)\n",
    "test_df['year'] = test_df['month'].str[0:4].astype(int)\n",
    "train_df = train_df.drop('month',1)\n",
    "test_df = test_df.drop('month',1)"
   ]
  },
  {
   "cell_type": "code",
   "execution_count": 17,
   "metadata": {},
   "outputs": [
    {
     "data": {
      "text/plain": [
       "<AxesSubplot:xlabel='year'>"
      ]
     },
     "execution_count": 17,
     "metadata": {},
     "output_type": "execute_result"
    },
    {
     "data": {
      "image/png": "[encoded data removed]",
      "text/plain": [
       "<Figure size 432x288 with 1 Axes>"
      ]
     },
     "metadata": {
      "needs_background": "light"
     },
     "output_type": "display_data"
    }
   ],
   "source": [
    "df_year = train_df.groupby(['year'],as_index=True).mean()[['resale_price']]\n",
    "df_year.plot(kind='line')"
   ]
  },
  {
   "cell_type": "markdown",
   "metadata": {},
   "source": [
    "### town colum //check this from last notebook"
   ]
  },
  {
   "cell_type": "code",
   "execution_count": null,
   "metadata": {},
   "outputs": [],
   "source": []
  },
  {
   "cell_type": "code",
   "execution_count": null,
   "metadata": {},
   "outputs": [],
   "source": []
  },
  {
   "cell_type": "code",
   "execution_count": null,
   "metadata": {},
   "outputs": [],
   "source": []
  },
  {
   "cell_type": "markdown",
   "metadata": {},
   "source": [
    "### flat_type"
   ]
  },
  {
   "cell_type": "code",
   "execution_count": 18,
   "metadata": {},
   "outputs": [
    {
     "data": {
      "text/plain": [
       "array(['4 room', '5-room', '5 room', '3 room', '3-room', 'executive',\n",
       "       '2 room', '4-room', 'multi generation', '2-room', '1-room',\n",
       "       '1 room'], dtype=object)"
      ]
     },
     "execution_count": 18,
     "metadata": {},
     "output_type": "execute_result"
    }
   ],
   "source": [
    "train_df['flat_type'].unique()"
   ]
  },
  {
   "cell_type": "code",
   "execution_count": 19,
   "metadata": {},
   "outputs": [],
   "source": [
    "train_df[\"flat_type\"].replace({\"5 room\": \"5-room\",\n",
    "                                       \"4 room\": \"4-room\",\n",
    "                                       \"3 room\": \"3-room\",\n",
    "                                       \"2 room\": \"2-room\",\n",
    "                                       \"1 room\": \"1-room\"},\n",
    "                                      inplace=True)\n",
    "test_df[\"flat_type\"].replace({\"5 room\": \"5-room\",\n",
    "                                       \"4 room\": \"4-room\",\n",
    "                                       \"3 room\": \"3-room\",\n",
    "                                       \"2 room\": \"2-room\",\n",
    "                                       \"1 room\": \"1-room\"},\n",
    "                                      inplace=True)"
   ]
  },
  {
   "cell_type": "code",
   "execution_count": 20,
   "metadata": {},
   "outputs": [
    {
     "data": {
      "text/plain": [
       "array(['4-room', '5-room', '3-room', 'executive', '2-room',\n",
       "       'multi generation', '1-room'], dtype=object)"
      ]
     },
     "execution_count": 20,
     "metadata": {},
     "output_type": "execute_result"
    }
   ],
   "source": [
    "train_df['flat_type'].unique()"
   ]
  },
  {
   "cell_type": "code",
   "execution_count": 21,
   "metadata": {},
   "outputs": [
    {
     "data": {
      "text/html": [
       "<div>\n",
       "<style scoped>\n",
       "    .dataframe tbody tr th:only-of-type {\n",
       "        vertical-align: middle;\n",
       "    }\n",
       "\n",
       "    .dataframe tbody tr th {\n",
       "        vertical-align: top;\n",
       "    }\n",
       "\n",
       "    .dataframe thead th {\n",
       "        text-align: right;\n",
       "    }\n",
       "</style>\n",
       "<table border=\"1\" class=\"dataframe\">\n",
       "  <thead>\n",
       "    <tr style=\"text-align: right;\">\n",
       "      <th></th>\n",
       "      <th>floor_area_sqm</th>\n",
       "      <th>lease_commence_date</th>\n",
       "      <th>latitude</th>\n",
       "      <th>longitude</th>\n",
       "      <th>elevation</th>\n",
       "      <th>resale_price</th>\n",
       "      <th>month_no</th>\n",
       "      <th>year</th>\n",
       "    </tr>\n",
       "    <tr>\n",
       "      <th>flat_type</th>\n",
       "      <th></th>\n",
       "      <th></th>\n",
       "      <th></th>\n",
       "      <th></th>\n",
       "      <th></th>\n",
       "      <th></th>\n",
       "      <th></th>\n",
       "      <th></th>\n",
       "    </tr>\n",
       "  </thead>\n",
       "  <tbody>\n",
       "    <tr>\n",
       "      <th>1-room</th>\n",
       "      <td>31.0</td>\n",
       "      <td>1975</td>\n",
       "      <td>1.278361</td>\n",
       "      <td>103.819382</td>\n",
       "      <td>0</td>\n",
       "      <td>82170.0</td>\n",
       "      <td>6</td>\n",
       "      <td>2007</td>\n",
       "    </tr>\n",
       "    <tr>\n",
       "      <th>2-room</th>\n",
       "      <td>45.0</td>\n",
       "      <td>1973</td>\n",
       "      <td>1.326222</td>\n",
       "      <td>103.845566</td>\n",
       "      <td>0</td>\n",
       "      <td>171000.0</td>\n",
       "      <td>7</td>\n",
       "      <td>2010</td>\n",
       "    </tr>\n",
       "    <tr>\n",
       "      <th>3-room</th>\n",
       "      <td>67.0</td>\n",
       "      <td>1980</td>\n",
       "      <td>1.345564</td>\n",
       "      <td>103.842529</td>\n",
       "      <td>0</td>\n",
       "      <td>189000.0</td>\n",
       "      <td>7</td>\n",
       "      <td>2007</td>\n",
       "    </tr>\n",
       "    <tr>\n",
       "      <th>4-room</th>\n",
       "      <td>98.0</td>\n",
       "      <td>1992</td>\n",
       "      <td>1.368607</td>\n",
       "      <td>103.838570</td>\n",
       "      <td>0</td>\n",
       "      <td>279000.0</td>\n",
       "      <td>7</td>\n",
       "      <td>2008</td>\n",
       "    </tr>\n",
       "    <tr>\n",
       "      <th>5-room</th>\n",
       "      <td>121.0</td>\n",
       "      <td>1997</td>\n",
       "      <td>1.373261</td>\n",
       "      <td>103.838516</td>\n",
       "      <td>0</td>\n",
       "      <td>360000.0</td>\n",
       "      <td>7</td>\n",
       "      <td>2009</td>\n",
       "    </tr>\n",
       "    <tr>\n",
       "      <th>executive</th>\n",
       "      <td>146.0</td>\n",
       "      <td>1994</td>\n",
       "      <td>1.371992</td>\n",
       "      <td>103.842873</td>\n",
       "      <td>0</td>\n",
       "      <td>441000.0</td>\n",
       "      <td>7</td>\n",
       "      <td>2009</td>\n",
       "    </tr>\n",
       "    <tr>\n",
       "      <th>multi generation</th>\n",
       "      <td>164.0</td>\n",
       "      <td>1987</td>\n",
       "      <td>1.418567</td>\n",
       "      <td>103.840569</td>\n",
       "      <td>0</td>\n",
       "      <td>454500.0</td>\n",
       "      <td>7</td>\n",
       "      <td>2007</td>\n",
       "    </tr>\n",
       "  </tbody>\n",
       "</table>\n",
       "</div>"
      ],
      "text/plain": [
       "                  floor_area_sqm  lease_commence_date  latitude   longitude  \\\n",
       "flat_type                                                                     \n",
       "1-room                      31.0                 1975  1.278361  103.819382   \n",
       "2-room                      45.0                 1973  1.326222  103.845566   \n",
       "3-room                      67.0                 1980  1.345564  103.842529   \n",
       "4-room                      98.0                 1992  1.368607  103.838570   \n",
       "5-room                     121.0                 1997  1.373261  103.838516   \n",
       "executive                  146.0                 1994  1.371992  103.842873   \n",
       "multi generation           164.0                 1987  1.418567  103.840569   \n",
       "\n",
       "                  elevation  resale_price  month_no  year  \n",
       "flat_type                                                  \n",
       "1-room                    0       82170.0         6  2007  \n",
       "2-room                    0      171000.0         7  2010  \n",
       "3-room                    0      189000.0         7  2007  \n",
       "4-room                    0      279000.0         7  2008  \n",
       "5-room                    0      360000.0         7  2009  \n",
       "executive                 0      441000.0         7  2009  \n",
       "multi generation          0      454500.0         7  2007  "
      ]
     },
     "execution_count": 21,
     "metadata": {},
     "output_type": "execute_result"
    }
   ],
   "source": [
    "train_df.groupby(['flat_type']).median()"
   ]
  },
  {
   "cell_type": "code",
   "execution_count": 22,
   "metadata": {},
   "outputs": [
    {
     "data": {
      "text/plain": [
       "<AxesSubplot:xlabel='flat_type'>"
      ]
     },
     "execution_count": 22,
     "metadata": {},
     "output_type": "execute_result"
    },
    {
     "data": {
      "image/png": "[encoded data removed]",
      "text/plain": [
       "<Figure size 432x288 with 1 Axes>"
      ]
     },
     "metadata": {
      "needs_background": "light"
     },
     "output_type": "display_data"
    }
   ],
   "source": [
    "df_flat_type = train_df.groupby(['flat_type'],as_index=True).mean()[['resale_price']]\n",
    "df_flat_type.plot(kind='line')"
   ]
  },
  {
   "cell_type": "markdown",
   "metadata": {},
   "source": [
    "### block and street_name columns //check this"
   ]
  },
  {
   "cell_type": "code",
   "execution_count": 23,
   "metadata": {},
   "outputs": [
    {
     "data": {
      "text/html": [
       "<div>\n",
       "<style scoped>\n",
       "    .dataframe tbody tr th:only-of-type {\n",
       "        vertical-align: middle;\n",
       "    }\n",
       "\n",
       "    .dataframe tbody tr th {\n",
       "        vertical-align: top;\n",
       "    }\n",
       "\n",
       "    .dataframe thead th {\n",
       "        text-align: right;\n",
       "    }\n",
       "</style>\n",
       "<table border=\"1\" class=\"dataframe\">\n",
       "  <thead>\n",
       "    <tr style=\"text-align: right;\">\n",
       "      <th></th>\n",
       "      <th>block</th>\n",
       "      <th>street_name</th>\n",
       "    </tr>\n",
       "  </thead>\n",
       "  <tbody>\n",
       "    <tr>\n",
       "      <th>0</th>\n",
       "      <td>440</td>\n",
       "      <td>pasir ris drive 4</td>\n",
       "    </tr>\n",
       "    <tr>\n",
       "      <th>1</th>\n",
       "      <td>196B</td>\n",
       "      <td>punggol field</td>\n",
       "    </tr>\n",
       "    <tr>\n",
       "      <th>2</th>\n",
       "      <td>404A</td>\n",
       "      <td>fernvale lane</td>\n",
       "    </tr>\n",
       "    <tr>\n",
       "      <th>3</th>\n",
       "      <td>375</td>\n",
       "      <td>clementi avenue 4</td>\n",
       "    </tr>\n",
       "    <tr>\n",
       "      <th>4</th>\n",
       "      <td>163</td>\n",
       "      <td>bukit batok street 11</td>\n",
       "    </tr>\n",
       "  </tbody>\n",
       "</table>\n",
       "</div>"
      ],
      "text/plain": [
       "  block            street_name\n",
       "0   440      pasir ris drive 4\n",
       "1  196B          punggol field\n",
       "2  404A          fernvale lane\n",
       "3   375      clementi avenue 4\n",
       "4   163  bukit batok street 11"
      ]
     },
     "execution_count": 23,
     "metadata": {},
     "output_type": "execute_result"
    }
   ],
   "source": [
    "train_df[[\"block\",\"street_name\"]].head()"
   ]
  },
  {
   "cell_type": "code",
   "execution_count": null,
   "metadata": {},
   "outputs": [],
   "source": []
  },
  {
   "cell_type": "code",
   "execution_count": null,
   "metadata": {},
   "outputs": [],
   "source": []
  },
  {
   "cell_type": "code",
   "execution_count": null,
   "metadata": {},
   "outputs": [],
   "source": []
  },
  {
   "cell_type": "markdown",
   "metadata": {},
   "source": [
    "### storey_range column"
   ]
  },
  {
   "cell_type": "code",
   "execution_count": 24,
   "metadata": {},
   "outputs": [
    {
     "data": {
      "text/plain": [
       "array(['01 to 03', '10 to 12', '07 to 09', '13 to 15', '16 to 18',\n",
       "       '04 to 06', '22 to 24', '01 to 05', '19 to 21', '11 to 15',\n",
       "       '06 to 10', '25 to 27', '31 to 33', '28 to 30', '37 to 39',\n",
       "       '34 to 36', '21 to 25', '16 to 20', '40 to 42', '46 to 48',\n",
       "       '43 to 45', '26 to 30', '36 to 40', '31 to 35', '49 to 51'],\n",
       "      dtype=object)"
      ]
     },
     "execution_count": 24,
     "metadata": {},
     "output_type": "execute_result"
    }
   ],
   "source": [
    "train_df[\"storey_range\"].unique()"
   ]
  },
  {
   "cell_type": "code",
   "execution_count": 25,
   "metadata": {},
   "outputs": [],
   "source": [
    "def get_storey(x):\n",
    "            low_level = int(x[0:2])\n",
    "            high_level = int(x[-2:])\n",
    "            mean_value = (low_level + high_level) * 0.5\n",
    "            return mean_value\n",
    "            # print(\"Changes storey_range 01 to 03 to 2\")\n",
    "train_df['storey'] = train_df['storey_range'].apply(lambda x: get_storey(x))\n",
    "train_df = train_df.drop('storey_range',1)\n",
    "test_df['storey'] = test_df['storey_range'].apply(lambda x: get_storey(x))\n",
    "test_df = test_df.drop('storey_range',1)"
   ]
  },
  {
   "cell_type": "code",
   "execution_count": 26,
   "metadata": {},
   "outputs": [
    {
     "data": {
      "text/html": [
       "<div>\n",
       "<style scoped>\n",
       "    .dataframe tbody tr th:only-of-type {\n",
       "        vertical-align: middle;\n",
       "    }\n",
       "\n",
       "    .dataframe tbody tr th {\n",
       "        vertical-align: top;\n",
       "    }\n",
       "\n",
       "    .dataframe thead th {\n",
       "        text-align: right;\n",
       "    }\n",
       "</style>\n",
       "<table border=\"1\" class=\"dataframe\">\n",
       "  <thead>\n",
       "    <tr style=\"text-align: right;\">\n",
       "      <th></th>\n",
       "      <th>floor_area_sqm</th>\n",
       "      <th>lease_commence_date</th>\n",
       "      <th>latitude</th>\n",
       "      <th>longitude</th>\n",
       "      <th>elevation</th>\n",
       "      <th>resale_price</th>\n",
       "      <th>month_no</th>\n",
       "      <th>year</th>\n",
       "    </tr>\n",
       "    <tr>\n",
       "      <th>storey</th>\n",
       "      <th></th>\n",
       "      <th></th>\n",
       "      <th></th>\n",
       "      <th></th>\n",
       "      <th></th>\n",
       "      <th></th>\n",
       "      <th></th>\n",
       "      <th></th>\n",
       "    </tr>\n",
       "  </thead>\n",
       "  <tbody>\n",
       "    <tr>\n",
       "      <th>2.0</th>\n",
       "      <td>94.0</td>\n",
       "      <td>1987.0</td>\n",
       "      <td>1.358288</td>\n",
       "      <td>103.839424</td>\n",
       "      <td>0</td>\n",
       "      <td>262800.000</td>\n",
       "      <td>7.0</td>\n",
       "      <td>2008.0</td>\n",
       "    </tr>\n",
       "    <tr>\n",
       "      <th>3.0</th>\n",
       "      <td>94.0</td>\n",
       "      <td>1987.5</td>\n",
       "      <td>1.362126</td>\n",
       "      <td>103.838875</td>\n",
       "      <td>0</td>\n",
       "      <td>374400.000</td>\n",
       "      <td>4.0</td>\n",
       "      <td>2012.0</td>\n",
       "    </tr>\n",
       "    <tr>\n",
       "      <th>5.0</th>\n",
       "      <td>96.0</td>\n",
       "      <td>1987.0</td>\n",
       "      <td>1.358669</td>\n",
       "      <td>103.840065</td>\n",
       "      <td>0</td>\n",
       "      <td>270000.000</td>\n",
       "      <td>7.0</td>\n",
       "      <td>2008.0</td>\n",
       "    </tr>\n",
       "    <tr>\n",
       "      <th>8.0</th>\n",
       "      <td>96.0</td>\n",
       "      <td>1987.0</td>\n",
       "      <td>1.359430</td>\n",
       "      <td>103.840477</td>\n",
       "      <td>0</td>\n",
       "      <td>277200.000</td>\n",
       "      <td>7.0</td>\n",
       "      <td>2008.0</td>\n",
       "    </tr>\n",
       "    <tr>\n",
       "      <th>11.0</th>\n",
       "      <td>98.0</td>\n",
       "      <td>1988.0</td>\n",
       "      <td>1.364118</td>\n",
       "      <td>103.839363</td>\n",
       "      <td>0</td>\n",
       "      <td>283500.000</td>\n",
       "      <td>7.0</td>\n",
       "      <td>2008.0</td>\n",
       "    </tr>\n",
       "    <tr>\n",
       "      <th>13.0</th>\n",
       "      <td>100.0</td>\n",
       "      <td>1993.0</td>\n",
       "      <td>1.369848</td>\n",
       "      <td>103.837769</td>\n",
       "      <td>0</td>\n",
       "      <td>412200.000</td>\n",
       "      <td>4.0</td>\n",
       "      <td>2012.0</td>\n",
       "    </tr>\n",
       "    <tr>\n",
       "      <th>14.0</th>\n",
       "      <td>102.0</td>\n",
       "      <td>1997.0</td>\n",
       "      <td>1.364425</td>\n",
       "      <td>103.849403</td>\n",
       "      <td>0</td>\n",
       "      <td>334800.000</td>\n",
       "      <td>7.0</td>\n",
       "      <td>2009.0</td>\n",
       "    </tr>\n",
       "    <tr>\n",
       "      <th>17.0</th>\n",
       "      <td>105.0</td>\n",
       "      <td>1999.0</td>\n",
       "      <td>1.348241</td>\n",
       "      <td>103.845985</td>\n",
       "      <td>0</td>\n",
       "      <td>373500.000</td>\n",
       "      <td>7.0</td>\n",
       "      <td>2010.0</td>\n",
       "    </tr>\n",
       "    <tr>\n",
       "      <th>18.0</th>\n",
       "      <td>110.0</td>\n",
       "      <td>2000.0</td>\n",
       "      <td>1.366292</td>\n",
       "      <td>103.840263</td>\n",
       "      <td>0</td>\n",
       "      <td>481500.000</td>\n",
       "      <td>4.0</td>\n",
       "      <td>2012.0</td>\n",
       "    </tr>\n",
       "    <tr>\n",
       "      <th>20.0</th>\n",
       "      <td>110.0</td>\n",
       "      <td>1997.0</td>\n",
       "      <td>1.337190</td>\n",
       "      <td>103.819496</td>\n",
       "      <td>0</td>\n",
       "      <td>398700.000</td>\n",
       "      <td>7.0</td>\n",
       "      <td>2010.0</td>\n",
       "    </tr>\n",
       "    <tr>\n",
       "      <th>23.0</th>\n",
       "      <td>110.0</td>\n",
       "      <td>1998.0</td>\n",
       "      <td>1.334821</td>\n",
       "      <td>103.827240</td>\n",
       "      <td>0</td>\n",
       "      <td>436500.000</td>\n",
       "      <td>7.0</td>\n",
       "      <td>2010.0</td>\n",
       "    </tr>\n",
       "    <tr>\n",
       "      <th>26.0</th>\n",
       "      <td>105.0</td>\n",
       "      <td>2003.0</td>\n",
       "      <td>1.332796</td>\n",
       "      <td>103.828491</td>\n",
       "      <td>0</td>\n",
       "      <td>490500.000</td>\n",
       "      <td>7.0</td>\n",
       "      <td>2012.0</td>\n",
       "    </tr>\n",
       "    <tr>\n",
       "      <th>28.0</th>\n",
       "      <td>90.0</td>\n",
       "      <td>2005.0</td>\n",
       "      <td>1.293803</td>\n",
       "      <td>103.816788</td>\n",
       "      <td>0</td>\n",
       "      <td>646200.000</td>\n",
       "      <td>4.0</td>\n",
       "      <td>2012.0</td>\n",
       "    </tr>\n",
       "    <tr>\n",
       "      <th>29.0</th>\n",
       "      <td>100.0</td>\n",
       "      <td>2004.0</td>\n",
       "      <td>1.311981</td>\n",
       "      <td>103.825989</td>\n",
       "      <td>0</td>\n",
       "      <td>594000.000</td>\n",
       "      <td>7.0</td>\n",
       "      <td>2014.0</td>\n",
       "    </tr>\n",
       "    <tr>\n",
       "      <th>32.0</th>\n",
       "      <td>92.0</td>\n",
       "      <td>2012.0</td>\n",
       "      <td>1.309118</td>\n",
       "      <td>103.829247</td>\n",
       "      <td>0</td>\n",
       "      <td>713649.625</td>\n",
       "      <td>7.0</td>\n",
       "      <td>2017.0</td>\n",
       "    </tr>\n",
       "    <tr>\n",
       "      <th>33.0</th>\n",
       "      <td>86.0</td>\n",
       "      <td>2006.0</td>\n",
       "      <td>1.334879</td>\n",
       "      <td>103.845619</td>\n",
       "      <td>0</td>\n",
       "      <td>635850.000</td>\n",
       "      <td>4.0</td>\n",
       "      <td>2012.0</td>\n",
       "    </tr>\n",
       "    <tr>\n",
       "      <th>35.0</th>\n",
       "      <td>92.0</td>\n",
       "      <td>2011.0</td>\n",
       "      <td>1.306083</td>\n",
       "      <td>103.812584</td>\n",
       "      <td>0</td>\n",
       "      <td>727200.000</td>\n",
       "      <td>7.0</td>\n",
       "      <td>2017.0</td>\n",
       "    </tr>\n",
       "    <tr>\n",
       "      <th>38.0</th>\n",
       "      <td>92.0</td>\n",
       "      <td>2012.0</td>\n",
       "      <td>1.310045</td>\n",
       "      <td>103.829498</td>\n",
       "      <td>0</td>\n",
       "      <td>729900.000</td>\n",
       "      <td>7.0</td>\n",
       "      <td>2017.0</td>\n",
       "    </tr>\n",
       "    <tr>\n",
       "      <th>41.0</th>\n",
       "      <td>93.0</td>\n",
       "      <td>2011.0</td>\n",
       "      <td>1.308880</td>\n",
       "      <td>103.841156</td>\n",
       "      <td>0</td>\n",
       "      <td>774000.000</td>\n",
       "      <td>7.0</td>\n",
       "      <td>2017.0</td>\n",
       "    </tr>\n",
       "    <tr>\n",
       "      <th>44.0</th>\n",
       "      <td>94.0</td>\n",
       "      <td>2011.0</td>\n",
       "      <td>1.276920</td>\n",
       "      <td>103.841232</td>\n",
       "      <td>0</td>\n",
       "      <td>909000.000</td>\n",
       "      <td>9.5</td>\n",
       "      <td>2017.0</td>\n",
       "    </tr>\n",
       "    <tr>\n",
       "      <th>47.0</th>\n",
       "      <td>96.0</td>\n",
       "      <td>2011.0</td>\n",
       "      <td>1.276920</td>\n",
       "      <td>103.841194</td>\n",
       "      <td>0</td>\n",
       "      <td>900000.000</td>\n",
       "      <td>7.0</td>\n",
       "      <td>2018.0</td>\n",
       "    </tr>\n",
       "    <tr>\n",
       "      <th>50.0</th>\n",
       "      <td>94.0</td>\n",
       "      <td>2011.0</td>\n",
       "      <td>1.276920</td>\n",
       "      <td>103.841194</td>\n",
       "      <td>0</td>\n",
       "      <td>899100.000</td>\n",
       "      <td>7.0</td>\n",
       "      <td>2018.0</td>\n",
       "    </tr>\n",
       "  </tbody>\n",
       "</table>\n",
       "</div>"
      ],
      "text/plain": [
       "        floor_area_sqm  lease_commence_date  latitude   longitude  elevation  \\\n",
       "storey                                                                         \n",
       "2.0               94.0               1987.0  1.358288  103.839424          0   \n",
       "3.0               94.0               1987.5  1.362126  103.838875          0   \n",
       "5.0               96.0               1987.0  1.358669  103.840065          0   \n",
       "8.0               96.0               1987.0  1.359430  103.840477          0   \n",
       "11.0              98.0               1988.0  1.364118  103.839363          0   \n",
       "13.0             100.0               1993.0  1.369848  103.837769          0   \n",
       "14.0             102.0               1997.0  1.364425  103.849403          0   \n",
       "17.0             105.0               1999.0  1.348241  103.845985          0   \n",
       "18.0             110.0               2000.0  1.366292  103.840263          0   \n",
       "20.0             110.0               1997.0  1.337190  103.819496          0   \n",
       "23.0             110.0               1998.0  1.334821  103.827240          0   \n",
       "26.0             105.0               2003.0  1.332796  103.828491          0   \n",
       "28.0              90.0               2005.0  1.293803  103.816788          0   \n",
       "29.0             100.0               2004.0  1.311981  103.825989          0   \n",
       "32.0              92.0               2012.0  1.309118  103.829247          0   \n",
       "33.0              86.0               2006.0  1.334879  103.845619          0   \n",
       "35.0              92.0               2011.0  1.306083  103.812584          0   \n",
       "38.0              92.0               2012.0  1.310045  103.829498          0   \n",
       "41.0              93.0               2011.0  1.308880  103.841156          0   \n",
       "44.0              94.0               2011.0  1.276920  103.841232          0   \n",
       "47.0              96.0               2011.0  1.276920  103.841194          0   \n",
       "50.0              94.0               2011.0  1.276920  103.841194          0   \n",
       "\n",
       "        resale_price  month_no    year  \n",
       "storey                                  \n",
       "2.0       262800.000       7.0  2008.0  \n",
       "3.0       374400.000       4.0  2012.0  \n",
       "5.0       270000.000       7.0  2008.0  \n",
       "8.0       277200.000       7.0  2008.0  \n",
       "11.0      283500.000       7.0  2008.0  \n",
       "13.0      412200.000       4.0  2012.0  \n",
       "14.0      334800.000       7.0  2009.0  \n",
       "17.0      373500.000       7.0  2010.0  \n",
       "18.0      481500.000       4.0  2012.0  \n",
       "20.0      398700.000       7.0  2010.0  \n",
       "23.0      436500.000       7.0  2010.0  \n",
       "26.0      490500.000       7.0  2012.0  \n",
       "28.0      646200.000       4.0  2012.0  \n",
       "29.0      594000.000       7.0  2014.0  \n",
       "32.0      713649.625       7.0  2017.0  \n",
       "33.0      635850.000       4.0  2012.0  \n",
       "35.0      727200.000       7.0  2017.0  \n",
       "38.0      729900.000       7.0  2017.0  \n",
       "41.0      774000.000       7.0  2017.0  \n",
       "44.0      909000.000       9.5  2017.0  \n",
       "47.0      900000.000       7.0  2018.0  \n",
       "50.0      899100.000       7.0  2018.0  "
      ]
     },
     "execution_count": 26,
     "metadata": {},
     "output_type": "execute_result"
    }
   ],
   "source": [
    "train_df.groupby(['storey']).median()"
   ]
  },
  {
   "cell_type": "code",
   "execution_count": 27,
   "metadata": {},
   "outputs": [
    {
     "data": {
      "text/plain": [
       "<AxesSubplot:xlabel='storey'>"
      ]
     },
     "execution_count": 27,
     "metadata": {},
     "output_type": "execute_result"
    },
    {
     "data": {
      "image/png": "[encoded data removed]",
      "text/plain": [
       "<Figure size 432x288 with 1 Axes>"
      ]
     },
     "metadata": {
      "needs_background": "light"
     },
     "output_type": "display_data"
    }
   ],
   "source": [
    "df_storey = train_df.groupby(['storey'],as_index=True).mean()[['resale_price']]\n",
    "df_storey.plot(kind='line')"
   ]
  },
  {
   "cell_type": "code",
   "execution_count": null,
   "metadata": {},
   "outputs": [],
   "source": []
  },
  {
   "cell_type": "code",
   "execution_count": null,
   "metadata": {},
   "outputs": [],
   "source": []
  },
  {
   "cell_type": "markdown",
   "metadata": {},
   "source": [
    "### floor_area_sqm column"
   ]
  },
  {
   "cell_type": "code",
   "execution_count": 28,
   "metadata": {},
   "outputs": [
    {
     "data": {
      "text/plain": [
       "array([118. , 110. , 112. ,  67. ,  73. , 100. ,  60. , 140. , 122. ,\n",
       "       103. , 106. ,  90. , 133. , 104. ,  47. , 152. ,  65. , 132. ,\n",
       "        99. ,  84. ,  74. , 115. , 121. , 131. ,  93. , 176. , 164. ,\n",
       "       107. ,  92. , 105. , 120. , 101. , 123. ,  68. ,  82. ,  81. ,\n",
       "        79. ,  64. ,  98. ,  91. ,  69. ,  62. ,  85. , 172. , 126. ,\n",
       "       134. , 102. ,  83. , 129. ,  94. ,  56. ,  88. , 116. ,  45. ,\n",
       "        38. , 109. ,  59. ,  87. ,  58. , 146. , 145. , 137. ,  96. ,\n",
       "       108. , 114. ,  86. ,  89. , 163. , 142. ,  66. , 127. , 138. ,\n",
       "        95. , 192. ,  72. , 156. ,  76. , 148. , 111. ,  46. , 143. ,\n",
       "       150. , 147. , 125. , 124. , 144. , 149. ,  63. ,  35. , 119. ,\n",
       "        60.3,  75. , 113. , 130. , 161. ,  97. ,  40. , 117. ,  51. ,\n",
       "       135. ,  57. ,  70. ,  52. , 139. , 128. ,  54. ,  77. ,  71. ,\n",
       "        78. , 141. , 155. , 151. , 136. ,  31. ,  63.1, 153. , 173. ,\n",
       "       154. , 162. ,  44. ,  42. ,  80. , 169. ,  53. ,  48. , 170. ,\n",
       "       178. , 158. ,  43. , 177. ,  61. , 187. ,  83.1,  50. , 157. ,\n",
       "       179. , 166. ,  41. , 215. ,  49. , 159. , 165. , 184. ,  34. ,\n",
       "        55. , 195. , 189. , 207. , 160. , 175. ,  87.1, 181. , 182. ,\n",
       "       174. , 168. , 171. ,  39. , 243. ,  88.1, 221. , 237. , 186. ,\n",
       "       239. , 222. , 185. ,  89.1,  64.9, 188. , 266. ,  37. , 225. ,\n",
       "       280. ,  64.7, 199. , 210. , 183. , 250. ,  59.1, 167. , 180. ,\n",
       "       190. , 249. , 259. , 241. , 193. , 261. ,  68.8], dtype=float32)"
      ]
     },
     "execution_count": 28,
     "metadata": {},
     "output_type": "execute_result"
    }
   ],
   "source": [
    "train_df[\"floor_area_sqm\"].unique()"
   ]
  },
  {
   "cell_type": "code",
   "execution_count": 29,
   "metadata": {},
   "outputs": [
    {
     "data": {
      "text/plain": [
       "<AxesSubplot:xlabel='floor_area_sqm'>"
      ]
     },
     "execution_count": 29,
     "metadata": {},
     "output_type": "execute_result"
    },
    {
     "data": {
      "image/png": "[encoded data removed]",
      "text/plain": [
       "<Figure size 432x288 with 1 Axes>"
      ]
     },
     "metadata": {
      "needs_background": "light"
     },
     "output_type": "display_data"
    }
   ],
   "source": [
    "df_floor_area = train_df.groupby(['floor_area_sqm'],as_index=True).mean()[['resale_price']]\n",
    "df_floor_area.plot(kind='line')"
   ]
  },
  {
   "cell_type": "code",
   "execution_count": null,
   "metadata": {},
   "outputs": [],
   "source": []
  },
  {
   "cell_type": "code",
   "execution_count": null,
   "metadata": {},
   "outputs": [],
   "source": []
  },
  {
   "cell_type": "markdown",
   "metadata": {},
   "source": [
    "### flat_model column"
   ]
  },
  {
   "cell_type": "code",
   "execution_count": 30,
   "metadata": {},
   "outputs": [
    {
     "data": {
      "text/plain": [
       "array(['model a', 'improved', 'premium apartment', 'new generation',\n",
       "       'apartment', 'simplified', 'standard', 'adjoined flat',\n",
       "       'multi generation', 'maisonette', 'model a2', 'model a maisonette',\n",
       "       'dbss', 'improved maisonette', 'terrace', 'type s1', 'type s2',\n",
       "       '2 room', 'premium apartment loft', 'premium maisonette'],\n",
       "      dtype=object)"
      ]
     },
     "execution_count": 30,
     "metadata": {},
     "output_type": "execute_result"
    }
   ],
   "source": [
    "train_df[\"flat_model\"].unique()"
   ]
  },
  {
   "cell_type": "code",
   "execution_count": 31,
   "metadata": {},
   "outputs": [
    {
     "data": {
      "text/plain": [
       "<AxesSubplot:xlabel='flat_model'>"
      ]
     },
     "execution_count": 31,
     "metadata": {},
     "output_type": "execute_result"
    },
    {
     "data": {
      "image/png": "[encoded data removed]",
      "text/plain": [
       "<Figure size 432x288 with 1 Axes>"
      ]
     },
     "metadata": {
      "needs_background": "light"
     },
     "output_type": "display_data"
    }
   ],
   "source": [
    "df_flat_model = train_df.groupby(['flat_model'],as_index=True).mean()[['resale_price']]\n",
    "df_flat_model.plot(kind='line')"
   ]
  },
  {
   "cell_type": "code",
   "execution_count": null,
   "metadata": {},
   "outputs": [],
   "source": []
  },
  {
   "cell_type": "code",
   "execution_count": null,
   "metadata": {},
   "outputs": [],
   "source": []
  },
  {
   "cell_type": "markdown",
   "metadata": {},
   "source": [
    "### eco_category column"
   ]
  },
  {
   "cell_type": "code",
   "execution_count": 32,
   "metadata": {},
   "outputs": [
    {
     "data": {
      "text/plain": [
       "array(['uncategorized'], dtype=object)"
      ]
     },
     "execution_count": 32,
     "metadata": {},
     "output_type": "execute_result"
    }
   ],
   "source": [
    "train_df[\"eco_category\"].unique()"
   ]
  },
  {
   "cell_type": "code",
   "execution_count": 33,
   "metadata": {},
   "outputs": [],
   "source": [
    "train_df = train_df.drop('eco_category',1)\n",
    "test_df = test_df.drop('eco_category',1)"
   ]
  },
  {
   "cell_type": "code",
   "execution_count": null,
   "metadata": {},
   "outputs": [],
   "source": []
  },
  {
   "cell_type": "markdown",
   "metadata": {},
   "source": [
    "### lease_commence_date column"
   ]
  },
  {
   "cell_type": "code",
   "execution_count": 34,
   "metadata": {},
   "outputs": [
    {
     "data": {
      "text/plain": [
       "array([1989, 2003, 2004, 1980, 1985, 1998, 2000, 1988, 1999, 1992, 1990,\n",
       "       1993, 1984, 2013, 1975, 1995, 1997, 1994, 1986, 1978, 2005, 1974,\n",
       "       1983, 1987, 2007, 2001, 1970, 1979, 1996, 1982, 2015, 1969, 2006,\n",
       "       1981, 2010, 2002, 1968, 2016, 1966, 1991, 1976, 2009, 2012, 1971,\n",
       "       1967, 1977, 2014, 1972, 1973, 2008, 2011, 2017, 2019, 2018],\n",
       "      dtype=uint16)"
      ]
     },
     "execution_count": 34,
     "metadata": {},
     "output_type": "execute_result"
    }
   ],
   "source": [
    "train_df[\"lease_commence_date\"].unique()"
   ]
  },
  {
   "cell_type": "code",
   "execution_count": 35,
   "metadata": {},
   "outputs": [
    {
     "data": {
      "text/plain": [
       "<AxesSubplot:xlabel='lease_commence_date'>"
      ]
     },
     "execution_count": 35,
     "metadata": {},
     "output_type": "execute_result"
    },
    {
     "data": {
      "image/png": "[encoded data removed]",
      "text/plain": [
       "<Figure size 432x288 with 1 Axes>"
      ]
     },
     "metadata": {
      "needs_background": "light"
     },
     "output_type": "display_data"
    }
   ],
   "source": [
    "df_lease_commence_date = train_df.groupby(['lease_commence_date'],as_index=True).median()[['resale_price']]\n",
    "df_lease_commence_date.plot(kind='line')"
   ]
  },
  {
   "cell_type": "code",
   "execution_count": 36,
   "metadata": {},
   "outputs": [
    {
     "data": {
      "text/plain": [
       "<AxesSubplot:xlabel='lease_commence_date'>"
      ]
     },
     "execution_count": 36,
     "metadata": {},
     "output_type": "execute_result"
    },
    {
     "data": {
      "image/png": "[encoded data removed]",
      "text/plain": [
       "<Figure size 432x288 with 1 Axes>"
      ]
     },
     "metadata": {
      "needs_background": "light"
     },
     "output_type": "display_data"
    }
   ],
   "source": [
    "df_lease_commence_date = train_df.groupby(['lease_commence_date'],as_index=True).mean()[['resale_price']]\n",
    "df_lease_commence_date.plot(kind='line')"
   ]
  },
  {
   "cell_type": "code",
   "execution_count": 37,
   "metadata": {},
   "outputs": [],
   "source": [
    "train_df[['remaining_lease']] = train_df['lease_commence_date'] + 99 - train_df['year']\n",
    "train_df[['remaining_lease']] = train_df[['remaining_lease']].astype('uint16')"
   ]
  },
  {
   "cell_type": "code",
   "execution_count": 38,
   "metadata": {},
   "outputs": [
    {
     "data": {
      "text/plain": [
       "<AxesSubplot:xlabel='remaining_lease'>"
      ]
     },
     "execution_count": 38,
     "metadata": {},
     "output_type": "execute_result"
    },
    {
     "data": {
      "image/png": "[encoded data removed]",
      "text/plain": [
       "<Figure size 432x288 with 1 Axes>"
      ]
     },
     "metadata": {
      "needs_background": "light"
     },
     "output_type": "display_data"
    }
   ],
   "source": [
    "df_remaining_lease = train_df.groupby(['remaining_lease'],as_index=True).median()[['resale_price']]\n",
    "df_remaining_lease.plot(kind='line')"
   ]
  },
  {
   "cell_type": "code",
   "execution_count": 39,
   "metadata": {},
   "outputs": [],
   "source": [
    "train_df = train_df.drop('remaining_lease',1)"
   ]
  },
  {
   "cell_type": "markdown",
   "metadata": {},
   "source": [
    "### latitude and logitude column"
   ]
  },
  {
   "cell_type": "code",
   "execution_count": 40,
   "metadata": {},
   "outputs": [
    {
     "name": "stdout",
     "output_type": "stream",
     "text": [
      "Clubbed latitude and longitude together (latitude,longitude)\n"
     ]
    }
   ],
   "source": [
    "train_df[\"lat_long\"] = list(zip(train_df.latitude, train_df.longitude))\n",
    "print(\"Clubbed latitude and longitude together (latitude,longitude)\")\n",
    "#train_df = train_df.drop('latitude',1)\n",
    "#print(\"Dropped Column latitude\")\n",
    "#train_df = train_df.drop('longitude',1)\n",
    "#print(\"Dropped Column longitude\")"
   ]
  },
  {
   "cell_type": "code",
   "execution_count": 41,
   "metadata": {},
   "outputs": [
    {
     "name": "stdout",
     "output_type": "stream",
     "text": [
      "Clubbed latitude and longitude together (latitude,longitude)\n"
     ]
    }
   ],
   "source": [
    "test_df[\"lat_long\"] = list(zip(test_df.latitude, test_df.longitude))\n",
    "print(\"Clubbed latitude and longitude together (latitude,longitude)\")\n",
    "#test_df = test_df.drop('latitude',1)\n",
    "#print(\"Dropped Column latitude\")\n",
    "#test_df = test_df.drop('longitude',1)\n",
    "#print(\"Dropped Column longitude\")"
   ]
  },
  {
   "cell_type": "markdown",
   "metadata": {},
   "source": [
    "### elevation column"
   ]
  },
  {
   "cell_type": "code",
   "execution_count": 43,
   "metadata": {},
   "outputs": [
    {
     "data": {
      "text/plain": [
       "array([0], dtype=uint8)"
      ]
     },
     "execution_count": 43,
     "metadata": {},
     "output_type": "execute_result"
    }
   ],
   "source": [
    "train_df[\"elevation\"].unique()"
   ]
  },
  {
   "cell_type": "code",
   "execution_count": 44,
   "metadata": {},
   "outputs": [],
   "source": [
    "train_df = train_df.drop('elevation',1)\n",
    "test_df = test_df.drop('elevation',1)"
   ]
  },
  {
   "cell_type": "markdown",
   "metadata": {},
   "source": [
    "### subzone column // check this from previous notebook"
   ]
  },
  {
   "cell_type": "code",
   "execution_count": 45,
   "metadata": {},
   "outputs": [
    {
     "data": {
      "text/plain": [
       "array(['pasir ris drive', 'punggol field', 'fernvale', 'clementi north',\n",
       "       'bukit batok west', 'bukit batok east', 'jurong west central',\n",
       "       'aljunied', 'northland', 'guilin', 'saujana', 'serangoon north',\n",
       "       'yuhua west', 'lavender', 'hougang east', 'woodlands east',\n",
       "       'woodgrove', 'tampines west', 'peng siang', 'senja',\n",
       "       'marine parade', 'toa payoh central', 'tampines east',\n",
       "       'bukit batok central', 'midview', 'hougang west', 'holland drive',\n",
       "       'serangoon garden', 'bedok south', 'bishan east', 'potong pasir',\n",
       "       'yishun west', 'yio chu kang west', 'rivervale', 'balestier',\n",
       "       'bedok north', 'lorong ah soo', 'yishun south', 'hong kah',\n",
       "       'woodlands west', 'compassvale', 'khatib', 'sembawang north',\n",
       "       'yishun east', 'trafalgar', 'woodlands south', 'braddell',\n",
       "       'chong boon', 'pasir ris west', 'kovan', 'simei',\n",
       "       'serangoon central', 'geylang east', 'kaki bukit', 'tanglin halt',\n",
       "       'choa chu kang north', 'crawford', 'fajar', 'bedok reservoir',\n",
       "       'kangkar', 'clementi central', 'yuhua east', 'taman jurong',\n",
       "       'yew tee', 'sengkang town centre', 'clementi west',\n",
       "       'ang mo kio town centre', 'anchorvale', 'toa payoh west',\n",
       "       'toh guan', 'macpherson', 'sembawang central', 'bendemeer',\n",
       "       'north coast', 'hougang central', 'teban gardens', 'yunnan',\n",
       "       'tanjong rhu', 'upper paya lebar', 'bukit batok south', 'tai seng',\n",
       "       'mei chin', 'keat hong', 'teck whye', 'lorong 8 toa payoh',\n",
       "       'geylang bahru', 'commonwealth', 'kebun bahru', 'cheng san',\n",
       "       'kembangan', 'pei chun', 'marymount', 'kampong bugis',\n",
       "       'pasir ris central', 'bangkit', 'kim keat', 'upper thomson',\n",
       "       'everton park', 'shangri-la', 'admiralty', 'kampong tiong bahru',\n",
       "       'waterway east', 'bukit ho swee', 'telok blangah rise',\n",
       "       'chinatown', 'tiong bahru station', 'choa chu kang central',\n",
       "       'wenya', 'depot road', 'gali batu', 'anak bukit', 'townsville',\n",
       "       'clementi woods', 'alexandra hill', 'tiong bahru',\n",
       "       'hong kah north', 'telok blangah drive', 'ghim moh', 'boon keng',\n",
       "       'jelebu', 'boon lay place', 'kampong ubi', 'gombak',\n",
       "       'farrer court', 'kampong java', 'matilda', 'frankel', 'redhill',\n",
       "       'victoria', 'dover', 'farrer park', 'changi point', 'boon teck',\n",
       "       'punggol town centre', 'margaret drive', 'telok blangah way',\n",
       "       'henderson hill', 'bencoolen', 'yio chu kang east', 'bukit merah',\n",
       "       'tyersall', \"pearl's hill\", 'joo seng', 'sunset way',\n",
       "       'china square', 'ulu pandan', 'yishun central', 'little india',\n",
       "       'sungei road', 'bugis', 'pasir panjang 2', 'moulmein',\n",
       "       'lower seletar', 'leedon park', 'city hall'], dtype=object)"
      ]
     },
     "execution_count": 45,
     "metadata": {},
     "output_type": "execute_result"
    }
   ],
   "source": [
    "train_df[\"subzone\"].unique()"
   ]
  },
  {
   "cell_type": "code",
   "execution_count": 46,
   "metadata": {},
   "outputs": [
    {
     "data": {
      "text/plain": [
       "<AxesSubplot:xlabel='subzone'>"
      ]
     },
     "execution_count": 46,
     "metadata": {},
     "output_type": "execute_result"
    },
    {
     "data": {
      "image/png": "[encoded data removed]",
      "text/plain": [
       "<Figure size 432x288 with 1 Axes>"
      ]
     },
     "metadata": {
      "needs_background": "light"
     },
     "output_type": "display_data"
    }
   ],
   "source": [
    "df_subzone = train_df.groupby(['subzone'],as_index=True).mean()[['resale_price']]\n",
    "df_subzone.plot(kind='line')"
   ]
  },
  {
   "cell_type": "code",
   "execution_count": null,
   "metadata": {},
   "outputs": [],
   "source": []
  },
  {
   "cell_type": "code",
   "execution_count": null,
   "metadata": {},
   "outputs": [],
   "source": []
  },
  {
   "cell_type": "markdown",
   "metadata": {},
   "source": [
    "### planning_area column // check this from previous notebook"
   ]
  },
  {
   "cell_type": "code",
   "execution_count": 47,
   "metadata": {},
   "outputs": [
    {
     "data": {
      "text/plain": [
       "array(['pasir ris', 'punggol', 'sengkang', 'clementi', 'bukit batok',\n",
       "       'jurong west', 'geylang', 'yishun', 'bukit panjang', 'serangoon',\n",
       "       'jurong east', 'kallang', 'hougang', 'woodlands', 'tampines',\n",
       "       'choa chu kang', 'marine parade', 'toa payoh', 'queenstown',\n",
       "       'bedok', 'bishan', 'ang mo kio', 'novena', 'sembawang',\n",
       "       'bukit merah', 'outram', 'sungei kadut', 'bukit timah', 'rochor',\n",
       "       'changi', 'tanglin', 'downtown core'], dtype=object)"
      ]
     },
     "execution_count": 47,
     "metadata": {},
     "output_type": "execute_result"
    }
   ],
   "source": [
    "train_df[\"planning_area\"].unique()"
   ]
  },
  {
   "cell_type": "code",
   "execution_count": null,
   "metadata": {},
   "outputs": [],
   "source": []
  },
  {
   "cell_type": "code",
   "execution_count": null,
   "metadata": {},
   "outputs": [],
   "source": []
  },
  {
   "cell_type": "markdown",
   "metadata": {},
   "source": [
    "### region column  // check this from previous notebook"
   ]
  },
  {
   "cell_type": "code",
   "execution_count": 48,
   "metadata": {},
   "outputs": [
    {
     "data": {
      "text/plain": [
       "array(['east region', 'north-east region', 'west region',\n",
       "       'central region', 'north region'], dtype=object)"
      ]
     },
     "execution_count": 48,
     "metadata": {},
     "output_type": "execute_result"
    }
   ],
   "source": [
    "train_df[\"region\"].unique()"
   ]
  },
  {
   "cell_type": "code",
   "execution_count": null,
   "metadata": {},
   "outputs": [],
   "source": []
  },
  {
   "cell_type": "code",
   "execution_count": null,
   "metadata": {},
   "outputs": [],
   "source": []
  },
  {
   "cell_type": "code",
   "execution_count": 49,
   "metadata": {},
   "outputs": [
    {
     "data": {
      "text/html": [
       "<div>\n",
       "<style scoped>\n",
       "    .dataframe tbody tr th:only-of-type {\n",
       "        vertical-align: middle;\n",
       "    }\n",
       "\n",
       "    .dataframe tbody tr th {\n",
       "        vertical-align: top;\n",
       "    }\n",
       "\n",
       "    .dataframe thead th {\n",
       "        text-align: right;\n",
       "    }\n",
       "</style>\n",
       "<table border=\"1\" class=\"dataframe\">\n",
       "  <thead>\n",
       "    <tr style=\"text-align: right;\">\n",
       "      <th></th>\n",
       "      <th>town</th>\n",
       "      <th>flat_type</th>\n",
       "      <th>block</th>\n",
       "      <th>street_name</th>\n",
       "      <th>floor_area_sqm</th>\n",
       "      <th>flat_model</th>\n",
       "      <th>lease_commence_date</th>\n",
       "      <th>latitude</th>\n",
       "      <th>longitude</th>\n",
       "      <th>subzone</th>\n",
       "      <th>planning_area</th>\n",
       "      <th>region</th>\n",
       "      <th>resale_price</th>\n",
       "      <th>month_no</th>\n",
       "      <th>year</th>\n",
       "      <th>storey</th>\n",
       "      <th>lat_long</th>\n",
       "    </tr>\n",
       "  </thead>\n",
       "  <tbody>\n",
       "    <tr>\n",
       "      <th>0</th>\n",
       "      <td>pasir ris</td>\n",
       "      <td>4-room</td>\n",
       "      <td>440</td>\n",
       "      <td>pasir ris drive 4</td>\n",
       "      <td>118.0</td>\n",
       "      <td>model a</td>\n",
       "      <td>1989</td>\n",
       "      <td>1.369008</td>\n",
       "      <td>103.958694</td>\n",
       "      <td>pasir ris drive</td>\n",
       "      <td>pasir ris</td>\n",
       "      <td>east region</td>\n",
       "      <td>209700.0</td>\n",
       "      <td>8</td>\n",
       "      <td>2001</td>\n",
       "      <td>2.0</td>\n",
       "      <td>(1.3690080642700195, 103.95869445800781)</td>\n",
       "    </tr>\n",
       "    <tr>\n",
       "      <th>1</th>\n",
       "      <td>punggol</td>\n",
       "      <td>5-room</td>\n",
       "      <td>196B</td>\n",
       "      <td>punggol field</td>\n",
       "      <td>110.0</td>\n",
       "      <td>improved</td>\n",
       "      <td>2003</td>\n",
       "      <td>1.399007</td>\n",
       "      <td>103.906990</td>\n",
       "      <td>punggol field</td>\n",
       "      <td>punggol</td>\n",
       "      <td>north-east region</td>\n",
       "      <td>402300.0</td>\n",
       "      <td>10</td>\n",
       "      <td>2014</td>\n",
       "      <td>11.0</td>\n",
       "      <td>(1.3990070819854736, 103.90699005126953)</td>\n",
       "    </tr>\n",
       "    <tr>\n",
       "      <th>2</th>\n",
       "      <td>sengkang</td>\n",
       "      <td>5-room</td>\n",
       "      <td>404A</td>\n",
       "      <td>fernvale lane</td>\n",
       "      <td>112.0</td>\n",
       "      <td>premium apartment</td>\n",
       "      <td>2004</td>\n",
       "      <td>1.388348</td>\n",
       "      <td>103.873817</td>\n",
       "      <td>fernvale</td>\n",
       "      <td>sengkang</td>\n",
       "      <td>north-east region</td>\n",
       "      <td>351000.0</td>\n",
       "      <td>9</td>\n",
       "      <td>2020</td>\n",
       "      <td>2.0</td>\n",
       "      <td>(1.3883482217788696, 103.87381744384766)</td>\n",
       "    </tr>\n",
       "    <tr>\n",
       "      <th>3</th>\n",
       "      <td>clementi</td>\n",
       "      <td>3-room</td>\n",
       "      <td>375</td>\n",
       "      <td>clementi avenue 4</td>\n",
       "      <td>67.0</td>\n",
       "      <td>new generation</td>\n",
       "      <td>1980</td>\n",
       "      <td>1.318493</td>\n",
       "      <td>103.766701</td>\n",
       "      <td>clementi north</td>\n",
       "      <td>clementi</td>\n",
       "      <td>west region</td>\n",
       "      <td>151200.0</td>\n",
       "      <td>10</td>\n",
       "      <td>2000</td>\n",
       "      <td>8.0</td>\n",
       "      <td>(1.3184930086135864, 103.7667007446289)</td>\n",
       "    </tr>\n",
       "    <tr>\n",
       "      <th>4</th>\n",
       "      <td>bukit batok</td>\n",
       "      <td>3-room</td>\n",
       "      <td>163</td>\n",
       "      <td>bukit batok street 11</td>\n",
       "      <td>73.0</td>\n",
       "      <td>model a</td>\n",
       "      <td>1985</td>\n",
       "      <td>1.348150</td>\n",
       "      <td>103.742661</td>\n",
       "      <td>bukit batok west</td>\n",
       "      <td>bukit batok</td>\n",
       "      <td>west region</td>\n",
       "      <td>318600.0</td>\n",
       "      <td>1</td>\n",
       "      <td>2013</td>\n",
       "      <td>8.0</td>\n",
       "      <td>(1.3481495380401611, 103.74266052246094)</td>\n",
       "    </tr>\n",
       "  </tbody>\n",
       "</table>\n",
       "</div>"
      ],
      "text/plain": [
       "          town flat_type block            street_name  floor_area_sqm  \\\n",
       "0    pasir ris    4-room   440      pasir ris drive 4           118.0   \n",
       "1      punggol    5-room  196B          punggol field           110.0   \n",
       "2     sengkang    5-room  404A          fernvale lane           112.0   \n",
       "3     clementi    3-room   375      clementi avenue 4            67.0   \n",
       "4  bukit batok    3-room   163  bukit batok street 11            73.0   \n",
       "\n",
       "          flat_model  lease_commence_date  latitude   longitude  \\\n",
       "0            model a                 1989  1.369008  103.958694   \n",
       "1           improved                 2003  1.399007  103.906990   \n",
       "2  premium apartment                 2004  1.388348  103.873817   \n",
       "3     new generation                 1980  1.318493  103.766701   \n",
       "4            model a                 1985  1.348150  103.742661   \n",
       "\n",
       "            subzone planning_area             region  resale_price  month_no  \\\n",
       "0   pasir ris drive     pasir ris        east region      209700.0         8   \n",
       "1     punggol field       punggol  north-east region      402300.0        10   \n",
       "2          fernvale      sengkang  north-east region      351000.0         9   \n",
       "3    clementi north      clementi        west region      151200.0        10   \n",
       "4  bukit batok west   bukit batok        west region      318600.0         1   \n",
       "\n",
       "   year  storey                                  lat_long  \n",
       "0  2001     2.0  (1.3690080642700195, 103.95869445800781)  \n",
       "1  2014    11.0  (1.3990070819854736, 103.90699005126953)  \n",
       "2  2020     2.0  (1.3883482217788696, 103.87381744384766)  \n",
       "3  2000     8.0   (1.3184930086135864, 103.7667007446289)  \n",
       "4  2013     8.0  (1.3481495380401611, 103.74266052246094)  "
      ]
     },
     "execution_count": 49,
     "metadata": {},
     "output_type": "execute_result"
    }
   ],
   "source": [
    "train_df.head()"
   ]
  },
  {
   "cell_type": "code",
   "execution_count": 50,
   "metadata": {},
   "outputs": [
    {
     "data": {
      "text/html": [
       "<div>\n",
       "<style scoped>\n",
       "    .dataframe tbody tr th:only-of-type {\n",
       "        vertical-align: middle;\n",
       "    }\n",
       "\n",
       "    .dataframe tbody tr th {\n",
       "        vertical-align: top;\n",
       "    }\n",
       "\n",
       "    .dataframe thead th {\n",
       "        text-align: right;\n",
       "    }\n",
       "</style>\n",
       "<table border=\"1\" class=\"dataframe\">\n",
       "  <thead>\n",
       "    <tr style=\"text-align: right;\">\n",
       "      <th></th>\n",
       "      <th>town</th>\n",
       "      <th>flat_type</th>\n",
       "      <th>block</th>\n",
       "      <th>street_name</th>\n",
       "      <th>floor_area_sqm</th>\n",
       "      <th>flat_model</th>\n",
       "      <th>lease_commence_date</th>\n",
       "      <th>latitude</th>\n",
       "      <th>longitude</th>\n",
       "      <th>subzone</th>\n",
       "      <th>planning_area</th>\n",
       "      <th>region</th>\n",
       "      <th>month_no</th>\n",
       "      <th>year</th>\n",
       "      <th>storey</th>\n",
       "      <th>lat_long</th>\n",
       "    </tr>\n",
       "  </thead>\n",
       "  <tbody>\n",
       "    <tr>\n",
       "      <th>0</th>\n",
       "      <td>bukit batok</td>\n",
       "      <td>4-room</td>\n",
       "      <td>186</td>\n",
       "      <td>bukit batok west avenue 6</td>\n",
       "      <td>94.0</td>\n",
       "      <td>new generation</td>\n",
       "      <td>1989</td>\n",
       "      <td>1.346581</td>\n",
       "      <td>103.744087</td>\n",
       "      <td>bukit batok west</td>\n",
       "      <td>bukit batok</td>\n",
       "      <td>west region</td>\n",
       "      <td>1</td>\n",
       "      <td>2004</td>\n",
       "      <td>5.0</td>\n",
       "      <td>(1.3465807437896729, 103.74408721923828)</td>\n",
       "    </tr>\n",
       "    <tr>\n",
       "      <th>1</th>\n",
       "      <td>tampines</td>\n",
       "      <td>5-room</td>\n",
       "      <td>366</td>\n",
       "      <td>tampines street 34</td>\n",
       "      <td>122.0</td>\n",
       "      <td>improved</td>\n",
       "      <td>1997</td>\n",
       "      <td>1.357618</td>\n",
       "      <td>103.961380</td>\n",
       "      <td>tampines east</td>\n",
       "      <td>tampines</td>\n",
       "      <td>east region</td>\n",
       "      <td>11</td>\n",
       "      <td>2001</td>\n",
       "      <td>5.0</td>\n",
       "      <td>(1.3576176166534424, 103.96138000488281)</td>\n",
       "    </tr>\n",
       "    <tr>\n",
       "      <th>2</th>\n",
       "      <td>jurong east</td>\n",
       "      <td>3-room</td>\n",
       "      <td>206</td>\n",
       "      <td>jurong east street 21</td>\n",
       "      <td>67.0</td>\n",
       "      <td>new generation</td>\n",
       "      <td>1982</td>\n",
       "      <td>1.337804</td>\n",
       "      <td>103.741997</td>\n",
       "      <td>toh guan</td>\n",
       "      <td>jurong east</td>\n",
       "      <td>west region</td>\n",
       "      <td>7</td>\n",
       "      <td>2002</td>\n",
       "      <td>2.0</td>\n",
       "      <td>(1.337803840637207, 103.74199676513672)</td>\n",
       "    </tr>\n",
       "    <tr>\n",
       "      <th>3</th>\n",
       "      <td>ang mo kio</td>\n",
       "      <td>3-room</td>\n",
       "      <td>180</td>\n",
       "      <td>Ang Mo Kio Avenue 5</td>\n",
       "      <td>82.0</td>\n",
       "      <td>new generation</td>\n",
       "      <td>1981</td>\n",
       "      <td>1.380084</td>\n",
       "      <td>103.849571</td>\n",
       "      <td>yio chu kang east</td>\n",
       "      <td>ang mo kio</td>\n",
       "      <td>north-east region</td>\n",
       "      <td>4</td>\n",
       "      <td>2015</td>\n",
       "      <td>5.0</td>\n",
       "      <td>(1.380083680152893, 103.84957122802734)</td>\n",
       "    </tr>\n",
       "    <tr>\n",
       "      <th>4</th>\n",
       "      <td>clementi</td>\n",
       "      <td>5-room</td>\n",
       "      <td>356</td>\n",
       "      <td>clementi avenue 2</td>\n",
       "      <td>117.0</td>\n",
       "      <td>standard</td>\n",
       "      <td>1978</td>\n",
       "      <td>1.313960</td>\n",
       "      <td>103.769829</td>\n",
       "      <td>clementi north</td>\n",
       "      <td>clementi</td>\n",
       "      <td>west region</td>\n",
       "      <td>4</td>\n",
       "      <td>2004</td>\n",
       "      <td>2.0</td>\n",
       "      <td>(1.3139597177505493, 103.76982879638672)</td>\n",
       "    </tr>\n",
       "  </tbody>\n",
       "</table>\n",
       "</div>"
      ],
      "text/plain": [
       "          town flat_type block                street_name  floor_area_sqm  \\\n",
       "0  bukit batok    4-room   186  bukit batok west avenue 6            94.0   \n",
       "1     tampines    5-room   366         tampines street 34           122.0   \n",
       "2  jurong east    3-room   206      jurong east street 21            67.0   \n",
       "3   ang mo kio    3-room   180        Ang Mo Kio Avenue 5            82.0   \n",
       "4     clementi    5-room   356          clementi avenue 2           117.0   \n",
       "\n",
       "       flat_model  lease_commence_date  latitude   longitude  \\\n",
       "0  new generation                 1989  1.346581  103.744087   \n",
       "1        improved                 1997  1.357618  103.961380   \n",
       "2  new generation                 1982  1.337804  103.741997   \n",
       "3  new generation                 1981  1.380084  103.849571   \n",
       "4        standard                 1978  1.313960  103.769829   \n",
       "\n",
       "             subzone planning_area             region  month_no  year  storey  \\\n",
       "0   bukit batok west   bukit batok        west region         1  2004     5.0   \n",
       "1      tampines east      tampines        east region        11  2001     5.0   \n",
       "2           toh guan   jurong east        west region         7  2002     2.0   \n",
       "3  yio chu kang east    ang mo kio  north-east region         4  2015     5.0   \n",
       "4     clementi north      clementi        west region         4  2004     2.0   \n",
       "\n",
       "                                   lat_long  \n",
       "0  (1.3465807437896729, 103.74408721923828)  \n",
       "1  (1.3576176166534424, 103.96138000488281)  \n",
       "2   (1.337803840637207, 103.74199676513672)  \n",
       "3   (1.380083680152893, 103.84957122802734)  \n",
       "4  (1.3139597177505493, 103.76982879638672)  "
      ]
     },
     "execution_count": 50,
     "metadata": {},
     "output_type": "execute_result"
    }
   ],
   "source": [
    "test_df.head()"
   ]
  },
  {
   "cell_type": "code",
   "execution_count": 51,
   "metadata": {},
   "outputs": [],
   "source": [
    "train_df.to_csv(\"./train_2.csv\",index=False)\n",
    "test_df.to_csv(\"./test_2.csv\",index=False)"
   ]
  },
  {
   "cell_type": "code",
   "execution_count": null,
   "metadata": {},
   "outputs": [],
   "source": []
  }
 ],
 "metadata": {
  "kernelspec": {
   "display_name": "Python 3",
   "language": "python",
   "name": "python3"
  },
  "language_info": {
   "codemirror_mode": {
    "name": "ipython",
    "version": 3
   },
   "file_extension": ".py",
   "mimetype": "text/x-python",
   "name": "python",
   "nbconvert_exporter": "python",
   "pygments_lexer": "ipython3",
   "version": "3.8.5"
  }
 },
 "nbformat": 4,
 "nbformat_minor": 4
}
