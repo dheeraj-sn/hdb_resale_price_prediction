{
 "cells": [
  {
   "cell_type": "code",
   "execution_count": 1,
   "metadata": {},
   "outputs": [],
   "source": [
    "%load_ext autoreload\n",
    "%autoreload 2"
   ]
  },
  {
   "cell_type": "code",
   "execution_count": 2,
   "metadata": {
    "id": "9in7ONlmxQD3"
   },
   "outputs": [],
   "source": [
    "import numpy as np\n",
    "import pandas as pd\n",
    "\n",
    "import csv as csv\n",
    "import sklearn\n",
    "import math\n",
    "import matplotlib.pyplot as plt\n",
    "from matplotlib import pyplot\n",
    "import geopy.distance\n",
    "import matplotlib.pyplot as plt\n",
    "import seaborn as sns\n",
    "\n",
    "from sklearn.metrics import mean_squared_error\n",
    "from sklearn.preprocessing import StandardScaler, LabelEncoder\n",
    "from sklearn.pipeline import make_pipeline\n",
    "from sklearn.metrics import r2_score\n",
    "from sklearn.model_selection import cross_val_score,KFold,train_test_split,GridSearchCV\n",
    "\n",
    "from sklearn.linear_model import LinearRegression\n",
    "from sklearn.linear_model import SGDRegressor\n",
    "from sklearn import tree\n",
    "from sklearn.ensemble import RandomForestRegressor\n",
    "import xgboost\n",
    "import lightgbm as lgb\n",
    "\n",
    "from utils import save_to_csv, reduce_memory_usage,custom_kfold_scorer "
   ]
  },
  {
   "cell_type": "code",
   "execution_count": 3,
   "metadata": {},
   "outputs": [],
   "source": [
    "train_df = pd.read_csv(\"./train_2.csv\")\n",
    "test_df = pd.read_csv(\"./test_2.csv\")\n",
    "mrt_df = pd.read_csv(\"./auxiliary-data/sg-train-stations.csv\")"
   ]
  },
  {
   "cell_type": "code",
   "execution_count": 4,
   "metadata": {},
   "outputs": [
    {
     "data": {
      "text/html": [
       "<div>\n",
       "<style scoped>\n",
       "    .dataframe tbody tr th:only-of-type {\n",
       "        vertical-align: middle;\n",
       "    }\n",
       "\n",
       "    .dataframe tbody tr th {\n",
       "        vertical-align: top;\n",
       "    }\n",
       "\n",
       "    .dataframe thead th {\n",
       "        text-align: right;\n",
       "    }\n",
       "</style>\n",
       "<table border=\"1\" class=\"dataframe\">\n",
       "  <thead>\n",
       "    <tr style=\"text-align: right;\">\n",
       "      <th></th>\n",
       "      <th>name</th>\n",
       "      <th>codes</th>\n",
       "      <th>lat</th>\n",
       "      <th>lng</th>\n",
       "      <th>opening_year</th>\n",
       "      <th>type</th>\n",
       "    </tr>\n",
       "  </thead>\n",
       "  <tbody>\n",
       "    <tr>\n",
       "      <th>0</th>\n",
       "      <td>Eunos</td>\n",
       "      <td>EW7</td>\n",
       "      <td>1.319778</td>\n",
       "      <td>103.903252</td>\n",
       "      <td>1989.0</td>\n",
       "      <td>mrt</td>\n",
       "    </tr>\n",
       "    <tr>\n",
       "      <th>1</th>\n",
       "      <td>Chinese Garden</td>\n",
       "      <td>EW25</td>\n",
       "      <td>1.342352</td>\n",
       "      <td>103.732596</td>\n",
       "      <td>1988.0</td>\n",
       "      <td>mrt</td>\n",
       "    </tr>\n",
       "    <tr>\n",
       "      <th>2</th>\n",
       "      <td>Khatib</td>\n",
       "      <td>NS14</td>\n",
       "      <td>1.417383</td>\n",
       "      <td>103.832980</td>\n",
       "      <td>1988.0</td>\n",
       "      <td>mrt</td>\n",
       "    </tr>\n",
       "    <tr>\n",
       "      <th>3</th>\n",
       "      <td>Kranji</td>\n",
       "      <td>NS7</td>\n",
       "      <td>1.425177</td>\n",
       "      <td>103.762165</td>\n",
       "      <td>1996.0</td>\n",
       "      <td>mrt</td>\n",
       "    </tr>\n",
       "    <tr>\n",
       "      <th>4</th>\n",
       "      <td>Redhill</td>\n",
       "      <td>EW18</td>\n",
       "      <td>1.289562</td>\n",
       "      <td>103.816816</td>\n",
       "      <td>1988.0</td>\n",
       "      <td>mrt</td>\n",
       "    </tr>\n",
       "  </tbody>\n",
       "</table>\n",
       "</div>"
      ],
      "text/plain": [
       "             name codes       lat         lng  opening_year type\n",
       "0           Eunos   EW7  1.319778  103.903252        1989.0  mrt\n",
       "1  Chinese Garden  EW25  1.342352  103.732596        1988.0  mrt\n",
       "2          Khatib  NS14  1.417383  103.832980        1988.0  mrt\n",
       "3          Kranji   NS7  1.425177  103.762165        1996.0  mrt\n",
       "4         Redhill  EW18  1.289562  103.816816        1988.0  mrt"
      ]
     },
     "execution_count": 4,
     "metadata": {},
     "output_type": "execute_result"
    }
   ],
   "source": [
    "mrt_df.head()"
   ]
  },
  {
   "cell_type": "code",
   "execution_count": 5,
   "metadata": {},
   "outputs": [
    {
     "data": {
      "text/plain": [
       "array(['mrt', 'other'], dtype=object)"
      ]
     },
     "execution_count": 5,
     "metadata": {},
     "output_type": "execute_result"
    }
   ],
   "source": [
    "mrt_df.isnull().any()\n",
    "mrt_df['type'].unique()"
   ]
  },
  {
   "cell_type": "markdown",
   "metadata": {
    "id": "CGeeWTetxQED"
   },
   "source": [
    "There are some null values. We will drop all the datapoints with null values. LRT station with type=\"other\" have null values in opening year. So in essence we are dropping all LRT stations from analysis."
   ]
  },
  {
   "cell_type": "code",
   "execution_count": 6,
   "metadata": {
    "id": "EWrRy8bQxQED"
   },
   "outputs": [
    {
     "data": {
      "text/plain": [
       "array(['mrt'], dtype=object)"
      ]
     },
     "execution_count": 6,
     "metadata": {},
     "output_type": "execute_result"
    }
   ],
   "source": [
    "mrt_df = mrt_df.dropna()\n",
    "mrt_df['type'].unique()"
   ]
  },
  {
   "cell_type": "code",
   "execution_count": 7,
   "metadata": {},
   "outputs": [
    {
     "data": {
      "text/plain": [
       "name            False\n",
       "codes           False\n",
       "lat             False\n",
       "lng             False\n",
       "opening_year    False\n",
       "type            False\n",
       "dtype: bool"
      ]
     },
     "execution_count": 7,
     "metadata": {},
     "output_type": "execute_result"
    }
   ],
   "source": [
    "mrt_df.isnull().any()"
   ]
  },
  {
   "cell_type": "code",
   "execution_count": 8,
   "metadata": {},
   "outputs": [
    {
     "name": "stdout",
     "output_type": "stream",
     "text": [
      "Min opening year of mrt station :  1987.0\n",
      "Max opening year of mrt station :  2031.0\n"
     ]
    }
   ],
   "source": [
    "print(\"Min opening year of mrt station : \",mrt_df['opening_year'].min())\n",
    "print(\"Max opening year of mrt station : \",mrt_df['opening_year'].max())"
   ]
  },
  {
   "cell_type": "code",
   "execution_count": 9,
   "metadata": {},
   "outputs": [
    {
     "name": "stdout",
     "output_type": "stream",
     "text": [
      "Min resale year of hdb :  2000\n",
      "Max resale year of hdb :  2020\n"
     ]
    }
   ],
   "source": [
    "print(\"Min resale year of hdb : \",train_df['year'].min())\n",
    "print(\"Max resale year of hdb : \",train_df['year'].max())"
   ]
  },
  {
   "cell_type": "markdown",
   "metadata": {},
   "source": [
    "### Checking for duplicate values"
   ]
  },
  {
   "cell_type": "code",
   "execution_count": 10,
   "metadata": {},
   "outputs": [
    {
     "data": {
      "text/plain": [
       "False"
      ]
     },
     "execution_count": 10,
     "metadata": {},
     "output_type": "execute_result"
    }
   ],
   "source": [
    "mrt_df.duplicated().any()"
   ]
  },
  {
   "cell_type": "markdown",
   "metadata": {},
   "source": [
    "# ADD SOME PLOTS HERE"
   ]
  },
  {
   "cell_type": "code",
   "execution_count": 11,
   "metadata": {},
   "outputs": [
    {
     "data": {
      "text/plain": [
       "<AxesSubplot:xlabel='latitude', ylabel='longitude'>"
      ]
     },
     "execution_count": 11,
     "metadata": {},
     "output_type": "execute_result"
    },
    {
     "data": {
      "image/png": "[encoded data removed]",
      "text/plain": [
       "<Figure size 1440x720 with 1 Axes>"
      ]
     },
     "metadata": {
      "needs_background": "light"
     },
     "output_type": "display_data"
    }
   ],
   "source": [
    "plt.figure(figsize=(20,10))\n",
    "sns.scatterplot(y=train_df.longitude,x=train_df.latitude,color=\"blue\",label=\"HDB\")\n",
    "sns.scatterplot(y=mrt_df.lng,x=mrt_df.lat,color=\"red\",label=\"MRT\")"
   ]
  },
  {
   "cell_type": "code",
   "execution_count": null,
   "metadata": {},
   "outputs": [],
   "source": []
  },
  {
   "cell_type": "code",
   "execution_count": null,
   "metadata": {},
   "outputs": [],
   "source": []
  },
  {
   "cell_type": "markdown",
   "metadata": {},
   "source": [
    "### Club latitude and longitude together and drop 'lat' and 'lng' columns and other not-required columns"
   ]
  },
  {
   "cell_type": "code",
   "execution_count": 12,
   "metadata": {
    "id": "YLBY9IMRxQEE"
   },
   "outputs": [],
   "source": [
    "mrt_df['lat_long'] = list(zip(mrt_df.lat, mrt_df.lng))"
   ]
  },
  {
   "cell_type": "code",
   "execution_count": 13,
   "metadata": {},
   "outputs": [],
   "source": [
    "mrt_df = mrt_df.drop(columns=['lat','lng','codes','type'])"
   ]
  },
  {
   "cell_type": "code",
   "execution_count": 14,
   "metadata": {
    "scrolled": false
   },
   "outputs": [
    {
     "data": {
      "text/html": [
       "<div>\n",
       "<style scoped>\n",
       "    .dataframe tbody tr th:only-of-type {\n",
       "        vertical-align: middle;\n",
       "    }\n",
       "\n",
       "    .dataframe tbody tr th {\n",
       "        vertical-align: top;\n",
       "    }\n",
       "\n",
       "    .dataframe thead th {\n",
       "        text-align: right;\n",
       "    }\n",
       "</style>\n",
       "<table border=\"1\" class=\"dataframe\">\n",
       "  <thead>\n",
       "    <tr style=\"text-align: right;\">\n",
       "      <th></th>\n",
       "      <th>name</th>\n",
       "      <th>opening_year</th>\n",
       "      <th>lat_long</th>\n",
       "    </tr>\n",
       "  </thead>\n",
       "  <tbody>\n",
       "    <tr>\n",
       "      <th>0</th>\n",
       "      <td>Eunos</td>\n",
       "      <td>1989.0</td>\n",
       "      <td>(1.3197782848869883, 103.90325213335886)</td>\n",
       "    </tr>\n",
       "    <tr>\n",
       "      <th>1</th>\n",
       "      <td>Chinese Garden</td>\n",
       "      <td>1988.0</td>\n",
       "      <td>(1.3423521542087522, 103.73259640485368)</td>\n",
       "    </tr>\n",
       "    <tr>\n",
       "      <th>2</th>\n",
       "      <td>Khatib</td>\n",
       "      <td>1988.0</td>\n",
       "      <td>(1.4173827034869275, 103.8329795744054)</td>\n",
       "    </tr>\n",
       "    <tr>\n",
       "      <th>3</th>\n",
       "      <td>Kranji</td>\n",
       "      <td>1996.0</td>\n",
       "      <td>(1.4251770321043908, 103.76216507762184)</td>\n",
       "    </tr>\n",
       "    <tr>\n",
       "      <th>4</th>\n",
       "      <td>Redhill</td>\n",
       "      <td>1988.0</td>\n",
       "      <td>(1.2895620597351771, 103.81681633682066)</td>\n",
       "    </tr>\n",
       "  </tbody>\n",
       "</table>\n",
       "</div>"
      ],
      "text/plain": [
       "             name  opening_year                                  lat_long\n",
       "0           Eunos        1989.0  (1.3197782848869883, 103.90325213335886)\n",
       "1  Chinese Garden        1988.0  (1.3423521542087522, 103.73259640485368)\n",
       "2          Khatib        1988.0   (1.4173827034869275, 103.8329795744054)\n",
       "3          Kranji        1996.0  (1.4251770321043908, 103.76216507762184)\n",
       "4         Redhill        1988.0  (1.2895620597351771, 103.81681633682066)"
      ]
     },
     "execution_count": 14,
     "metadata": {},
     "output_type": "execute_result"
    }
   ],
   "source": [
    "mrt_df.head()"
   ]
  },
  {
   "cell_type": "markdown",
   "metadata": {},
   "source": []
  },
  {
   "cell_type": "code",
   "execution_count": null,
   "metadata": {},
   "outputs": [],
   "source": []
  },
  {
   "cell_type": "markdown",
   "metadata": {},
   "source": [
    "### Extract lat_long and year columns from train and test data sets"
   ]
  },
  {
   "cell_type": "code",
   "execution_count": 15,
   "metadata": {},
   "outputs": [],
   "source": [
    "train_df_temp = train_df[[\"lat_long\", \"year\"]]\n",
    "test_df_temp = test_df[[\"lat_long\", \"year\"]]"
   ]
  },
  {
   "cell_type": "markdown",
   "metadata": {},
   "source": [
    "### Drop duplicate locations"
   ]
  },
  {
   "cell_type": "code",
   "execution_count": 16,
   "metadata": {},
   "outputs": [],
   "source": [
    "train_df_temp = train_df_temp.drop_duplicates(subset=['lat_long'])\n",
    "test_df_temp = test_df_temp.drop_duplicates(subset=['lat_long'])"
   ]
  },
  {
   "cell_type": "markdown",
   "metadata": {},
   "source": [
    "### Add columns to store the nearest mrt and its distance"
   ]
  },
  {
   "cell_type": "code",
   "execution_count": 17,
   "metadata": {},
   "outputs": [],
   "source": [
    "train_df_temp[\"nearest_mrt\"] = str(\"--\")\n",
    "train_df_temp[\"nearest_mrt_distance\"] = math.inf\n",
    "test_df_temp[\"nearest_mrt\"] = str(\"--\")\n",
    "test_df_temp[\"nearest_mrt_distance\"] = math.inf\n",
    "train_df_temp = train_df_temp.reset_index()\n",
    "test_df_temp = test_df_temp.reset_index()"
   ]
  },
  {
   "cell_type": "code",
   "execution_count": 18,
   "metadata": {},
   "outputs": [],
   "source": [
    "mrt_df = mrt_df.reset_index()"
   ]
  },
  {
   "cell_type": "code",
   "execution_count": 19,
   "metadata": {},
   "outputs": [
    {
     "data": {
      "text/html": [
       "<div>\n",
       "<style scoped>\n",
       "    .dataframe tbody tr th:only-of-type {\n",
       "        vertical-align: middle;\n",
       "    }\n",
       "\n",
       "    .dataframe tbody tr th {\n",
       "        vertical-align: top;\n",
       "    }\n",
       "\n",
       "    .dataframe thead th {\n",
       "        text-align: right;\n",
       "    }\n",
       "</style>\n",
       "<table border=\"1\" class=\"dataframe\">\n",
       "  <thead>\n",
       "    <tr style=\"text-align: right;\">\n",
       "      <th></th>\n",
       "      <th>index</th>\n",
       "      <th>name</th>\n",
       "      <th>opening_year</th>\n",
       "      <th>lat_long</th>\n",
       "    </tr>\n",
       "  </thead>\n",
       "  <tbody>\n",
       "    <tr>\n",
       "      <th>0</th>\n",
       "      <td>0</td>\n",
       "      <td>Eunos</td>\n",
       "      <td>1989.0</td>\n",
       "      <td>(1.3197782848869883, 103.90325213335886)</td>\n",
       "    </tr>\n",
       "    <tr>\n",
       "      <th>1</th>\n",
       "      <td>1</td>\n",
       "      <td>Chinese Garden</td>\n",
       "      <td>1988.0</td>\n",
       "      <td>(1.3423521542087522, 103.73259640485368)</td>\n",
       "    </tr>\n",
       "    <tr>\n",
       "      <th>2</th>\n",
       "      <td>2</td>\n",
       "      <td>Khatib</td>\n",
       "      <td>1988.0</td>\n",
       "      <td>(1.4173827034869275, 103.8329795744054)</td>\n",
       "    </tr>\n",
       "    <tr>\n",
       "      <th>3</th>\n",
       "      <td>3</td>\n",
       "      <td>Kranji</td>\n",
       "      <td>1996.0</td>\n",
       "      <td>(1.4251770321043908, 103.76216507762184)</td>\n",
       "    </tr>\n",
       "    <tr>\n",
       "      <th>4</th>\n",
       "      <td>4</td>\n",
       "      <td>Redhill</td>\n",
       "      <td>1988.0</td>\n",
       "      <td>(1.2895620597351771, 103.81681633682066)</td>\n",
       "    </tr>\n",
       "  </tbody>\n",
       "</table>\n",
       "</div>"
      ],
      "text/plain": [
       "   index            name  opening_year  \\\n",
       "0      0           Eunos        1989.0   \n",
       "1      1  Chinese Garden        1988.0   \n",
       "2      2          Khatib        1988.0   \n",
       "3      3          Kranji        1996.0   \n",
       "4      4         Redhill        1988.0   \n",
       "\n",
       "                                   lat_long  \n",
       "0  (1.3197782848869883, 103.90325213335886)  \n",
       "1  (1.3423521542087522, 103.73259640485368)  \n",
       "2   (1.4173827034869275, 103.8329795744054)  \n",
       "3  (1.4251770321043908, 103.76216507762184)  \n",
       "4  (1.2895620597351771, 103.81681633682066)  "
      ]
     },
     "execution_count": 19,
     "metadata": {},
     "output_type": "execute_result"
    }
   ],
   "source": [
    "mrt_df.head()"
   ]
  },
  {
   "cell_type": "code",
   "execution_count": 20,
   "metadata": {
    "scrolled": true
   },
   "outputs": [
    {
     "data": {
      "text/html": [
       "<div>\n",
       "<style scoped>\n",
       "    .dataframe tbody tr th:only-of-type {\n",
       "        vertical-align: middle;\n",
       "    }\n",
       "\n",
       "    .dataframe tbody tr th {\n",
       "        vertical-align: top;\n",
       "    }\n",
       "\n",
       "    .dataframe thead th {\n",
       "        text-align: right;\n",
       "    }\n",
       "</style>\n",
       "<table border=\"1\" class=\"dataframe\">\n",
       "  <thead>\n",
       "    <tr style=\"text-align: right;\">\n",
       "      <th></th>\n",
       "      <th>index</th>\n",
       "      <th>lat_long</th>\n",
       "      <th>year</th>\n",
       "      <th>nearest_mrt</th>\n",
       "      <th>nearest_mrt_distance</th>\n",
       "    </tr>\n",
       "  </thead>\n",
       "  <tbody>\n",
       "    <tr>\n",
       "      <th>0</th>\n",
       "      <td>0</td>\n",
       "      <td>(1.3690080642700195, 103.95869445800781)</td>\n",
       "      <td>2001</td>\n",
       "      <td>--</td>\n",
       "      <td>inf</td>\n",
       "    </tr>\n",
       "    <tr>\n",
       "      <th>1</th>\n",
       "      <td>1</td>\n",
       "      <td>(1.3990070819854736, 103.90699005126953)</td>\n",
       "      <td>2014</td>\n",
       "      <td>--</td>\n",
       "      <td>inf</td>\n",
       "    </tr>\n",
       "    <tr>\n",
       "      <th>2</th>\n",
       "      <td>2</td>\n",
       "      <td>(1.3883482217788696, 103.87381744384766)</td>\n",
       "      <td>2020</td>\n",
       "      <td>--</td>\n",
       "      <td>inf</td>\n",
       "    </tr>\n",
       "    <tr>\n",
       "      <th>3</th>\n",
       "      <td>3</td>\n",
       "      <td>(1.3184930086135864, 103.7667007446289)</td>\n",
       "      <td>2000</td>\n",
       "      <td>--</td>\n",
       "      <td>inf</td>\n",
       "    </tr>\n",
       "    <tr>\n",
       "      <th>4</th>\n",
       "      <td>4</td>\n",
       "      <td>(1.3481495380401611, 103.74266052246094)</td>\n",
       "      <td>2013</td>\n",
       "      <td>--</td>\n",
       "      <td>inf</td>\n",
       "    </tr>\n",
       "  </tbody>\n",
       "</table>\n",
       "</div>"
      ],
      "text/plain": [
       "   index                                  lat_long  year nearest_mrt  \\\n",
       "0      0  (1.3690080642700195, 103.95869445800781)  2001          --   \n",
       "1      1  (1.3990070819854736, 103.90699005126953)  2014          --   \n",
       "2      2  (1.3883482217788696, 103.87381744384766)  2020          --   \n",
       "3      3   (1.3184930086135864, 103.7667007446289)  2000          --   \n",
       "4      4  (1.3481495380401611, 103.74266052246094)  2013          --   \n",
       "\n",
       "   nearest_mrt_distance  \n",
       "0                   inf  \n",
       "1                   inf  \n",
       "2                   inf  \n",
       "3                   inf  \n",
       "4                   inf  "
      ]
     },
     "execution_count": 20,
     "metadata": {},
     "output_type": "execute_result"
    }
   ],
   "source": [
    "train_df_temp.head()"
   ]
  },
  {
   "cell_type": "code",
   "execution_count": 21,
   "metadata": {},
   "outputs": [
    {
     "data": {
      "text/html": [
       "<div>\n",
       "<style scoped>\n",
       "    .dataframe tbody tr th:only-of-type {\n",
       "        vertical-align: middle;\n",
       "    }\n",
       "\n",
       "    .dataframe tbody tr th {\n",
       "        vertical-align: top;\n",
       "    }\n",
       "\n",
       "    .dataframe thead th {\n",
       "        text-align: right;\n",
       "    }\n",
       "</style>\n",
       "<table border=\"1\" class=\"dataframe\">\n",
       "  <thead>\n",
       "    <tr style=\"text-align: right;\">\n",
       "      <th></th>\n",
       "      <th>index</th>\n",
       "      <th>lat_long</th>\n",
       "      <th>year</th>\n",
       "      <th>nearest_mrt</th>\n",
       "      <th>nearest_mrt_distance</th>\n",
       "    </tr>\n",
       "  </thead>\n",
       "  <tbody>\n",
       "    <tr>\n",
       "      <th>0</th>\n",
       "      <td>0</td>\n",
       "      <td>(1.3465807437896729, 103.74408721923828)</td>\n",
       "      <td>2004</td>\n",
       "      <td>--</td>\n",
       "      <td>inf</td>\n",
       "    </tr>\n",
       "    <tr>\n",
       "      <th>1</th>\n",
       "      <td>1</td>\n",
       "      <td>(1.3576176166534424, 103.96138000488281)</td>\n",
       "      <td>2001</td>\n",
       "      <td>--</td>\n",
       "      <td>inf</td>\n",
       "    </tr>\n",
       "    <tr>\n",
       "      <th>2</th>\n",
       "      <td>2</td>\n",
       "      <td>(1.337803840637207, 103.74199676513672)</td>\n",
       "      <td>2002</td>\n",
       "      <td>--</td>\n",
       "      <td>inf</td>\n",
       "    </tr>\n",
       "    <tr>\n",
       "      <th>3</th>\n",
       "      <td>3</td>\n",
       "      <td>(1.380083680152893, 103.84957122802734)</td>\n",
       "      <td>2015</td>\n",
       "      <td>--</td>\n",
       "      <td>inf</td>\n",
       "    </tr>\n",
       "    <tr>\n",
       "      <th>4</th>\n",
       "      <td>4</td>\n",
       "      <td>(1.3139597177505493, 103.76982879638672)</td>\n",
       "      <td>2004</td>\n",
       "      <td>--</td>\n",
       "      <td>inf</td>\n",
       "    </tr>\n",
       "  </tbody>\n",
       "</table>\n",
       "</div>"
      ],
      "text/plain": [
       "   index                                  lat_long  year nearest_mrt  \\\n",
       "0      0  (1.3465807437896729, 103.74408721923828)  2004          --   \n",
       "1      1  (1.3576176166534424, 103.96138000488281)  2001          --   \n",
       "2      2   (1.337803840637207, 103.74199676513672)  2002          --   \n",
       "3      3   (1.380083680152893, 103.84957122802734)  2015          --   \n",
       "4      4  (1.3139597177505493, 103.76982879638672)  2004          --   \n",
       "\n",
       "   nearest_mrt_distance  \n",
       "0                   inf  \n",
       "1                   inf  \n",
       "2                   inf  \n",
       "3                   inf  \n",
       "4                   inf  "
      ]
     },
     "execution_count": 21,
     "metadata": {},
     "output_type": "execute_result"
    }
   ],
   "source": [
    "test_df_temp.head()"
   ]
  },
  {
   "cell_type": "markdown",
   "metadata": {},
   "source": [
    "Converting our dataframe to numpy arrays for faster computation"
   ]
  },
  {
   "cell_type": "code",
   "execution_count": 22,
   "metadata": {
    "id": "lEF9hWIoxQEG"
   },
   "outputs": [],
   "source": [
    "train_df_temp_numpy = train_df_temp.to_numpy()\n",
    "test_df_temp_numpy = test_df_temp.to_numpy()\n",
    "mrt_df_numpy = mrt_df.to_numpy()"
   ]
  },
  {
   "cell_type": "code",
   "execution_count": 23,
   "metadata": {},
   "outputs": [
    {
     "name": "stdout",
     "output_type": "stream",
     "text": [
      "Shape of train_df_temp_numpy : (9138, 5)\n",
      "Shape of test_df_temp_numpy : (8990, 5)\n",
      "Shape of mrt_df_numpy : (126, 4)\n"
     ]
    }
   ],
   "source": [
    "print(\"Shape of train_df_temp_numpy :\",np.shape(train_df_temp_numpy))\n",
    "print(\"Shape of test_df_temp_numpy :\",np.shape(test_df_temp_numpy))\n",
    "print(\"Shape of mrt_df_numpy :\",np.shape(mrt_df_numpy))"
   ]
  },
  {
   "cell_type": "code",
   "execution_count": 24,
   "metadata": {},
   "outputs": [
    {
     "name": "stdout",
     "output_type": "stream",
     "text": [
      "Get distance for each location and update nearest mrt and its distance\n",
      "Add nearest_mrt and nearest_mrt_distance to dataframe\n",
      "Wall time: 12.1 s\n"
     ]
    }
   ],
   "source": [
    "%%time\n",
    "print(\"Get distance for each location and update nearest mrt and its distance\")\n",
    "for i in range(len(train_df_temp_numpy)):\n",
    "    min_dist = math.inf\n",
    "    min_dist_mrt = \"\"\n",
    "    hdb_location = train_df_temp_numpy[i][1]\n",
    "    hdb_location = eval(hdb_location)\n",
    "    resale_year = train_df_temp_numpy[i][2]\n",
    "    for j in range(len(mrt_df_numpy)):\n",
    "        opening_year = mrt_df_numpy[j][2]\n",
    "        if opening_year <= resale_year:\n",
    "            mrt_location = mrt_df_numpy[j][3]\n",
    "            distance = geopy.distance.great_circle(hdb_location, mrt_location).km\n",
    "            if distance < min_dist:\n",
    "                min_dist = distance\n",
    "                min_dist_mrt = mrt_df_numpy[j][1]\n",
    "    train_df_temp_numpy[i][3] = min_dist_mrt\n",
    "    train_df_temp_numpy[i][4] = min_dist\n",
    "\n",
    "print(\"Add nearest_mrt and nearest_mrt_distance to dataframe\")\n",
    "for i in range(len(train_df_temp_numpy)):\n",
    "    dataframe_index = train_df_temp_numpy[i][0]\n",
    "    train_df_temp.loc[i, \"nearest_mrt\"] = train_df_temp_numpy[i][3]\n",
    "    train_df_temp.loc[i, \"nearest_mrt_distance\"] = train_df_temp_numpy[i][4]"
   ]
  },
  {
   "cell_type": "code",
   "execution_count": 25,
   "metadata": {},
   "outputs": [
    {
     "name": "stdout",
     "output_type": "stream",
     "text": [
      "Get distance for each location and update nearest mrt and its distance\n",
      "Add nearest_mrt and nearest_mrt_distance to dataframe\n",
      "Wall time: 12 s\n"
     ]
    }
   ],
   "source": [
    "%%time\n",
    "print(\"Get distance for each location and update nearest mrt and its distance\")\n",
    "for i in range(len(test_df_temp_numpy)):\n",
    "    min_dist = math.inf\n",
    "    min_dist_mrt = \"\"\n",
    "    hdb_location = test_df_temp_numpy[i][1]\n",
    "    hdb_location = eval(hdb_location)\n",
    "    resale_year = train_df_temp_numpy[i][2]\n",
    "    for j in range(len(mrt_df_numpy)):\n",
    "        opening_year = mrt_df_numpy[j][2]\n",
    "        if opening_year <= resale_year:\n",
    "            mrt_location = mrt_df_numpy[j][3]\n",
    "            distance = geopy.distance.great_circle(hdb_location, mrt_location).km\n",
    "            if distance < min_dist:\n",
    "                min_dist = distance\n",
    "                min_dist_mrt = mrt_df_numpy[j][1]\n",
    "    test_df_temp_numpy[i][3] = min_dist_mrt\n",
    "    test_df_temp_numpy[i][4] = min_dist\n",
    "\n",
    "print(\"Add nearest_mrt and nearest_mrt_distance to dataframe\")\n",
    "for i in range(len(test_df_temp_numpy)):\n",
    "    dataframe_index = test_df_temp_numpy[i][0]\n",
    "    test_df_temp.loc[i, \"nearest_mrt\"] = test_df_temp_numpy[i][3]\n",
    "    test_df_temp.loc[i, \"nearest_mrt_distance\"] = test_df_temp_numpy[i][4]"
   ]
  },
  {
   "cell_type": "code",
   "execution_count": 26,
   "metadata": {},
   "outputs": [
    {
     "data": {
      "text/html": [
       "<div>\n",
       "<style scoped>\n",
       "    .dataframe tbody tr th:only-of-type {\n",
       "        vertical-align: middle;\n",
       "    }\n",
       "\n",
       "    .dataframe tbody tr th {\n",
       "        vertical-align: top;\n",
       "    }\n",
       "\n",
       "    .dataframe thead th {\n",
       "        text-align: right;\n",
       "    }\n",
       "</style>\n",
       "<table border=\"1\" class=\"dataframe\">\n",
       "  <thead>\n",
       "    <tr style=\"text-align: right;\">\n",
       "      <th></th>\n",
       "      <th>index</th>\n",
       "      <th>lat_long</th>\n",
       "      <th>year</th>\n",
       "      <th>nearest_mrt</th>\n",
       "      <th>nearest_mrt_distance</th>\n",
       "    </tr>\n",
       "  </thead>\n",
       "  <tbody>\n",
       "    <tr>\n",
       "      <th>0</th>\n",
       "      <td>0</td>\n",
       "      <td>(1.3690080642700195, 103.95869445800781)</td>\n",
       "      <td>2001</td>\n",
       "      <td>Pasir Ris</td>\n",
       "      <td>1.137305</td>\n",
       "    </tr>\n",
       "    <tr>\n",
       "      <th>1</th>\n",
       "      <td>1</td>\n",
       "      <td>(1.3990070819854736, 103.90699005126953)</td>\n",
       "      <td>2014</td>\n",
       "      <td>Punggol</td>\n",
       "      <td>0.823520</td>\n",
       "    </tr>\n",
       "    <tr>\n",
       "      <th>2</th>\n",
       "      <td>2</td>\n",
       "      <td>(1.3883482217788696, 103.87381744384766)</td>\n",
       "      <td>2020</td>\n",
       "      <td>Buangkok</td>\n",
       "      <td>2.230426</td>\n",
       "    </tr>\n",
       "    <tr>\n",
       "      <th>3</th>\n",
       "      <td>3</td>\n",
       "      <td>(1.3184930086135864, 103.7667007446289)</td>\n",
       "      <td>2000</td>\n",
       "      <td>Clementi</td>\n",
       "      <td>0.423286</td>\n",
       "    </tr>\n",
       "    <tr>\n",
       "      <th>4</th>\n",
       "      <td>4</td>\n",
       "      <td>(1.3481495380401611, 103.74266052246094)</td>\n",
       "      <td>2013</td>\n",
       "      <td>Bukit Batok</td>\n",
       "      <td>0.773956</td>\n",
       "    </tr>\n",
       "  </tbody>\n",
       "</table>\n",
       "</div>"
      ],
      "text/plain": [
       "   index                                  lat_long  year  nearest_mrt  \\\n",
       "0      0  (1.3690080642700195, 103.95869445800781)  2001    Pasir Ris   \n",
       "1      1  (1.3990070819854736, 103.90699005126953)  2014      Punggol   \n",
       "2      2  (1.3883482217788696, 103.87381744384766)  2020     Buangkok   \n",
       "3      3   (1.3184930086135864, 103.7667007446289)  2000     Clementi   \n",
       "4      4  (1.3481495380401611, 103.74266052246094)  2013  Bukit Batok   \n",
       "\n",
       "   nearest_mrt_distance  \n",
       "0              1.137305  \n",
       "1              0.823520  \n",
       "2              2.230426  \n",
       "3              0.423286  \n",
       "4              0.773956  "
      ]
     },
     "execution_count": 26,
     "metadata": {},
     "output_type": "execute_result"
    }
   ],
   "source": [
    "train_df_temp.head()"
   ]
  },
  {
   "cell_type": "code",
   "execution_count": 27,
   "metadata": {},
   "outputs": [
    {
     "data": {
      "text/html": [
       "<div>\n",
       "<style scoped>\n",
       "    .dataframe tbody tr th:only-of-type {\n",
       "        vertical-align: middle;\n",
       "    }\n",
       "\n",
       "    .dataframe tbody tr th {\n",
       "        vertical-align: top;\n",
       "    }\n",
       "\n",
       "    .dataframe thead th {\n",
       "        text-align: right;\n",
       "    }\n",
       "</style>\n",
       "<table border=\"1\" class=\"dataframe\">\n",
       "  <thead>\n",
       "    <tr style=\"text-align: right;\">\n",
       "      <th></th>\n",
       "      <th>index</th>\n",
       "      <th>lat_long</th>\n",
       "      <th>year</th>\n",
       "      <th>nearest_mrt</th>\n",
       "      <th>nearest_mrt_distance</th>\n",
       "    </tr>\n",
       "  </thead>\n",
       "  <tbody>\n",
       "    <tr>\n",
       "      <th>0</th>\n",
       "      <td>0</td>\n",
       "      <td>(1.3465807437896729, 103.74408721923828)</td>\n",
       "      <td>2004</td>\n",
       "      <td>Bukit Batok</td>\n",
       "      <td>0.667364</td>\n",
       "    </tr>\n",
       "    <tr>\n",
       "      <th>1</th>\n",
       "      <td>1</td>\n",
       "      <td>(1.3576176166534424, 103.96138000488281)</td>\n",
       "      <td>2001</td>\n",
       "      <td>Simei</td>\n",
       "      <td>1.833560</td>\n",
       "    </tr>\n",
       "    <tr>\n",
       "      <th>2</th>\n",
       "      <td>2</td>\n",
       "      <td>(1.337803840637207, 103.74199676513672)</td>\n",
       "      <td>2002</td>\n",
       "      <td>Jurong East</td>\n",
       "      <td>0.518267</td>\n",
       "    </tr>\n",
       "    <tr>\n",
       "      <th>3</th>\n",
       "      <td>3</td>\n",
       "      <td>(1.380083680152893, 103.84957122802734)</td>\n",
       "      <td>2015</td>\n",
       "      <td>Yio Chu Kang</td>\n",
       "      <td>0.546624</td>\n",
       "    </tr>\n",
       "    <tr>\n",
       "      <th>4</th>\n",
       "      <td>4</td>\n",
       "      <td>(1.3139597177505493, 103.76982879638672)</td>\n",
       "      <td>2004</td>\n",
       "      <td>Clementi</td>\n",
       "      <td>0.515598</td>\n",
       "    </tr>\n",
       "  </tbody>\n",
       "</table>\n",
       "</div>"
      ],
      "text/plain": [
       "   index                                  lat_long  year   nearest_mrt  \\\n",
       "0      0  (1.3465807437896729, 103.74408721923828)  2004   Bukit Batok   \n",
       "1      1  (1.3576176166534424, 103.96138000488281)  2001         Simei   \n",
       "2      2   (1.337803840637207, 103.74199676513672)  2002   Jurong East   \n",
       "3      3   (1.380083680152893, 103.84957122802734)  2015  Yio Chu Kang   \n",
       "4      4  (1.3139597177505493, 103.76982879638672)  2004      Clementi   \n",
       "\n",
       "   nearest_mrt_distance  \n",
       "0              0.667364  \n",
       "1              1.833560  \n",
       "2              0.518267  \n",
       "3              0.546624  \n",
       "4              0.515598  "
      ]
     },
     "execution_count": 27,
     "metadata": {},
     "output_type": "execute_result"
    }
   ],
   "source": [
    "test_df_temp.head()"
   ]
  },
  {
   "cell_type": "markdown",
   "metadata": {
    "id": "th4d08ExUJE8"
   },
   "source": [
    "### We will now merge the result with our original data frames"
   ]
  },
  {
   "cell_type": "code",
   "execution_count": 28,
   "metadata": {
    "id": "7Z21VjOljHAn"
   },
   "outputs": [
    {
     "name": "stdout",
     "output_type": "stream",
     "text": [
      "Changing datatype of nearest_mrt_distance to float32\n",
      "Changing datatype of nearest_mrt_distance to float32\n"
     ]
    }
   ],
   "source": [
    "temp = train_df_temp[[\"lat_long\", \"nearest_mrt\", \"nearest_mrt_distance\"]]\n",
    "train_df = pd.merge(train_df, temp, on=\"lat_long\", how='left')\n",
    "print(\"Changing datatype of nearest_mrt_distance to float32\")\n",
    "train_df[['nearest_mrt_distance']] = train_df[['nearest_mrt_distance']].astype('float32')\n",
    "\n",
    "temp = test_df_temp[[\"lat_long\", \"nearest_mrt\", \"nearest_mrt_distance\"]]\n",
    "test_df = pd.merge(test_df, temp, on=\"lat_long\", how='left')\n",
    "print(\"Changing datatype of nearest_mrt_distance to float32\")\n",
    "test_df[['nearest_mrt_distance']] = test_df[['nearest_mrt_distance']].astype('float32')"
   ]
  },
  {
   "cell_type": "markdown",
   "metadata": {},
   "source": [
    "### Nearest MRT and its distance from HDB has been added to our dataframe"
   ]
  },
  {
   "cell_type": "code",
   "execution_count": 29,
   "metadata": {},
   "outputs": [
    {
     "data": {
      "text/html": [
       "<div>\n",
       "<style scoped>\n",
       "    .dataframe tbody tr th:only-of-type {\n",
       "        vertical-align: middle;\n",
       "    }\n",
       "\n",
       "    .dataframe tbody tr th {\n",
       "        vertical-align: top;\n",
       "    }\n",
       "\n",
       "    .dataframe thead th {\n",
       "        text-align: right;\n",
       "    }\n",
       "</style>\n",
       "<table border=\"1\" class=\"dataframe\">\n",
       "  <thead>\n",
       "    <tr style=\"text-align: right;\">\n",
       "      <th></th>\n",
       "      <th>town</th>\n",
       "      <th>flat_type</th>\n",
       "      <th>block</th>\n",
       "      <th>street_name</th>\n",
       "      <th>floor_area_sqm</th>\n",
       "      <th>flat_model</th>\n",
       "      <th>lease_commence_date</th>\n",
       "      <th>latitude</th>\n",
       "      <th>longitude</th>\n",
       "      <th>subzone</th>\n",
       "      <th>planning_area</th>\n",
       "      <th>region</th>\n",
       "      <th>resale_price</th>\n",
       "      <th>month_no</th>\n",
       "      <th>year</th>\n",
       "      <th>storey</th>\n",
       "      <th>lat_long</th>\n",
       "      <th>nearest_mrt</th>\n",
       "      <th>nearest_mrt_distance</th>\n",
       "    </tr>\n",
       "  </thead>\n",
       "  <tbody>\n",
       "    <tr>\n",
       "      <th>0</th>\n",
       "      <td>pasir ris</td>\n",
       "      <td>4-room</td>\n",
       "      <td>440</td>\n",
       "      <td>pasir ris drive 4</td>\n",
       "      <td>118.0</td>\n",
       "      <td>model a</td>\n",
       "      <td>1989</td>\n",
       "      <td>1.369008</td>\n",
       "      <td>103.958694</td>\n",
       "      <td>pasir ris drive</td>\n",
       "      <td>pasir ris</td>\n",
       "      <td>east region</td>\n",
       "      <td>209700.0</td>\n",
       "      <td>8</td>\n",
       "      <td>2001</td>\n",
       "      <td>2.0</td>\n",
       "      <td>(1.3690080642700195, 103.95869445800781)</td>\n",
       "      <td>Pasir Ris</td>\n",
       "      <td>1.137305</td>\n",
       "    </tr>\n",
       "    <tr>\n",
       "      <th>1</th>\n",
       "      <td>punggol</td>\n",
       "      <td>5-room</td>\n",
       "      <td>196B</td>\n",
       "      <td>punggol field</td>\n",
       "      <td>110.0</td>\n",
       "      <td>improved</td>\n",
       "      <td>2003</td>\n",
       "      <td>1.399007</td>\n",
       "      <td>103.906990</td>\n",
       "      <td>punggol field</td>\n",
       "      <td>punggol</td>\n",
       "      <td>north-east region</td>\n",
       "      <td>402300.0</td>\n",
       "      <td>10</td>\n",
       "      <td>2014</td>\n",
       "      <td>11.0</td>\n",
       "      <td>(1.3990070819854736, 103.90699005126953)</td>\n",
       "      <td>Punggol</td>\n",
       "      <td>0.823520</td>\n",
       "    </tr>\n",
       "    <tr>\n",
       "      <th>2</th>\n",
       "      <td>sengkang</td>\n",
       "      <td>5-room</td>\n",
       "      <td>404A</td>\n",
       "      <td>fernvale lane</td>\n",
       "      <td>112.0</td>\n",
       "      <td>premium apartment</td>\n",
       "      <td>2004</td>\n",
       "      <td>1.388348</td>\n",
       "      <td>103.873820</td>\n",
       "      <td>fernvale</td>\n",
       "      <td>sengkang</td>\n",
       "      <td>north-east region</td>\n",
       "      <td>351000.0</td>\n",
       "      <td>9</td>\n",
       "      <td>2020</td>\n",
       "      <td>2.0</td>\n",
       "      <td>(1.3883482217788696, 103.87381744384766)</td>\n",
       "      <td>Buangkok</td>\n",
       "      <td>2.230426</td>\n",
       "    </tr>\n",
       "    <tr>\n",
       "      <th>3</th>\n",
       "      <td>clementi</td>\n",
       "      <td>3-room</td>\n",
       "      <td>375</td>\n",
       "      <td>clementi avenue 4</td>\n",
       "      <td>67.0</td>\n",
       "      <td>new generation</td>\n",
       "      <td>1980</td>\n",
       "      <td>1.318493</td>\n",
       "      <td>103.766700</td>\n",
       "      <td>clementi north</td>\n",
       "      <td>clementi</td>\n",
       "      <td>west region</td>\n",
       "      <td>151200.0</td>\n",
       "      <td>10</td>\n",
       "      <td>2000</td>\n",
       "      <td>8.0</td>\n",
       "      <td>(1.3184930086135864, 103.7667007446289)</td>\n",
       "      <td>Clementi</td>\n",
       "      <td>0.423286</td>\n",
       "    </tr>\n",
       "    <tr>\n",
       "      <th>4</th>\n",
       "      <td>bukit batok</td>\n",
       "      <td>3-room</td>\n",
       "      <td>163</td>\n",
       "      <td>bukit batok street 11</td>\n",
       "      <td>73.0</td>\n",
       "      <td>model a</td>\n",
       "      <td>1985</td>\n",
       "      <td>1.348150</td>\n",
       "      <td>103.742660</td>\n",
       "      <td>bukit batok west</td>\n",
       "      <td>bukit batok</td>\n",
       "      <td>west region</td>\n",
       "      <td>318600.0</td>\n",
       "      <td>1</td>\n",
       "      <td>2013</td>\n",
       "      <td>8.0</td>\n",
       "      <td>(1.3481495380401611, 103.74266052246094)</td>\n",
       "      <td>Bukit Batok</td>\n",
       "      <td>0.773956</td>\n",
       "    </tr>\n",
       "  </tbody>\n",
       "</table>\n",
       "</div>"
      ],
      "text/plain": [
       "          town flat_type block            street_name  floor_area_sqm  \\\n",
       "0    pasir ris    4-room   440      pasir ris drive 4           118.0   \n",
       "1      punggol    5-room  196B          punggol field           110.0   \n",
       "2     sengkang    5-room  404A          fernvale lane           112.0   \n",
       "3     clementi    3-room   375      clementi avenue 4            67.0   \n",
       "4  bukit batok    3-room   163  bukit batok street 11            73.0   \n",
       "\n",
       "          flat_model  lease_commence_date  latitude   longitude  \\\n",
       "0            model a                 1989  1.369008  103.958694   \n",
       "1           improved                 2003  1.399007  103.906990   \n",
       "2  premium apartment                 2004  1.388348  103.873820   \n",
       "3     new generation                 1980  1.318493  103.766700   \n",
       "4            model a                 1985  1.348150  103.742660   \n",
       "\n",
       "            subzone planning_area             region  resale_price  month_no  \\\n",
       "0   pasir ris drive     pasir ris        east region      209700.0         8   \n",
       "1     punggol field       punggol  north-east region      402300.0        10   \n",
       "2          fernvale      sengkang  north-east region      351000.0         9   \n",
       "3    clementi north      clementi        west region      151200.0        10   \n",
       "4  bukit batok west   bukit batok        west region      318600.0         1   \n",
       "\n",
       "   year  storey                                  lat_long  nearest_mrt  \\\n",
       "0  2001     2.0  (1.3690080642700195, 103.95869445800781)    Pasir Ris   \n",
       "1  2014    11.0  (1.3990070819854736, 103.90699005126953)      Punggol   \n",
       "2  2020     2.0  (1.3883482217788696, 103.87381744384766)     Buangkok   \n",
       "3  2000     8.0   (1.3184930086135864, 103.7667007446289)     Clementi   \n",
       "4  2013     8.0  (1.3481495380401611, 103.74266052246094)  Bukit Batok   \n",
       "\n",
       "   nearest_mrt_distance  \n",
       "0              1.137305  \n",
       "1              0.823520  \n",
       "2              2.230426  \n",
       "3              0.423286  \n",
       "4              0.773956  "
      ]
     },
     "execution_count": 29,
     "metadata": {},
     "output_type": "execute_result"
    }
   ],
   "source": [
    "train_df.head()"
   ]
  },
  {
   "cell_type": "code",
   "execution_count": 30,
   "metadata": {},
   "outputs": [
    {
     "data": {
      "text/html": [
       "<div>\n",
       "<style scoped>\n",
       "    .dataframe tbody tr th:only-of-type {\n",
       "        vertical-align: middle;\n",
       "    }\n",
       "\n",
       "    .dataframe tbody tr th {\n",
       "        vertical-align: top;\n",
       "    }\n",
       "\n",
       "    .dataframe thead th {\n",
       "        text-align: right;\n",
       "    }\n",
       "</style>\n",
       "<table border=\"1\" class=\"dataframe\">\n",
       "  <thead>\n",
       "    <tr style=\"text-align: right;\">\n",
       "      <th></th>\n",
       "      <th>town</th>\n",
       "      <th>flat_type</th>\n",
       "      <th>block</th>\n",
       "      <th>street_name</th>\n",
       "      <th>floor_area_sqm</th>\n",
       "      <th>flat_model</th>\n",
       "      <th>lease_commence_date</th>\n",
       "      <th>latitude</th>\n",
       "      <th>longitude</th>\n",
       "      <th>subzone</th>\n",
       "      <th>planning_area</th>\n",
       "      <th>region</th>\n",
       "      <th>month_no</th>\n",
       "      <th>year</th>\n",
       "      <th>storey</th>\n",
       "      <th>lat_long</th>\n",
       "      <th>nearest_mrt</th>\n",
       "      <th>nearest_mrt_distance</th>\n",
       "    </tr>\n",
       "  </thead>\n",
       "  <tbody>\n",
       "    <tr>\n",
       "      <th>0</th>\n",
       "      <td>bukit batok</td>\n",
       "      <td>4-room</td>\n",
       "      <td>186</td>\n",
       "      <td>bukit batok west avenue 6</td>\n",
       "      <td>94.0</td>\n",
       "      <td>new generation</td>\n",
       "      <td>1989</td>\n",
       "      <td>1.346581</td>\n",
       "      <td>103.74409</td>\n",
       "      <td>bukit batok west</td>\n",
       "      <td>bukit batok</td>\n",
       "      <td>west region</td>\n",
       "      <td>1</td>\n",
       "      <td>2004</td>\n",
       "      <td>5.0</td>\n",
       "      <td>(1.3465807437896729, 103.74408721923828)</td>\n",
       "      <td>Bukit Batok</td>\n",
       "      <td>0.667364</td>\n",
       "    </tr>\n",
       "    <tr>\n",
       "      <th>1</th>\n",
       "      <td>tampines</td>\n",
       "      <td>5-room</td>\n",
       "      <td>366</td>\n",
       "      <td>tampines street 34</td>\n",
       "      <td>122.0</td>\n",
       "      <td>improved</td>\n",
       "      <td>1997</td>\n",
       "      <td>1.357618</td>\n",
       "      <td>103.96138</td>\n",
       "      <td>tampines east</td>\n",
       "      <td>tampines</td>\n",
       "      <td>east region</td>\n",
       "      <td>11</td>\n",
       "      <td>2001</td>\n",
       "      <td>5.0</td>\n",
       "      <td>(1.3576176166534424, 103.96138000488281)</td>\n",
       "      <td>Simei</td>\n",
       "      <td>1.833560</td>\n",
       "    </tr>\n",
       "    <tr>\n",
       "      <th>2</th>\n",
       "      <td>jurong east</td>\n",
       "      <td>3-room</td>\n",
       "      <td>206</td>\n",
       "      <td>jurong east street 21</td>\n",
       "      <td>67.0</td>\n",
       "      <td>new generation</td>\n",
       "      <td>1982</td>\n",
       "      <td>1.337804</td>\n",
       "      <td>103.74200</td>\n",
       "      <td>toh guan</td>\n",
       "      <td>jurong east</td>\n",
       "      <td>west region</td>\n",
       "      <td>7</td>\n",
       "      <td>2002</td>\n",
       "      <td>2.0</td>\n",
       "      <td>(1.337803840637207, 103.74199676513672)</td>\n",
       "      <td>Jurong East</td>\n",
       "      <td>0.518267</td>\n",
       "    </tr>\n",
       "    <tr>\n",
       "      <th>3</th>\n",
       "      <td>ang mo kio</td>\n",
       "      <td>3-room</td>\n",
       "      <td>180</td>\n",
       "      <td>Ang Mo Kio Avenue 5</td>\n",
       "      <td>82.0</td>\n",
       "      <td>new generation</td>\n",
       "      <td>1981</td>\n",
       "      <td>1.380084</td>\n",
       "      <td>103.84957</td>\n",
       "      <td>yio chu kang east</td>\n",
       "      <td>ang mo kio</td>\n",
       "      <td>north-east region</td>\n",
       "      <td>4</td>\n",
       "      <td>2015</td>\n",
       "      <td>5.0</td>\n",
       "      <td>(1.380083680152893, 103.84957122802734)</td>\n",
       "      <td>Yio Chu Kang</td>\n",
       "      <td>0.546624</td>\n",
       "    </tr>\n",
       "    <tr>\n",
       "      <th>4</th>\n",
       "      <td>clementi</td>\n",
       "      <td>5-room</td>\n",
       "      <td>356</td>\n",
       "      <td>clementi avenue 2</td>\n",
       "      <td>117.0</td>\n",
       "      <td>standard</td>\n",
       "      <td>1978</td>\n",
       "      <td>1.313960</td>\n",
       "      <td>103.76983</td>\n",
       "      <td>clementi north</td>\n",
       "      <td>clementi</td>\n",
       "      <td>west region</td>\n",
       "      <td>4</td>\n",
       "      <td>2004</td>\n",
       "      <td>2.0</td>\n",
       "      <td>(1.3139597177505493, 103.76982879638672)</td>\n",
       "      <td>Clementi</td>\n",
       "      <td>0.515598</td>\n",
       "    </tr>\n",
       "  </tbody>\n",
       "</table>\n",
       "</div>"
      ],
      "text/plain": [
       "          town flat_type block                street_name  floor_area_sqm  \\\n",
       "0  bukit batok    4-room   186  bukit batok west avenue 6            94.0   \n",
       "1     tampines    5-room   366         tampines street 34           122.0   \n",
       "2  jurong east    3-room   206      jurong east street 21            67.0   \n",
       "3   ang mo kio    3-room   180        Ang Mo Kio Avenue 5            82.0   \n",
       "4     clementi    5-room   356          clementi avenue 2           117.0   \n",
       "\n",
       "       flat_model  lease_commence_date  latitude  longitude  \\\n",
       "0  new generation                 1989  1.346581  103.74409   \n",
       "1        improved                 1997  1.357618  103.96138   \n",
       "2  new generation                 1982  1.337804  103.74200   \n",
       "3  new generation                 1981  1.380084  103.84957   \n",
       "4        standard                 1978  1.313960  103.76983   \n",
       "\n",
       "             subzone planning_area             region  month_no  year  storey  \\\n",
       "0   bukit batok west   bukit batok        west region         1  2004     5.0   \n",
       "1      tampines east      tampines        east region        11  2001     5.0   \n",
       "2           toh guan   jurong east        west region         7  2002     2.0   \n",
       "3  yio chu kang east    ang mo kio  north-east region         4  2015     5.0   \n",
       "4     clementi north      clementi        west region         4  2004     2.0   \n",
       "\n",
       "                                   lat_long   nearest_mrt  \\\n",
       "0  (1.3465807437896729, 103.74408721923828)   Bukit Batok   \n",
       "1  (1.3576176166534424, 103.96138000488281)         Simei   \n",
       "2   (1.337803840637207, 103.74199676513672)   Jurong East   \n",
       "3   (1.380083680152893, 103.84957122802734)  Yio Chu Kang   \n",
       "4  (1.3139597177505493, 103.76982879638672)      Clementi   \n",
       "\n",
       "   nearest_mrt_distance  \n",
       "0              0.667364  \n",
       "1              1.833560  \n",
       "2              0.518267  \n",
       "3              0.546624  \n",
       "4              0.515598  "
      ]
     },
     "execution_count": 30,
     "metadata": {},
     "output_type": "execute_result"
    }
   ],
   "source": [
    "test_df.head()"
   ]
  },
  {
   "cell_type": "markdown",
   "metadata": {},
   "source": [
    "# ADD SOME PLOTS HERE"
   ]
  },
  {
   "cell_type": "code",
   "execution_count": 31,
   "metadata": {},
   "outputs": [
    {
     "data": {
      "text/plain": [
       "<AxesSubplot:>"
      ]
     },
     "execution_count": 31,
     "metadata": {},
     "output_type": "execute_result"
    },
    {
     "data": {
      "image/png": "[encoded data removed]",
      "text/plain": [
       "<Figure size 1080x864 with 2 Axes>"
      ]
     },
     "metadata": {
      "needs_background": "light"
     },
     "output_type": "display_data"
    }
   ],
   "source": [
    "corr = train_df.corr()\n",
    "plt.subplots(figsize=(15,12))\n",
    "sns.heatmap(corr, vmax=0.9, cmap=\"Blues\", square=True)"
   ]
  },
  {
   "cell_type": "code",
   "execution_count": 32,
   "metadata": {},
   "outputs": [
    {
     "data": {
      "text/html": [
       "<style  type=\"text/css\" >\n",
       "#T_dfadc3a3_9d86_11eb_b3f4_342eb79777ferow0_col0{\n",
       "            background-color:  #fde725;\n",
       "            color:  #000000;\n",
       "        }#T_dfadc3a3_9d86_11eb_b3f4_342eb79777ferow1_col0{\n",
       "            background-color:  #23a983;\n",
       "            color:  #000000;\n",
       "        }#T_dfadc3a3_9d86_11eb_b3f4_342eb79777ferow2_col0{\n",
       "            background-color:  #22a785;\n",
       "            color:  #000000;\n",
       "        }#T_dfadc3a3_9d86_11eb_b3f4_342eb79777ferow3_col0{\n",
       "            background-color:  #24868e;\n",
       "            color:  #000000;\n",
       "        }#T_dfadc3a3_9d86_11eb_b3f4_342eb79777ferow4_col0{\n",
       "            background-color:  #33638d;\n",
       "            color:  #f1f1f1;\n",
       "        }#T_dfadc3a3_9d86_11eb_b3f4_342eb79777ferow5_col0{\n",
       "            background-color:  #453581;\n",
       "            color:  #f1f1f1;\n",
       "        }#T_dfadc3a3_9d86_11eb_b3f4_342eb79777ferow6_col0{\n",
       "            background-color:  #481f70;\n",
       "            color:  #f1f1f1;\n",
       "        }#T_dfadc3a3_9d86_11eb_b3f4_342eb79777ferow7_col0{\n",
       "            background-color:  #46075a;\n",
       "            color:  #f1f1f1;\n",
       "        }#T_dfadc3a3_9d86_11eb_b3f4_342eb79777ferow8_col0{\n",
       "            background-color:  #440154;\n",
       "            color:  #f1f1f1;\n",
       "        }</style><table id=\"T_dfadc3a3_9d86_11eb_b3f4_342eb79777fe\" ><thead>    <tr>        <th class=\"blank level0\" ></th>        <th class=\"col_heading level0 col0\" >resale_price</th>    </tr></thead><tbody>\n",
       "                <tr>\n",
       "                        <th id=\"T_dfadc3a3_9d86_11eb_b3f4_342eb79777felevel0_row0\" class=\"row_heading level0 row0\" >resale_price</th>\n",
       "                        <td id=\"T_dfadc3a3_9d86_11eb_b3f4_342eb79777ferow0_col0\" class=\"data row0 col0\" >1.000000</td>\n",
       "            </tr>\n",
       "            <tr>\n",
       "                        <th id=\"T_dfadc3a3_9d86_11eb_b3f4_342eb79777felevel0_row1\" class=\"row_heading level0 row1\" >year</th>\n",
       "                        <td id=\"T_dfadc3a3_9d86_11eb_b3f4_342eb79777ferow1_col0\" class=\"data row1 col0\" >0.578717</td>\n",
       "            </tr>\n",
       "            <tr>\n",
       "                        <th id=\"T_dfadc3a3_9d86_11eb_b3f4_342eb79777felevel0_row2\" class=\"row_heading level0 row2\" >floor_area_sqm</th>\n",
       "                        <td id=\"T_dfadc3a3_9d86_11eb_b3f4_342eb79777ferow2_col0\" class=\"data row2 col0\" >0.570385</td>\n",
       "            </tr>\n",
       "            <tr>\n",
       "                        <th id=\"T_dfadc3a3_9d86_11eb_b3f4_342eb79777felevel0_row3\" class=\"row_heading level0 row3\" >lease_commence_date</th>\n",
       "                        <td id=\"T_dfadc3a3_9d86_11eb_b3f4_342eb79777ferow3_col0\" class=\"data row3 col0\" >0.423578</td>\n",
       "            </tr>\n",
       "            <tr>\n",
       "                        <th id=\"T_dfadc3a3_9d86_11eb_b3f4_342eb79777felevel0_row4\" class=\"row_heading level0 row4\" >storey</th>\n",
       "                        <td id=\"T_dfadc3a3_9d86_11eb_b3f4_342eb79777ferow4_col0\" class=\"data row4 col0\" >0.269431</td>\n",
       "            </tr>\n",
       "            <tr>\n",
       "                        <th id=\"T_dfadc3a3_9d86_11eb_b3f4_342eb79777felevel0_row5\" class=\"row_heading level0 row5\" >longitude</th>\n",
       "                        <td id=\"T_dfadc3a3_9d86_11eb_b3f4_342eb79777ferow5_col0\" class=\"data row5 col0\" >0.099786</td>\n",
       "            </tr>\n",
       "            <tr>\n",
       "                        <th id=\"T_dfadc3a3_9d86_11eb_b3f4_342eb79777felevel0_row6\" class=\"row_heading level0 row6\" >month_no</th>\n",
       "                        <td id=\"T_dfadc3a3_9d86_11eb_b3f4_342eb79777ferow6_col0\" class=\"data row6 col0\" >0.025448</td>\n",
       "            </tr>\n",
       "            <tr>\n",
       "                        <th id=\"T_dfadc3a3_9d86_11eb_b3f4_342eb79777felevel0_row7\" class=\"row_heading level0 row7\" >nearest_mrt_distance</th>\n",
       "                        <td id=\"T_dfadc3a3_9d86_11eb_b3f4_342eb79777ferow7_col0\" class=\"data row7 col0\" >-0.046656</td>\n",
       "            </tr>\n",
       "            <tr>\n",
       "                        <th id=\"T_dfadc3a3_9d86_11eb_b3f4_342eb79777felevel0_row8\" class=\"row_heading level0 row8\" >latitude</th>\n",
       "                        <td id=\"T_dfadc3a3_9d86_11eb_b3f4_342eb79777ferow8_col0\" class=\"data row8 col0\" >-0.065915</td>\n",
       "            </tr>\n",
       "    </tbody></table>"
      ],
      "text/plain": [
       "<pandas.io.formats.style.Styler at 0x1f0bbb79a60>"
      ]
     },
     "execution_count": 32,
     "metadata": {},
     "output_type": "execute_result"
    }
   ],
   "source": [
    "corr[['resale_price']].sort_values(by='resale_price',ascending=False).style.background_gradient(cmap='viridis', axis=None)"
   ]
  },
  {
   "cell_type": "code",
   "execution_count": null,
   "metadata": {},
   "outputs": [],
   "source": []
  },
  {
   "cell_type": "code",
   "execution_count": null,
   "metadata": {},
   "outputs": [],
   "source": []
  },
  {
   "cell_type": "markdown",
   "metadata": {},
   "source": [
    "### Reduce the size of dataframe to save memory during training"
   ]
  },
  {
   "cell_type": "code",
   "execution_count": 33,
   "metadata": {},
   "outputs": [
    {
     "name": "stdout",
     "output_type": "stream",
     "text": [
      "Memory usage of properties dataframe is : 64.23014831542969  MB\n",
      "__MEMORY USAGE AFTER COMPLETION:__\n",
      "Memory usage is:  46.937416076660156  MB\n",
      "This is  73.07692307692308 % of the initial size\n",
      "Memory usage of properties dataframe is : 15.234214782714844  MB\n",
      "__MEMORY USAGE AFTER COMPLETION:__\n",
      "Memory usage is:  11.32272720336914  MB\n",
      "This is  74.32432432432432 % of the initial size\n"
     ]
    }
   ],
   "source": [
    "train_df, _ = reduce_memory_usage(train_df)\n",
    "test_df, _ = reduce_memory_usage(test_df)"
   ]
  },
  {
   "cell_type": "markdown",
   "metadata": {},
   "source": [
    "### Segregate the columns"
   ]
  },
  {
   "cell_type": "code",
   "execution_count": 34,
   "metadata": {},
   "outputs": [],
   "source": [
    "integer_columns = [\n",
    "    \"lease_commence_date\",\n",
    "    \"storey\",\n",
    "    \"month_no\",\n",
    "    \"year\",\n",
    "    \"nearest_mrt_distance\"\n",
    "]\n",
    "\n",
    "float_columns = [\n",
    "    \"floor_area_sqm\",\n",
    "]\n",
    "\n",
    "target_column = [\n",
    "    \"resale_price\"\n",
    "]\n",
    "\n",
    "## Categorical columns need to be encoded before training\n",
    "categorical_columns = [\n",
    "    \"town\",\n",
    "    \"flat_type\",\n",
    "    \"flat_model\",\n",
    "    \"subzone\",\n",
    "    \"planning_area\",\n",
    "    \"region\"\n",
    "]\n",
    "\n",
    "## We will drop these columns before training\n",
    "drop_columns = [\n",
    "    \"lat_long\",\n",
    "    \"block\",\n",
    "    \"street_name\",\n",
    "    \"nearest_mrt\",\n",
    "    \"longitude\",\n",
    "    \"latitude\"\n",
    "]"
   ]
  },
  {
   "cell_type": "markdown",
   "metadata": {},
   "source": [
    "### Drop the selected columns"
   ]
  },
  {
   "cell_type": "code",
   "execution_count": 35,
   "metadata": {},
   "outputs": [],
   "source": [
    "train_df = train_df.drop(columns=drop_columns)\n",
    "test_df = test_df.drop(columns=drop_columns)"
   ]
  },
  {
   "cell_type": "markdown",
   "metadata": {},
   "source": [
    "### One hot encode categorical columns"
   ]
  },
  {
   "cell_type": "code",
   "execution_count": 36,
   "metadata": {},
   "outputs": [],
   "source": [
    "for col in categorical_columns:\n",
    "    train_df = pd.concat([train_df, pd.get_dummies(train_df[col], prefix=col)],axis=1)\n",
    "train_df = train_df.drop(columns=categorical_columns)\n",
    "\n",
    "for col in categorical_columns:\n",
    "    test_df = pd.concat([test_df, pd.get_dummies(test_df[col], prefix=col)],axis=1)\n",
    "test_df = test_df.drop(columns=categorical_columns)"
   ]
  },
  {
   "cell_type": "markdown",
   "metadata": {},
   "source": [
    "### Check if the columns in both test data and train data are same after one-hot encoding"
   ]
  },
  {
   "cell_type": "code",
   "execution_count": 37,
   "metadata": {},
   "outputs": [
    {
     "name": "stdout",
     "output_type": "stream",
     "text": [
      "Columns are same\n"
     ]
    }
   ],
   "source": [
    "columns_in_test_not_in_train = test_df.columns.difference(train_df.columns).tolist()\n",
    "#print(columns_in_test_not_in_train)\n",
    "columns_in_train_not_in_test = train_df.columns.difference((test_df.columns)).tolist()\n",
    "columns_in_train_not_in_test.remove('resale_price')\n",
    "#print(columns_in_train_not_in_test)\n",
    "if not columns_in_test_not_in_train and not columns_in_train_not_in_test:\n",
    "    print(\"Columns are same\")"
   ]
  },
  {
   "cell_type": "markdown",
   "metadata": {},
   "source": [
    "### Split training data into training and validation sets"
   ]
  },
  {
   "cell_type": "code",
   "execution_count": 38,
   "metadata": {},
   "outputs": [],
   "source": [
    "train_data = train_df.sample(frac=1)\n",
    "train_labels = train_data.pop('resale_price')\n",
    "train_x, val_x, train_y, val_y = train_test_split(train_data,train_labels,train_size=0.7)"
   ]
  },
  {
   "cell_type": "markdown",
   "metadata": {},
   "source": [
    "----------------"
   ]
  },
  {
   "cell_type": "markdown",
   "metadata": {},
   "source": [
    "## Decision Tree"
   ]
  },
  {
   "cell_type": "code",
   "execution_count": 88,
   "metadata": {},
   "outputs": [
    {
     "name": "stdout",
     "output_type": "stream",
     "text": [
      "Wall time: 0 ns\n"
     ]
    }
   ],
   "source": [
    "%time\n",
    "dt_3 = tree.DecisionTreeRegressor(max_depth=250,min_samples_split=15)\n",
    "dt_3 = dt_3.fit(train_x, train_y)"
   ]
  },
  {
   "cell_type": "code",
   "execution_count": 89,
   "metadata": {},
   "outputs": [
    {
     "name": "stdout",
     "output_type": "stream",
     "text": [
      "Training error(RMSE) : 14049.522468663956\n",
      "Validation error(RMSE) : 22872.79864375967\n",
      "R2 score for training data : 0.9883085626860636\n",
      "R2 score for validation data : 0.9688958399420722\n"
     ]
    }
   ],
   "source": [
    "train_prediction = dt_3.predict(train_x)\n",
    "val_prediction = dt_3.predict(val_x)\n",
    "print(\"Training error(RMSE) :\",mean_squared_error(train_y,train_prediction , squared=False))\n",
    "print(\"Validation error(RMSE) :\",mean_squared_error(val_y,val_prediction , squared=False))\n",
    "print(\"R2 score for training data :\",r2_score(train_y,train_prediction))\n",
    "print(\"R2 score for validation data :\",r2_score(val_y,val_prediction))"
   ]
  },
  {
   "cell_type": "code",
   "execution_count": 114,
   "metadata": {},
   "outputs": [
    {
     "name": "stdout",
     "output_type": "stream",
     "text": [
      "Wall time: 7.61 s\n"
     ]
    }
   ],
   "source": [
    "%%time\n",
    "dt_4 = tree.DecisionTreeRegressor(max_depth=250,min_samples_split=10,max_features=250)\n",
    "dt_4 = dt_4.fit(train_x, train_y)"
   ]
  },
  {
   "cell_type": "code",
   "execution_count": 115,
   "metadata": {},
   "outputs": [
    {
     "name": "stdout",
     "output_type": "stream",
     "text": [
      "Training error(RMSE) : 11949.936026162237\n",
      "Validation error(RMSE) : 23472.4526541465\n",
      "R2 score for training data : 0.9915418391551991\n",
      "R2 score for validation data : 0.9672435515627811\n"
     ]
    }
   ],
   "source": [
    "train_prediction = dt_4.predict(train_x)\n",
    "val_prediction = dt_4.predict(val_x)\n",
    "print(\"Training error(RMSE) :\",mean_squared_error(train_y,train_prediction , squared=False))\n",
    "print(\"Validation error(RMSE) :\",mean_squared_error(val_y,val_prediction , squared=False))\n",
    "print(\"R2 score for training data :\",r2_score(train_y,train_prediction))\n",
    "print(\"R2 score for validation data :\",r2_score(val_y,val_prediction))"
   ]
  },
  {
   "cell_type": "code",
   "execution_count": 120,
   "metadata": {},
   "outputs": [
    {
     "data": {
      "image/png": "[encoded data removed]",
      "text/plain": [
       "<Figure size 432x288 with 1 Axes>"
      ]
     },
     "metadata": {
      "needs_background": "light"
     },
     "output_type": "display_data"
    }
   ],
   "source": [
    "plt.scatter(train_y,train_prediction, color = 'red')\n",
    "#plt.scatter(val_prediction, val_y, color = 'green')\n",
    "plt.title('Decision Tree Regression')\n",
    "plt.xlabel('Resale price')\n",
    "plt.ylabel('Predicted resale price')\n",
    "plt.show()"
   ]
  },
  {
   "cell_type": "code",
   "execution_count": 121,
   "metadata": {},
   "outputs": [
    {
     "data": {
      "image/png": "[encoded data removed]",
      "text/plain": [
       "<Figure size 432x288 with 1 Axes>"
      ]
     },
     "metadata": {
      "needs_background": "light"
     },
     "output_type": "display_data"
    }
   ],
   "source": [
    "plt.scatter(val_y,val_prediction, color = 'red')\n",
    "#plt.scatter(val_prediction, val_y, color = 'green')\n",
    "plt.title('Decision Tree Regression')\n",
    "plt.xlabel('Resale price')\n",
    "plt.ylabel('Predicted resale price')\n",
    "plt.show()"
   ]
  },
  {
   "cell_type": "markdown",
   "metadata": {},
   "source": [
    "#### Uncomment next block to make prediction on test data and generate csv"
   ]
  },
  {
   "cell_type": "code",
   "execution_count": 41,
   "metadata": {},
   "outputs": [],
   "source": [
    "#test_result = dt_3.predict(test_df)\n",
    "#save_to_csv(test_result,\"./mrt_dt_3_result.csv\")"
   ]
  },
  {
   "cell_type": "markdown",
   "metadata": {},
   "source": [
    "---------------"
   ]
  },
  {
   "cell_type": "markdown",
   "metadata": {},
   "source": [
    "## Random Forest"
   ]
  },
  {
   "cell_type": "code",
   "execution_count": 42,
   "metadata": {},
   "outputs": [],
   "source": [
    "rf_1 = RandomForestRegressor()"
   ]
  },
  {
   "cell_type": "code",
   "execution_count": 46,
   "metadata": {},
   "outputs": [
    {
     "name": "stdout",
     "output_type": "stream",
     "text": [
      "Wall time: 9min 45s\n"
     ]
    },
    {
     "data": {
      "text/plain": [
       "RandomForestRegressor()"
      ]
     },
     "execution_count": 46,
     "metadata": {},
     "output_type": "execute_result"
    }
   ],
   "source": [
    "%%time\n",
    "rf_1.fit(train_x,train_y)"
   ]
  },
  {
   "cell_type": "code",
   "execution_count": 50,
   "metadata": {},
   "outputs": [],
   "source": [
    "feature_importance = pd.DataFrame({'Variable':train_x.columns,'Importance':rf_1.feature_importances_}).sort_values('Importance', ascending=False)"
   ]
  },
  {
   "cell_type": "code",
   "execution_count": 52,
   "metadata": {},
   "outputs": [
    {
     "data": {
      "text/html": [
       "<div>\n",
       "<style scoped>\n",
       "    .dataframe tbody tr th:only-of-type {\n",
       "        vertical-align: middle;\n",
       "    }\n",
       "\n",
       "    .dataframe tbody tr th {\n",
       "        vertical-align: top;\n",
       "    }\n",
       "\n",
       "    .dataframe thead th {\n",
       "        text-align: right;\n",
       "    }\n",
       "</style>\n",
       "<table border=\"1\" class=\"dataframe\">\n",
       "  <thead>\n",
       "    <tr style=\"text-align: right;\">\n",
       "      <th></th>\n",
       "      <th>Variable</th>\n",
       "      <th>Importance</th>\n",
       "    </tr>\n",
       "  </thead>\n",
       "  <tbody>\n",
       "    <tr>\n",
       "      <th>3</th>\n",
       "      <td>year</td>\n",
       "      <td>0.417828</td>\n",
       "    </tr>\n",
       "    <tr>\n",
       "      <th>0</th>\n",
       "      <td>floor_area_sqm</td>\n",
       "      <td>0.297359</td>\n",
       "    </tr>\n",
       "    <tr>\n",
       "      <th>246</th>\n",
       "      <td>region_central region</td>\n",
       "      <td>0.086295</td>\n",
       "    </tr>\n",
       "    <tr>\n",
       "      <th>1</th>\n",
       "      <td>lease_commence_date</td>\n",
       "      <td>0.039876</td>\n",
       "    </tr>\n",
       "    <tr>\n",
       "      <th>37</th>\n",
       "      <td>flat_type_executive</td>\n",
       "      <td>0.031835</td>\n",
       "    </tr>\n",
       "    <tr>\n",
       "      <th>5</th>\n",
       "      <td>nearest_mrt_distance</td>\n",
       "      <td>0.019336</td>\n",
       "    </tr>\n",
       "    <tr>\n",
       "      <th>35</th>\n",
       "      <td>flat_type_4-room</td>\n",
       "      <td>0.018173</td>\n",
       "    </tr>\n",
       "    <tr>\n",
       "      <th>4</th>\n",
       "      <td>storey</td>\n",
       "      <td>0.010949</td>\n",
       "    </tr>\n",
       "    <tr>\n",
       "      <th>36</th>\n",
       "      <td>flat_type_5-room</td>\n",
       "      <td>0.010580</td>\n",
       "    </tr>\n",
       "    <tr>\n",
       "      <th>248</th>\n",
       "      <td>region_north region</td>\n",
       "      <td>0.006731</td>\n",
       "    </tr>\n",
       "  </tbody>\n",
       "</table>\n",
       "</div>"
      ],
      "text/plain": [
       "                  Variable  Importance\n",
       "3                     year    0.417828\n",
       "0           floor_area_sqm    0.297359\n",
       "246  region_central region    0.086295\n",
       "1      lease_commence_date    0.039876\n",
       "37     flat_type_executive    0.031835\n",
       "5     nearest_mrt_distance    0.019336\n",
       "35        flat_type_4-room    0.018173\n",
       "4                   storey    0.010949\n",
       "36        flat_type_5-room    0.010580\n",
       "248    region_north region    0.006731"
      ]
     },
     "execution_count": 52,
     "metadata": {},
     "output_type": "execute_result"
    }
   ],
   "source": [
    "feature_importance.head(10)"
   ]
  },
  {
   "cell_type": "code",
   "execution_count": 122,
   "metadata": {},
   "outputs": [
    {
     "name": "stdout",
     "output_type": "stream",
     "text": [
      "Training error(RMSE) : 7055.872661438606\n",
      "Validation error(RMSE) : 18504.947983784325\n",
      "R2 score for training data : 0.9970511936854376\n",
      "R2 score for validation data : 0.9796410394016659\n"
     ]
    }
   ],
   "source": [
    "train_prediction = rf_1.predict(train_x)\n",
    "val_prediction = rf_1.predict(val_x)\n",
    "print(\"Training error(RMSE) :\",mean_squared_error(train_y,train_prediction , squared=False))\n",
    "print(\"Validation error(RMSE) :\",mean_squared_error(val_y,val_prediction , squared=False))\n",
    "print(\"R2 score for training data :\",r2_score(train_y,train_prediction))\n",
    "print(\"R2 score for validation data :\",r2_score(val_y,val_prediction))"
   ]
  },
  {
   "cell_type": "code",
   "execution_count": 129,
   "metadata": {},
   "outputs": [
    {
     "data": {
      "image/png": "[encoded data removed]",
      "text/plain": [
       "<Figure size 432x288 with 1 Axes>"
      ]
     },
     "metadata": {
      "needs_background": "light"
     },
     "output_type": "display_data"
    }
   ],
   "source": [
    "plt.scatter(train_y,train_prediction, color = 'green')\n",
    "plt.title('Random Forest Regression')\n",
    "plt.xlabel('Resale price')\n",
    "plt.ylabel('Predicted resale price')\n",
    "plt.show()"
   ]
  },
  {
   "cell_type": "code",
   "execution_count": 130,
   "metadata": {},
   "outputs": [
    {
     "data": {
      "image/png": "[encoded data removed]",
      "text/plain": [
       "<Figure size 432x288 with 1 Axes>"
      ]
     },
     "metadata": {
      "needs_background": "light"
     },
     "output_type": "display_data"
    }
   ],
   "source": [
    "plt.scatter(val_y,val_prediction, color = 'red')\n",
    "plt.title('Random Forest Regression')\n",
    "plt.xlabel('Resale price')\n",
    "plt.ylabel('Predicted resale price')\n",
    "plt.show()"
   ]
  },
  {
   "cell_type": "code",
   "execution_count": 76,
   "metadata": {},
   "outputs": [],
   "source": [
    "rf_2 = RandomForestRegressor(n_estimators=50,max_depth=10,n_jobs=-1,verbose=1)"
   ]
  },
  {
   "cell_type": "code",
   "execution_count": 77,
   "metadata": {
    "scrolled": true
   },
   "outputs": [
    {
     "name": "stderr",
     "output_type": "stream",
     "text": [
      "[Parallel(n_jobs=-1)]: Using backend ThreadingBackend with 8 concurrent workers.\n",
      "[Parallel(n_jobs=-1)]: Done  34 tasks      | elapsed:  1.3min\n"
     ]
    },
    {
     "name": "stdout",
     "output_type": "stream",
     "text": [
      "Wall time: 1min 37s\n"
     ]
    },
    {
     "name": "stderr",
     "output_type": "stream",
     "text": [
      "[Parallel(n_jobs=-1)]: Done  50 out of  50 | elapsed:  1.6min finished\n"
     ]
    },
    {
     "data": {
      "text/plain": [
       "RandomForestRegressor(max_depth=10, n_estimators=50, n_jobs=-1, verbose=1)"
      ]
     },
     "execution_count": 77,
     "metadata": {},
     "output_type": "execute_result"
    }
   ],
   "source": [
    "%%time\n",
    "rf_2.fit(train_x,train_y)"
   ]
  },
  {
   "cell_type": "code",
   "execution_count": 78,
   "metadata": {},
   "outputs": [
    {
     "name": "stderr",
     "output_type": "stream",
     "text": [
      "[Parallel(n_jobs=8)]: Using backend ThreadingBackend with 8 concurrent workers.\n",
      "[Parallel(n_jobs=8)]: Done  34 tasks      | elapsed:    0.5s\n",
      "[Parallel(n_jobs=8)]: Done  50 out of  50 | elapsed:    0.6s finished\n",
      "[Parallel(n_jobs=8)]: Using backend ThreadingBackend with 8 concurrent workers.\n",
      "[Parallel(n_jobs=8)]: Done  34 tasks      | elapsed:    0.0s\n",
      "[Parallel(n_jobs=8)]: Done  50 out of  50 | elapsed:    0.0s finished\n"
     ]
    },
    {
     "name": "stdout",
     "output_type": "stream",
     "text": [
      "Training error(RMSE) : 33774.151606320986\n",
      "Validation error(RMSE) : 34488.95156437837\n",
      "R2 score for training data : 0.9324362609167416\n",
      "R2 score for validation data : 0.9292803912538558\n"
     ]
    }
   ],
   "source": [
    "train_prediction = rf_2.predict(train_x)\n",
    "val_prediction = rf_2.predict(val_x)\n",
    "print(\"Training error(RMSE) :\",mean_squared_error(train_y,train_prediction , squared=False))\n",
    "print(\"Validation error(RMSE) :\",mean_squared_error(val_y,val_prediction , squared=False))\n",
    "print(\"R2 score for training data :\",r2_score(train_y,train_prediction))\n",
    "print(\"R2 score for validation data :\",r2_score(val_y,val_prediction))"
   ]
  },
  {
   "cell_type": "code",
   "execution_count": 79,
   "metadata": {},
   "outputs": [],
   "source": [
    "rf_3 = RandomForestRegressor(n_estimators=50,max_depth=50,n_jobs=-1,verbose=1)"
   ]
  },
  {
   "cell_type": "code",
   "execution_count": 80,
   "metadata": {},
   "outputs": [
    {
     "name": "stderr",
     "output_type": "stream",
     "text": [
      "[Parallel(n_jobs=-1)]: Using backend ThreadingBackend with 8 concurrent workers.\n",
      "[Parallel(n_jobs=-1)]: Done  34 tasks      | elapsed:  1.6min\n"
     ]
    },
    {
     "name": "stdout",
     "output_type": "stream",
     "text": [
      "Wall time: 2min 3s\n"
     ]
    },
    {
     "name": "stderr",
     "output_type": "stream",
     "text": [
      "[Parallel(n_jobs=-1)]: Done  50 out of  50 | elapsed:  2.1min finished\n"
     ]
    },
    {
     "data": {
      "text/plain": [
       "RandomForestRegressor(max_depth=50, n_estimators=50, n_jobs=-1, verbose=1)"
      ]
     },
     "execution_count": 80,
     "metadata": {},
     "output_type": "execute_result"
    }
   ],
   "source": [
    "%%time\n",
    "rf_3.fit(train_x,train_y)"
   ]
  },
  {
   "cell_type": "code",
   "execution_count": 81,
   "metadata": {
    "scrolled": true
   },
   "outputs": [
    {
     "name": "stderr",
     "output_type": "stream",
     "text": [
      "[Parallel(n_jobs=8)]: Using backend ThreadingBackend with 8 concurrent workers.\n",
      "[Parallel(n_jobs=8)]: Done  34 tasks      | elapsed:    1.8s\n",
      "[Parallel(n_jobs=8)]: Done  50 out of  50 | elapsed:    2.3s finished\n",
      "[Parallel(n_jobs=8)]: Using backend ThreadingBackend with 8 concurrent workers.\n",
      "[Parallel(n_jobs=8)]: Done  34 tasks      | elapsed:    0.6s\n"
     ]
    },
    {
     "name": "stdout",
     "output_type": "stream",
     "text": [
      "Training error(RMSE) : 7221.679352083548\n",
      "Validation error(RMSE) : 18623.562662509732\n",
      "R2 score for training data : 0.9969109767143878\n",
      "R2 score for validation data : 0.979379205528575\n"
     ]
    },
    {
     "name": "stderr",
     "output_type": "stream",
     "text": [
      "[Parallel(n_jobs=8)]: Done  50 out of  50 | elapsed:    0.9s finished\n"
     ]
    }
   ],
   "source": [
    "train_prediction = rf_3.predict(train_x)\n",
    "val_prediction = rf_3.predict(val_x)\n",
    "print(\"Training error(RMSE) :\",mean_squared_error(train_y,train_prediction , squared=False))\n",
    "print(\"Validation error(RMSE) :\",mean_squared_error(val_y,val_prediction , squared=False))\n",
    "print(\"R2 score for training data :\",r2_score(train_y,train_prediction))\n",
    "print(\"R2 score for validation data :\",r2_score(val_y,val_prediction))"
   ]
  },
  {
   "cell_type": "code",
   "execution_count": 84,
   "metadata": {},
   "outputs": [],
   "source": [
    "rf_4 = RandomForestRegressor(n_estimators=50,max_depth=50,max_features=50,n_jobs=-1,verbose=1)"
   ]
  },
  {
   "cell_type": "code",
   "execution_count": 85,
   "metadata": {},
   "outputs": [
    {
     "name": "stderr",
     "output_type": "stream",
     "text": [
      "[Parallel(n_jobs=-1)]: Using backend ThreadingBackend with 8 concurrent workers.\n",
      "[Parallel(n_jobs=-1)]: Done  34 tasks      | elapsed:   31.0s\n"
     ]
    },
    {
     "name": "stdout",
     "output_type": "stream",
     "text": [
      "Wall time: 40.9 s\n"
     ]
    },
    {
     "name": "stderr",
     "output_type": "stream",
     "text": [
      "[Parallel(n_jobs=-1)]: Done  50 out of  50 | elapsed:   40.6s finished\n"
     ]
    },
    {
     "data": {
      "text/plain": [
       "RandomForestRegressor(max_depth=50, max_features=50, n_estimators=50, n_jobs=-1,\n",
       "                      verbose=1)"
      ]
     },
     "execution_count": 85,
     "metadata": {},
     "output_type": "execute_result"
    }
   ],
   "source": [
    "%%time\n",
    "rf_4.fit(train_x,train_y)"
   ]
  },
  {
   "cell_type": "code",
   "execution_count": 86,
   "metadata": {},
   "outputs": [
    {
     "name": "stderr",
     "output_type": "stream",
     "text": [
      "[Parallel(n_jobs=8)]: Using backend ThreadingBackend with 8 concurrent workers.\n",
      "[Parallel(n_jobs=8)]: Done  34 tasks      | elapsed:    1.8s\n",
      "[Parallel(n_jobs=8)]: Done  50 out of  50 | elapsed:    2.4s finished\n",
      "[Parallel(n_jobs=8)]: Using backend ThreadingBackend with 8 concurrent workers.\n",
      "[Parallel(n_jobs=8)]: Done  34 tasks      | elapsed:    0.7s\n"
     ]
    },
    {
     "name": "stdout",
     "output_type": "stream",
     "text": [
      "Training error(RMSE) : 7365.937704735185\n",
      "Validation error(RMSE) : 18822.098316508305\n",
      "R2 score for training data : 0.9967863330806335\n",
      "R2 score for validation data : 0.9789372079639939\n"
     ]
    },
    {
     "name": "stderr",
     "output_type": "stream",
     "text": [
      "[Parallel(n_jobs=8)]: Done  50 out of  50 | elapsed:    1.0s finished\n"
     ]
    }
   ],
   "source": [
    "train_prediction = rf_4.predict(train_x)\n",
    "val_prediction = rf_4.predict(val_x)\n",
    "print(\"Training error(RMSE) :\",mean_squared_error(train_y,train_prediction , squared=False))\n",
    "print(\"Validation error(RMSE) :\",mean_squared_error(val_y,val_prediction , squared=False))\n",
    "print(\"R2 score for training data :\",r2_score(train_y,train_prediction))\n",
    "print(\"R2 score for validation data :\",r2_score(val_y,val_prediction))"
   ]
  },
  {
   "cell_type": "markdown",
   "metadata": {},
   "source": [
    "#### Uncomment next block to make prediction on test data and generate csv"
   ]
  },
  {
   "cell_type": "code",
   "execution_count": 54,
   "metadata": {},
   "outputs": [],
   "source": [
    "#test_result = rf_1.predict(test_df)\n",
    "#save_to_csv(test_result,\"./mrt_rf_1_result.csv\")"
   ]
  },
  {
   "cell_type": "markdown",
   "metadata": {},
   "source": [
    "------------"
   ]
  },
  {
   "cell_type": "markdown",
   "metadata": {},
   "source": [
    "## XGBOOST"
   ]
  },
  {
   "cell_type": "code",
   "execution_count": 55,
   "metadata": {},
   "outputs": [],
   "source": [
    "xgb_model_2 = xgboost.XGBRegressor(colsample_bytree=0.4,\n",
    "                 gamma=0,                 \n",
    "                 learning_rate=0.07,\n",
    "                 max_depth=50,\n",
    "                 min_child_weight=1.5,\n",
    "                 n_estimators=100,                                                                    \n",
    "                 reg_alpha=0.75,\n",
    "                 reg_lambda=0.45,\n",
    "                 subsample=0.6,\n",
    "                 seed=42)"
   ]
  },
  {
   "cell_type": "code",
   "execution_count": 56,
   "metadata": {},
   "outputs": [
    {
     "name": "stdout",
     "output_type": "stream",
     "text": [
      "Wall time: 3min 29s\n"
     ]
    },
    {
     "data": {
      "text/plain": [
       "XGBRegressor(base_score=0.5, booster='gbtree', colsample_bylevel=1,\n",
       "             colsample_bynode=1, colsample_bytree=0.4, gamma=0, gpu_id=-1,\n",
       "             importance_type='gain', interaction_constraints='',\n",
       "             learning_rate=0.07, max_delta_step=0, max_depth=50,\n",
       "             min_child_weight=1.5, missing=nan, monotone_constraints='()',\n",
       "             n_estimators=100, n_jobs=8, num_parallel_tree=1, random_state=42,\n",
       "             reg_alpha=0.75, reg_lambda=0.45, scale_pos_weight=1, seed=42,\n",
       "             subsample=0.6, tree_method='exact', validate_parameters=1,\n",
       "             verbosity=None)"
      ]
     },
     "execution_count": 56,
     "metadata": {},
     "output_type": "execute_result"
    }
   ],
   "source": [
    "%%time\n",
    "xgb_model_2.fit(train_x,train_y)"
   ]
  },
  {
   "cell_type": "code",
   "execution_count": 57,
   "metadata": {},
   "outputs": [],
   "source": [
    "feature_importance_xgb = pd.DataFrame({'Variable':train_x.columns,'Importance':xgb_model_2.feature_importances_}).sort_values('Importance', ascending=False)"
   ]
  },
  {
   "cell_type": "code",
   "execution_count": 60,
   "metadata": {},
   "outputs": [
    {
     "data": {
      "text/html": [
       "<div>\n",
       "<style scoped>\n",
       "    .dataframe tbody tr th:only-of-type {\n",
       "        vertical-align: middle;\n",
       "    }\n",
       "\n",
       "    .dataframe tbody tr th {\n",
       "        vertical-align: top;\n",
       "    }\n",
       "\n",
       "    .dataframe thead th {\n",
       "        text-align: right;\n",
       "    }\n",
       "</style>\n",
       "<table border=\"1\" class=\"dataframe\">\n",
       "  <thead>\n",
       "    <tr style=\"text-align: right;\">\n",
       "      <th></th>\n",
       "      <th>Variable</th>\n",
       "      <th>Importance</th>\n",
       "    </tr>\n",
       "  </thead>\n",
       "  <tbody>\n",
       "    <tr>\n",
       "      <th>34</th>\n",
       "      <td>flat_type_3-room</td>\n",
       "      <td>0.199391</td>\n",
       "    </tr>\n",
       "    <tr>\n",
       "      <th>37</th>\n",
       "      <td>flat_type_executive</td>\n",
       "      <td>0.075236</td>\n",
       "    </tr>\n",
       "    <tr>\n",
       "      <th>32</th>\n",
       "      <td>flat_type_1-room</td>\n",
       "      <td>0.064755</td>\n",
       "    </tr>\n",
       "    <tr>\n",
       "      <th>57</th>\n",
       "      <td>flat_model_type s1</td>\n",
       "      <td>0.050195</td>\n",
       "    </tr>\n",
       "    <tr>\n",
       "      <th>246</th>\n",
       "      <td>region_central region</td>\n",
       "      <td>0.046939</td>\n",
       "    </tr>\n",
       "    <tr>\n",
       "      <th>33</th>\n",
       "      <td>flat_type_2-room</td>\n",
       "      <td>0.041689</td>\n",
       "    </tr>\n",
       "    <tr>\n",
       "      <th>45</th>\n",
       "      <td>flat_model_maisonette</td>\n",
       "      <td>0.037940</td>\n",
       "    </tr>\n",
       "    <tr>\n",
       "      <th>42</th>\n",
       "      <td>flat_model_dbss</td>\n",
       "      <td>0.037213</td>\n",
       "    </tr>\n",
       "    <tr>\n",
       "      <th>36</th>\n",
       "      <td>flat_type_5-room</td>\n",
       "      <td>0.035611</td>\n",
       "    </tr>\n",
       "    <tr>\n",
       "      <th>58</th>\n",
       "      <td>flat_model_type s2</td>\n",
       "      <td>0.029564</td>\n",
       "    </tr>\n",
       "    <tr>\n",
       "      <th>56</th>\n",
       "      <td>flat_model_terrace</td>\n",
       "      <td>0.028626</td>\n",
       "    </tr>\n",
       "    <tr>\n",
       "      <th>3</th>\n",
       "      <td>year</td>\n",
       "      <td>0.020374</td>\n",
       "    </tr>\n",
       "    <tr>\n",
       "      <th>35</th>\n",
       "      <td>flat_type_4-room</td>\n",
       "      <td>0.012621</td>\n",
       "    </tr>\n",
       "    <tr>\n",
       "      <th>41</th>\n",
       "      <td>flat_model_apartment</td>\n",
       "      <td>0.011794</td>\n",
       "    </tr>\n",
       "    <tr>\n",
       "      <th>142</th>\n",
       "      <td>subzone_margaret drive</td>\n",
       "      <td>0.011611</td>\n",
       "    </tr>\n",
       "    <tr>\n",
       "      <th>97</th>\n",
       "      <td>subzone_compassvale</td>\n",
       "      <td>0.010122</td>\n",
       "    </tr>\n",
       "    <tr>\n",
       "      <th>50</th>\n",
       "      <td>flat_model_new generation</td>\n",
       "      <td>0.010050</td>\n",
       "    </tr>\n",
       "    <tr>\n",
       "      <th>49</th>\n",
       "      <td>flat_model_multi generation</td>\n",
       "      <td>0.007784</td>\n",
       "    </tr>\n",
       "    <tr>\n",
       "      <th>87</th>\n",
       "      <td>subzone_chinatown</td>\n",
       "      <td>0.007711</td>\n",
       "    </tr>\n",
       "    <tr>\n",
       "      <th>187</th>\n",
       "      <td>subzone_tiong bahru station</td>\n",
       "      <td>0.006219</td>\n",
       "    </tr>\n",
       "  </tbody>\n",
       "</table>\n",
       "</div>"
      ],
      "text/plain": [
       "                        Variable  Importance\n",
       "34              flat_type_3-room    0.199391\n",
       "37           flat_type_executive    0.075236\n",
       "32              flat_type_1-room    0.064755\n",
       "57            flat_model_type s1    0.050195\n",
       "246        region_central region    0.046939\n",
       "33              flat_type_2-room    0.041689\n",
       "45         flat_model_maisonette    0.037940\n",
       "42               flat_model_dbss    0.037213\n",
       "36              flat_type_5-room    0.035611\n",
       "58            flat_model_type s2    0.029564\n",
       "56            flat_model_terrace    0.028626\n",
       "3                           year    0.020374\n",
       "35              flat_type_4-room    0.012621\n",
       "41          flat_model_apartment    0.011794\n",
       "142       subzone_margaret drive    0.011611\n",
       "97           subzone_compassvale    0.010122\n",
       "50     flat_model_new generation    0.010050\n",
       "49   flat_model_multi generation    0.007784\n",
       "87             subzone_chinatown    0.007711\n",
       "187  subzone_tiong bahru station    0.006219"
      ]
     },
     "execution_count": 60,
     "metadata": {},
     "output_type": "execute_result"
    }
   ],
   "source": [
    "feature_importance_xgb.head(20)"
   ]
  },
  {
   "cell_type": "code",
   "execution_count": 145,
   "metadata": {},
   "outputs": [
    {
     "name": "stdout",
     "output_type": "stream",
     "text": [
      "Training error(RMSE) : 11157.311\n",
      "Validation error(RMSE) : 20757.139\n",
      "R2 score for training data : 0.992626668510341\n",
      "R2 score for validation data : 0.9743837956877329\n"
     ]
    }
   ],
   "source": [
    "train_prediction = xgb_model_2.predict(train_x)\n",
    "val_prediction = xgb_model_2.predict(val_x)\n",
    "print(\"Training error(RMSE) :\",mean_squared_error(train_y,train_prediction , squared=False))\n",
    "print(\"Validation error(RMSE) :\",mean_squared_error(val_y,val_prediction , squared=False))\n",
    "print(\"R2 score for training data :\",r2_score(train_y,train_prediction))\n",
    "print(\"R2 score for validation data :\",r2_score(val_y,val_prediction))"
   ]
  },
  {
   "cell_type": "code",
   "execution_count": 146,
   "metadata": {},
   "outputs": [
    {
     "data": {
      "image/png": "[encoded data removed]",
      "text/plain": [
       "<Figure size 432x288 with 1 Axes>"
      ]
     },
     "metadata": {
      "needs_background": "light"
     },
     "output_type": "display_data"
    }
   ],
   "source": [
    "plt.scatter(train_y,train_prediction, color = 'green')\n",
    "plt.title('XGBOOST Regression')\n",
    "plt.xlabel('Resale price')\n",
    "plt.ylabel('Predicted resale price')\n",
    "plt.show()"
   ]
  },
  {
   "cell_type": "code",
   "execution_count": 147,
   "metadata": {},
   "outputs": [
    {
     "data": {
      "image/png": "[encoded data removed]",
      "text/plain": [
       "<Figure size 432x288 with 1 Axes>"
      ]
     },
     "metadata": {
      "needs_background": "light"
     },
     "output_type": "display_data"
    }
   ],
   "source": [
    "plt.scatter(val_y,val_prediction, color = 'red')\n",
    "plt.title('XGBOOST Regression')\n",
    "plt.xlabel('Resale price')\n",
    "plt.ylabel('Predicted resale price')\n",
    "plt.show()"
   ]
  },
  {
   "cell_type": "markdown",
   "metadata": {},
   "source": [
    "#### Uncomment next block to make prediction on test data and generate csv"
   ]
  },
  {
   "cell_type": "code",
   "execution_count": 81,
   "metadata": {},
   "outputs": [],
   "source": [
    "#test_result = xgb_model_2.predict(test_df)\n",
    "#save_to_csv(test_result,\"./mrt_xgb_model_2_result.csv\")"
   ]
  },
  {
   "cell_type": "markdown",
   "metadata": {},
   "source": [
    "------------------"
   ]
  },
  {
   "cell_type": "markdown",
   "metadata": {},
   "source": [
    "## LightGBM"
   ]
  },
  {
   "cell_type": "code",
   "execution_count": 40,
   "metadata": {},
   "outputs": [],
   "source": [
    "gbm_1 = lgb.LGBMRegressor()"
   ]
  },
  {
   "cell_type": "code",
   "execution_count": 41,
   "metadata": {},
   "outputs": [],
   "source": [
    "%%time\n",
    "gbm_1 = gbm_1.fit(train_x,train_y)"
   ]
  },
  {
   "cell_type": "code",
   "execution_count": 42,
   "metadata": {},
   "outputs": [
    {
     "name": "stdout",
     "output_type": "stream",
     "text": [
      "Training error(RMSE) : 23408.959654935097\n",
      "Validation error(RMSE) : 23700.370164649627\n",
      "R2 score for training data : 0.9675118201284585\n",
      "R2 score for validation data : 0.9666791512758744\n"
     ]
    }
   ],
   "source": [
    "train_prediction = gbm_1.predict(train_x)\n",
    "val_prediction = gbm_1.predict(val_x)\n",
    "print(\"Training error(RMSE) :\",mean_squared_error(train_y,train_prediction , squared=False))\n",
    "print(\"Validation error(RMSE) :\",mean_squared_error(val_y,val_prediction , squared=False))\n",
    "print(\"R2 score for training data :\",r2_score(train_y,train_prediction))\n",
    "print(\"R2 score for validation data :\",r2_score(val_y,val_prediction))"
   ]
  },
  {
   "cell_type": "code",
   "execution_count": 137,
   "metadata": {},
   "outputs": [],
   "source": [
    "gbm_2 = lgb.LGBMRegressor(num_leaves=31,\n",
    "                        learning_rate=0.1,\n",
    "                        max_depth=10000,n_estimators=10000)"
   ]
  },
  {
   "cell_type": "code",
   "execution_count": 138,
   "metadata": {},
   "outputs": [
    {
     "name": "stdout",
     "output_type": "stream",
     "text": [
      "Wall time: 35.7 s\n"
     ]
    }
   ],
   "source": [
    "%%time\n",
    "gbm_2 = gbm_2.fit(train_x,train_y)"
   ]
  },
  {
   "cell_type": "code",
   "execution_count": 139,
   "metadata": {},
   "outputs": [],
   "source": [
    "feature_importance_gbm_2 = pd.DataFrame({'Variable':train_x.columns,'Importance':xgb_model_2.feature_importances_}).sort_values('Importance', ascending=False)"
   ]
  },
  {
   "cell_type": "code",
   "execution_count": 140,
   "metadata": {},
   "outputs": [
    {
     "data": {
      "text/html": [
       "<div>\n",
       "<style scoped>\n",
       "    .dataframe tbody tr th:only-of-type {\n",
       "        vertical-align: middle;\n",
       "    }\n",
       "\n",
       "    .dataframe tbody tr th {\n",
       "        vertical-align: top;\n",
       "    }\n",
       "\n",
       "    .dataframe thead th {\n",
       "        text-align: right;\n",
       "    }\n",
       "</style>\n",
       "<table border=\"1\" class=\"dataframe\">\n",
       "  <thead>\n",
       "    <tr style=\"text-align: right;\">\n",
       "      <th></th>\n",
       "      <th>Variable</th>\n",
       "      <th>Importance</th>\n",
       "    </tr>\n",
       "  </thead>\n",
       "  <tbody>\n",
       "    <tr>\n",
       "      <th>34</th>\n",
       "      <td>flat_type_3-room</td>\n",
       "      <td>0.199391</td>\n",
       "    </tr>\n",
       "    <tr>\n",
       "      <th>37</th>\n",
       "      <td>flat_type_executive</td>\n",
       "      <td>0.075236</td>\n",
       "    </tr>\n",
       "    <tr>\n",
       "      <th>32</th>\n",
       "      <td>flat_type_1-room</td>\n",
       "      <td>0.064755</td>\n",
       "    </tr>\n",
       "    <tr>\n",
       "      <th>57</th>\n",
       "      <td>flat_model_type s1</td>\n",
       "      <td>0.050195</td>\n",
       "    </tr>\n",
       "    <tr>\n",
       "      <th>246</th>\n",
       "      <td>region_central region</td>\n",
       "      <td>0.046939</td>\n",
       "    </tr>\n",
       "    <tr>\n",
       "      <th>33</th>\n",
       "      <td>flat_type_2-room</td>\n",
       "      <td>0.041689</td>\n",
       "    </tr>\n",
       "    <tr>\n",
       "      <th>45</th>\n",
       "      <td>flat_model_maisonette</td>\n",
       "      <td>0.037940</td>\n",
       "    </tr>\n",
       "    <tr>\n",
       "      <th>42</th>\n",
       "      <td>flat_model_dbss</td>\n",
       "      <td>0.037213</td>\n",
       "    </tr>\n",
       "    <tr>\n",
       "      <th>36</th>\n",
       "      <td>flat_type_5-room</td>\n",
       "      <td>0.035611</td>\n",
       "    </tr>\n",
       "    <tr>\n",
       "      <th>58</th>\n",
       "      <td>flat_model_type s2</td>\n",
       "      <td>0.029564</td>\n",
       "    </tr>\n",
       "  </tbody>\n",
       "</table>\n",
       "</div>"
      ],
      "text/plain": [
       "                  Variable  Importance\n",
       "34        flat_type_3-room    0.199391\n",
       "37     flat_type_executive    0.075236\n",
       "32        flat_type_1-room    0.064755\n",
       "57      flat_model_type s1    0.050195\n",
       "246  region_central region    0.046939\n",
       "33        flat_type_2-room    0.041689\n",
       "45   flat_model_maisonette    0.037940\n",
       "42         flat_model_dbss    0.037213\n",
       "36        flat_type_5-room    0.035611\n",
       "58      flat_model_type s2    0.029564"
      ]
     },
     "execution_count": 140,
     "metadata": {},
     "output_type": "execute_result"
    }
   ],
   "source": [
    "feature_importance_gbm_2.head(10)"
   ]
  },
  {
   "cell_type": "code",
   "execution_count": 148,
   "metadata": {},
   "outputs": [
    {
     "name": "stdout",
     "output_type": "stream",
     "text": [
      "Training error(RMSE) : 11679.695285087018\n",
      "Validation error(RMSE) : 16358.019265220644\n",
      "R2 score for training data : 0.9919200661723395\n",
      "R2 score for validation data : 0.9840910581209725\n"
     ]
    }
   ],
   "source": [
    "train_prediction = gbm_2.predict(train_x)\n",
    "val_prediction = gbm_2.predict(val_x)\n",
    "print(\"Training error(RMSE) :\",mean_squared_error(train_y,train_prediction , squared=False))\n",
    "print(\"Validation error(RMSE) :\",mean_squared_error(val_y,val_prediction , squared=False))\n",
    "print(\"R2 score for training data :\",r2_score(train_y,train_prediction))\n",
    "print(\"R2 score for validation data :\",r2_score(val_y,val_prediction))"
   ]
  },
  {
   "cell_type": "code",
   "execution_count": 149,
   "metadata": {},
   "outputs": [
    {
     "data": {
      "image/png": "[encoded data removed]",
      "text/plain": [
       "<Figure size 432x288 with 1 Axes>"
      ]
     },
     "metadata": {
      "needs_background": "light"
     },
     "output_type": "display_data"
    }
   ],
   "source": [
    "plt.scatter(train_y,train_prediction, color = 'green')\n",
    "plt.title('LightGBM Regression')\n",
    "plt.xlabel('Resale price')\n",
    "plt.ylabel('Predicted resale price')\n",
    "plt.show()"
   ]
  },
  {
   "cell_type": "code",
   "execution_count": 150,
   "metadata": {},
   "outputs": [
    {
     "data": {
      "image/png": "[encoded data removed]",
      "text/plain": [
       "<Figure size 432x288 with 1 Axes>"
      ]
     },
     "metadata": {
      "needs_background": "light"
     },
     "output_type": "display_data"
    }
   ],
   "source": [
    "plt.scatter(val_y,val_prediction, color = 'red')\n",
    "plt.title('LightGBM Regression')\n",
    "plt.xlabel('Resale price')\n",
    "plt.ylabel('Predicted resale price')\n",
    "plt.show()"
   ]
  },
  {
   "cell_type": "code",
   "execution_count": 57,
   "metadata": {},
   "outputs": [],
   "source": [
    "%%time\n",
    "gbm_3 = lgb.LGBMRegressor(num_leaves=31,\n",
    "                        learning_rate=0.1,\n",
    "                        max_depth=10000,n_estimators=10000)"
   ]
  },
  {
   "cell_type": "code",
   "execution_count": 61,
   "metadata": {},
   "outputs": [
    {
     "name": "stdout",
     "output_type": "stream",
     "text": [
      "[1000]\ttraining's rmse: 16751.2\ttraining's l2: 2.80602e+08\tvalid_1's rmse: 17849.3\tvalid_1's l2: 3.18596e+08\n",
      "[2000]\ttraining's rmse: 15357.1\ttraining's l2: 2.3584e+08\tvalid_1's rmse: 17064.5\tvalid_1's l2: 2.91197e+08\n",
      "[3000]\ttraining's rmse: 14460.8\ttraining's l2: 2.09116e+08\tvalid_1's rmse: 16720.1\tvalid_1's l2: 2.79561e+08\n",
      "[4000]\ttraining's rmse: 13822.7\ttraining's l2: 1.91068e+08\tvalid_1's rmse: 16549.5\tvalid_1's l2: 2.73887e+08\n",
      "[5000]\ttraining's rmse: 13321.3\ttraining's l2: 1.77456e+08\tvalid_1's rmse: 16468.3\tvalid_1's l2: 2.71204e+08\n",
      "[6000]\ttraining's rmse: 12914\ttraining's l2: 1.66771e+08\tvalid_1's rmse: 16426.3\tvalid_1's l2: 2.69825e+08\n",
      "[7000]\ttraining's rmse: 12548.2\ttraining's l2: 1.57457e+08\tvalid_1's rmse: 16414.8\tvalid_1's l2: 2.69447e+08\n",
      "[8000]\ttraining's rmse: 12222.7\ttraining's l2: 1.49394e+08\tvalid_1's rmse: 16407.7\tvalid_1's l2: 2.69214e+08\n",
      "[9000]\ttraining's rmse: 11917.6\ttraining's l2: 1.42029e+08\tvalid_1's rmse: 16413.1\tvalid_1's l2: 2.69389e+08\n",
      "[10000]\ttraining's rmse: 11652\ttraining's l2: 1.35769e+08\tvalid_1's rmse: 16425.7\tvalid_1's l2: 2.69803e+08\n"
     ]
    },
    {
     "data": {
      "text/plain": [
       "LGBMRegressor(max_depth=10000, n_estimators=10000)"
      ]
     },
     "execution_count": 61,
     "metadata": {},
     "output_type": "execute_result"
    }
   ],
   "source": [
    "gbm_3.fit(\n",
    "    train_x, train_y, \n",
    "    eval_set= [(train_x, train_y), (val_x, val_y)], \n",
    "    eval_metric='rmse', verbose=1000)"
   ]
  },
  {
   "cell_type": "code",
   "execution_count": 62,
   "metadata": {},
   "outputs": [
    {
     "name": "stdout",
     "output_type": "stream",
     "text": [
      "Training error(RMSE) : 11652.014403456804\n",
      "Validation error(RMSE) : 16425.683981694234\n",
      "R2 score for training data : 0.991950606099322\n",
      "R2 score for validation data : 0.983995108924009\n"
     ]
    }
   ],
   "source": [
    "train_prediction = gbm_3.predict(train_x)\n",
    "val_prediction = gbm_3.predict(val_x)\n",
    "print(\"Training error(RMSE) :\",mean_squared_error(train_y,train_prediction , squared=False))\n",
    "print(\"Validation error(RMSE) :\",mean_squared_error(val_y,val_prediction , squared=False))\n",
    "print(\"R2 score for training data :\",r2_score(train_y,train_prediction))\n",
    "print(\"R2 score for validation data :\",r2_score(val_y,val_prediction))"
   ]
  },
  {
   "cell_type": "code",
   "execution_count": null,
   "metadata": {},
   "outputs": [],
   "source": []
  },
  {
   "cell_type": "markdown",
   "metadata": {},
   "source": [
    "#### Uncomment next block to make prediction on test data and generate csv"
   ]
  },
  {
   "cell_type": "code",
   "execution_count": 82,
   "metadata": {},
   "outputs": [],
   "source": [
    "#test_result = gbm_2.predict(test_df)\n",
    "#save_to_csv(test_result,\"./mrt_gbm_2_result.csv\")"
   ]
  },
  {
   "cell_type": "markdown",
   "metadata": {},
   "source": [
    "------------------------"
   ]
  },
  {
   "cell_type": "markdown",
   "metadata": {},
   "source": [
    "## Prediction using Random Forest, XGBOOST and LightGBM together"
   ]
  },
  {
   "cell_type": "code",
   "execution_count": 83,
   "metadata": {},
   "outputs": [
    {
     "name": "stdout",
     "output_type": "stream",
     "text": [
      "Training error(RMSE) : 9056.988110451164\n",
      "Validation error(RMSE) : 16619.474642466892\n",
      "R2 score for training data : 0.9951317738561891\n",
      "R2 score for validation data : 0.9836770621025143\n"
     ]
    }
   ],
   "source": [
    "train_prediction = 0.4*gbm_2.predict(train_x) + 0.4*rf_1.predict(train_x) +0.2*xgb_model_2.predict(train_x)\n",
    "val_prediction = 0.4*gbm_2.predict(val_x)+ 0.4*rf_1.predict(val_x) +0.2*xgb_model_2.predict(val_x)\n",
    "print(\"Training error(RMSE) :\",mean_squared_error(train_y,train_prediction , squared=False))\n",
    "print(\"Validation error(RMSE) :\",mean_squared_error(val_y,val_prediction , squared=False))\n",
    "print(\"R2 score for training data :\",r2_score(train_y,train_prediction))\n",
    "print(\"R2 score for validation data :\",r2_score(val_y,val_prediction))"
   ]
  },
  {
   "cell_type": "markdown",
   "metadata": {},
   "source": [
    "#### Uncomment next block to make prediction on test data and generate csv"
   ]
  },
  {
   "cell_type": "code",
   "execution_count": 84,
   "metadata": {},
   "outputs": [],
   "source": [
    "test_result = 0.4*gbm_2.predict(test_df) + 0.4*rf_1.predict(test_df) +0.2*xgb_model_2.predict(test_df)\n",
    "save_to_csv(test_result,\"./mrt_gbm_2_xgb_model_2_rf_1_result.csv\")"
   ]
  },
  {
   "cell_type": "code",
   "execution_count": null,
   "metadata": {},
   "outputs": [],
   "source": []
  }
 ],
 "metadata": {
  "colab": {
   "name": "mrt_analysis.ipynb",
   "provenance": [],
   "toc_visible": true
  },
  "kernelspec": {
   "display_name": "Python 3",
   "language": "python",
   "name": "python3"
  },
  "language_info": {
   "codemirror_mode": {
    "name": "ipython",
    "version": 3
   },
   "file_extension": ".py",
   "mimetype": "text/x-python",
   "name": "python",
   "nbconvert_exporter": "python",
   "pygments_lexer": "ipython3",
   "version": "3.8.5"
  }
 },
 "nbformat": 4,
 "nbformat_minor": 1
}
