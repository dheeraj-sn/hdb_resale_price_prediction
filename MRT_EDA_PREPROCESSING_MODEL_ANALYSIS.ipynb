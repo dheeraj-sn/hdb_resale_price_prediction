{
 "cells": [
  {
   "cell_type": "code",
   "execution_count": 263,
   "metadata": {},
   "outputs": [
    {
     "name": "stdout",
     "output_type": "stream",
     "text": [
      "The autoreload extension is already loaded. To reload it, use:\n",
      "  %reload_ext autoreload\n"
     ]
    }
   ],
   "source": [
    "%load_ext autoreload\n",
    "%autoreload 2"
   ]
  },
  {
   "cell_type": "code",
   "execution_count": 264,
   "metadata": {
    "id": "9in7ONlmxQD3"
   },
   "outputs": [],
   "source": [
    "import numpy as np\n",
    "import pandas as pd\n",
    "\n",
    "import csv as csv\n",
    "import sklearn\n",
    "import math\n",
    "import matplotlib.pyplot as plt\n",
    "from matplotlib import pyplot\n",
    "import geopy.distance\n",
    "import matplotlib.pyplot as plt\n",
    "import seaborn as sns\n",
    "\n",
    "from sklearn.metrics import mean_squared_error\n",
    "from sklearn.preprocessing import StandardScaler, LabelEncoder\n",
    "from sklearn.pipeline import make_pipeline\n",
    "from sklearn.metrics import r2_score\n",
    "from sklearn.model_selection import cross_val_score,KFold,train_test_split,GridSearchCV\n",
    "\n",
    "from sklearn.linear_model import LinearRegression\n",
    "from sklearn.linear_model import SGDRegressor\n",
    "from sklearn import tree\n",
    "from sklearn.ensemble import RandomForestRegressor\n",
    "import xgboost\n",
    "import lightgbm as lgb\n",
    "\n",
    "from utils import save_to_csv, reduce_memory_usage,custom_kfold_scorer "
   ]
  },
  {
   "cell_type": "code",
   "execution_count": 265,
   "metadata": {},
   "outputs": [],
   "source": [
    "train_df = pd.read_csv(\"./train_1.csv\")\n",
    "test_df = pd.read_csv(\"./test_1.csv\")\n",
    "mrt_df = pd.read_csv(\"./auxiliary-data/sg-train-stations.csv\")"
   ]
  },
  {
   "cell_type": "code",
   "execution_count": 266,
   "metadata": {},
   "outputs": [
    {
     "data": {
      "text/html": [
       "<div>\n",
       "<style scoped>\n",
       "    .dataframe tbody tr th:only-of-type {\n",
       "        vertical-align: middle;\n",
       "    }\n",
       "\n",
       "    .dataframe tbody tr th {\n",
       "        vertical-align: top;\n",
       "    }\n",
       "\n",
       "    .dataframe thead th {\n",
       "        text-align: right;\n",
       "    }\n",
       "</style>\n",
       "<table border=\"1\" class=\"dataframe\">\n",
       "  <thead>\n",
       "    <tr style=\"text-align: right;\">\n",
       "      <th></th>\n",
       "      <th>name</th>\n",
       "      <th>codes</th>\n",
       "      <th>lat</th>\n",
       "      <th>lng</th>\n",
       "      <th>opening_year</th>\n",
       "      <th>type</th>\n",
       "    </tr>\n",
       "  </thead>\n",
       "  <tbody>\n",
       "    <tr>\n",
       "      <th>0</th>\n",
       "      <td>Eunos</td>\n",
       "      <td>EW7</td>\n",
       "      <td>1.319778</td>\n",
       "      <td>103.903252</td>\n",
       "      <td>1989.0</td>\n",
       "      <td>mrt</td>\n",
       "    </tr>\n",
       "    <tr>\n",
       "      <th>1</th>\n",
       "      <td>Chinese Garden</td>\n",
       "      <td>EW25</td>\n",
       "      <td>1.342352</td>\n",
       "      <td>103.732596</td>\n",
       "      <td>1988.0</td>\n",
       "      <td>mrt</td>\n",
       "    </tr>\n",
       "    <tr>\n",
       "      <th>2</th>\n",
       "      <td>Khatib</td>\n",
       "      <td>NS14</td>\n",
       "      <td>1.417383</td>\n",
       "      <td>103.832980</td>\n",
       "      <td>1988.0</td>\n",
       "      <td>mrt</td>\n",
       "    </tr>\n",
       "    <tr>\n",
       "      <th>3</th>\n",
       "      <td>Kranji</td>\n",
       "      <td>NS7</td>\n",
       "      <td>1.425177</td>\n",
       "      <td>103.762165</td>\n",
       "      <td>1996.0</td>\n",
       "      <td>mrt</td>\n",
       "    </tr>\n",
       "    <tr>\n",
       "      <th>4</th>\n",
       "      <td>Redhill</td>\n",
       "      <td>EW18</td>\n",
       "      <td>1.289562</td>\n",
       "      <td>103.816816</td>\n",
       "      <td>1988.0</td>\n",
       "      <td>mrt</td>\n",
       "    </tr>\n",
       "  </tbody>\n",
       "</table>\n",
       "</div>"
      ],
      "text/plain": [
       "             name codes       lat         lng  opening_year type\n",
       "0           Eunos   EW7  1.319778  103.903252        1989.0  mrt\n",
       "1  Chinese Garden  EW25  1.342352  103.732596        1988.0  mrt\n",
       "2          Khatib  NS14  1.417383  103.832980        1988.0  mrt\n",
       "3          Kranji   NS7  1.425177  103.762165        1996.0  mrt\n",
       "4         Redhill  EW18  1.289562  103.816816        1988.0  mrt"
      ]
     },
     "execution_count": 266,
     "metadata": {},
     "output_type": "execute_result"
    }
   ],
   "source": [
    "mrt_df.head()"
   ]
  },
  {
   "cell_type": "code",
   "execution_count": 267,
   "metadata": {},
   "outputs": [
    {
     "data": {
      "text/plain": [
       "array(['mrt', 'other'], dtype=object)"
      ]
     },
     "execution_count": 267,
     "metadata": {},
     "output_type": "execute_result"
    }
   ],
   "source": [
    "mrt_df.isnull().any()\n",
    "mrt_df['type'].unique()"
   ]
  },
  {
   "cell_type": "markdown",
   "metadata": {
    "id": "CGeeWTetxQED"
   },
   "source": [
    "There are some null values. We will drop all the datapoints with null values. LRT station with type=\"other\" have null values in opening year. So in essence we are dropping all LRT stations from analysis."
   ]
  },
  {
   "cell_type": "code",
   "execution_count": 268,
   "metadata": {
    "id": "EWrRy8bQxQED"
   },
   "outputs": [
    {
     "data": {
      "text/plain": [
       "array(['mrt'], dtype=object)"
      ]
     },
     "execution_count": 268,
     "metadata": {},
     "output_type": "execute_result"
    }
   ],
   "source": [
    "mrt_df = mrt_df.dropna()\n",
    "mrt_df['type'].unique()"
   ]
  },
  {
   "cell_type": "code",
   "execution_count": 269,
   "metadata": {},
   "outputs": [
    {
     "data": {
      "text/plain": [
       "name            False\n",
       "codes           False\n",
       "lat             False\n",
       "lng             False\n",
       "opening_year    False\n",
       "type            False\n",
       "dtype: bool"
      ]
     },
     "execution_count": 269,
     "metadata": {},
     "output_type": "execute_result"
    }
   ],
   "source": [
    "mrt_df.isnull().any()"
   ]
  },
  {
   "cell_type": "code",
   "execution_count": 270,
   "metadata": {},
   "outputs": [
    {
     "name": "stdout",
     "output_type": "stream",
     "text": [
      "Min opening year of mrt station :  1987.0\n",
      "Max opening year of mrt station :  2031.0\n"
     ]
    }
   ],
   "source": [
    "print(\"Min opening year of mrt station : \",mrt_df['opening_year'].min())\n",
    "print(\"Max opening year of mrt station : \",mrt_df['opening_year'].max())"
   ]
  },
  {
   "cell_type": "code",
   "execution_count": 271,
   "metadata": {},
   "outputs": [
    {
     "name": "stdout",
     "output_type": "stream",
     "text": [
      "Min resale year of hdb :  2000\n",
      "Max resale year of hdb :  2020\n"
     ]
    }
   ],
   "source": [
    "print(\"Min resale year of hdb : \",train_df['year'].min())\n",
    "print(\"Max resale year of hdb : \",train_df['year'].max())"
   ]
  },
  {
   "cell_type": "markdown",
   "metadata": {},
   "source": [
    "### Checking for duplicate values"
   ]
  },
  {
   "cell_type": "code",
   "execution_count": 272,
   "metadata": {},
   "outputs": [
    {
     "data": {
      "text/plain": [
       "False"
      ]
     },
     "execution_count": 272,
     "metadata": {},
     "output_type": "execute_result"
    }
   ],
   "source": [
    "mrt_df.duplicated().any()"
   ]
  },
  {
   "cell_type": "markdown",
   "metadata": {},
   "source": [
    "### Dropping columns which are not required"
   ]
  },
  {
   "cell_type": "code",
   "execution_count": 273,
   "metadata": {
    "id": "6W2sxf1YxQED"
   },
   "outputs": [],
   "source": [
    "mrt_df = mrt_df.drop(columns=['codes','type'])"
   ]
  },
  {
   "cell_type": "code",
   "execution_count": 274,
   "metadata": {
    "colab": {
     "base_uri": "https://localhost:8080/",
     "height": 204
    },
    "id": "UWMNzXzExQEE",
    "outputId": "c63954bf-ee5d-4188-84aa-3ffea78169a8",
    "scrolled": true
   },
   "outputs": [
    {
     "data": {
      "text/html": [
       "<div>\n",
       "<style scoped>\n",
       "    .dataframe tbody tr th:only-of-type {\n",
       "        vertical-align: middle;\n",
       "    }\n",
       "\n",
       "    .dataframe tbody tr th {\n",
       "        vertical-align: top;\n",
       "    }\n",
       "\n",
       "    .dataframe thead th {\n",
       "        text-align: right;\n",
       "    }\n",
       "</style>\n",
       "<table border=\"1\" class=\"dataframe\">\n",
       "  <thead>\n",
       "    <tr style=\"text-align: right;\">\n",
       "      <th></th>\n",
       "      <th>name</th>\n",
       "      <th>lat</th>\n",
       "      <th>lng</th>\n",
       "      <th>opening_year</th>\n",
       "    </tr>\n",
       "  </thead>\n",
       "  <tbody>\n",
       "    <tr>\n",
       "      <th>0</th>\n",
       "      <td>Eunos</td>\n",
       "      <td>1.319778</td>\n",
       "      <td>103.903252</td>\n",
       "      <td>1989.0</td>\n",
       "    </tr>\n",
       "    <tr>\n",
       "      <th>1</th>\n",
       "      <td>Chinese Garden</td>\n",
       "      <td>1.342352</td>\n",
       "      <td>103.732596</td>\n",
       "      <td>1988.0</td>\n",
       "    </tr>\n",
       "    <tr>\n",
       "      <th>2</th>\n",
       "      <td>Khatib</td>\n",
       "      <td>1.417383</td>\n",
       "      <td>103.832980</td>\n",
       "      <td>1988.0</td>\n",
       "    </tr>\n",
       "    <tr>\n",
       "      <th>3</th>\n",
       "      <td>Kranji</td>\n",
       "      <td>1.425177</td>\n",
       "      <td>103.762165</td>\n",
       "      <td>1996.0</td>\n",
       "    </tr>\n",
       "    <tr>\n",
       "      <th>4</th>\n",
       "      <td>Redhill</td>\n",
       "      <td>1.289562</td>\n",
       "      <td>103.816816</td>\n",
       "      <td>1988.0</td>\n",
       "    </tr>\n",
       "  </tbody>\n",
       "</table>\n",
       "</div>"
      ],
      "text/plain": [
       "             name       lat         lng  opening_year\n",
       "0           Eunos  1.319778  103.903252        1989.0\n",
       "1  Chinese Garden  1.342352  103.732596        1988.0\n",
       "2          Khatib  1.417383  103.832980        1988.0\n",
       "3          Kranji  1.425177  103.762165        1996.0\n",
       "4         Redhill  1.289562  103.816816        1988.0"
      ]
     },
     "execution_count": 274,
     "metadata": {},
     "output_type": "execute_result"
    }
   ],
   "source": [
    "mrt_df.head()"
   ]
  },
  {
   "cell_type": "markdown",
   "metadata": {},
   "source": [
    "### Club latitude and longitude together and drop 'lat' and 'lng' columns"
   ]
  },
  {
   "cell_type": "code",
   "execution_count": 275,
   "metadata": {
    "id": "YLBY9IMRxQEE"
   },
   "outputs": [],
   "source": [
    "mrt_df['lat_long'] = list(zip(mrt_df.lat, mrt_df.lng))"
   ]
  },
  {
   "cell_type": "code",
   "execution_count": 276,
   "metadata": {},
   "outputs": [],
   "source": [
    "mrt_df = mrt_df.drop(columns=['lat','lng'])"
   ]
  },
  {
   "cell_type": "code",
   "execution_count": 277,
   "metadata": {
    "scrolled": false
   },
   "outputs": [
    {
     "data": {
      "text/html": [
       "<div>\n",
       "<style scoped>\n",
       "    .dataframe tbody tr th:only-of-type {\n",
       "        vertical-align: middle;\n",
       "    }\n",
       "\n",
       "    .dataframe tbody tr th {\n",
       "        vertical-align: top;\n",
       "    }\n",
       "\n",
       "    .dataframe thead th {\n",
       "        text-align: right;\n",
       "    }\n",
       "</style>\n",
       "<table border=\"1\" class=\"dataframe\">\n",
       "  <thead>\n",
       "    <tr style=\"text-align: right;\">\n",
       "      <th></th>\n",
       "      <th>name</th>\n",
       "      <th>opening_year</th>\n",
       "      <th>lat_long</th>\n",
       "    </tr>\n",
       "  </thead>\n",
       "  <tbody>\n",
       "    <tr>\n",
       "      <th>0</th>\n",
       "      <td>Eunos</td>\n",
       "      <td>1989.0</td>\n",
       "      <td>(1.3197782848869883, 103.90325213335886)</td>\n",
       "    </tr>\n",
       "    <tr>\n",
       "      <th>1</th>\n",
       "      <td>Chinese Garden</td>\n",
       "      <td>1988.0</td>\n",
       "      <td>(1.3423521542087522, 103.73259640485368)</td>\n",
       "    </tr>\n",
       "    <tr>\n",
       "      <th>2</th>\n",
       "      <td>Khatib</td>\n",
       "      <td>1988.0</td>\n",
       "      <td>(1.4173827034869275, 103.8329795744054)</td>\n",
       "    </tr>\n",
       "    <tr>\n",
       "      <th>3</th>\n",
       "      <td>Kranji</td>\n",
       "      <td>1996.0</td>\n",
       "      <td>(1.4251770321043908, 103.76216507762184)</td>\n",
       "    </tr>\n",
       "    <tr>\n",
       "      <th>4</th>\n",
       "      <td>Redhill</td>\n",
       "      <td>1988.0</td>\n",
       "      <td>(1.2895620597351771, 103.81681633682066)</td>\n",
       "    </tr>\n",
       "  </tbody>\n",
       "</table>\n",
       "</div>"
      ],
      "text/plain": [
       "             name  opening_year                                  lat_long\n",
       "0           Eunos        1989.0  (1.3197782848869883, 103.90325213335886)\n",
       "1  Chinese Garden        1988.0  (1.3423521542087522, 103.73259640485368)\n",
       "2          Khatib        1988.0   (1.4173827034869275, 103.8329795744054)\n",
       "3          Kranji        1996.0  (1.4251770321043908, 103.76216507762184)\n",
       "4         Redhill        1988.0  (1.2895620597351771, 103.81681633682066)"
      ]
     },
     "execution_count": 277,
     "metadata": {},
     "output_type": "execute_result"
    }
   ],
   "source": [
    "mrt_df.head()"
   ]
  },
  {
   "cell_type": "markdown",
   "metadata": {},
   "source": [
    "# ADD SOME PLOTS HERE"
   ]
  },
  {
   "cell_type": "code",
   "execution_count": null,
   "metadata": {},
   "outputs": [],
   "source": []
  },
  {
   "cell_type": "code",
   "execution_count": null,
   "metadata": {},
   "outputs": [],
   "source": []
  },
  {
   "cell_type": "code",
   "execution_count": null,
   "metadata": {},
   "outputs": [],
   "source": []
  },
  {
   "cell_type": "markdown",
   "metadata": {},
   "source": [
    "### Extract lat_long and year columns from train and test data sets"
   ]
  },
  {
   "cell_type": "code",
   "execution_count": 278,
   "metadata": {},
   "outputs": [],
   "source": [
    "train_df_temp = train_df[[\"lat_long\", \"year\"]]\n",
    "test_df_temp = test_df[[\"lat_long\", \"year\"]]"
   ]
  },
  {
   "cell_type": "markdown",
   "metadata": {},
   "source": [
    "### Drop duplicate locations"
   ]
  },
  {
   "cell_type": "code",
   "execution_count": 279,
   "metadata": {},
   "outputs": [],
   "source": [
    "train_df_temp = train_df_temp.drop_duplicates(subset=['lat_long'])\n",
    "test_df_temp = test_df_temp.drop_duplicates(subset=['lat_long'])"
   ]
  },
  {
   "cell_type": "markdown",
   "metadata": {},
   "source": [
    "### Add columns to store the nearest mrt and its distance"
   ]
  },
  {
   "cell_type": "code",
   "execution_count": 280,
   "metadata": {},
   "outputs": [],
   "source": [
    "train_df_temp[\"nearest_mrt\"] = str(\"--\")\n",
    "train_df_temp[\"nearest_mrt_distance\"] = math.inf\n",
    "test_df_temp[\"nearest_mrt\"] = str(\"--\")\n",
    "test_df_temp[\"nearest_mrt_distance\"] = math.inf\n",
    "train_df_temp = train_df_temp.reset_index()\n",
    "test_df_temp = test_df_temp.reset_index()"
   ]
  },
  {
   "cell_type": "code",
   "execution_count": 281,
   "metadata": {},
   "outputs": [],
   "source": [
    "mrt_df = mrt_df.reset_index()"
   ]
  },
  {
   "cell_type": "code",
   "execution_count": 282,
   "metadata": {},
   "outputs": [
    {
     "data": {
      "text/html": [
       "<div>\n",
       "<style scoped>\n",
       "    .dataframe tbody tr th:only-of-type {\n",
       "        vertical-align: middle;\n",
       "    }\n",
       "\n",
       "    .dataframe tbody tr th {\n",
       "        vertical-align: top;\n",
       "    }\n",
       "\n",
       "    .dataframe thead th {\n",
       "        text-align: right;\n",
       "    }\n",
       "</style>\n",
       "<table border=\"1\" class=\"dataframe\">\n",
       "  <thead>\n",
       "    <tr style=\"text-align: right;\">\n",
       "      <th></th>\n",
       "      <th>index</th>\n",
       "      <th>name</th>\n",
       "      <th>opening_year</th>\n",
       "      <th>lat_long</th>\n",
       "    </tr>\n",
       "  </thead>\n",
       "  <tbody>\n",
       "    <tr>\n",
       "      <th>0</th>\n",
       "      <td>0</td>\n",
       "      <td>Eunos</td>\n",
       "      <td>1989.0</td>\n",
       "      <td>(1.3197782848869883, 103.90325213335886)</td>\n",
       "    </tr>\n",
       "    <tr>\n",
       "      <th>1</th>\n",
       "      <td>1</td>\n",
       "      <td>Chinese Garden</td>\n",
       "      <td>1988.0</td>\n",
       "      <td>(1.3423521542087522, 103.73259640485368)</td>\n",
       "    </tr>\n",
       "    <tr>\n",
       "      <th>2</th>\n",
       "      <td>2</td>\n",
       "      <td>Khatib</td>\n",
       "      <td>1988.0</td>\n",
       "      <td>(1.4173827034869275, 103.8329795744054)</td>\n",
       "    </tr>\n",
       "    <tr>\n",
       "      <th>3</th>\n",
       "      <td>3</td>\n",
       "      <td>Kranji</td>\n",
       "      <td>1996.0</td>\n",
       "      <td>(1.4251770321043908, 103.76216507762184)</td>\n",
       "    </tr>\n",
       "    <tr>\n",
       "      <th>4</th>\n",
       "      <td>4</td>\n",
       "      <td>Redhill</td>\n",
       "      <td>1988.0</td>\n",
       "      <td>(1.2895620597351771, 103.81681633682066)</td>\n",
       "    </tr>\n",
       "  </tbody>\n",
       "</table>\n",
       "</div>"
      ],
      "text/plain": [
       "   index            name  opening_year  \\\n",
       "0      0           Eunos        1989.0   \n",
       "1      1  Chinese Garden        1988.0   \n",
       "2      2          Khatib        1988.0   \n",
       "3      3          Kranji        1996.0   \n",
       "4      4         Redhill        1988.0   \n",
       "\n",
       "                                   lat_long  \n",
       "0  (1.3197782848869883, 103.90325213335886)  \n",
       "1  (1.3423521542087522, 103.73259640485368)  \n",
       "2   (1.4173827034869275, 103.8329795744054)  \n",
       "3  (1.4251770321043908, 103.76216507762184)  \n",
       "4  (1.2895620597351771, 103.81681633682066)  "
      ]
     },
     "execution_count": 282,
     "metadata": {},
     "output_type": "execute_result"
    }
   ],
   "source": [
    "mrt_df.head()"
   ]
  },
  {
   "cell_type": "code",
   "execution_count": 283,
   "metadata": {
    "scrolled": true
   },
   "outputs": [
    {
     "data": {
      "text/html": [
       "<div>\n",
       "<style scoped>\n",
       "    .dataframe tbody tr th:only-of-type {\n",
       "        vertical-align: middle;\n",
       "    }\n",
       "\n",
       "    .dataframe tbody tr th {\n",
       "        vertical-align: top;\n",
       "    }\n",
       "\n",
       "    .dataframe thead th {\n",
       "        text-align: right;\n",
       "    }\n",
       "</style>\n",
       "<table border=\"1\" class=\"dataframe\">\n",
       "  <thead>\n",
       "    <tr style=\"text-align: right;\">\n",
       "      <th></th>\n",
       "      <th>index</th>\n",
       "      <th>lat_long</th>\n",
       "      <th>year</th>\n",
       "      <th>nearest_mrt</th>\n",
       "      <th>nearest_mrt_distance</th>\n",
       "    </tr>\n",
       "  </thead>\n",
       "  <tbody>\n",
       "    <tr>\n",
       "      <th>0</th>\n",
       "      <td>0</td>\n",
       "      <td>(1.3690080642700195, 103.95869445800781)</td>\n",
       "      <td>2001</td>\n",
       "      <td>--</td>\n",
       "      <td>inf</td>\n",
       "    </tr>\n",
       "    <tr>\n",
       "      <th>1</th>\n",
       "      <td>1</td>\n",
       "      <td>(1.3990070819854736, 103.90699005126953)</td>\n",
       "      <td>2014</td>\n",
       "      <td>--</td>\n",
       "      <td>inf</td>\n",
       "    </tr>\n",
       "    <tr>\n",
       "      <th>2</th>\n",
       "      <td>2</td>\n",
       "      <td>(1.3883482217788696, 103.87381744384766)</td>\n",
       "      <td>2020</td>\n",
       "      <td>--</td>\n",
       "      <td>inf</td>\n",
       "    </tr>\n",
       "    <tr>\n",
       "      <th>3</th>\n",
       "      <td>3</td>\n",
       "      <td>(1.3184930086135864, 103.7667007446289)</td>\n",
       "      <td>2000</td>\n",
       "      <td>--</td>\n",
       "      <td>inf</td>\n",
       "    </tr>\n",
       "    <tr>\n",
       "      <th>4</th>\n",
       "      <td>4</td>\n",
       "      <td>(1.3481495380401611, 103.74266052246094)</td>\n",
       "      <td>2013</td>\n",
       "      <td>--</td>\n",
       "      <td>inf</td>\n",
       "    </tr>\n",
       "  </tbody>\n",
       "</table>\n",
       "</div>"
      ],
      "text/plain": [
       "   index                                  lat_long  year nearest_mrt  \\\n",
       "0      0  (1.3690080642700195, 103.95869445800781)  2001          --   \n",
       "1      1  (1.3990070819854736, 103.90699005126953)  2014          --   \n",
       "2      2  (1.3883482217788696, 103.87381744384766)  2020          --   \n",
       "3      3   (1.3184930086135864, 103.7667007446289)  2000          --   \n",
       "4      4  (1.3481495380401611, 103.74266052246094)  2013          --   \n",
       "\n",
       "   nearest_mrt_distance  \n",
       "0                   inf  \n",
       "1                   inf  \n",
       "2                   inf  \n",
       "3                   inf  \n",
       "4                   inf  "
      ]
     },
     "execution_count": 283,
     "metadata": {},
     "output_type": "execute_result"
    }
   ],
   "source": [
    "train_df_temp.head()"
   ]
  },
  {
   "cell_type": "code",
   "execution_count": 284,
   "metadata": {},
   "outputs": [
    {
     "data": {
      "text/html": [
       "<div>\n",
       "<style scoped>\n",
       "    .dataframe tbody tr th:only-of-type {\n",
       "        vertical-align: middle;\n",
       "    }\n",
       "\n",
       "    .dataframe tbody tr th {\n",
       "        vertical-align: top;\n",
       "    }\n",
       "\n",
       "    .dataframe thead th {\n",
       "        text-align: right;\n",
       "    }\n",
       "</style>\n",
       "<table border=\"1\" class=\"dataframe\">\n",
       "  <thead>\n",
       "    <tr style=\"text-align: right;\">\n",
       "      <th></th>\n",
       "      <th>index</th>\n",
       "      <th>lat_long</th>\n",
       "      <th>year</th>\n",
       "      <th>nearest_mrt</th>\n",
       "      <th>nearest_mrt_distance</th>\n",
       "    </tr>\n",
       "  </thead>\n",
       "  <tbody>\n",
       "    <tr>\n",
       "      <th>0</th>\n",
       "      <td>0</td>\n",
       "      <td>(1.3465807437896729, 103.74408721923828)</td>\n",
       "      <td>2004</td>\n",
       "      <td>--</td>\n",
       "      <td>inf</td>\n",
       "    </tr>\n",
       "    <tr>\n",
       "      <th>1</th>\n",
       "      <td>1</td>\n",
       "      <td>(1.3576176166534424, 103.96138000488281)</td>\n",
       "      <td>2001</td>\n",
       "      <td>--</td>\n",
       "      <td>inf</td>\n",
       "    </tr>\n",
       "    <tr>\n",
       "      <th>2</th>\n",
       "      <td>2</td>\n",
       "      <td>(1.337803840637207, 103.74199676513672)</td>\n",
       "      <td>2002</td>\n",
       "      <td>--</td>\n",
       "      <td>inf</td>\n",
       "    </tr>\n",
       "    <tr>\n",
       "      <th>3</th>\n",
       "      <td>3</td>\n",
       "      <td>(1.380083680152893, 103.84957122802734)</td>\n",
       "      <td>2015</td>\n",
       "      <td>--</td>\n",
       "      <td>inf</td>\n",
       "    </tr>\n",
       "    <tr>\n",
       "      <th>4</th>\n",
       "      <td>4</td>\n",
       "      <td>(1.3139597177505493, 103.76982879638672)</td>\n",
       "      <td>2004</td>\n",
       "      <td>--</td>\n",
       "      <td>inf</td>\n",
       "    </tr>\n",
       "  </tbody>\n",
       "</table>\n",
       "</div>"
      ],
      "text/plain": [
       "   index                                  lat_long  year nearest_mrt  \\\n",
       "0      0  (1.3465807437896729, 103.74408721923828)  2004          --   \n",
       "1      1  (1.3576176166534424, 103.96138000488281)  2001          --   \n",
       "2      2   (1.337803840637207, 103.74199676513672)  2002          --   \n",
       "3      3   (1.380083680152893, 103.84957122802734)  2015          --   \n",
       "4      4  (1.3139597177505493, 103.76982879638672)  2004          --   \n",
       "\n",
       "   nearest_mrt_distance  \n",
       "0                   inf  \n",
       "1                   inf  \n",
       "2                   inf  \n",
       "3                   inf  \n",
       "4                   inf  "
      ]
     },
     "execution_count": 284,
     "metadata": {},
     "output_type": "execute_result"
    }
   ],
   "source": [
    "test_df_temp.head()"
   ]
  },
  {
   "cell_type": "markdown",
   "metadata": {},
   "source": [
    "Converting our dataframe to numpy arrays for faster computation"
   ]
  },
  {
   "cell_type": "code",
   "execution_count": 285,
   "metadata": {
    "id": "lEF9hWIoxQEG"
   },
   "outputs": [],
   "source": [
    "train_df_temp_numpy = train_df_temp.to_numpy()\n",
    "test_df_temp_numpy = test_df_temp.to_numpy()\n",
    "mrt_df_numpy = mrt_df.to_numpy()"
   ]
  },
  {
   "cell_type": "code",
   "execution_count": 286,
   "metadata": {},
   "outputs": [
    {
     "name": "stdout",
     "output_type": "stream",
     "text": [
      "Shape of train_df_temp_numpy : (9138, 5)\n",
      "Shape of test_df_temp_numpy : (8990, 5)\n",
      "Shape of mrt_df_numpy : (126, 4)\n"
     ]
    }
   ],
   "source": [
    "print(\"Shape of train_df_temp_numpy :\",np.shape(train_df_temp_numpy))\n",
    "print(\"Shape of test_df_temp_numpy :\",np.shape(test_df_temp_numpy))\n",
    "print(\"Shape of mrt_df_numpy :\",np.shape(mrt_df_numpy))"
   ]
  },
  {
   "cell_type": "code",
   "execution_count": 287,
   "metadata": {},
   "outputs": [
    {
     "name": "stdout",
     "output_type": "stream",
     "text": [
      "Get distance for each location and update nearest mrt and its distance\n",
      "Add nearest_mrt and nearest_mrt_distance to dataframe\n"
     ]
    }
   ],
   "source": [
    "print(\"Get distance for each location and update nearest mrt and its distance\")\n",
    "for i in range(len(train_df_temp_numpy)):\n",
    "    min_dist = math.inf\n",
    "    min_dist_mrt = \"\"\n",
    "    hdb_location = train_df_temp_numpy[i][1]\n",
    "    hdb_location = eval(hdb_location)\n",
    "    resale_year = train_df_temp_numpy[i][2]\n",
    "    for j in range(len(mrt_df_numpy)):\n",
    "        opening_year = mrt_df_numpy[j][2]\n",
    "        if opening_year <= resale_year:\n",
    "            mrt_location = mrt_df_numpy[j][3]\n",
    "            distance = geopy.distance.great_circle(hdb_location, mrt_location).km\n",
    "            if distance < min_dist:\n",
    "                min_dist = distance\n",
    "                min_dist_mrt = mrt_df_numpy[j][1]\n",
    "    train_df_temp_numpy[i][3] = min_dist_mrt\n",
    "    train_df_temp_numpy[i][4] = min_dist\n",
    "\n",
    "print(\"Add nearest_mrt and nearest_mrt_distance to dataframe\")\n",
    "for i in range(len(train_df_temp_numpy)):\n",
    "    dataframe_index = train_df_temp_numpy[i][0]\n",
    "    train_df_temp.loc[i, \"nearest_mrt\"] = train_df_temp_numpy[i][3]\n",
    "    train_df_temp.loc[i, \"nearest_mrt_distance\"] = train_df_temp_numpy[i][4]"
   ]
  },
  {
   "cell_type": "code",
   "execution_count": 288,
   "metadata": {},
   "outputs": [
    {
     "name": "stdout",
     "output_type": "stream",
     "text": [
      "Get distance for each location and update nearest mrt and its distance\n",
      "Add nearest_mrt and nearest_mrt_distance to dataframe\n"
     ]
    }
   ],
   "source": [
    "print(\"Get distance for each location and update nearest mrt and its distance\")\n",
    "for i in range(len(test_df_temp_numpy)):\n",
    "    min_dist = math.inf\n",
    "    min_dist_mrt = \"\"\n",
    "    hdb_location = test_df_temp_numpy[i][1]\n",
    "    hdb_location = eval(hdb_location)\n",
    "    resale_year = train_df_temp_numpy[i][2]\n",
    "    for j in range(len(mrt_df_numpy)):\n",
    "        opening_year = mrt_df_numpy[j][2]\n",
    "        if opening_year <= resale_year:\n",
    "            mrt_location = mrt_df_numpy[j][3]\n",
    "            distance = geopy.distance.great_circle(hdb_location, mrt_location).km\n",
    "            if distance < min_dist:\n",
    "                min_dist = distance\n",
    "                min_dist_mrt = mrt_df_numpy[j][1]\n",
    "    test_df_temp_numpy[i][3] = min_dist_mrt\n",
    "    test_df_temp_numpy[i][4] = min_dist\n",
    "\n",
    "print(\"Add nearest_mrt and nearest_mrt_distance to dataframe\")\n",
    "for i in range(len(test_df_temp_numpy)):\n",
    "    dataframe_index = test_df_temp_numpy[i][0]\n",
    "    test_df_temp.loc[i, \"nearest_mrt\"] = test_df_temp_numpy[i][3]\n",
    "    test_df_temp.loc[i, \"nearest_mrt_distance\"] = test_df_temp_numpy[i][4]"
   ]
  },
  {
   "cell_type": "code",
   "execution_count": 289,
   "metadata": {},
   "outputs": [
    {
     "data": {
      "text/html": [
       "<div>\n",
       "<style scoped>\n",
       "    .dataframe tbody tr th:only-of-type {\n",
       "        vertical-align: middle;\n",
       "    }\n",
       "\n",
       "    .dataframe tbody tr th {\n",
       "        vertical-align: top;\n",
       "    }\n",
       "\n",
       "    .dataframe thead th {\n",
       "        text-align: right;\n",
       "    }\n",
       "</style>\n",
       "<table border=\"1\" class=\"dataframe\">\n",
       "  <thead>\n",
       "    <tr style=\"text-align: right;\">\n",
       "      <th></th>\n",
       "      <th>index</th>\n",
       "      <th>lat_long</th>\n",
       "      <th>year</th>\n",
       "      <th>nearest_mrt</th>\n",
       "      <th>nearest_mrt_distance</th>\n",
       "    </tr>\n",
       "  </thead>\n",
       "  <tbody>\n",
       "    <tr>\n",
       "      <th>0</th>\n",
       "      <td>0</td>\n",
       "      <td>(1.3690080642700195, 103.95869445800781)</td>\n",
       "      <td>2001</td>\n",
       "      <td>Pasir Ris</td>\n",
       "      <td>1.137305</td>\n",
       "    </tr>\n",
       "    <tr>\n",
       "      <th>1</th>\n",
       "      <td>1</td>\n",
       "      <td>(1.3990070819854736, 103.90699005126953)</td>\n",
       "      <td>2014</td>\n",
       "      <td>Punggol</td>\n",
       "      <td>0.823520</td>\n",
       "    </tr>\n",
       "    <tr>\n",
       "      <th>2</th>\n",
       "      <td>2</td>\n",
       "      <td>(1.3883482217788696, 103.87381744384766)</td>\n",
       "      <td>2020</td>\n",
       "      <td>Buangkok</td>\n",
       "      <td>2.230426</td>\n",
       "    </tr>\n",
       "    <tr>\n",
       "      <th>3</th>\n",
       "      <td>3</td>\n",
       "      <td>(1.3184930086135864, 103.7667007446289)</td>\n",
       "      <td>2000</td>\n",
       "      <td>Clementi</td>\n",
       "      <td>0.423286</td>\n",
       "    </tr>\n",
       "    <tr>\n",
       "      <th>4</th>\n",
       "      <td>4</td>\n",
       "      <td>(1.3481495380401611, 103.74266052246094)</td>\n",
       "      <td>2013</td>\n",
       "      <td>Bukit Batok</td>\n",
       "      <td>0.773956</td>\n",
       "    </tr>\n",
       "  </tbody>\n",
       "</table>\n",
       "</div>"
      ],
      "text/plain": [
       "   index                                  lat_long  year  nearest_mrt  \\\n",
       "0      0  (1.3690080642700195, 103.95869445800781)  2001    Pasir Ris   \n",
       "1      1  (1.3990070819854736, 103.90699005126953)  2014      Punggol   \n",
       "2      2  (1.3883482217788696, 103.87381744384766)  2020     Buangkok   \n",
       "3      3   (1.3184930086135864, 103.7667007446289)  2000     Clementi   \n",
       "4      4  (1.3481495380401611, 103.74266052246094)  2013  Bukit Batok   \n",
       "\n",
       "   nearest_mrt_distance  \n",
       "0              1.137305  \n",
       "1              0.823520  \n",
       "2              2.230426  \n",
       "3              0.423286  \n",
       "4              0.773956  "
      ]
     },
     "execution_count": 289,
     "metadata": {},
     "output_type": "execute_result"
    }
   ],
   "source": [
    "train_df_temp.head()"
   ]
  },
  {
   "cell_type": "code",
   "execution_count": 290,
   "metadata": {},
   "outputs": [
    {
     "data": {
      "text/html": [
       "<div>\n",
       "<style scoped>\n",
       "    .dataframe tbody tr th:only-of-type {\n",
       "        vertical-align: middle;\n",
       "    }\n",
       "\n",
       "    .dataframe tbody tr th {\n",
       "        vertical-align: top;\n",
       "    }\n",
       "\n",
       "    .dataframe thead th {\n",
       "        text-align: right;\n",
       "    }\n",
       "</style>\n",
       "<table border=\"1\" class=\"dataframe\">\n",
       "  <thead>\n",
       "    <tr style=\"text-align: right;\">\n",
       "      <th></th>\n",
       "      <th>index</th>\n",
       "      <th>lat_long</th>\n",
       "      <th>year</th>\n",
       "      <th>nearest_mrt</th>\n",
       "      <th>nearest_mrt_distance</th>\n",
       "    </tr>\n",
       "  </thead>\n",
       "  <tbody>\n",
       "    <tr>\n",
       "      <th>0</th>\n",
       "      <td>0</td>\n",
       "      <td>(1.3465807437896729, 103.74408721923828)</td>\n",
       "      <td>2004</td>\n",
       "      <td>Bukit Batok</td>\n",
       "      <td>0.667364</td>\n",
       "    </tr>\n",
       "    <tr>\n",
       "      <th>1</th>\n",
       "      <td>1</td>\n",
       "      <td>(1.3576176166534424, 103.96138000488281)</td>\n",
       "      <td>2001</td>\n",
       "      <td>Simei</td>\n",
       "      <td>1.833560</td>\n",
       "    </tr>\n",
       "    <tr>\n",
       "      <th>2</th>\n",
       "      <td>2</td>\n",
       "      <td>(1.337803840637207, 103.74199676513672)</td>\n",
       "      <td>2002</td>\n",
       "      <td>Jurong East</td>\n",
       "      <td>0.518267</td>\n",
       "    </tr>\n",
       "    <tr>\n",
       "      <th>3</th>\n",
       "      <td>3</td>\n",
       "      <td>(1.380083680152893, 103.84957122802734)</td>\n",
       "      <td>2015</td>\n",
       "      <td>Yio Chu Kang</td>\n",
       "      <td>0.546624</td>\n",
       "    </tr>\n",
       "    <tr>\n",
       "      <th>4</th>\n",
       "      <td>4</td>\n",
       "      <td>(1.3139597177505493, 103.76982879638672)</td>\n",
       "      <td>2004</td>\n",
       "      <td>Clementi</td>\n",
       "      <td>0.515598</td>\n",
       "    </tr>\n",
       "  </tbody>\n",
       "</table>\n",
       "</div>"
      ],
      "text/plain": [
       "   index                                  lat_long  year   nearest_mrt  \\\n",
       "0      0  (1.3465807437896729, 103.74408721923828)  2004   Bukit Batok   \n",
       "1      1  (1.3576176166534424, 103.96138000488281)  2001         Simei   \n",
       "2      2   (1.337803840637207, 103.74199676513672)  2002   Jurong East   \n",
       "3      3   (1.380083680152893, 103.84957122802734)  2015  Yio Chu Kang   \n",
       "4      4  (1.3139597177505493, 103.76982879638672)  2004      Clementi   \n",
       "\n",
       "   nearest_mrt_distance  \n",
       "0              0.667364  \n",
       "1              1.833560  \n",
       "2              0.518267  \n",
       "3              0.546624  \n",
       "4              0.515598  "
      ]
     },
     "execution_count": 290,
     "metadata": {},
     "output_type": "execute_result"
    }
   ],
   "source": [
    "test_df_temp.head()"
   ]
  },
  {
   "cell_type": "markdown",
   "metadata": {
    "id": "th4d08ExUJE8"
   },
   "source": [
    "### We will now merge the result with our original data frames"
   ]
  },
  {
   "cell_type": "code",
   "execution_count": 291,
   "metadata": {
    "id": "7Z21VjOljHAn"
   },
   "outputs": [
    {
     "name": "stdout",
     "output_type": "stream",
     "text": [
      "Changing datatype of nearest_mrt_distance to float32\n",
      "Changing datatype of nearest_mrt_distance to float32\n"
     ]
    }
   ],
   "source": [
    "temp = train_df_temp[[\"lat_long\", \"nearest_mrt\", \"nearest_mrt_distance\"]]\n",
    "train_df = pd.merge(train_df, temp, on=\"lat_long\", how='left')\n",
    "print(\"Changing datatype of nearest_mrt_distance to float32\")\n",
    "train_df[['nearest_mrt_distance']] = train_df[['nearest_mrt_distance']].astype('float32')\n",
    "\n",
    "temp = test_df_temp[[\"lat_long\", \"nearest_mrt\", \"nearest_mrt_distance\"]]\n",
    "test_df = pd.merge(test_df, temp, on=\"lat_long\", how='left')\n",
    "print(\"Changing datatype of nearest_mrt_distance to float32\")\n",
    "test_df[['nearest_mrt_distance']] = test_df[['nearest_mrt_distance']].astype('float32')"
   ]
  },
  {
   "cell_type": "markdown",
   "metadata": {},
   "source": [
    "### Nearest MRT and its distance from HDB has been added to our dataframe"
   ]
  },
  {
   "cell_type": "code",
   "execution_count": 292,
   "metadata": {},
   "outputs": [
    {
     "data": {
      "text/html": [
       "<div>\n",
       "<style scoped>\n",
       "    .dataframe tbody tr th:only-of-type {\n",
       "        vertical-align: middle;\n",
       "    }\n",
       "\n",
       "    .dataframe tbody tr th {\n",
       "        vertical-align: top;\n",
       "    }\n",
       "\n",
       "    .dataframe thead th {\n",
       "        text-align: right;\n",
       "    }\n",
       "</style>\n",
       "<table border=\"1\" class=\"dataframe\">\n",
       "  <thead>\n",
       "    <tr style=\"text-align: right;\">\n",
       "      <th></th>\n",
       "      <th>town</th>\n",
       "      <th>flat_type</th>\n",
       "      <th>block</th>\n",
       "      <th>street_name</th>\n",
       "      <th>floor_area_sqm</th>\n",
       "      <th>flat_model</th>\n",
       "      <th>lease_commence_date</th>\n",
       "      <th>subzone</th>\n",
       "      <th>planning_area</th>\n",
       "      <th>region</th>\n",
       "      <th>resale_price</th>\n",
       "      <th>month_no</th>\n",
       "      <th>year</th>\n",
       "      <th>storey</th>\n",
       "      <th>lat_long</th>\n",
       "      <th>nearest_mrt</th>\n",
       "      <th>nearest_mrt_distance</th>\n",
       "    </tr>\n",
       "  </thead>\n",
       "  <tbody>\n",
       "    <tr>\n",
       "      <th>0</th>\n",
       "      <td>pasir ris</td>\n",
       "      <td>4-room</td>\n",
       "      <td>440</td>\n",
       "      <td>pasir ris drive 4</td>\n",
       "      <td>118.0</td>\n",
       "      <td>model a</td>\n",
       "      <td>1989</td>\n",
       "      <td>pasir ris drive</td>\n",
       "      <td>pasir ris</td>\n",
       "      <td>east region</td>\n",
       "      <td>209700.0</td>\n",
       "      <td>8</td>\n",
       "      <td>2001</td>\n",
       "      <td>2.0</td>\n",
       "      <td>(1.3690080642700195, 103.95869445800781)</td>\n",
       "      <td>Pasir Ris</td>\n",
       "      <td>1.137305</td>\n",
       "    </tr>\n",
       "    <tr>\n",
       "      <th>1</th>\n",
       "      <td>punggol</td>\n",
       "      <td>5-room</td>\n",
       "      <td>196B</td>\n",
       "      <td>punggol field</td>\n",
       "      <td>110.0</td>\n",
       "      <td>improved</td>\n",
       "      <td>2003</td>\n",
       "      <td>punggol field</td>\n",
       "      <td>punggol</td>\n",
       "      <td>north-east region</td>\n",
       "      <td>402300.0</td>\n",
       "      <td>10</td>\n",
       "      <td>2014</td>\n",
       "      <td>11.0</td>\n",
       "      <td>(1.3990070819854736, 103.90699005126953)</td>\n",
       "      <td>Punggol</td>\n",
       "      <td>0.823520</td>\n",
       "    </tr>\n",
       "    <tr>\n",
       "      <th>2</th>\n",
       "      <td>sengkang</td>\n",
       "      <td>5-room</td>\n",
       "      <td>404A</td>\n",
       "      <td>fernvale lane</td>\n",
       "      <td>112.0</td>\n",
       "      <td>premium apartment</td>\n",
       "      <td>2004</td>\n",
       "      <td>fernvale</td>\n",
       "      <td>sengkang</td>\n",
       "      <td>north-east region</td>\n",
       "      <td>351000.0</td>\n",
       "      <td>9</td>\n",
       "      <td>2020</td>\n",
       "      <td>2.0</td>\n",
       "      <td>(1.3883482217788696, 103.87381744384766)</td>\n",
       "      <td>Buangkok</td>\n",
       "      <td>2.230426</td>\n",
       "    </tr>\n",
       "    <tr>\n",
       "      <th>3</th>\n",
       "      <td>clementi</td>\n",
       "      <td>3-room</td>\n",
       "      <td>375</td>\n",
       "      <td>clementi avenue 4</td>\n",
       "      <td>67.0</td>\n",
       "      <td>new generation</td>\n",
       "      <td>1980</td>\n",
       "      <td>clementi north</td>\n",
       "      <td>clementi</td>\n",
       "      <td>west region</td>\n",
       "      <td>151200.0</td>\n",
       "      <td>10</td>\n",
       "      <td>2000</td>\n",
       "      <td>8.0</td>\n",
       "      <td>(1.3184930086135864, 103.7667007446289)</td>\n",
       "      <td>Clementi</td>\n",
       "      <td>0.423286</td>\n",
       "    </tr>\n",
       "    <tr>\n",
       "      <th>4</th>\n",
       "      <td>bukit batok</td>\n",
       "      <td>3-room</td>\n",
       "      <td>163</td>\n",
       "      <td>bukit batok street 11</td>\n",
       "      <td>73.0</td>\n",
       "      <td>model a</td>\n",
       "      <td>1985</td>\n",
       "      <td>bukit batok west</td>\n",
       "      <td>bukit batok</td>\n",
       "      <td>west region</td>\n",
       "      <td>318600.0</td>\n",
       "      <td>1</td>\n",
       "      <td>2013</td>\n",
       "      <td>8.0</td>\n",
       "      <td>(1.3481495380401611, 103.74266052246094)</td>\n",
       "      <td>Bukit Batok</td>\n",
       "      <td>0.773956</td>\n",
       "    </tr>\n",
       "  </tbody>\n",
       "</table>\n",
       "</div>"
      ],
      "text/plain": [
       "          town flat_type block            street_name  floor_area_sqm  \\\n",
       "0    pasir ris    4-room   440      pasir ris drive 4           118.0   \n",
       "1      punggol    5-room  196B          punggol field           110.0   \n",
       "2     sengkang    5-room  404A          fernvale lane           112.0   \n",
       "3     clementi    3-room   375      clementi avenue 4            67.0   \n",
       "4  bukit batok    3-room   163  bukit batok street 11            73.0   \n",
       "\n",
       "          flat_model  lease_commence_date           subzone planning_area  \\\n",
       "0            model a                 1989   pasir ris drive     pasir ris   \n",
       "1           improved                 2003     punggol field       punggol   \n",
       "2  premium apartment                 2004          fernvale      sengkang   \n",
       "3     new generation                 1980    clementi north      clementi   \n",
       "4            model a                 1985  bukit batok west   bukit batok   \n",
       "\n",
       "              region  resale_price  month_no  year  storey  \\\n",
       "0        east region      209700.0         8  2001     2.0   \n",
       "1  north-east region      402300.0        10  2014    11.0   \n",
       "2  north-east region      351000.0         9  2020     2.0   \n",
       "3        west region      151200.0        10  2000     8.0   \n",
       "4        west region      318600.0         1  2013     8.0   \n",
       "\n",
       "                                   lat_long  nearest_mrt  nearest_mrt_distance  \n",
       "0  (1.3690080642700195, 103.95869445800781)    Pasir Ris              1.137305  \n",
       "1  (1.3990070819854736, 103.90699005126953)      Punggol              0.823520  \n",
       "2  (1.3883482217788696, 103.87381744384766)     Buangkok              2.230426  \n",
       "3   (1.3184930086135864, 103.7667007446289)     Clementi              0.423286  \n",
       "4  (1.3481495380401611, 103.74266052246094)  Bukit Batok              0.773956  "
      ]
     },
     "execution_count": 292,
     "metadata": {},
     "output_type": "execute_result"
    }
   ],
   "source": [
    "train_df.head()"
   ]
  },
  {
   "cell_type": "code",
   "execution_count": 293,
   "metadata": {},
   "outputs": [
    {
     "data": {
      "text/html": [
       "<div>\n",
       "<style scoped>\n",
       "    .dataframe tbody tr th:only-of-type {\n",
       "        vertical-align: middle;\n",
       "    }\n",
       "\n",
       "    .dataframe tbody tr th {\n",
       "        vertical-align: top;\n",
       "    }\n",
       "\n",
       "    .dataframe thead th {\n",
       "        text-align: right;\n",
       "    }\n",
       "</style>\n",
       "<table border=\"1\" class=\"dataframe\">\n",
       "  <thead>\n",
       "    <tr style=\"text-align: right;\">\n",
       "      <th></th>\n",
       "      <th>town</th>\n",
       "      <th>flat_type</th>\n",
       "      <th>block</th>\n",
       "      <th>street_name</th>\n",
       "      <th>floor_area_sqm</th>\n",
       "      <th>flat_model</th>\n",
       "      <th>lease_commence_date</th>\n",
       "      <th>subzone</th>\n",
       "      <th>planning_area</th>\n",
       "      <th>region</th>\n",
       "      <th>month_no</th>\n",
       "      <th>year</th>\n",
       "      <th>storey</th>\n",
       "      <th>lat_long</th>\n",
       "      <th>nearest_mrt</th>\n",
       "      <th>nearest_mrt_distance</th>\n",
       "    </tr>\n",
       "  </thead>\n",
       "  <tbody>\n",
       "    <tr>\n",
       "      <th>0</th>\n",
       "      <td>bukit batok</td>\n",
       "      <td>4-room</td>\n",
       "      <td>186</td>\n",
       "      <td>bukit batok west avenue 6</td>\n",
       "      <td>94.0</td>\n",
       "      <td>new generation</td>\n",
       "      <td>1989</td>\n",
       "      <td>bukit batok west</td>\n",
       "      <td>bukit batok</td>\n",
       "      <td>west region</td>\n",
       "      <td>1</td>\n",
       "      <td>2004</td>\n",
       "      <td>5.0</td>\n",
       "      <td>(1.3465807437896729, 103.74408721923828)</td>\n",
       "      <td>Bukit Batok</td>\n",
       "      <td>0.667364</td>\n",
       "    </tr>\n",
       "    <tr>\n",
       "      <th>1</th>\n",
       "      <td>tampines</td>\n",
       "      <td>5-room</td>\n",
       "      <td>366</td>\n",
       "      <td>tampines street 34</td>\n",
       "      <td>122.0</td>\n",
       "      <td>improved</td>\n",
       "      <td>1997</td>\n",
       "      <td>tampines east</td>\n",
       "      <td>tampines</td>\n",
       "      <td>east region</td>\n",
       "      <td>11</td>\n",
       "      <td>2001</td>\n",
       "      <td>5.0</td>\n",
       "      <td>(1.3576176166534424, 103.96138000488281)</td>\n",
       "      <td>Simei</td>\n",
       "      <td>1.833560</td>\n",
       "    </tr>\n",
       "    <tr>\n",
       "      <th>2</th>\n",
       "      <td>jurong east</td>\n",
       "      <td>3-room</td>\n",
       "      <td>206</td>\n",
       "      <td>jurong east street 21</td>\n",
       "      <td>67.0</td>\n",
       "      <td>new generation</td>\n",
       "      <td>1982</td>\n",
       "      <td>toh guan</td>\n",
       "      <td>jurong east</td>\n",
       "      <td>west region</td>\n",
       "      <td>7</td>\n",
       "      <td>2002</td>\n",
       "      <td>2.0</td>\n",
       "      <td>(1.337803840637207, 103.74199676513672)</td>\n",
       "      <td>Jurong East</td>\n",
       "      <td>0.518267</td>\n",
       "    </tr>\n",
       "    <tr>\n",
       "      <th>3</th>\n",
       "      <td>ang mo kio</td>\n",
       "      <td>3-room</td>\n",
       "      <td>180</td>\n",
       "      <td>Ang Mo Kio Avenue 5</td>\n",
       "      <td>82.0</td>\n",
       "      <td>new generation</td>\n",
       "      <td>1981</td>\n",
       "      <td>yio chu kang east</td>\n",
       "      <td>ang mo kio</td>\n",
       "      <td>north-east region</td>\n",
       "      <td>4</td>\n",
       "      <td>2015</td>\n",
       "      <td>5.0</td>\n",
       "      <td>(1.380083680152893, 103.84957122802734)</td>\n",
       "      <td>Yio Chu Kang</td>\n",
       "      <td>0.546624</td>\n",
       "    </tr>\n",
       "    <tr>\n",
       "      <th>4</th>\n",
       "      <td>clementi</td>\n",
       "      <td>5-room</td>\n",
       "      <td>356</td>\n",
       "      <td>clementi avenue 2</td>\n",
       "      <td>117.0</td>\n",
       "      <td>standard</td>\n",
       "      <td>1978</td>\n",
       "      <td>clementi north</td>\n",
       "      <td>clementi</td>\n",
       "      <td>west region</td>\n",
       "      <td>4</td>\n",
       "      <td>2004</td>\n",
       "      <td>2.0</td>\n",
       "      <td>(1.3139597177505493, 103.76982879638672)</td>\n",
       "      <td>Clementi</td>\n",
       "      <td>0.515598</td>\n",
       "    </tr>\n",
       "  </tbody>\n",
       "</table>\n",
       "</div>"
      ],
      "text/plain": [
       "          town flat_type block                street_name  floor_area_sqm  \\\n",
       "0  bukit batok    4-room   186  bukit batok west avenue 6            94.0   \n",
       "1     tampines    5-room   366         tampines street 34           122.0   \n",
       "2  jurong east    3-room   206      jurong east street 21            67.0   \n",
       "3   ang mo kio    3-room   180        Ang Mo Kio Avenue 5            82.0   \n",
       "4     clementi    5-room   356          clementi avenue 2           117.0   \n",
       "\n",
       "       flat_model  lease_commence_date            subzone planning_area  \\\n",
       "0  new generation                 1989   bukit batok west   bukit batok   \n",
       "1        improved                 1997      tampines east      tampines   \n",
       "2  new generation                 1982           toh guan   jurong east   \n",
       "3  new generation                 1981  yio chu kang east    ang mo kio   \n",
       "4        standard                 1978     clementi north      clementi   \n",
       "\n",
       "              region  month_no  year  storey  \\\n",
       "0        west region         1  2004     5.0   \n",
       "1        east region        11  2001     5.0   \n",
       "2        west region         7  2002     2.0   \n",
       "3  north-east region         4  2015     5.0   \n",
       "4        west region         4  2004     2.0   \n",
       "\n",
       "                                   lat_long   nearest_mrt  \\\n",
       "0  (1.3465807437896729, 103.74408721923828)   Bukit Batok   \n",
       "1  (1.3576176166534424, 103.96138000488281)         Simei   \n",
       "2   (1.337803840637207, 103.74199676513672)   Jurong East   \n",
       "3   (1.380083680152893, 103.84957122802734)  Yio Chu Kang   \n",
       "4  (1.3139597177505493, 103.76982879638672)      Clementi   \n",
       "\n",
       "   nearest_mrt_distance  \n",
       "0              0.667364  \n",
       "1              1.833560  \n",
       "2              0.518267  \n",
       "3              0.546624  \n",
       "4              0.515598  "
      ]
     },
     "execution_count": 293,
     "metadata": {},
     "output_type": "execute_result"
    }
   ],
   "source": [
    "test_df.head()"
   ]
  },
  {
   "cell_type": "markdown",
   "metadata": {},
   "source": [
    "# ADD SOME PLOTS HERE"
   ]
  },
  {
   "cell_type": "code",
   "execution_count": 294,
   "metadata": {},
   "outputs": [
    {
     "data": {
      "text/plain": [
       "<AxesSubplot:>"
      ]
     },
     "execution_count": 294,
     "metadata": {},
     "output_type": "execute_result"
    },
    {
     "data": {
      "image/png": "[encoded data removed]",
      "text/plain": [
       "<Figure size 1080x864 with 2 Axes>"
      ]
     },
     "metadata": {
      "needs_background": "light"
     },
     "output_type": "display_data"
    }
   ],
   "source": [
    "corr = train_df.corr()\n",
    "plt.subplots(figsize=(15,12))\n",
    "sns.heatmap(corr, vmax=0.9, cmap=\"Blues\", square=True)"
   ]
  },
  {
   "cell_type": "code",
   "execution_count": 295,
   "metadata": {},
   "outputs": [
    {
     "data": {
      "text/html": [
       "<style  type=\"text/css\" >\n",
       "#T_9a1b436c_9cdf_11eb_8938_342eb79777ferow0_col0{\n",
       "            background-color:  #fde725;\n",
       "            color:  #000000;\n",
       "        }#T_9a1b436c_9cdf_11eb_8938_342eb79777ferow1_col0{\n",
       "            background-color:  #22a785;\n",
       "            color:  #000000;\n",
       "        }#T_9a1b436c_9cdf_11eb_8938_342eb79777ferow2_col0{\n",
       "            background-color:  #21a585;\n",
       "            color:  #000000;\n",
       "        }#T_9a1b436c_9cdf_11eb_8938_342eb79777ferow3_col0{\n",
       "            background-color:  #25848e;\n",
       "            color:  #000000;\n",
       "        }#T_9a1b436c_9cdf_11eb_8938_342eb79777ferow4_col0{\n",
       "            background-color:  #34608d;\n",
       "            color:  #f1f1f1;\n",
       "        }#T_9a1b436c_9cdf_11eb_8938_342eb79777ferow5_col0{\n",
       "            background-color:  #481a6c;\n",
       "            color:  #f1f1f1;\n",
       "        }#T_9a1b436c_9cdf_11eb_8938_342eb79777ferow6_col0{\n",
       "            background-color:  #440154;\n",
       "            color:  #f1f1f1;\n",
       "        }</style><table id=\"T_9a1b436c_9cdf_11eb_8938_342eb79777fe\" ><thead>    <tr>        <th class=\"blank level0\" ></th>        <th class=\"col_heading level0 col0\" >resale_price</th>    </tr></thead><tbody>\n",
       "                <tr>\n",
       "                        <th id=\"T_9a1b436c_9cdf_11eb_8938_342eb79777felevel0_row0\" class=\"row_heading level0 row0\" >resale_price</th>\n",
       "                        <td id=\"T_9a1b436c_9cdf_11eb_8938_342eb79777ferow0_col0\" class=\"data row0 col0\" >1.000000</td>\n",
       "            </tr>\n",
       "            <tr>\n",
       "                        <th id=\"T_9a1b436c_9cdf_11eb_8938_342eb79777felevel0_row1\" class=\"row_heading level0 row1\" >year</th>\n",
       "                        <td id=\"T_9a1b436c_9cdf_11eb_8938_342eb79777ferow1_col0\" class=\"data row1 col0\" >0.578717</td>\n",
       "            </tr>\n",
       "            <tr>\n",
       "                        <th id=\"T_9a1b436c_9cdf_11eb_8938_342eb79777felevel0_row2\" class=\"row_heading level0 row2\" >floor_area_sqm</th>\n",
       "                        <td id=\"T_9a1b436c_9cdf_11eb_8938_342eb79777ferow2_col0\" class=\"data row2 col0\" >0.570385</td>\n",
       "            </tr>\n",
       "            <tr>\n",
       "                        <th id=\"T_9a1b436c_9cdf_11eb_8938_342eb79777felevel0_row3\" class=\"row_heading level0 row3\" >lease_commence_date</th>\n",
       "                        <td id=\"T_9a1b436c_9cdf_11eb_8938_342eb79777ferow3_col0\" class=\"data row3 col0\" >0.423578</td>\n",
       "            </tr>\n",
       "            <tr>\n",
       "                        <th id=\"T_9a1b436c_9cdf_11eb_8938_342eb79777felevel0_row4\" class=\"row_heading level0 row4\" >storey</th>\n",
       "                        <td id=\"T_9a1b436c_9cdf_11eb_8938_342eb79777ferow4_col0\" class=\"data row4 col0\" >0.269431</td>\n",
       "            </tr>\n",
       "            <tr>\n",
       "                        <th id=\"T_9a1b436c_9cdf_11eb_8938_342eb79777felevel0_row5\" class=\"row_heading level0 row5\" >month_no</th>\n",
       "                        <td id=\"T_9a1b436c_9cdf_11eb_8938_342eb79777ferow5_col0\" class=\"data row5 col0\" >0.025448</td>\n",
       "            </tr>\n",
       "            <tr>\n",
       "                        <th id=\"T_9a1b436c_9cdf_11eb_8938_342eb79777felevel0_row6\" class=\"row_heading level0 row6\" >nearest_mrt_distance</th>\n",
       "                        <td id=\"T_9a1b436c_9cdf_11eb_8938_342eb79777ferow6_col0\" class=\"data row6 col0\" >-0.046656</td>\n",
       "            </tr>\n",
       "    </tbody></table>"
      ],
      "text/plain": [
       "<pandas.io.formats.style.Styler at 0x1fdcb200c70>"
      ]
     },
     "execution_count": 295,
     "metadata": {},
     "output_type": "execute_result"
    }
   ],
   "source": [
    "corr[['resale_price']].sort_values(by='resale_price',ascending=False).style.background_gradient(cmap='viridis', axis=None)"
   ]
  },
  {
   "cell_type": "code",
   "execution_count": null,
   "metadata": {},
   "outputs": [],
   "source": []
  },
  {
   "cell_type": "code",
   "execution_count": null,
   "metadata": {},
   "outputs": [],
   "source": []
  },
  {
   "cell_type": "markdown",
   "metadata": {},
   "source": [
    "### Reduce the size of dataframe to save memory during training"
   ]
  },
  {
   "cell_type": "code",
   "execution_count": 296,
   "metadata": {},
   "outputs": [
    {
     "name": "stdout",
     "output_type": "stream",
     "text": [
      "Memory usage of properties dataframe is : 57.64244079589844  MB\n",
      "__MEMORY USAGE AFTER COMPLETION:__\n",
      "Memory usage is:  43.64356231689453  MB\n",
      "This is  75.71428571428571 % of the initial size\n",
      "Memory usage of properties dataframe is : 13.587272644042969  MB\n",
      "__MEMORY USAGE AFTER COMPLETION:__\n",
      "Memory usage is:  10.499256134033203  MB\n",
      "This is  77.27272727272727 % of the initial size\n"
     ]
    }
   ],
   "source": [
    "train_df, _ = reduce_memory_usage(train_df)\n",
    "test_df, _ = reduce_memory_usage(test_df)"
   ]
  },
  {
   "cell_type": "markdown",
   "metadata": {},
   "source": [
    "### Segregate the columns"
   ]
  },
  {
   "cell_type": "code",
   "execution_count": 297,
   "metadata": {},
   "outputs": [],
   "source": [
    "integer_columns = [\n",
    "    \"lease_commence_date\",\n",
    "    \"storey\",\n",
    "    \"month_no\",\n",
    "    \"year\",\n",
    "    \"nearest_mrt_distance\"\n",
    "]\n",
    "\n",
    "float_columns = [\n",
    "    \"floor_area_sqm\",\n",
    "]\n",
    "\n",
    "target_column = [\n",
    "    \"resale_price\"\n",
    "]\n",
    "\n",
    "## Categorical columns need to be encoded before training\n",
    "categorical_columns = [\n",
    "    \"town\",\n",
    "    \"flat_type\",\n",
    "    \"flat_model\",\n",
    "    \"subzone\",\n",
    "    \"planning_area\",\n",
    "    \"region\"\n",
    "]\n",
    "\n",
    "## We will drop these columns before training\n",
    "drop_columns = [\n",
    "    \"lat_long\",\n",
    "    \"block\",\n",
    "    \"street_name\",\n",
    "    \"nearest_mrt\"\n",
    "]"
   ]
  },
  {
   "cell_type": "markdown",
   "metadata": {},
   "source": [
    "### Drop the selected columns"
   ]
  },
  {
   "cell_type": "code",
   "execution_count": 298,
   "metadata": {},
   "outputs": [],
   "source": [
    "train_df = train_df.drop(columns=drop_columns)\n",
    "test_df = test_df.drop(columns=drop_columns)"
   ]
  },
  {
   "cell_type": "markdown",
   "metadata": {},
   "source": [
    "### One hot encode categorical columns"
   ]
  },
  {
   "cell_type": "code",
   "execution_count": 299,
   "metadata": {},
   "outputs": [],
   "source": [
    "for col in categorical_columns:\n",
    "    train_df = pd.concat([train_df, pd.get_dummies(train_df[col], prefix=col)],axis=1)\n",
    "train_df = train_df.drop(columns=categorical_columns)\n",
    "\n",
    "for col in categorical_columns:\n",
    "    test_df = pd.concat([test_df, pd.get_dummies(test_df[col], prefix=col)],axis=1)\n",
    "test_df = test_df.drop(columns=categorical_columns)"
   ]
  },
  {
   "cell_type": "markdown",
   "metadata": {},
   "source": [
    "### Check if the columns in both test data and train data are same after one-hot encoding"
   ]
  },
  {
   "cell_type": "code",
   "execution_count": 300,
   "metadata": {},
   "outputs": [
    {
     "name": "stdout",
     "output_type": "stream",
     "text": [
      "Columns are same\n"
     ]
    }
   ],
   "source": [
    "columns_in_test_not_in_train = test_df.columns.difference(train_df.columns).tolist()\n",
    "#print(columns_in_test_not_in_train)\n",
    "columns_in_train_not_in_test = train_df.columns.difference((test_df.columns)).tolist()\n",
    "columns_in_train_not_in_test.remove('resale_price')\n",
    "#print(columns_in_train_not_in_test)\n",
    "if not columns_in_test_not_in_train and not columns_in_train_not_in_test:\n",
    "    print(\"Columns are same\")"
   ]
  },
  {
   "cell_type": "markdown",
   "metadata": {},
   "source": [
    "### Split training data into training and validation sets"
   ]
  },
  {
   "cell_type": "code",
   "execution_count": 301,
   "metadata": {},
   "outputs": [],
   "source": [
    "train_data = train_df.sample(frac=1)\n",
    "train_labels = train_data.pop('resale_price')\n",
    "train_x, val_x, train_y, val_y = train_test_split(train_data,train_labels,train_size=0.8)"
   ]
  },
  {
   "cell_type": "markdown",
   "metadata": {},
   "source": [
    "## Decision Tree"
   ]
  },
  {
   "cell_type": "code",
   "execution_count": 253,
   "metadata": {},
   "outputs": [],
   "source": [
    "dt_3 = tree.DecisionTreeRegressor(max_depth=250,min_samples_split=15)\n",
    "dt_3 = dt_3.fit(train_x, train_y)"
   ]
  },
  {
   "cell_type": "code",
   "execution_count": 254,
   "metadata": {},
   "outputs": [
    {
     "name": "stdout",
     "output_type": "stream",
     "text": [
      "Training error(RMSE) : 13957.689575439914\n",
      "Validation error(RMSE) : 22476.161974639675\n",
      "R2 score for training data : 0.9884599702679785\n",
      "R2 score for validation data : 0.9699177587222304\n"
     ]
    }
   ],
   "source": [
    "train_prediction = dt_3.predict(train_x)\n",
    "val_prediction = dt_3.predict(val_x)\n",
    "print(\"Training error(RMSE) :\",mean_squared_error(train_y,train_prediction , squared=False))\n",
    "print(\"Validation error(RMSE) :\",mean_squared_error(val_y,val_prediction , squared=False))\n",
    "print(\"R2 score for training data :\",r2_score(train_y,train_prediction))\n",
    "print(\"R2 score for validation data :\",r2_score(val_y,val_prediction))"
   ]
  },
  {
   "cell_type": "code",
   "execution_count": null,
   "metadata": {},
   "outputs": [],
   "source": []
  },
  {
   "cell_type": "markdown",
   "metadata": {},
   "source": [
    "## Random Forest"
   ]
  },
  {
   "cell_type": "code",
   "execution_count": 250,
   "metadata": {},
   "outputs": [],
   "source": [
    "rf_1 = RandomForestRegressor()"
   ]
  },
  {
   "cell_type": "code",
   "execution_count": 251,
   "metadata": {},
   "outputs": [
    {
     "name": "stdout",
     "output_type": "stream",
     "text": [
      "Wall time: 11min 6s\n"
     ]
    },
    {
     "data": {
      "text/plain": [
       "RandomForestRegressor()"
      ]
     },
     "execution_count": 251,
     "metadata": {},
     "output_type": "execute_result"
    }
   ],
   "source": [
    "%%time\n",
    "rf_1.fit(train_x,train_y)"
   ]
  },
  {
   "cell_type": "code",
   "execution_count": 252,
   "metadata": {},
   "outputs": [
    {
     "name": "stdout",
     "output_type": "stream",
     "text": [
      "Training error(RMSE) : 6989.991958423079\n",
      "Validation error(RMSE) : 18279.980102643054\n",
      "R2 score for training data : 0.9971057688758775\n",
      "R2 score for validation data : 0.9801016382862472\n"
     ]
    }
   ],
   "source": [
    "train_prediction = rf_1.predict(train_x)\n",
    "val_prediction = rf_1.predict(val_x)\n",
    "print(\"Training error(RMSE) :\",mean_squared_error(train_y,train_prediction , squared=False))\n",
    "print(\"Validation error(RMSE) :\",mean_squared_error(val_y,val_prediction , squared=False))\n",
    "print(\"R2 score for training data :\",r2_score(train_y,train_prediction))\n",
    "print(\"R2 score for validation data :\",r2_score(val_y,val_prediction))"
   ]
  },
  {
   "cell_type": "markdown",
   "metadata": {},
   "source": [
    "## XGBOOST"
   ]
  },
  {
   "cell_type": "code",
   "execution_count": 256,
   "metadata": {},
   "outputs": [],
   "source": [
    "xgb_model_2 = xgboost.XGBRegressor(colsample_bytree=0.4,\n",
    "                 gamma=0,                 \n",
    "                 learning_rate=0.07,\n",
    "                 max_depth=50,\n",
    "                 min_child_weight=1.5,\n",
    "                 n_estimators=100,                                                                    \n",
    "                 reg_alpha=0.75,\n",
    "                 reg_lambda=0.45,\n",
    "                 subsample=0.6,\n",
    "                 seed=42)"
   ]
  },
  {
   "cell_type": "code",
   "execution_count": 257,
   "metadata": {},
   "outputs": [
    {
     "name": "stdout",
     "output_type": "stream",
     "text": [
      "Wall time: 3min 46s\n"
     ]
    },
    {
     "data": {
      "text/plain": [
       "XGBRegressor(base_score=0.5, booster='gbtree', colsample_bylevel=1,\n",
       "             colsample_bynode=1, colsample_bytree=0.4, gamma=0, gpu_id=-1,\n",
       "             importance_type='gain', interaction_constraints='',\n",
       "             learning_rate=0.07, max_delta_step=0, max_depth=50,\n",
       "             min_child_weight=1.5, missing=nan, monotone_constraints='()',\n",
       "             n_estimators=100, n_jobs=8, num_parallel_tree=1, random_state=42,\n",
       "             reg_alpha=0.75, reg_lambda=0.45, scale_pos_weight=1, seed=42,\n",
       "             subsample=0.6, tree_method='exact', validate_parameters=1,\n",
       "             verbosity=None)"
      ]
     },
     "execution_count": 257,
     "metadata": {},
     "output_type": "execute_result"
    }
   ],
   "source": [
    "%%time\n",
    "xgb_model_2.fit(train_x,train_y)"
   ]
  },
  {
   "cell_type": "code",
   "execution_count": 258,
   "metadata": {},
   "outputs": [
    {
     "name": "stdout",
     "output_type": "stream",
     "text": [
      "Training error(RMSE) : 11960.533\n",
      "Validation error(RMSE) : 22146.086\n",
      "R2 score for training data : 0.9915261472989625\n",
      "R2 score for validation data : 0.9707948212198949\n"
     ]
    }
   ],
   "source": [
    "train_prediction = xgb_model_2.predict(train_x)\n",
    "val_prediction = xgb_model_2.predict(val_x)\n",
    "print(\"Training error(RMSE) :\",mean_squared_error(train_y,train_prediction , squared=False))\n",
    "print(\"Validation error(RMSE) :\",mean_squared_error(val_y,val_prediction , squared=False))\n",
    "print(\"R2 score for training data :\",r2_score(train_y,train_prediction))\n",
    "print(\"R2 score for validation data :\",r2_score(val_y,val_prediction))"
   ]
  },
  {
   "cell_type": "markdown",
   "metadata": {},
   "source": [
    "## LightGBM"
   ]
  },
  {
   "cell_type": "code",
   "execution_count": 244,
   "metadata": {},
   "outputs": [],
   "source": [
    "gbm_1 = lgb.LGBMRegressor()"
   ]
  },
  {
   "cell_type": "code",
   "execution_count": 245,
   "metadata": {},
   "outputs": [],
   "source": [
    "gbm_1 = gbm_1.fit(train_x,train_y)"
   ]
  },
  {
   "cell_type": "code",
   "execution_count": 246,
   "metadata": {},
   "outputs": [
    {
     "name": "stdout",
     "output_type": "stream",
     "text": [
      "Training error(RMSE) : 23423.758798616513\n",
      "Validation error(RMSE) : 23618.763609228434\n",
      "R2 score for training data : 0.9674992762704433\n",
      "R2 score for validation data : 0.9667814858390025\n"
     ]
    }
   ],
   "source": [
    "train_prediction = gbm_1.predict(train_x)\n",
    "val_prediction = gbm_1.predict(val_x)\n",
    "print(\"Training error(RMSE) :\",mean_squared_error(train_y,train_prediction , squared=False))\n",
    "print(\"Validation error(RMSE) :\",mean_squared_error(val_y,val_prediction , squared=False))\n",
    "print(\"R2 score for training data :\",r2_score(train_y,train_prediction))\n",
    "print(\"R2 score for validation data :\",r2_score(val_y,val_prediction))"
   ]
  },
  {
   "cell_type": "code",
   "execution_count": 247,
   "metadata": {},
   "outputs": [],
   "source": [
    "gbm_2 = lgb.LGBMRegressor(num_leaves=31,\n",
    "                        learning_rate=0.1,\n",
    "                        max_depth=10000,n_estimators=10000)"
   ]
  },
  {
   "cell_type": "code",
   "execution_count": 248,
   "metadata": {},
   "outputs": [],
   "source": [
    "gbm_2 = gbm_2.fit(train_x,train_y)"
   ]
  },
  {
   "cell_type": "code",
   "execution_count": 249,
   "metadata": {},
   "outputs": [
    {
     "name": "stdout",
     "output_type": "stream",
     "text": [
      "Training error(RMSE) : 11949.950723961809\n",
      "Validation error(RMSE) : 16236.028743646613\n",
      "R2 score for training data : 0.991541135148375\n",
      "R2 score for validation data : 0.9843026801752415\n"
     ]
    }
   ],
   "source": [
    "train_prediction = gbm_2.predict(train_x)\n",
    "val_prediction = gbm_2.predict(val_x)\n",
    "print(\"Training error(RMSE) :\",mean_squared_error(train_y,train_prediction , squared=False))\n",
    "print(\"Validation error(RMSE) :\",mean_squared_error(val_y,val_prediction , squared=False))\n",
    "print(\"R2 score for training data :\",r2_score(train_y,train_prediction))\n",
    "print(\"R2 score for validation data :\",r2_score(val_y,val_prediction))"
   ]
  },
  {
   "cell_type": "code",
   "execution_count": null,
   "metadata": {},
   "outputs": [],
   "source": []
  }
 ],
 "metadata": {
  "colab": {
   "name": "mrt_analysis.ipynb",
   "provenance": [],
   "toc_visible": true
  },
  "kernelspec": {
   "display_name": "Python 3",
   "language": "python",
   "name": "python3"
  },
  "language_info": {
   "codemirror_mode": {
    "name": "ipython",
    "version": 3
   },
   "file_extension": ".py",
   "mimetype": "text/x-python",
   "name": "python",
   "nbconvert_exporter": "python",
   "pygments_lexer": "ipython3",
   "version": "3.8.5"
  }
 },
 "nbformat": 4,
 "nbformat_minor": 1
}
